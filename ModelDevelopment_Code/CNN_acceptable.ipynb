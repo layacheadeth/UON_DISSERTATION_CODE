{
 "cells": [
  {
   "cell_type": "code",
   "execution_count": 268,
   "id": "cfc528e2",
   "metadata": {},
   "outputs": [
    {
     "data": {
      "text/html": [
       "<div>\n",
       "<style scoped>\n",
       "    .dataframe tbody tr th:only-of-type {\n",
       "        vertical-align: middle;\n",
       "    }\n",
       "\n",
       "    .dataframe tbody tr th {\n",
       "        vertical-align: top;\n",
       "    }\n",
       "\n",
       "    .dataframe thead th {\n",
       "        text-align: right;\n",
       "    }\n",
       "</style>\n",
       "<table border=\"1\" class=\"dataframe\">\n",
       "  <thead>\n",
       "    <tr style=\"text-align: right;\">\n",
       "      <th></th>\n",
       "      <th>deceptive</th>\n",
       "      <th>hotel</th>\n",
       "      <th>polarity</th>\n",
       "      <th>source</th>\n",
       "      <th>text</th>\n",
       "    </tr>\n",
       "  </thead>\n",
       "  <tbody>\n",
       "    <tr>\n",
       "      <th>0</th>\n",
       "      <td>truthful</td>\n",
       "      <td>conrad</td>\n",
       "      <td>positive</td>\n",
       "      <td>TripAdvisor</td>\n",
       "      <td>We stayed for a one night getaway with family ...</td>\n",
       "    </tr>\n",
       "    <tr>\n",
       "      <th>1</th>\n",
       "      <td>truthful</td>\n",
       "      <td>hyatt</td>\n",
       "      <td>positive</td>\n",
       "      <td>TripAdvisor</td>\n",
       "      <td>Triple A rate with upgrade to view room was le...</td>\n",
       "    </tr>\n",
       "    <tr>\n",
       "      <th>2</th>\n",
       "      <td>truthful</td>\n",
       "      <td>hyatt</td>\n",
       "      <td>positive</td>\n",
       "      <td>TripAdvisor</td>\n",
       "      <td>This comes a little late as I'm finally catchi...</td>\n",
       "    </tr>\n",
       "    <tr>\n",
       "      <th>3</th>\n",
       "      <td>truthful</td>\n",
       "      <td>omni</td>\n",
       "      <td>positive</td>\n",
       "      <td>TripAdvisor</td>\n",
       "      <td>The Omni Chicago really delivers on all fronts...</td>\n",
       "    </tr>\n",
       "    <tr>\n",
       "      <th>4</th>\n",
       "      <td>truthful</td>\n",
       "      <td>hyatt</td>\n",
       "      <td>positive</td>\n",
       "      <td>TripAdvisor</td>\n",
       "      <td>I asked for a high floor away from the elevato...</td>\n",
       "    </tr>\n",
       "    <tr>\n",
       "      <th>...</th>\n",
       "      <td>...</td>\n",
       "      <td>...</td>\n",
       "      <td>...</td>\n",
       "      <td>...</td>\n",
       "      <td>...</td>\n",
       "    </tr>\n",
       "    <tr>\n",
       "      <th>1595</th>\n",
       "      <td>deceptive</td>\n",
       "      <td>intercontinental</td>\n",
       "      <td>negative</td>\n",
       "      <td>MTurk</td>\n",
       "      <td>Problems started when I booked the InterContin...</td>\n",
       "    </tr>\n",
       "    <tr>\n",
       "      <th>1596</th>\n",
       "      <td>deceptive</td>\n",
       "      <td>amalfi</td>\n",
       "      <td>negative</td>\n",
       "      <td>MTurk</td>\n",
       "      <td>The Amalfi Hotel has a beautiful website and i...</td>\n",
       "    </tr>\n",
       "    <tr>\n",
       "      <th>1597</th>\n",
       "      <td>deceptive</td>\n",
       "      <td>intercontinental</td>\n",
       "      <td>negative</td>\n",
       "      <td>MTurk</td>\n",
       "      <td>The Intercontinental Chicago Magnificent Mile ...</td>\n",
       "    </tr>\n",
       "    <tr>\n",
       "      <th>1598</th>\n",
       "      <td>deceptive</td>\n",
       "      <td>palmer</td>\n",
       "      <td>negative</td>\n",
       "      <td>MTurk</td>\n",
       "      <td>The Palmer House Hilton, while it looks good i...</td>\n",
       "    </tr>\n",
       "    <tr>\n",
       "      <th>1599</th>\n",
       "      <td>deceptive</td>\n",
       "      <td>amalfi</td>\n",
       "      <td>negative</td>\n",
       "      <td>MTurk</td>\n",
       "      <td>As a former Chicagoan, I'm appalled at the Ama...</td>\n",
       "    </tr>\n",
       "  </tbody>\n",
       "</table>\n",
       "<p>1600 rows × 5 columns</p>\n",
       "</div>"
      ],
      "text/plain": [
       "      deceptive             hotel  polarity       source  \\\n",
       "0      truthful            conrad  positive  TripAdvisor   \n",
       "1      truthful             hyatt  positive  TripAdvisor   \n",
       "2      truthful             hyatt  positive  TripAdvisor   \n",
       "3      truthful              omni  positive  TripAdvisor   \n",
       "4      truthful             hyatt  positive  TripAdvisor   \n",
       "...         ...               ...       ...          ...   \n",
       "1595  deceptive  intercontinental  negative        MTurk   \n",
       "1596  deceptive            amalfi  negative        MTurk   \n",
       "1597  deceptive  intercontinental  negative        MTurk   \n",
       "1598  deceptive            palmer  negative        MTurk   \n",
       "1599  deceptive            amalfi  negative        MTurk   \n",
       "\n",
       "                                                   text  \n",
       "0     We stayed for a one night getaway with family ...  \n",
       "1     Triple A rate with upgrade to view room was le...  \n",
       "2     This comes a little late as I'm finally catchi...  \n",
       "3     The Omni Chicago really delivers on all fronts...  \n",
       "4     I asked for a high floor away from the elevato...  \n",
       "...                                                 ...  \n",
       "1595  Problems started when I booked the InterContin...  \n",
       "1596  The Amalfi Hotel has a beautiful website and i...  \n",
       "1597  The Intercontinental Chicago Magnificent Mile ...  \n",
       "1598  The Palmer House Hilton, while it looks good i...  \n",
       "1599  As a former Chicagoan, I'm appalled at the Ama...  \n",
       "\n",
       "[1600 rows x 5 columns]"
      ]
     },
     "execution_count": 268,
     "metadata": {},
     "output_type": "execute_result"
    }
   ],
   "source": [
    "import numpy as np\n",
    "import pandas as pd\n",
    "\n",
    "df = pd.read_csv('deceptive-opinion.csv')\n",
    "df"
   ]
  },
  {
   "cell_type": "code",
   "execution_count": 269,
   "id": "b1c0136f",
   "metadata": {},
   "outputs": [
    {
     "data": {
      "text/plain": [
       "deceptive    0\n",
       "hotel        0\n",
       "polarity     0\n",
       "source       0\n",
       "text         0\n",
       "dtype: int64"
      ]
     },
     "execution_count": 269,
     "metadata": {},
     "output_type": "execute_result"
    }
   ],
   "source": [
    "df.isnull().sum()"
   ]
  },
  {
   "cell_type": "code",
   "execution_count": 270,
   "id": "531774e3",
   "metadata": {},
   "outputs": [
    {
     "data": {
      "text/plain": [
       "array(['conrad', 'hyatt', 'omni', 'fairmont', 'sheraton', 'knickerbocker',\n",
       "       'homewood', 'swissotel', 'ambassador', 'affinia', 'hardrock',\n",
       "       'talbott', 'hilton', 'james', 'monaco', 'sofitel', 'palmer',\n",
       "       'intercontinental', 'allegro', 'amalfi'], dtype=object)"
      ]
     },
     "execution_count": 270,
     "metadata": {},
     "output_type": "execute_result"
    }
   ],
   "source": [
    "df['hotel'].unique()"
   ]
  },
  {
   "cell_type": "code",
   "execution_count": 271,
   "id": "d21c7b07",
   "metadata": {},
   "outputs": [
    {
     "data": {
      "text/plain": [
       "<AxesSubplot:xlabel='deceptive', ylabel='count'>"
      ]
     },
     "execution_count": 271,
     "metadata": {},
     "output_type": "execute_result"
    },
    {
     "data": {
      "image/png": "[encoded data removed]",
      "text/plain": [
       "<Figure size 640x480 with 1 Axes>"
      ]
     },
     "metadata": {},
     "output_type": "display_data"
    }
   ],
   "source": [
    "import seaborn as sns\n",
    "import matplotlib.pyplot as plt\n",
    "sns.countplot(x=df['deceptive'], hue='polarity', data = df)"
   ]
  },
  {
   "cell_type": "code",
   "execution_count": 272,
   "id": "1d190a97",
   "metadata": {},
   "outputs": [
    {
     "data": {
      "text/plain": [
       "<AxesSubplot:xlabel='deceptive', ylabel='count'>"
      ]
     },
     "execution_count": 272,
     "metadata": {},
     "output_type": "execute_result"
    },
    {
     "data": {
      "image/png": "[encoded data removed]",
      "text/plain": [
       "<Figure size 640x480 with 1 Axes>"
      ]
     },
     "metadata": {},
     "output_type": "display_data"
    }
   ],
   "source": [
    "sns.countplot(x=df['deceptive'],hue='hotel',data=df)\n"
   ]
  },
  {
   "cell_type": "code",
   "execution_count": 273,
   "id": "81a0fca7",
   "metadata": {},
   "outputs": [],
   "source": [
    "df=df.drop(['hotel'],axis=1)\n"
   ]
  },
  {
   "cell_type": "code",
   "execution_count": 274,
   "id": "21c032c6",
   "metadata": {},
   "outputs": [
    {
     "data": {
      "text/html": [
       "<div>\n",
       "<style scoped>\n",
       "    .dataframe tbody tr th:only-of-type {\n",
       "        vertical-align: middle;\n",
       "    }\n",
       "\n",
       "    .dataframe tbody tr th {\n",
       "        vertical-align: top;\n",
       "    }\n",
       "\n",
       "    .dataframe thead th {\n",
       "        text-align: right;\n",
       "    }\n",
       "</style>\n",
       "<table border=\"1\" class=\"dataframe\">\n",
       "  <thead>\n",
       "    <tr style=\"text-align: right;\">\n",
       "      <th></th>\n",
       "      <th>deceptive</th>\n",
       "      <th>polarity</th>\n",
       "      <th>source</th>\n",
       "      <th>text</th>\n",
       "    </tr>\n",
       "  </thead>\n",
       "  <tbody>\n",
       "    <tr>\n",
       "      <th>0</th>\n",
       "      <td>truthful</td>\n",
       "      <td>positive</td>\n",
       "      <td>TripAdvisor</td>\n",
       "      <td>We stayed for a one night getaway with family ...</td>\n",
       "    </tr>\n",
       "    <tr>\n",
       "      <th>1</th>\n",
       "      <td>truthful</td>\n",
       "      <td>positive</td>\n",
       "      <td>TripAdvisor</td>\n",
       "      <td>Triple A rate with upgrade to view room was le...</td>\n",
       "    </tr>\n",
       "    <tr>\n",
       "      <th>2</th>\n",
       "      <td>truthful</td>\n",
       "      <td>positive</td>\n",
       "      <td>TripAdvisor</td>\n",
       "      <td>This comes a little late as I'm finally catchi...</td>\n",
       "    </tr>\n",
       "    <tr>\n",
       "      <th>3</th>\n",
       "      <td>truthful</td>\n",
       "      <td>positive</td>\n",
       "      <td>TripAdvisor</td>\n",
       "      <td>The Omni Chicago really delivers on all fronts...</td>\n",
       "    </tr>\n",
       "    <tr>\n",
       "      <th>4</th>\n",
       "      <td>truthful</td>\n",
       "      <td>positive</td>\n",
       "      <td>TripAdvisor</td>\n",
       "      <td>I asked for a high floor away from the elevato...</td>\n",
       "    </tr>\n",
       "    <tr>\n",
       "      <th>...</th>\n",
       "      <td>...</td>\n",
       "      <td>...</td>\n",
       "      <td>...</td>\n",
       "      <td>...</td>\n",
       "    </tr>\n",
       "    <tr>\n",
       "      <th>1595</th>\n",
       "      <td>deceptive</td>\n",
       "      <td>negative</td>\n",
       "      <td>MTurk</td>\n",
       "      <td>Problems started when I booked the InterContin...</td>\n",
       "    </tr>\n",
       "    <tr>\n",
       "      <th>1596</th>\n",
       "      <td>deceptive</td>\n",
       "      <td>negative</td>\n",
       "      <td>MTurk</td>\n",
       "      <td>The Amalfi Hotel has a beautiful website and i...</td>\n",
       "    </tr>\n",
       "    <tr>\n",
       "      <th>1597</th>\n",
       "      <td>deceptive</td>\n",
       "      <td>negative</td>\n",
       "      <td>MTurk</td>\n",
       "      <td>The Intercontinental Chicago Magnificent Mile ...</td>\n",
       "    </tr>\n",
       "    <tr>\n",
       "      <th>1598</th>\n",
       "      <td>deceptive</td>\n",
       "      <td>negative</td>\n",
       "      <td>MTurk</td>\n",
       "      <td>The Palmer House Hilton, while it looks good i...</td>\n",
       "    </tr>\n",
       "    <tr>\n",
       "      <th>1599</th>\n",
       "      <td>deceptive</td>\n",
       "      <td>negative</td>\n",
       "      <td>MTurk</td>\n",
       "      <td>As a former Chicagoan, I'm appalled at the Ama...</td>\n",
       "    </tr>\n",
       "  </tbody>\n",
       "</table>\n",
       "<p>1600 rows × 4 columns</p>\n",
       "</div>"
      ],
      "text/plain": [
       "      deceptive  polarity       source  \\\n",
       "0      truthful  positive  TripAdvisor   \n",
       "1      truthful  positive  TripAdvisor   \n",
       "2      truthful  positive  TripAdvisor   \n",
       "3      truthful  positive  TripAdvisor   \n",
       "4      truthful  positive  TripAdvisor   \n",
       "...         ...       ...          ...   \n",
       "1595  deceptive  negative        MTurk   \n",
       "1596  deceptive  negative        MTurk   \n",
       "1597  deceptive  negative        MTurk   \n",
       "1598  deceptive  negative        MTurk   \n",
       "1599  deceptive  negative        MTurk   \n",
       "\n",
       "                                                   text  \n",
       "0     We stayed for a one night getaway with family ...  \n",
       "1     Triple A rate with upgrade to view room was le...  \n",
       "2     This comes a little late as I'm finally catchi...  \n",
       "3     The Omni Chicago really delivers on all fronts...  \n",
       "4     I asked for a high floor away from the elevato...  \n",
       "...                                                 ...  \n",
       "1595  Problems started when I booked the InterContin...  \n",
       "1596  The Amalfi Hotel has a beautiful website and i...  \n",
       "1597  The Intercontinental Chicago Magnificent Mile ...  \n",
       "1598  The Palmer House Hilton, while it looks good i...  \n",
       "1599  As a former Chicagoan, I'm appalled at the Ama...  \n",
       "\n",
       "[1600 rows x 4 columns]"
      ]
     },
     "execution_count": 274,
     "metadata": {},
     "output_type": "execute_result"
    }
   ],
   "source": [
    "df"
   ]
  },
  {
   "cell_type": "code",
   "execution_count": 275,
   "id": "492508d7",
   "metadata": {},
   "outputs": [],
   "source": [
    "import nltk\n",
    "from nltk.stem import PorterStemmer\n",
    "from nltk.tokenize import sent_tokenize, word_tokenize\n",
    "import re\n",
    "import string \n",
    "def text_cleaning(text):\n",
    "    '''\n",
    "        Make text lowercase, remove text in square brackets, remove link, remove special characters, \n",
    "        and remove words containing numbers.\n",
    "    '''\n",
    "    \n",
    "    text = text.lower()\n",
    "    text = re.sub('\\[.*?\\]','',text)\n",
    "    text = re.sub('\\\\W',\" \", text)\n",
    "    text = re.sub('https?://\\S+|www\\.\\S+','',text)\n",
    "    text = re.sub('<.*?>+','',text)\n",
    "    text = re.sub('[%s]' % re.escape(string.punctuation), '', text)\n",
    "    text = re.sub('\\n', '', text)\n",
    "    text = re.sub('\\w*\\d\\w*', '', text)\n",
    "    \n",
    "    return text\n"
   ]
  },
  {
   "cell_type": "code",
   "execution_count": 276,
   "id": "d32d39ea",
   "metadata": {},
   "outputs": [],
   "source": [
    "df['text']=df['text'].apply(text_cleaning)\n"
   ]
  },
  {
   "cell_type": "code",
   "execution_count": 277,
   "id": "60764074",
   "metadata": {},
   "outputs": [
    {
     "data": {
      "text/html": [
       "<div>\n",
       "<style scoped>\n",
       "    .dataframe tbody tr th:only-of-type {\n",
       "        vertical-align: middle;\n",
       "    }\n",
       "\n",
       "    .dataframe tbody tr th {\n",
       "        vertical-align: top;\n",
       "    }\n",
       "\n",
       "    .dataframe thead th {\n",
       "        text-align: right;\n",
       "    }\n",
       "</style>\n",
       "<table border=\"1\" class=\"dataframe\">\n",
       "  <thead>\n",
       "    <tr style=\"text-align: right;\">\n",
       "      <th></th>\n",
       "      <th>deceptive</th>\n",
       "      <th>polarity</th>\n",
       "      <th>source</th>\n",
       "      <th>text</th>\n",
       "    </tr>\n",
       "  </thead>\n",
       "  <tbody>\n",
       "    <tr>\n",
       "      <th>0</th>\n",
       "      <td>truthful</td>\n",
       "      <td>positive</td>\n",
       "      <td>TripAdvisor</td>\n",
       "      <td>we stayed for a one night getaway with family ...</td>\n",
       "    </tr>\n",
       "    <tr>\n",
       "      <th>1</th>\n",
       "      <td>truthful</td>\n",
       "      <td>positive</td>\n",
       "      <td>TripAdvisor</td>\n",
       "      <td>triple a rate with upgrade to view room was le...</td>\n",
       "    </tr>\n",
       "    <tr>\n",
       "      <th>2</th>\n",
       "      <td>truthful</td>\n",
       "      <td>positive</td>\n",
       "      <td>TripAdvisor</td>\n",
       "      <td>this comes a little late as i m finally catchi...</td>\n",
       "    </tr>\n",
       "    <tr>\n",
       "      <th>3</th>\n",
       "      <td>truthful</td>\n",
       "      <td>positive</td>\n",
       "      <td>TripAdvisor</td>\n",
       "      <td>the omni chicago really delivers on all fronts...</td>\n",
       "    </tr>\n",
       "    <tr>\n",
       "      <th>4</th>\n",
       "      <td>truthful</td>\n",
       "      <td>positive</td>\n",
       "      <td>TripAdvisor</td>\n",
       "      <td>i asked for a high floor away from the elevato...</td>\n",
       "    </tr>\n",
       "    <tr>\n",
       "      <th>...</th>\n",
       "      <td>...</td>\n",
       "      <td>...</td>\n",
       "      <td>...</td>\n",
       "      <td>...</td>\n",
       "    </tr>\n",
       "    <tr>\n",
       "      <th>1595</th>\n",
       "      <td>deceptive</td>\n",
       "      <td>negative</td>\n",
       "      <td>MTurk</td>\n",
       "      <td>problems started when i booked the intercontin...</td>\n",
       "    </tr>\n",
       "    <tr>\n",
       "      <th>1596</th>\n",
       "      <td>deceptive</td>\n",
       "      <td>negative</td>\n",
       "      <td>MTurk</td>\n",
       "      <td>the amalfi hotel has a beautiful website and i...</td>\n",
       "    </tr>\n",
       "    <tr>\n",
       "      <th>1597</th>\n",
       "      <td>deceptive</td>\n",
       "      <td>negative</td>\n",
       "      <td>MTurk</td>\n",
       "      <td>the intercontinental chicago magnificent mile ...</td>\n",
       "    </tr>\n",
       "    <tr>\n",
       "      <th>1598</th>\n",
       "      <td>deceptive</td>\n",
       "      <td>negative</td>\n",
       "      <td>MTurk</td>\n",
       "      <td>the palmer house hilton  while it looks good i...</td>\n",
       "    </tr>\n",
       "    <tr>\n",
       "      <th>1599</th>\n",
       "      <td>deceptive</td>\n",
       "      <td>negative</td>\n",
       "      <td>MTurk</td>\n",
       "      <td>as a former chicagoan  i m appalled at the ama...</td>\n",
       "    </tr>\n",
       "  </tbody>\n",
       "</table>\n",
       "<p>1600 rows × 4 columns</p>\n",
       "</div>"
      ],
      "text/plain": [
       "      deceptive  polarity       source  \\\n",
       "0      truthful  positive  TripAdvisor   \n",
       "1      truthful  positive  TripAdvisor   \n",
       "2      truthful  positive  TripAdvisor   \n",
       "3      truthful  positive  TripAdvisor   \n",
       "4      truthful  positive  TripAdvisor   \n",
       "...         ...       ...          ...   \n",
       "1595  deceptive  negative        MTurk   \n",
       "1596  deceptive  negative        MTurk   \n",
       "1597  deceptive  negative        MTurk   \n",
       "1598  deceptive  negative        MTurk   \n",
       "1599  deceptive  negative        MTurk   \n",
       "\n",
       "                                                   text  \n",
       "0     we stayed for a one night getaway with family ...  \n",
       "1     triple a rate with upgrade to view room was le...  \n",
       "2     this comes a little late as i m finally catchi...  \n",
       "3     the omni chicago really delivers on all fronts...  \n",
       "4     i asked for a high floor away from the elevato...  \n",
       "...                                                 ...  \n",
       "1595  problems started when i booked the intercontin...  \n",
       "1596  the amalfi hotel has a beautiful website and i...  \n",
       "1597  the intercontinental chicago magnificent mile ...  \n",
       "1598  the palmer house hilton  while it looks good i...  \n",
       "1599  as a former chicagoan  i m appalled at the ama...  \n",
       "\n",
       "[1600 rows x 4 columns]"
      ]
     },
     "execution_count": 277,
     "metadata": {},
     "output_type": "execute_result"
    }
   ],
   "source": [
    "df"
   ]
  },
  {
   "cell_type": "code",
   "execution_count": 278,
   "id": "e91971f6",
   "metadata": {},
   "outputs": [
    {
     "data": {
      "text/html": [
       "<div>\n",
       "<style scoped>\n",
       "    .dataframe tbody tr th:only-of-type {\n",
       "        vertical-align: middle;\n",
       "    }\n",
       "\n",
       "    .dataframe tbody tr th {\n",
       "        vertical-align: top;\n",
       "    }\n",
       "\n",
       "    .dataframe thead th {\n",
       "        text-align: right;\n",
       "    }\n",
       "</style>\n",
       "<table border=\"1\" class=\"dataframe\">\n",
       "  <thead>\n",
       "    <tr style=\"text-align: right;\">\n",
       "      <th></th>\n",
       "      <th>deceptive</th>\n",
       "      <th>polarity</th>\n",
       "      <th>source</th>\n",
       "      <th>text</th>\n",
       "    </tr>\n",
       "  </thead>\n",
       "  <tbody>\n",
       "    <tr>\n",
       "      <th>0</th>\n",
       "      <td>truthful</td>\n",
       "      <td>positive</td>\n",
       "      <td>TripAdvisor</td>\n",
       "      <td>we stayed for a one night getaway with family ...</td>\n",
       "    </tr>\n",
       "    <tr>\n",
       "      <th>1</th>\n",
       "      <td>truthful</td>\n",
       "      <td>positive</td>\n",
       "      <td>TripAdvisor</td>\n",
       "      <td>triple a rate with upgrade to view room was le...</td>\n",
       "    </tr>\n",
       "    <tr>\n",
       "      <th>2</th>\n",
       "      <td>truthful</td>\n",
       "      <td>positive</td>\n",
       "      <td>TripAdvisor</td>\n",
       "      <td>this comes a little late as i m finally catchi...</td>\n",
       "    </tr>\n",
       "    <tr>\n",
       "      <th>3</th>\n",
       "      <td>truthful</td>\n",
       "      <td>positive</td>\n",
       "      <td>TripAdvisor</td>\n",
       "      <td>the omni chicago really delivers on all fronts...</td>\n",
       "    </tr>\n",
       "    <tr>\n",
       "      <th>4</th>\n",
       "      <td>truthful</td>\n",
       "      <td>positive</td>\n",
       "      <td>TripAdvisor</td>\n",
       "      <td>i asked for a high floor away from the elevato...</td>\n",
       "    </tr>\n",
       "    <tr>\n",
       "      <th>...</th>\n",
       "      <td>...</td>\n",
       "      <td>...</td>\n",
       "      <td>...</td>\n",
       "      <td>...</td>\n",
       "    </tr>\n",
       "    <tr>\n",
       "      <th>1595</th>\n",
       "      <td>deceptive</td>\n",
       "      <td>negative</td>\n",
       "      <td>MTurk</td>\n",
       "      <td>problems started when i booked the intercontin...</td>\n",
       "    </tr>\n",
       "    <tr>\n",
       "      <th>1596</th>\n",
       "      <td>deceptive</td>\n",
       "      <td>negative</td>\n",
       "      <td>MTurk</td>\n",
       "      <td>the amalfi hotel has a beautiful website and i...</td>\n",
       "    </tr>\n",
       "    <tr>\n",
       "      <th>1597</th>\n",
       "      <td>deceptive</td>\n",
       "      <td>negative</td>\n",
       "      <td>MTurk</td>\n",
       "      <td>the intercontinental chicago magnificent mile ...</td>\n",
       "    </tr>\n",
       "    <tr>\n",
       "      <th>1598</th>\n",
       "      <td>deceptive</td>\n",
       "      <td>negative</td>\n",
       "      <td>MTurk</td>\n",
       "      <td>the palmer house hilton  while it looks good i...</td>\n",
       "    </tr>\n",
       "    <tr>\n",
       "      <th>1599</th>\n",
       "      <td>deceptive</td>\n",
       "      <td>negative</td>\n",
       "      <td>MTurk</td>\n",
       "      <td>as a former chicagoan  i m appalled at the ama...</td>\n",
       "    </tr>\n",
       "  </tbody>\n",
       "</table>\n",
       "<p>1600 rows × 4 columns</p>\n",
       "</div>"
      ],
      "text/plain": [
       "      deceptive  polarity       source  \\\n",
       "0      truthful  positive  TripAdvisor   \n",
       "1      truthful  positive  TripAdvisor   \n",
       "2      truthful  positive  TripAdvisor   \n",
       "3      truthful  positive  TripAdvisor   \n",
       "4      truthful  positive  TripAdvisor   \n",
       "...         ...       ...          ...   \n",
       "1595  deceptive  negative        MTurk   \n",
       "1596  deceptive  negative        MTurk   \n",
       "1597  deceptive  negative        MTurk   \n",
       "1598  deceptive  negative        MTurk   \n",
       "1599  deceptive  negative        MTurk   \n",
       "\n",
       "                                                   text  \n",
       "0     we stayed for a one night getaway with family ...  \n",
       "1     triple a rate with upgrade to view room was le...  \n",
       "2     this comes a little late as i m finally catchi...  \n",
       "3     the omni chicago really delivers on all fronts...  \n",
       "4     i asked for a high floor away from the elevato...  \n",
       "...                                                 ...  \n",
       "1595  problems started when i booked the intercontin...  \n",
       "1596  the amalfi hotel has a beautiful website and i...  \n",
       "1597  the intercontinental chicago magnificent mile ...  \n",
       "1598  the palmer house hilton  while it looks good i...  \n",
       "1599  as a former chicagoan  i m appalled at the ama...  \n",
       "\n",
       "[1600 rows x 4 columns]"
      ]
     },
     "execution_count": 278,
     "metadata": {},
     "output_type": "execute_result"
    }
   ],
   "source": [
    "df"
   ]
  },
  {
   "cell_type": "code",
   "execution_count": 279,
   "id": "38b86f28",
   "metadata": {},
   "outputs": [
    {
     "data": {
      "text/plain": [
       "array(['truthful', 'deceptive'], dtype=object)"
      ]
     },
     "execution_count": 279,
     "metadata": {},
     "output_type": "execute_result"
    }
   ],
   "source": [
    "df['deceptive'].unique()"
   ]
  },
  {
   "cell_type": "code",
   "execution_count": 280,
   "id": "e4f2fcf3",
   "metadata": {},
   "outputs": [],
   "source": [
    "sentences=df['text'].values\n",
    "y=df['deceptive'].values\n"
   ]
  },
  {
   "cell_type": "code",
   "execution_count": 281,
   "id": "aa9d7931",
   "metadata": {},
   "outputs": [],
   "source": [
    "from sklearn.preprocessing import LabelEncoder\n",
    "from sklearn.model_selection import train_test_split\n",
    "\n",
    "le = LabelEncoder()\n",
    "y = le.fit_transform(y)"
   ]
  },
  {
   "cell_type": "code",
   "execution_count": 282,
   "id": "8612d49c",
   "metadata": {},
   "outputs": [
    {
     "name": "stdout",
     "output_type": "stream",
     "text": [
      "Requirement already satisfied: keras in /Users/deth/opt/anaconda3/lib/python3.9/site-packages (2.11.0)\r\n"
     ]
    }
   ],
   "source": [
    "!pip3 install keras"
   ]
  },
  {
   "cell_type": "code",
   "execution_count": 283,
   "id": "8b788ebc",
   "metadata": {},
   "outputs": [],
   "source": [
    "from sklearn.model_selection import train_test_split\n",
    "from keras.preprocessing.text import Tokenizer\n",
    "from tensorflow.keras.preprocessing.sequence import pad_sequences\n",
    "\n",
    "\n",
    "\n",
    "sentences_train, sentences_test, y_train, y_test = train_test_split(sentences,y, test_size=0.2, random_state=1000)\n",
    "\n",
    "sentences_train, sentences_val, y_train, y_val = train_test_split(sentences_train, y_train, \n",
    "    test_size=0.25, random_state= 8) # 0.25 x 0.8 = 0.2\n",
    "\n",
    "tokenizer = Tokenizer(num_words=5000)\n",
    "tokenizer.fit_on_texts(sentences_train)\n",
    "\n",
    "x_train = tokenizer.texts_to_sequences(sentences_train)\n",
    "x_test = tokenizer.texts_to_sequences(sentences_test)\n",
    "x_val = tokenizer.texts_to_sequences(sentences_val)\n",
    "\n",
    "# Adding 1 because of reserved 0 index\n",
    "vocab_size = len(tokenizer.word_index) + 1\n",
    "maxlen = 100\n",
    "\n",
    "x_train = pad_sequences(x_train, padding = 'post', maxlen=maxlen)\n",
    "x_test = pad_sequences(x_test, padding = 'post', maxlen=maxlen)\n",
    "x_val = pad_sequences(x_val, padding='post',maxlen=maxlen)\n"
   ]
  },
  {
   "cell_type": "code",
   "execution_count": 284,
   "id": "d2955858",
   "metadata": {},
   "outputs": [
    {
     "data": {
      "text/plain": [
       "array([[  51, 1468, 1081, ...,  427,  242,  552],\n",
       "       [2407,   15,   12, ...,  418,   96,   57],\n",
       "       [  13,   17,   50, ...,   17,  828, 1797],\n",
       "       ...,\n",
       "       [  40,    2, 1434, ...,   14,   18,   94],\n",
       "       [   4,  123,   11, ...,   82, 2956,   36],\n",
       "       [ 268,   73,  980, ...,   19,   18,    8]], dtype=int32)"
      ]
     },
     "execution_count": 284,
     "metadata": {},
     "output_type": "execute_result"
    }
   ],
   "source": [
    "x_train"
   ]
  },
  {
   "cell_type": "code",
   "execution_count": 285,
   "id": "b80124f1",
   "metadata": {},
   "outputs": [
    {
     "data": {
      "text/plain": [
       "(960, 100)"
      ]
     },
     "execution_count": 285,
     "metadata": {},
     "output_type": "execute_result"
    }
   ],
   "source": [
    "x_train.shape"
   ]
  },
  {
   "cell_type": "code",
   "execution_count": 286,
   "id": "caceb18f",
   "metadata": {},
   "outputs": [
    {
     "data": {
      "text/plain": [
       "array([[ 101,    1,    8, ...,   15,   96,  233],\n",
       "       [   2,    1,  562, ...,   87, 1988,   29],\n",
       "       [  23,   15,  166, ...,    7,    1,  662],\n",
       "       ...,\n",
       "       [  15,  157,    2, ...,   64,    0,    0],\n",
       "       [  36, 1405,   11, ...,   63,  246,   64],\n",
       "       [  96,   87,   25, ...,  361,  700,  126]], dtype=int32)"
      ]
     },
     "execution_count": 286,
     "metadata": {},
     "output_type": "execute_result"
    }
   ],
   "source": [
    "x_test"
   ]
  },
  {
   "cell_type": "code",
   "execution_count": 287,
   "id": "9a7d2670",
   "metadata": {},
   "outputs": [],
   "source": [
    "# from keras.models import Sequential\n",
    "# from keras import layers\n",
    "# import tensorflow as tf\n",
    "# from tensorflow.keras.layers import Embedding, Conv1D, LSTM, Dense\n",
    "\n",
    "# embedding_dim = 100\n",
    "# from tensorflow.keras.callbacks import EarlyStopping\n",
    "# reg = tf.keras.regularizers.l1(0.001)\n",
    "# early_stop = EarlyStopping(monitor='val_loss', patience=20)\n",
    "\n",
    "# model = Sequential()\n",
    "\n",
    "# model.add(layers.Embedding(vocab_size, embedding_dim, input_length=maxlen))\n",
    "\n",
    "\n",
    "\n",
    "# model.add(layers.Conv1D(256, 10, padding='valid',activation='relu',strides = 2,kernel_regularizer=tf.keras.regularizers.l2(0.001)))\n",
    "# model.add(layers.MaxPooling1D(2))\n",
    "# model.add(layers.Dropout(0.5))\n",
    "# model.add(layers.Conv1D(32, 5, activation='relu'))\n",
    "# model.add(layers.MaxPooling1D(2))\n",
    "# model.add(layers.Dropout(0.5))\n",
    "# model.add(layers.Conv1D(16, 5, activation='relu'))\n",
    "# model.add(layers.MaxPooling1D(2))\n",
    "# model.add(layers.Dropout(0.5))\n",
    "# model.add(layers.Flatten())\n",
    "# model.add(layers.Dense(1, activation='sigmoid', kernel_regularizer=tf.keras.regularizers.l1(0.007)))\n",
    "# model.compile(optimizer='adam',\n",
    "#               loss='binary_crossentropy',\n",
    "#               metrics=['accuracy'])\n",
    "# history = model.fit(x_train, y_train,\n",
    "#                     epochs=50,\n",
    "#                     validation_data=(x_val, y_val),\n",
    "#                     batch_size=10)"
   ]
  },
  {
   "cell_type": "code",
   "execution_count": 288,
   "id": "33565412",
   "metadata": {},
   "outputs": [
    {
     "name": "stdout",
     "output_type": "stream",
     "text": [
      "Epoch 1/30\n",
      "30/30 [==============================] - 1s 14ms/step - loss: 0.8692 - accuracy: 0.4823 - val_loss: 0.7806 - val_accuracy: 0.5437\n",
      "Epoch 2/30\n",
      "30/30 [==============================] - 0s 10ms/step - loss: 0.7499 - accuracy: 0.6073 - val_loss: 0.7338 - val_accuracy: 0.4625\n",
      "Epoch 3/30\n",
      "30/30 [==============================] - 0s 10ms/step - loss: 0.7196 - accuracy: 0.6594 - val_loss: 0.7115 - val_accuracy: 0.5500\n",
      "Epoch 4/30\n",
      "30/30 [==============================] - 0s 10ms/step - loss: 0.7044 - accuracy: 0.5281 - val_loss: 0.7026 - val_accuracy: 0.4625\n",
      "Epoch 5/30\n",
      "30/30 [==============================] - 0s 10ms/step - loss: 0.6976 - accuracy: 0.5094 - val_loss: 0.6972 - val_accuracy: 0.4625\n",
      "Epoch 6/30\n",
      "30/30 [==============================] - 0s 9ms/step - loss: 0.6944 - accuracy: 0.5094 - val_loss: 0.6963 - val_accuracy: 0.4625\n",
      "Epoch 7/30\n",
      "30/30 [==============================] - 0s 9ms/step - loss: 0.6911 - accuracy: 0.5167 - val_loss: 0.6928 - val_accuracy: 0.5312\n",
      "Epoch 8/30\n",
      "30/30 [==============================] - 0s 10ms/step - loss: 0.6383 - accuracy: 0.7792 - val_loss: 0.6051 - val_accuracy: 0.7563\n",
      "Epoch 9/30\n",
      "30/30 [==============================] - 0s 9ms/step - loss: 0.4315 - accuracy: 0.8958 - val_loss: 0.5744 - val_accuracy: 0.7875\n",
      "Epoch 10/30\n",
      "30/30 [==============================] - 0s 9ms/step - loss: 0.2899 - accuracy: 0.9740 - val_loss: 0.5756 - val_accuracy: 0.7906\n",
      "Epoch 11/30\n",
      "30/30 [==============================] - 0s 9ms/step - loss: 0.2378 - accuracy: 0.9948 - val_loss: 0.5929 - val_accuracy: 0.7906\n",
      "Epoch 12/30\n",
      "30/30 [==============================] - 0s 9ms/step - loss: 0.2127 - accuracy: 0.9990 - val_loss: 0.5834 - val_accuracy: 0.7750\n",
      "Epoch 13/30\n",
      "30/30 [==============================] - 0s 9ms/step - loss: 0.1934 - accuracy: 1.0000 - val_loss: 0.5709 - val_accuracy: 0.7719\n",
      "Epoch 14/30\n",
      "30/30 [==============================] - 0s 8ms/step - loss: 0.1846 - accuracy: 1.0000 - val_loss: 0.5701 - val_accuracy: 0.7812\n",
      "Epoch 15/30\n",
      "30/30 [==============================] - 0s 9ms/step - loss: 0.1731 - accuracy: 1.0000 - val_loss: 0.5641 - val_accuracy: 0.7812\n",
      "Epoch 16/30\n",
      "30/30 [==============================] - 0s 9ms/step - loss: 0.1647 - accuracy: 1.0000 - val_loss: 0.5655 - val_accuracy: 0.7969\n",
      "Epoch 17/30\n",
      "30/30 [==============================] - 0s 9ms/step - loss: 0.1592 - accuracy: 1.0000 - val_loss: 0.5600 - val_accuracy: 0.7781\n",
      "Epoch 18/30\n",
      "30/30 [==============================] - 0s 8ms/step - loss: 0.1533 - accuracy: 1.0000 - val_loss: 0.5550 - val_accuracy: 0.7750\n",
      "Epoch 19/30\n",
      "30/30 [==============================] - 0s 8ms/step - loss: 0.1486 - accuracy: 1.0000 - val_loss: 0.5572 - val_accuracy: 0.7750\n",
      "Epoch 20/30\n",
      "30/30 [==============================] - 0s 9ms/step - loss: 0.1440 - accuracy: 1.0000 - val_loss: 0.5521 - val_accuracy: 0.7750\n",
      "Epoch 21/30\n",
      "30/30 [==============================] - 0s 9ms/step - loss: 0.1392 - accuracy: 1.0000 - val_loss: 0.5497 - val_accuracy: 0.7781\n",
      "Epoch 22/30\n",
      "30/30 [==============================] - 0s 8ms/step - loss: 0.1357 - accuracy: 1.0000 - val_loss: 0.5595 - val_accuracy: 0.7781\n",
      "Epoch 23/30\n",
      "30/30 [==============================] - 0s 9ms/step - loss: 0.1326 - accuracy: 1.0000 - val_loss: 0.5456 - val_accuracy: 0.7781\n",
      "Epoch 24/30\n",
      "30/30 [==============================] - 0s 9ms/step - loss: 0.1298 - accuracy: 1.0000 - val_loss: 0.5458 - val_accuracy: 0.7750\n",
      "Epoch 25/30\n",
      "30/30 [==============================] - 0s 9ms/step - loss: 0.1281 - accuracy: 1.0000 - val_loss: 0.5532 - val_accuracy: 0.7812\n",
      "Epoch 26/30\n",
      "30/30 [==============================] - 0s 8ms/step - loss: 0.1254 - accuracy: 1.0000 - val_loss: 0.5737 - val_accuracy: 0.7812\n",
      "Epoch 27/30\n",
      "30/30 [==============================] - 0s 9ms/step - loss: 0.1219 - accuracy: 1.0000 - val_loss: 0.5452 - val_accuracy: 0.7688\n",
      "Epoch 28/30\n",
      "30/30 [==============================] - 0s 10ms/step - loss: 0.1184 - accuracy: 1.0000 - val_loss: 0.5424 - val_accuracy: 0.7750\n",
      "Epoch 29/30\n",
      "30/30 [==============================] - 0s 8ms/step - loss: 0.1162 - accuracy: 1.0000 - val_loss: 0.5421 - val_accuracy: 0.7688\n",
      "Epoch 30/30\n",
      "30/30 [==============================] - 0s 8ms/step - loss: 0.1145 - accuracy: 1.0000 - val_loss: 0.5366 - val_accuracy: 0.7750\n"
     ]
    }
   ],
   "source": [
    "from keras.models import Sequential\n",
    "from keras import layers\n",
    "import tensorflow as tf\n",
    "from tensorflow.keras.layers import Embedding, Conv1D, LSTM, Dense\n",
    "\n",
    "embedding_dim = 100\n",
    "from tensorflow.keras.callbacks import EarlyStopping\n",
    "reg = tf.keras.regularizers.l2(0.001)\n",
    "early_stop = EarlyStopping(monitor='val_loss', patience=20)\n",
    "\n",
    "model = Sequential()\n",
    "reg1 = tf.keras.regularizers.l2(0.001)\n",
    "\n",
    "\n",
    "model.add(layers.Embedding(vocab_size, embedding_dim, input_length=maxlen))\n",
    "# model.add(layers.Conv1D(256, 10, padding='valid', strides = 2, activation='relu', kernel_regularizer=tf.keras.regularizers.l2(0.001)))\n",
    "# model.add(layers.Dropout(rate = 0.5))\n",
    "# model.add(layers.GlobalMaxPooling1D())\n",
    "# model.add(layers.Dropout(rate = 0.5))\n",
    "\n",
    "\n",
    "model.add(layers.Conv1D(128, 3, padding='valid',activation='relu',strides = 2, kernel_regularizer=reg1))\n",
    "model.add(layers.MaxPooling1D(2))\n",
    "model.add(layers.Dropout(0.2))\n",
    "# model.add(layers.Conv1D(256, 5, activation='relu'))\n",
    "# model.add(layers.MaxPooling1D(2))\n",
    "# model.add(layers.Dropout(0.5))\n",
    "# model.add(layers.Conv1D(128, 5, activation='relu'))\n",
    "# model.add(layers.MaxPooling1D(2))\n",
    "# model.add(layers.Dropout(0.5))\n",
    "model.add(layers.Flatten())\n",
    "\n",
    "# model.add(layers.Conv1D(128, 10, padding='valid', strides = 2, activation='relu'))\n",
    "# model.add(layers.Dropout(rate = 0.5))\n",
    "# model.add(layers.GlobalMaxPooling1D())\n",
    "# model.add(layers.Dropout(rate = 0.5))\n",
    "\n",
    "\n",
    "\n",
    "\n",
    "\n",
    "# model.add(layers.Conv1D(256, 10, padding='valid', strides = 2, activation='relu'))\n",
    "# model.add(layers.GlobalMaxPooling1D())\n",
    "\n",
    "# model.add(layers.Dense(250, activation='relu'))\n",
    "# model.add(layers.Dense(250)\n",
    "\n",
    "# model.add(layers.Conv1D(256, 10, padding='valid', strides = 2, activation='relu', kernel_regularizer=tf.keras.regularizers.l2(0.001)))\n",
    "\n",
    "\n",
    "# model.add(layers.GlobalMaxPooling1D())\n",
    "# model.add(layers.Dropout(rate = 0.5))\n",
    "# model.add(layers.GlobalMaxPooling1D())\n",
    "# model.add(layers.Dropout(rate = 0.5))\n",
    "\n",
    "\n",
    "\n",
    "\n",
    "\n",
    "\n",
    "# model.add(layers.LSTM(128))\n",
    "\n",
    "# model.add(Activation('relu'))\n",
    "model.add(layers.Dense(1, activation='sigmoid', kernel_regularizer=tf.keras.regularizers.l2(0.1)))\n",
    "model.compile(optimizer='adam',\n",
    "              loss='binary_crossentropy',\n",
    "              metrics=['accuracy'])\n",
    "history = model.fit(x_train, y_train,\n",
    "                    epochs=30,\n",
    "                    validation_data=(x_val, y_val),\n",
    "                    batch_size=32)"
   ]
  },
  {
   "cell_type": "code",
   "execution_count": 289,
   "id": "292ff78c",
   "metadata": {},
   "outputs": [],
   "source": [
    "# from keras.models import Sequential\n",
    "# from keras import layers\n",
    "\n",
    "# embedding_dims = 100\n",
    "# batch_size = 32\n",
    "# filters = 250\n",
    "# kernel_size = 3\n",
    "# hidden_dims = 250\n",
    "# epochs = 50\n",
    "\n",
    "\n",
    "\n",
    "# model = Sequential()\n",
    "# model.add(layers.Conv1D(filters,kernel_size,padding = 'valid' , activation = 'relu',strides = 1 , \n",
    "#                  input_shape = (maxlen,embedding_dims)))\n",
    "# model.add(layers.GlobalMaxPooling1D())\n",
    "# model.add(layers.Dense(hidden_dims))\n",
    "# model.add(layers.Dropout(0.2))\n",
    "# model.add(layers.Activation('relu'))\n",
    "# model.add(layers.Dense(1))\n",
    "# model.add(layers.Activation('sigmoid'))\n",
    "\n",
    "# model.compile(loss = 'binary_crossentropy',optimizer = 'adam', metrics = ['accuracy'])\n",
    "# model.fit(x_train,y_train,batch_size = batch_size,epochs = epochs , validation_data = (x_test,y_test))\n",
    "# # model = Sequential()\n",
    "# # model.add(layers.Embedding(vocab_size, embedding_dim, input_length=maxlen))\n",
    "# # model.add(layers.Conv1D(256, 5, activation='relu'))\n",
    "# # model.add(layers.GlobalMaxPooling1D())\n",
    "# # model.add(layers.Dense(100, activation='relu'))\n",
    "# # model.add(layers.Dense(1, activation='sigmoid'))\n",
    "# # model.compile(optimizer='adam',\n",
    "# #               loss='binary_crossentropy',\n",
    "# #               metrics=['accuracy'])\n",
    "# # history = model.fit(x_train, y_train,\n",
    "# #                     epochs=50,\n",
    "# #                     validation_data=(x_test, y_test),\n",
    "# #                     batch_size=10)"
   ]
  },
  {
   "cell_type": "markdown",
   "id": "1852d99e",
   "metadata": {},
   "source": [
    "Epochs = 40-60"
   ]
  },
  {
   "cell_type": "markdown",
   "id": "21e01053",
   "metadata": {},
   "source": [
    "# Test the model on Validation data"
   ]
  },
  {
   "cell_type": "code",
   "execution_count": 290,
   "id": "fd29a05d",
   "metadata": {},
   "outputs": [
    {
     "data": {
      "image/png": "[encoded data removed]",
      "text/plain": [
       "<Figure size 640x480 with 1 Axes>"
      ]
     },
     "metadata": {},
     "output_type": "display_data"
    },
    {
     "data": {
      "image/png": "[encoded data removed]",
      "text/plain": [
       "<Figure size 640x480 with 1 Axes>"
      ]
     },
     "metadata": {},
     "output_type": "display_data"
    }
   ],
   "source": [
    "def show_train_history(train_history,train,validation):\n",
    "    plt.plot(train_history.history[train])\n",
    "    plt.plot(train_history.history[validation])\n",
    "    plt.title('Train History')\n",
    "    plt.ylabel(train)\n",
    "    plt.xlabel('Epoch')\n",
    "    plt.legend(['train', 'validation'], loc='upper left')\n",
    "    plt.show()\n",
    "    \n",
    "show_train_history(history,'accuracy','val_accuracy')\n",
    "show_train_history(history,'loss','val_loss')"
   ]
  },
  {
   "cell_type": "code",
   "execution_count": 291,
   "id": "5cd3730d",
   "metadata": {},
   "outputs": [
    {
     "name": "stdout",
     "output_type": "stream",
     "text": [
      "Training loss \t 11.447815597057343\n",
      "Training accuracy  100.0\n",
      "Validation loss  53.66241931915283\n",
      "Validation accuracy  77.49999761581421\n"
     ]
    }
   ],
   "source": [
    "print('Training loss \\t', history.history['loss'][-1]*100)\n",
    "print('Training accuracy ',  history.history['accuracy'][-1]*100)\n",
    "print('Validation loss ', history.history['val_loss'][-1]*100)\n",
    "print('Validation accuracy ',  history.history['val_accuracy'][-1]*100)"
   ]
  },
  {
   "cell_type": "code",
   "execution_count": 292,
   "id": "81864ee8",
   "metadata": {},
   "outputs": [
    {
     "name": "stdout",
     "output_type": "stream",
     "text": [
      "1/1 [==============================] - 0s 50ms/step\n",
      "0.0\n",
      "deceptive\n"
     ]
    }
   ],
   "source": [
    "new_text = \"I love this hotel. The staff is very friendly. I don't think there is any places as good as this\"\n",
    "new_sequence = tokenizer.texts_to_sequences([new_text])\n",
    "new_data = pad_sequences(new_sequence, maxlen=maxlen)\n",
    "prediction = model.predict(new_data)\n",
    "prediction_label = np.round(prediction[0][0])\n",
    "print(prediction_label)\n",
    "print(\"truthful\" if prediction_label==1 else \"deceptive\")"
   ]
  },
  {
   "cell_type": "code",
   "execution_count": 293,
   "id": "284b04c7",
   "metadata": {},
   "outputs": [
    {
     "name": "stdout",
     "output_type": "stream",
     "text": [
      "1/1 [==============================] - 0s 16ms/step\n",
      "0.0\n",
      "deceptive\n"
     ]
    }
   ],
   "source": [
    "new_text = \"During my holiday at Bali, I stayed at Hilton hotel. We arrived there at 12am. There was no staff. No one is coming to help us. We have to carry our luggae to the room. There was monkey everywhere. My girlfriend is afraid of monkey and she's not coming to the room. She has a terrible experience. So am I. If only we can get rid of the monkey and the staff is helpful, that would be nice. Why? because the place itself is big and the room is comfortable. The environment is good except the monkey. The service is kind of not so good.\"\n",
    "new_sequence = tokenizer.texts_to_sequences([new_text])\n",
    "new_data = pad_sequences(new_sequence, maxlen=maxlen)\n",
    "prediction = model.predict(new_data)\n",
    "prediction_label = np.round(prediction[0][0])\n",
    "print(prediction_label)\n",
    "print(\"truthful\" if prediction_label==1 else \"deceptive\")"
   ]
  },
  {
   "cell_type": "code",
   "execution_count": 294,
   "id": "957ccc6a",
   "metadata": {},
   "outputs": [
    {
     "name": "stdout",
     "output_type": "stream",
     "text": [
      "1/1 [==============================] - 0s 15ms/step\n",
      "1.0\n",
      "truthful\n"
     ]
    }
   ],
   "source": [
    "new_text = \"We planned to stay for 5 nights on a family trip. I booked this hotel because of the expected value for a suite as well as the free breakfast - get a quick bite, then head out for the day to do normal tourist stuff. Well, our stay here lasted 1 night and we quickly, and thankfully, switched to a different hotel for our last 4 nights. The room was dirty. When we opened the sofabed, the sheets were filthy and there was a mess of dirt and crumbs that fell out. Ridiculous considering this is a suite hotel where the sofabeds are likely used, and theoretically cleaned, a lot. Extra blankets were also dirty and bathrooms weren't much better. Temperature control in the room was imprecise - minor inconvenience but without clean blankets on our only night, it made for a cold stay. If you like to eat for free (they have free breakfasts and dinner on certain nights) and don't care to eat the great food Chicago has to offer, I guess some may find this place tolerable. But we found the buffet no better than average and felt like we were at a Golden Corral. The only thing this hotel really has going for it is location but there are other options in this area (we switched to The James and had a great experience). I couldn't be paid to stay here again. I'm shocked by the high overall rating given our experience.\"\n",
    "new_sequence = tokenizer.texts_to_sequences([new_text])\n",
    "new_data = pad_sequences(new_sequence, maxlen=maxlen)\n",
    "prediction = model.predict(new_data)\n",
    "prediction_label = np.round(prediction[0][0])\n",
    "print(prediction_label)\n",
    "print(\"truthful\" if prediction_label==1 else \"deceptive\")"
   ]
  },
  {
   "cell_type": "code",
   "execution_count": 295,
   "id": "48428c4a",
   "metadata": {},
   "outputs": [
    {
     "name": "stdout",
     "output_type": "stream",
     "text": [
      "1/1 [==============================] - 0s 15ms/step\n",
      "0.0\n",
      "deceptive\n"
     ]
    }
   ],
   "source": [
    "new_text = \"I had to do a little research on the Hilton brand because it's not one that I was familiar with. I wanted to know what this hotel chain's reputation was, so I did a little research online and found out that it's pretty well-known as a chain that people book into for their business trips and vacations. I also found out that this hotel chain is pretty well-reviewed by people who have stayed in their hotels.\"\n",
    "new_sequence = tokenizer.texts_to_sequences([new_text])\n",
    "new_data = pad_sequences(new_sequence, maxlen=maxlen)\n",
    "prediction = model.predict(new_data)\n",
    "prediction_label = np.round(prediction[0][0])\n",
    "print(prediction_label)\n",
    "print(\"truthful\" if prediction_label==1 else \"deceptive\")"
   ]
  },
  {
   "cell_type": "code",
   "execution_count": 296,
   "id": "45e9aed1",
   "metadata": {},
   "outputs": [
    {
     "name": "stdout",
     "output_type": "stream",
     "text": [
      "10/10 [==============================] - 0s 2ms/step\n",
      "              precision    recall  f1-score   support\n",
      "\n",
      "           0       0.54      0.60      0.57       157\n",
      "           1       0.57      0.51      0.54       163\n",
      "\n",
      "    accuracy                           0.55       320\n",
      "   macro avg       0.55      0.55      0.55       320\n",
      "weighted avg       0.55      0.55      0.55       320\n",
      "\n"
     ]
    }
   ],
   "source": [
    "from sklearn.metrics import classification_report\n",
    "\n",
    "y_pred = np.round(model.predict(x_val).ravel())\n",
    "print (classification_report(y_test, y_pred))\n"
   ]
  },
  {
   "cell_type": "code",
   "execution_count": 297,
   "id": "9d7eb8e0",
   "metadata": {},
   "outputs": [
    {
     "name": "stdout",
     "output_type": "stream",
     "text": [
      "10/10 [==============================] - 0s 1ms/step\n"
     ]
    }
   ],
   "source": [
    "y_pred = np.round(model.predict(x_val).ravel())\n"
   ]
  },
  {
   "cell_type": "code",
   "execution_count": 298,
   "id": "164b0e67",
   "metadata": {},
   "outputs": [
    {
     "name": "stdout",
     "output_type": "stream",
     "text": [
      "0.775\n"
     ]
    }
   ],
   "source": [
    "from sklearn.metrics import accuracy_score\n",
    "\n",
    "print(accuracy_score(y_val,y_pred))"
   ]
  },
  {
   "cell_type": "code",
   "execution_count": 299,
   "id": "3c1185de",
   "metadata": {},
   "outputs": [],
   "source": [
    "y_pred_label = []\n",
    "for i in y_pred:\n",
    "    if i == 1:\n",
    "        y_pred_label.append(\"truthful\")\n",
    "    else:\n",
    "        y_pred_label.append(\"deceptive\")\n"
   ]
  },
  {
   "cell_type": "code",
   "execution_count": 300,
   "id": "9803a4b7",
   "metadata": {},
   "outputs": [],
   "source": [
    "y_val_label = []\n",
    "for i in y_val:\n",
    "    if i == 1:\n",
    "        y_val_label.append(\"truthful\")\n",
    "    else:\n",
    "        y_val_label.append(\"deceptive\")\n",
    "\n"
   ]
  },
  {
   "cell_type": "code",
   "execution_count": 301,
   "id": "97e4e26d",
   "metadata": {},
   "outputs": [
    {
     "name": "stdout",
     "output_type": "stream",
     "text": [
      "Epoch 1/5\n",
      "30/30 [==============================] - 0s 8ms/step - loss: 0.1132 - accuracy: 1.0000\n",
      "Epoch 2/5\n",
      "30/30 [==============================] - 0s 8ms/step - loss: 0.1108 - accuracy: 1.0000\n",
      "Epoch 3/5\n",
      "30/30 [==============================] - 0s 8ms/step - loss: 0.1111 - accuracy: 1.0000\n",
      "Epoch 4/5\n",
      "30/30 [==============================] - 0s 8ms/step - loss: 0.1078 - accuracy: 1.0000\n",
      "Epoch 5/5\n",
      "30/30 [==============================] - 0s 8ms/step - loss: 0.1057 - accuracy: 1.0000\n",
      "10/10 [==============================] - 0s 2ms/step - loss: 0.5382 - accuracy: 0.7844\n",
      "Epoch 1/5\n",
      "30/30 [==============================] - 0s 8ms/step - loss: 0.1034 - accuracy: 1.0000\n",
      "Epoch 2/5\n",
      "30/30 [==============================] - 0s 8ms/step - loss: 0.1024 - accuracy: 1.0000\n",
      "Epoch 3/5\n",
      "30/30 [==============================] - 0s 7ms/step - loss: 0.1004 - accuracy: 1.0000\n",
      "Epoch 4/5\n",
      "30/30 [==============================] - 0s 7ms/step - loss: 0.0991 - accuracy: 1.0000\n",
      "Epoch 5/5\n",
      "30/30 [==============================] - 0s 7ms/step - loss: 0.0980 - accuracy: 1.0000\n",
      "10/10 [==============================] - 0s 2ms/step - loss: 0.5361 - accuracy: 0.7812\n",
      "Epoch 1/5\n",
      "30/30 [==============================] - 0s 8ms/step - loss: 0.0964 - accuracy: 1.0000\n",
      "Epoch 2/5\n",
      "30/30 [==============================] - 0s 8ms/step - loss: 0.0953 - accuracy: 1.0000\n",
      "Epoch 3/5\n",
      "30/30 [==============================] - 0s 8ms/step - loss: 0.0950 - accuracy: 1.0000\n",
      "Epoch 4/5\n",
      "30/30 [==============================] - 0s 8ms/step - loss: 0.0943 - accuracy: 1.0000\n",
      "Epoch 5/5\n",
      "30/30 [==============================] - 0s 8ms/step - loss: 0.0920 - accuracy: 1.0000\n",
      "10/10 [==============================] - 0s 2ms/step - loss: 0.5286 - accuracy: 0.7875\n",
      "Epoch 1/5\n",
      "30/30 [==============================] - 0s 7ms/step - loss: 0.0909 - accuracy: 1.0000\n",
      "Epoch 2/5\n",
      "30/30 [==============================] - 0s 8ms/step - loss: 0.0904 - accuracy: 1.0000\n",
      "Epoch 3/5\n",
      "30/30 [==============================] - 0s 8ms/step - loss: 0.0890 - accuracy: 1.0000\n",
      "Epoch 4/5\n",
      "30/30 [==============================] - 0s 7ms/step - loss: 0.0891 - accuracy: 1.0000\n",
      "Epoch 5/5\n",
      "30/30 [==============================] - 0s 8ms/step - loss: 0.0871 - accuracy: 1.0000\n",
      "10/10 [==============================] - 0s 2ms/step - loss: 0.5398 - accuracy: 0.7812\n",
      "Epoch 1/5\n",
      "30/30 [==============================] - 0s 7ms/step - loss: 0.0863 - accuracy: 1.0000\n",
      "Epoch 2/5\n",
      "30/30 [==============================] - 0s 7ms/step - loss: 0.0851 - accuracy: 1.0000\n",
      "Epoch 3/5\n",
      "30/30 [==============================] - 0s 7ms/step - loss: 0.0839 - accuracy: 1.0000\n",
      "Epoch 4/5\n",
      "30/30 [==============================] - 0s 7ms/step - loss: 0.0832 - accuracy: 1.0000\n",
      "Epoch 5/5\n",
      "30/30 [==============================] - 0s 7ms/step - loss: 0.0825 - accuracy: 1.0000\n",
      "10/10 [==============================] - 0s 2ms/step - loss: 0.5253 - accuracy: 0.7750\n",
      "Avg. cross-val accuracy: 0.6577341437339783\n"
     ]
    }
   ],
   "source": [
    "from sklearn.model_selection import KFold\n",
    "import numpy as np\n",
    "\n",
    "k = 5\n",
    "kf = KFold(n_splits=k)\n",
    "scores = []\n",
    "\n",
    "for train_index, test_index in kf.split(sentences):\n",
    "#     X_train, X_test = X[train_index], X[test_index]\n",
    "#     y_train, y_test = y[train_index], y[test_index]\n",
    "    \n",
    "    model.fit(x_train, y_train, epochs=5)\n",
    "    scores.append(model.evaluate(x_val, y_val))\n",
    "\n",
    "print(\"Avg. cross-val accuracy:\", np.mean(scores))\n",
    "\n"
   ]
  },
  {
   "cell_type": "code",
   "execution_count": null,
   "id": "0628b8b1",
   "metadata": {},
   "outputs": [],
   "source": []
  },
  {
   "cell_type": "code",
   "execution_count": null,
   "id": "73891a9f",
   "metadata": {},
   "outputs": [],
   "source": []
  },
  {
   "cell_type": "code",
   "execution_count": null,
   "id": "20267a45",
   "metadata": {},
   "outputs": [],
   "source": []
  },
  {
   "cell_type": "code",
   "execution_count": null,
   "id": "cb6de3a2",
   "metadata": {},
   "outputs": [],
   "source": []
  },
  {
   "cell_type": "code",
   "execution_count": 302,
   "id": "945a6dea",
   "metadata": {},
   "outputs": [
    {
     "data": {
      "text/html": [
       "<div>\n",
       "<style scoped>\n",
       "    .dataframe tbody tr th:only-of-type {\n",
       "        vertical-align: middle;\n",
       "    }\n",
       "\n",
       "    .dataframe tbody tr th {\n",
       "        vertical-align: top;\n",
       "    }\n",
       "\n",
       "    .dataframe thead th {\n",
       "        text-align: right;\n",
       "    }\n",
       "</style>\n",
       "<table border=\"1\" class=\"dataframe\">\n",
       "  <thead>\n",
       "    <tr style=\"text-align: right;\">\n",
       "      <th></th>\n",
       "      <th>Val</th>\n",
       "      <th>Pred</th>\n",
       "      <th>True_label</th>\n",
       "      <th>result</th>\n",
       "    </tr>\n",
       "  </thead>\n",
       "  <tbody>\n",
       "    <tr>\n",
       "      <th>0</th>\n",
       "      <td>overall  the hotel is beautiful  the service w...</td>\n",
       "      <td>truthful</td>\n",
       "      <td>deceptive</td>\n",
       "      <td>0</td>\n",
       "    </tr>\n",
       "    <tr>\n",
       "      <th>182</th>\n",
       "      <td>i had a great time here  it is centerally loca...</td>\n",
       "      <td>deceptive</td>\n",
       "      <td>truthful</td>\n",
       "      <td>0</td>\n",
       "    </tr>\n",
       "    <tr>\n",
       "      <th>179</th>\n",
       "      <td>i was not at all impressed with my stay at the...</td>\n",
       "      <td>truthful</td>\n",
       "      <td>deceptive</td>\n",
       "      <td>0</td>\n",
       "    </tr>\n",
       "    <tr>\n",
       "      <th>173</th>\n",
       "      <td>my stay at the homewood suites in downtown chi...</td>\n",
       "      <td>truthful</td>\n",
       "      <td>deceptive</td>\n",
       "      <td>0</td>\n",
       "    </tr>\n",
       "    <tr>\n",
       "      <th>170</th>\n",
       "      <td>it is always interesting going to a high quali...</td>\n",
       "      <td>deceptive</td>\n",
       "      <td>truthful</td>\n",
       "      <td>0</td>\n",
       "    </tr>\n",
       "    <tr>\n",
       "      <th>...</th>\n",
       "      <td>...</td>\n",
       "      <td>...</td>\n",
       "      <td>...</td>\n",
       "      <td>...</td>\n",
       "    </tr>\n",
       "    <tr>\n",
       "      <th>155</th>\n",
       "      <td>this is a stylish hotel located right on north...</td>\n",
       "      <td>truthful</td>\n",
       "      <td>truthful</td>\n",
       "      <td>1</td>\n",
       "    </tr>\n",
       "    <tr>\n",
       "      <th>156</th>\n",
       "      <td>complete disappointment  problems    the alarm...</td>\n",
       "      <td>truthful</td>\n",
       "      <td>truthful</td>\n",
       "      <td>1</td>\n",
       "    </tr>\n",
       "    <tr>\n",
       "      <th>43</th>\n",
       "      <td>the omni chicago hotel offers all the great am...</td>\n",
       "      <td>deceptive</td>\n",
       "      <td>deceptive</td>\n",
       "      <td>1</td>\n",
       "    </tr>\n",
       "    <tr>\n",
       "      <th>143</th>\n",
       "      <td>very disappointed in our stay in chicago monoc...</td>\n",
       "      <td>truthful</td>\n",
       "      <td>truthful</td>\n",
       "      <td>1</td>\n",
       "    </tr>\n",
       "    <tr>\n",
       "      <th>191</th>\n",
       "      <td>my husband and i wanted to spend the weekend i...</td>\n",
       "      <td>truthful</td>\n",
       "      <td>truthful</td>\n",
       "      <td>1</td>\n",
       "    </tr>\n",
       "  </tbody>\n",
       "</table>\n",
       "<p>320 rows × 4 columns</p>\n",
       "</div>"
      ],
      "text/plain": [
       "                                                   Val       Pred True_label  \\\n",
       "0    overall  the hotel is beautiful  the service w...   truthful  deceptive   \n",
       "182  i had a great time here  it is centerally loca...  deceptive   truthful   \n",
       "179  i was not at all impressed with my stay at the...   truthful  deceptive   \n",
       "173  my stay at the homewood suites in downtown chi...   truthful  deceptive   \n",
       "170  it is always interesting going to a high quali...  deceptive   truthful   \n",
       "..                                                 ...        ...        ...   \n",
       "155  this is a stylish hotel located right on north...   truthful   truthful   \n",
       "156  complete disappointment  problems    the alarm...   truthful   truthful   \n",
       "43   the omni chicago hotel offers all the great am...  deceptive  deceptive   \n",
       "143  very disappointed in our stay in chicago monoc...   truthful   truthful   \n",
       "191  my husband and i wanted to spend the weekend i...   truthful   truthful   \n",
       "\n",
       "     result  \n",
       "0         0  \n",
       "182       0  \n",
       "179       0  \n",
       "173       0  \n",
       "170       0  \n",
       "..      ...  \n",
       "155       1  \n",
       "156       1  \n",
       "43        1  \n",
       "143       1  \n",
       "191       1  \n",
       "\n",
       "[320 rows x 4 columns]"
      ]
     },
     "execution_count": 302,
     "metadata": {},
     "output_type": "execute_result"
    }
   ],
   "source": [
    "predict_test = pd.DataFrame({'Val':sentences_val, 'Pred':y_pred_label, 'True_label':y_val_label}, columns=['Val','Pred','True_label'])\n",
    "predict_test['result'] = np.where(predict_test['Pred']==predict_test['True_label'], 1, 0)\n",
    "# results.sort_values(by='result').head(20)\n",
    "\n",
    "\n",
    "predict_test.sort_values(by='result')"
   ]
  },
  {
   "cell_type": "code",
   "execution_count": 303,
   "id": "ecd04045",
   "metadata": {},
   "outputs": [
    {
     "name": "stdout",
     "output_type": "stream",
     "text": [
      "The wrong guess is :  72\n",
      "The right guess is:  248\n"
     ]
    }
   ],
   "source": [
    "wrong = 0\n",
    "right = 0\n",
    "for i in predict_test['result']:\n",
    "    \n",
    "    if i == 0:\n",
    "        wrong+=1\n",
    "    else:\n",
    "        right+=1\n",
    "\n",
    "print(\"The wrong guess is : \", wrong)\n",
    "print(\"The right guess is: \", right)"
   ]
  },
  {
   "cell_type": "code",
   "execution_count": 304,
   "id": "5a677605",
   "metadata": {},
   "outputs": [],
   "source": [
    "def num_decep_truth(pred):\n",
    "    num_deceptive = 0\n",
    "    num_truthful = 0\n",
    "\n",
    "    for i in pred:\n",
    "        if i == 'deceptive':\n",
    "            num_deceptive+=1\n",
    "        elif i == 'truthful':\n",
    "            num_truthful+=1\n",
    "    return {\"num_deceptive\":num_deceptive,\"num_truthful\":num_truthful}"
   ]
  },
  {
   "cell_type": "code",
   "execution_count": 305,
   "id": "dd80d11f",
   "metadata": {},
   "outputs": [
    {
     "data": {
      "text/plain": [
       "{'num_deceptive': 174, 'num_truthful': 146}"
      ]
     },
     "execution_count": 305,
     "metadata": {},
     "output_type": "execute_result"
    }
   ],
   "source": [
    "num_decep_truth(y_pred_label)"
   ]
  },
  {
   "cell_type": "code",
   "execution_count": 306,
   "id": "64352c9a",
   "metadata": {},
   "outputs": [
    {
     "data": {
      "text/plain": [
       "{'num_deceptive': 172, 'num_truthful': 148}"
      ]
     },
     "execution_count": 306,
     "metadata": {},
     "output_type": "execute_result"
    }
   ],
   "source": [
    "num_decep_truth(y_val_label)"
   ]
  },
  {
   "cell_type": "markdown",
   "id": "757b87cd",
   "metadata": {},
   "source": [
    "# Test the created model on test data and see it performance \n"
   ]
  },
  {
   "cell_type": "code",
   "execution_count": 307,
   "id": "e3219962",
   "metadata": {},
   "outputs": [
    {
     "name": "stdout",
     "output_type": "stream",
     "text": [
      "0.553125\n"
     ]
    }
   ],
   "source": [
    "from sklearn.metrics import accuracy_score\n",
    "\n",
    "print(accuracy_score(y_test,y_pred))"
   ]
  },
  {
   "cell_type": "code",
   "execution_count": 308,
   "id": "518a6a43",
   "metadata": {},
   "outputs": [
    {
     "name": "stdout",
     "output_type": "stream",
     "text": [
      "Epoch 1/5\n",
      "30/30 [==============================] - 0s 7ms/step - loss: 0.0818 - accuracy: 1.0000\n",
      "Epoch 2/5\n",
      "30/30 [==============================] - 0s 7ms/step - loss: 0.0808 - accuracy: 1.0000\n",
      "Epoch 3/5\n",
      "30/30 [==============================] - 0s 7ms/step - loss: 0.0800 - accuracy: 1.0000\n",
      "Epoch 4/5\n",
      "30/30 [==============================] - 0s 8ms/step - loss: 0.0797 - accuracy: 1.0000\n",
      "Epoch 5/5\n",
      "30/30 [==============================] - 0s 7ms/step - loss: 0.0788 - accuracy: 1.0000\n",
      "10/10 [==============================] - 0s 2ms/step - loss: 0.5038 - accuracy: 0.7969\n",
      "Epoch 1/5\n",
      "30/30 [==============================] - 0s 7ms/step - loss: 0.0779 - accuracy: 1.0000\n",
      "Epoch 2/5\n",
      "30/30 [==============================] - 0s 7ms/step - loss: 0.0773 - accuracy: 1.0000\n",
      "Epoch 3/5\n",
      "30/30 [==============================] - 0s 7ms/step - loss: 0.0772 - accuracy: 1.0000\n",
      "Epoch 4/5\n",
      "30/30 [==============================] - 0s 7ms/step - loss: 0.0764 - accuracy: 1.0000\n",
      "Epoch 5/5\n",
      "30/30 [==============================] - 0s 7ms/step - loss: 0.0753 - accuracy: 1.0000\n",
      "10/10 [==============================] - 0s 2ms/step - loss: 0.4960 - accuracy: 0.8062\n",
      "Epoch 1/5\n",
      "30/30 [==============================] - 0s 7ms/step - loss: 0.0747 - accuracy: 1.0000\n",
      "Epoch 2/5\n",
      "30/30 [==============================] - 0s 7ms/step - loss: 0.0741 - accuracy: 1.0000\n",
      "Epoch 3/5\n",
      "30/30 [==============================] - 0s 7ms/step - loss: 0.0744 - accuracy: 1.0000\n",
      "Epoch 4/5\n",
      "30/30 [==============================] - 0s 7ms/step - loss: 0.0734 - accuracy: 1.0000\n",
      "Epoch 5/5\n",
      "30/30 [==============================] - 0s 7ms/step - loss: 0.0721 - accuracy: 1.0000\n",
      "10/10 [==============================] - 0s 2ms/step - loss: 0.5097 - accuracy: 0.7937\n",
      "Epoch 1/5\n",
      "30/30 [==============================] - 0s 7ms/step - loss: 0.0714 - accuracy: 1.0000\n",
      "Epoch 2/5\n",
      "30/30 [==============================] - 0s 7ms/step - loss: 0.0716 - accuracy: 1.0000\n",
      "Epoch 3/5\n",
      "30/30 [==============================] - 0s 7ms/step - loss: 0.0702 - accuracy: 1.0000\n",
      "Epoch 4/5\n",
      "30/30 [==============================] - 0s 7ms/step - loss: 0.0700 - accuracy: 1.0000\n",
      "Epoch 5/5\n",
      "30/30 [==============================] - 0s 7ms/step - loss: 0.0697 - accuracy: 1.0000\n",
      "10/10 [==============================] - 0s 2ms/step - loss: 0.5056 - accuracy: 0.7906\n",
      "Epoch 1/5\n",
      "30/30 [==============================] - 0s 7ms/step - loss: 0.0687 - accuracy: 1.0000\n",
      "Epoch 2/5\n",
      "30/30 [==============================] - 0s 8ms/step - loss: 0.0685 - accuracy: 1.0000\n",
      "Epoch 3/5\n",
      "30/30 [==============================] - 0s 7ms/step - loss: 0.0679 - accuracy: 1.0000\n",
      "Epoch 4/5\n",
      "30/30 [==============================] - 0s 7ms/step - loss: 0.0679 - accuracy: 1.0000\n",
      "Epoch 5/5\n",
      "30/30 [==============================] - 0s 7ms/step - loss: 0.0672 - accuracy: 1.0000\n",
      "10/10 [==============================] - 0s 2ms/step - loss: 0.4962 - accuracy: 0.8094\n",
      "Avg. cross-val accuracy: 0.6508170008659363\n"
     ]
    }
   ],
   "source": [
    "from sklearn.model_selection import KFold\n",
    "import numpy as np\n",
    "\n",
    "k = 5\n",
    "kf = KFold(n_splits=k)\n",
    "scores = []\n",
    "\n",
    "for train_index, test_index in kf.split(sentences):\n",
    "#     X_train, X_test = X[train_index], X[test_index]\n",
    "#     y_train, y_test = y[train_index], y[test_index]\n",
    "    \n",
    "    model.fit(x_train, y_train, epochs=5)\n",
    "    scores.append(model.evaluate(x_test, y_test))\n",
    "\n",
    "print(\"Avg. cross-val accuracy:\", np.mean(scores))\n"
   ]
  },
  {
   "cell_type": "code",
   "execution_count": 309,
   "id": "8e3ddc7a",
   "metadata": {},
   "outputs": [
    {
     "name": "stdout",
     "output_type": "stream",
     "text": [
      "              precision    recall  f1-score   support\n",
      "\n",
      "           0       0.54      0.60      0.57       157\n",
      "           1       0.57      0.51      0.54       163\n",
      "\n",
      "    accuracy                           0.55       320\n",
      "   macro avg       0.55      0.55      0.55       320\n",
      "weighted avg       0.55      0.55      0.55       320\n",
      "\n"
     ]
    }
   ],
   "source": [
    "from sklearn.metrics import classification_report\n",
    "\n",
    "print (classification_report(y_test, y_pred))\n"
   ]
  },
  {
   "cell_type": "code",
   "execution_count": 310,
   "id": "8abfac03",
   "metadata": {},
   "outputs": [],
   "source": [
    "y_test_label = []\n",
    "for i in y_test:\n",
    "    if i == 1:\n",
    "        y_test_label.append(\"truthful\")\n",
    "    else:\n",
    "        y_test_label.append(\"deceptive\")\n",
    "\n",
    "\n",
    "# y_test_label"
   ]
  },
  {
   "cell_type": "code",
   "execution_count": 311,
   "id": "918d1a36",
   "metadata": {},
   "outputs": [
    {
     "data": {
      "text/html": [
       "<div>\n",
       "<style scoped>\n",
       "    .dataframe tbody tr th:only-of-type {\n",
       "        vertical-align: middle;\n",
       "    }\n",
       "\n",
       "    .dataframe tbody tr th {\n",
       "        vertical-align: top;\n",
       "    }\n",
       "\n",
       "    .dataframe thead th {\n",
       "        text-align: right;\n",
       "    }\n",
       "</style>\n",
       "<table border=\"1\" class=\"dataframe\">\n",
       "  <thead>\n",
       "    <tr style=\"text-align: right;\">\n",
       "      <th></th>\n",
       "      <th>Test</th>\n",
       "      <th>Pred</th>\n",
       "      <th>True_label</th>\n",
       "      <th>result</th>\n",
       "    </tr>\n",
       "  </thead>\n",
       "  <tbody>\n",
       "    <tr>\n",
       "      <th>159</th>\n",
       "      <td>recently  i traveled to chicago for a business...</td>\n",
       "      <td>truthful</td>\n",
       "      <td>deceptive</td>\n",
       "      <td>0</td>\n",
       "    </tr>\n",
       "    <tr>\n",
       "      <th>256</th>\n",
       "      <td>my husband and i visited the fairmont chicago ...</td>\n",
       "      <td>truthful</td>\n",
       "      <td>deceptive</td>\n",
       "      <td>0</td>\n",
       "    </tr>\n",
       "    <tr>\n",
       "      <th>255</th>\n",
       "      <td>first room s heating system sounded like we ha...</td>\n",
       "      <td>deceptive</td>\n",
       "      <td>truthful</td>\n",
       "      <td>0</td>\n",
       "    </tr>\n",
       "    <tr>\n",
       "      <th>118</th>\n",
       "      <td>the intercontinental chicago magnificent mile ...</td>\n",
       "      <td>truthful</td>\n",
       "      <td>deceptive</td>\n",
       "      <td>0</td>\n",
       "    </tr>\n",
       "    <tr>\n",
       "      <th>254</th>\n",
       "      <td>last month  my husband and i stayed at the int...</td>\n",
       "      <td>truthful</td>\n",
       "      <td>deceptive</td>\n",
       "      <td>0</td>\n",
       "    </tr>\n",
       "    <tr>\n",
       "      <th>...</th>\n",
       "      <td>...</td>\n",
       "      <td>...</td>\n",
       "      <td>...</td>\n",
       "      <td>...</td>\n",
       "    </tr>\n",
       "    <tr>\n",
       "      <th>145</th>\n",
       "      <td>was one of the worst travel experiences of qui...</td>\n",
       "      <td>truthful</td>\n",
       "      <td>truthful</td>\n",
       "      <td>1</td>\n",
       "    </tr>\n",
       "    <tr>\n",
       "      <th>148</th>\n",
       "      <td>my significant other and i recently spent  nig...</td>\n",
       "      <td>truthful</td>\n",
       "      <td>truthful</td>\n",
       "      <td>1</td>\n",
       "    </tr>\n",
       "    <tr>\n",
       "      <th>149</th>\n",
       "      <td>hotel monaco is in a really great location  on...</td>\n",
       "      <td>truthful</td>\n",
       "      <td>truthful</td>\n",
       "      <td>1</td>\n",
       "    </tr>\n",
       "    <tr>\n",
       "      <th>151</th>\n",
       "      <td>my husband and i stayed at the hyatt regency w...</td>\n",
       "      <td>deceptive</td>\n",
       "      <td>deceptive</td>\n",
       "      <td>1</td>\n",
       "    </tr>\n",
       "    <tr>\n",
       "      <th>319</th>\n",
       "      <td>after reading all the lukewarm reviews for thi...</td>\n",
       "      <td>truthful</td>\n",
       "      <td>truthful</td>\n",
       "      <td>1</td>\n",
       "    </tr>\n",
       "  </tbody>\n",
       "</table>\n",
       "<p>320 rows × 4 columns</p>\n",
       "</div>"
      ],
      "text/plain": [
       "                                                  Test       Pred True_label  \\\n",
       "159  recently  i traveled to chicago for a business...   truthful  deceptive   \n",
       "256  my husband and i visited the fairmont chicago ...   truthful  deceptive   \n",
       "255  first room s heating system sounded like we ha...  deceptive   truthful   \n",
       "118  the intercontinental chicago magnificent mile ...   truthful  deceptive   \n",
       "254  last month  my husband and i stayed at the int...   truthful  deceptive   \n",
       "..                                                 ...        ...        ...   \n",
       "145  was one of the worst travel experiences of qui...   truthful   truthful   \n",
       "148  my significant other and i recently spent  nig...   truthful   truthful   \n",
       "149  hotel monaco is in a really great location  on...   truthful   truthful   \n",
       "151  my husband and i stayed at the hyatt regency w...  deceptive  deceptive   \n",
       "319  after reading all the lukewarm reviews for thi...   truthful   truthful   \n",
       "\n",
       "     result  \n",
       "159       0  \n",
       "256       0  \n",
       "255       0  \n",
       "118       0  \n",
       "254       0  \n",
       "..      ...  \n",
       "145       1  \n",
       "148       1  \n",
       "149       1  \n",
       "151       1  \n",
       "319       1  \n",
       "\n",
       "[320 rows x 4 columns]"
      ]
     },
     "execution_count": 311,
     "metadata": {},
     "output_type": "execute_result"
    }
   ],
   "source": [
    "predict_test = pd.DataFrame({'Test':sentences_test, 'Pred':y_pred_label, 'True_label':y_test_label}, columns=['Test','Pred','True_label'])\n",
    "predict_test['result'] = np.where(predict_test['Pred']==predict_test['True_label'], 1, 0)\n",
    "# results.sort_values(by='result').head(20)\n",
    "\n",
    "\n",
    "predict_test.sort_values(by='result')"
   ]
  },
  {
   "cell_type": "code",
   "execution_count": 312,
   "id": "9e5e53ae",
   "metadata": {},
   "outputs": [
    {
     "name": "stdout",
     "output_type": "stream",
     "text": [
      "The wrong guess is :  143\n",
      "The right guess is:  177\n"
     ]
    }
   ],
   "source": [
    "wrong = 0\n",
    "right = 0\n",
    "for i in predict_test['result']:\n",
    "    \n",
    "    if i == 0:\n",
    "        wrong+=1\n",
    "    else:\n",
    "        right+=1\n",
    "\n",
    "print(\"The wrong guess is : \", wrong)\n",
    "print(\"The right guess is: \", right)\n",
    "    \n",
    "\n",
    "\n",
    "        "
   ]
  },
  {
   "cell_type": "code",
   "execution_count": 313,
   "id": "5c527737",
   "metadata": {},
   "outputs": [],
   "source": [
    "def num_decep_truth(pred):\n",
    "    num_deceptive = 0\n",
    "    num_truthful = 0\n",
    "\n",
    "    for i in pred:\n",
    "        if i == 'deceptive':\n",
    "            num_deceptive+=1\n",
    "        elif i == 'truthful':\n",
    "            num_truthful+=1\n",
    "    return {\"num_deceptive\":num_deceptive,\"num_truthful\":num_truthful}"
   ]
  },
  {
   "cell_type": "code",
   "execution_count": 314,
   "id": "69a311e0",
   "metadata": {},
   "outputs": [
    {
     "data": {
      "text/plain": [
       "{'num_deceptive': 174, 'num_truthful': 146}"
      ]
     },
     "execution_count": 314,
     "metadata": {},
     "output_type": "execute_result"
    }
   ],
   "source": [
    "num_decep_truth(y_pred_label)"
   ]
  },
  {
   "cell_type": "code",
   "execution_count": 315,
   "id": "c6f77afc",
   "metadata": {},
   "outputs": [
    {
     "data": {
      "text/plain": [
       "{'num_deceptive': 157, 'num_truthful': 163}"
      ]
     },
     "execution_count": 315,
     "metadata": {},
     "output_type": "execute_result"
    }
   ],
   "source": [
    "num_decep_truth(y_test_label)"
   ]
  },
  {
   "cell_type": "code",
   "execution_count": 316,
   "id": "33def533",
   "metadata": {},
   "outputs": [
    {
     "name": "stdout",
     "output_type": "stream",
     "text": [
      "Keras model archive loading:\n",
      "File Name                                             Modified             Size\n",
      "config.json                                    2023-04-06 13:05:02         4041\n",
      "metadata.json                                  2023-04-06 13:05:02           64\n",
      "variables.h5                                   2023-04-06 13:05:02     33560544\n",
      "Keras weights file (<HDF5 file \"variables.h5\" (mode r)>) loading:\n",
      "...layers\n",
      "......bidirectional\n",
      ".........backward_layer\n",
      "............cell\n",
      "...............vars\n",
      "..................0\n",
      "..................1\n",
      "..................2\n",
      "............vars\n",
      ".........forward_layer\n",
      "............cell\n",
      "...............vars\n",
      "..................0\n",
      "..................1\n",
      "..................2\n",
      "............vars\n",
      ".........layer\n",
      "............cell\n",
      "...............vars\n",
      "............vars\n",
      ".........vars\n",
      "......conv1d\n",
      ".........vars\n",
      "............0\n",
      "............1\n",
      "......dense\n",
      ".........vars\n",
      "............0\n",
      "............1\n",
      "......dropout\n",
      ".........vars\n",
      "......embedding\n",
      ".........vars\n",
      "............0\n",
      "......input_layer\n",
      ".........vars\n",
      "......max_pooling1d\n",
      ".........vars\n",
      "...metrics\n",
      "......mean\n",
      ".........vars\n",
      "............0\n",
      "............1\n",
      "......mean_metric_wrapper\n",
      ".........vars\n",
      "............0\n",
      "............1\n",
      "...optimizer\n",
      "......vars\n",
      ".........0\n",
      ".........1\n",
      ".........10\n",
      ".........11\n",
      ".........12\n",
      ".........13\n",
      ".........14\n",
      ".........15\n",
      ".........16\n",
      ".........17\n",
      ".........18\n",
      ".........19\n",
      ".........2\n",
      ".........20\n",
      ".........21\n",
      ".........22\n",
      ".........3\n",
      ".........4\n",
      ".........5\n",
      ".........6\n",
      ".........7\n",
      ".........8\n",
      ".........9\n",
      "...vars\n",
      "1/1 [==============================] - 0s 309ms/step\n",
      "[[0.0058788]]\n",
      "0.0\n",
      "deceptive\n"
     ]
    }
   ],
   "source": [
    "import pickle\n",
    "pkl = open('model2.pkl', 'rb');\n",
    "clf = pickle.load(pkl);\n",
    "\n",
    "new_text = \"During my holiday at Bali, I stayed at Hilton hotel. We arrived there at 12am. There was no staff. No one is coming to help us. We have to carry our luggae to the room. There was monkey everywhere. My girlfriend is afraid of monkey and she's not coming to the room. She has a terrible experience. So am I. If only we can get rid of the monkey and the staff is helpful, that would be nice. Why? because the place itself is big and the room is comfortable. The environment is good except the monkey. The service is kind of not so good.\"\n",
    "new_sequence = tokenizer.texts_to_sequences([new_text])\n",
    "# print(new_sequence)\n",
    "new_data = pad_sequences(new_sequence, maxlen=maxlen)\n",
    "# print(new_data)\n",
    "prediction = clf.predict(new_data)\n",
    "print(prediction)\n",
    "prediction_label = np.round(prediction[0][0])\n",
    "print(prediction_label)\n",
    "print(\"truthful\" if prediction_label==1 else \"deceptive\")\n",
    "\n"
   ]
  },
  {
   "cell_type": "code",
   "execution_count": 317,
   "id": "c07e9c65",
   "metadata": {},
   "outputs": [
    {
     "name": "stdout",
     "output_type": "stream",
     "text": [
      "1/1 [==============================] - 0s 20ms/step\n",
      "[[0.9841811]]\n",
      "0.9841811\n",
      "truthful\n"
     ]
    }
   ],
   "source": [
    "new_text = \"We planned to stay for 5 nights on a family trip. I booked this hotel because of the expected value for a suite as well as the free breakfast - get a quick bite, then head out for the day to do normal tourist stuff. Well, our stay here lasted 1 night and we quickly, and thankfully, switched to a different hotel for our last 4 nights. The room was dirty. When we opened the sofabed, the sheets were filthy and there was a mess of dirt and crumbs that fell out. Ridiculous considering this is a suite hotel where the sofabeds are likely used, and theoretically cleaned, a lot. Extra blankets were also dirty and bathrooms weren't much better. Temperature control in the room was imprecise - minor inconvenience but without clean blankets on our only night, it made for a cold stay. If you like to eat for free (they have free breakfasts and dinner on certain nights) and don't care to eat the great food Chicago has to offer, I guess some may find this place tolerable. But we found the buffet no better than average and felt like we were at a Golden Corral. The only thing this hotel really has going for it is location but there are other options in this area (we switched to The James and had a great experience). I couldn't be paid to stay here again. I'm shocked by the high overall rating given our experience.\"\n",
    "new_sequence = tokenizer.texts_to_sequences([new_text])\n",
    "# print(new_sequence)\n",
    "new_data = pad_sequences(new_sequence, maxlen=maxlen)\n",
    "# print(new_data)\n",
    "prediction = clf.predict(new_data)\n",
    "print(prediction)\n",
    "print(prediction[0][0])\n",
    "prediction_label = np.round(prediction[0][0])\n",
    "print(\"truthful\" if prediction_label==1 else \"deceptive\")"
   ]
  },
  {
   "cell_type": "markdown",
   "id": "0c1aacbb",
   "metadata": {},
   "source": [
    "# Testing using Expedia Dataset"
   ]
  },
  {
   "cell_type": "code",
   "execution_count": 318,
   "id": "ef784a67",
   "metadata": {},
   "outputs": [
    {
     "name": "stdout",
     "output_type": "stream",
     "text": [
      "1/1 [==============================] - 0s 19ms/step\n",
      "[[0.9977673]]\n",
      "0.9977673\n",
      "truthful\n"
     ]
    }
   ],
   "source": [
    "new_text = \"I booked flights through expedia.co.uk I had to cancel due to a medical emergency. One airline (outbound) refunded tax directly. The other airline (return) said I was eligible for a tax refund, but that I had to go through expedia as the agent. Expedia claims that the tax is non-refundable, as the flights are non-refundable. Airlines do not pay tax for seats that have not been used. So who is profiting from the un-used tax? My guess is Expedia since the airline was happy to refund.\"\n",
    "new_sequence = tokenizer.texts_to_sequences([new_text])\n",
    "# print(new_sequence)\n",
    "new_data = pad_sequences(new_sequence, maxlen=maxlen)\n",
    "# print(new_data)\n",
    "prediction = clf.predict(new_data)\n",
    "print(prediction)\n",
    "print(prediction[0][0])\n",
    "prediction_label = np.round(prediction[0][0])\n",
    "print(\"truthful\" if prediction_label==1 else \"deceptive\")"
   ]
  },
  {
   "cell_type": "code",
   "execution_count": 319,
   "id": "8e2e0ab3",
   "metadata": {},
   "outputs": [
    {
     "name": "stdout",
     "output_type": "stream",
     "text": [
      "1/1 [==============================] - 0s 20ms/step\n",
      "[[0.9974558]]\n",
      "0.9974558\n",
      "truthful\n"
     ]
    }
   ],
   "source": [
    "new_text = \"I booked a hotel stay with 15 days parking package and upon checking in at LGW hotel was told that they had no record of the number of days free parking. Expedia didn’t help at all, and even though my confirmation stated ‘free parking’ it didn’t say ‘15 days free parking’ and so Expedia say that my parking is all due to be paid myself for 15 days, despite me booking the specific package for £172. I won’t be using these muppets ever again, I’ve had to fork out parking to the hotel also. Not a happy Chappy. Avoid Expedia park and stay packages like the plague !!\"\n",
    "new_sequence = tokenizer.texts_to_sequences([new_text])\n",
    "# print(new_sequence)\n",
    "new_data = pad_sequences(new_sequence, maxlen=maxlen)\n",
    "# print(new_data)\n",
    "prediction = clf.predict(new_data)\n",
    "print(prediction)\n",
    "print(prediction[0][0])\n",
    "prediction_label = np.round(prediction[0][0])\n",
    "print(\"truthful\" if prediction_label==1 else \"deceptive\")"
   ]
  },
  {
   "cell_type": "markdown",
   "id": "79595059",
   "metadata": {},
   "source": [
    "# Test on unseen dataset from different distribution"
   ]
  },
  {
   "cell_type": "code",
   "execution_count": 320,
   "id": "e6fb96f9",
   "metadata": {},
   "outputs": [
    {
     "name": "stdout",
     "output_type": "stream",
     "text": [
      "1/1 [==============================] - 0s 21ms/step\n",
      "[[0.01833783]]\n",
      "0.018337835\n",
      "deceptive\n"
     ]
    }
   ],
   "source": [
    "new_text = \"Love this!  Well made, sturdy, and very comfortable.  I love it!Very pretty\"\n",
    "\n",
    "new_sequence = tokenizer.texts_to_sequences([new_text])\n",
    "# print(new_sequence)\n",
    "new_data = pad_sequences(new_sequence, maxlen=maxlen)\n",
    "# print(new_data)\n",
    "prediction = clf.predict(new_data)\n",
    "print(prediction)\n",
    "print(prediction[0][0])\n",
    "prediction_label = np.round(prediction[0][0])\n",
    "print(\"truthful\" if prediction_label==1 else \"deceptive\")\n",
    "# right"
   ]
  },
  {
   "cell_type": "code",
   "execution_count": 321,
   "id": "ff8af18a",
   "metadata": {},
   "outputs": [
    {
     "name": "stdout",
     "output_type": "stream",
     "text": [
      "1/1 [==============================] - 0s 19ms/step\n",
      "[[0.01816325]]\n",
      "0.018163249\n",
      "deceptive\n"
     ]
    }
   ],
   "source": [
    "new_text = \"What can you say--- cheap and it works as intended.\"\n",
    "\n",
    "new_sequence = tokenizer.texts_to_sequences([new_text])\n",
    "# print(new_sequence)\n",
    "new_data = pad_sequences(new_sequence, maxlen=maxlen)\n",
    "# print(new_data)\n",
    "prediction = clf.predict(new_data)\n",
    "print(prediction)\n",
    "print(prediction[0][0])\n",
    "prediction_label = np.round(prediction[0][0])\n",
    "print(\"truthful\" if prediction_label==1 else \"deceptive\")\n",
    "# wrong"
   ]
  },
  {
   "cell_type": "code",
   "execution_count": 322,
   "id": "749f2166",
   "metadata": {},
   "outputs": [
    {
     "name": "stdout",
     "output_type": "stream",
     "text": [
      "1/1 [==============================] - 0s 19ms/step\n",
      "[[0.01676639]]\n",
      "0.016766394\n",
      "deceptive\n"
     ]
    }
   ],
   "source": [
    "new_text = \"Really ruff under your feet, it feels very sturdy. I will keep my feet in the chair\"\n",
    "\n",
    "new_sequence = tokenizer.texts_to_sequences([new_text])\n",
    "# print(new_sequence)\n",
    "new_data = pad_sequences(new_sequence, maxlen=maxlen)\n",
    "# print(new_data)\n",
    "prediction = clf.predict(new_data)\n",
    "print(prediction)\n",
    "print(prediction[0][0])\n",
    "prediction_label = np.round(prediction[0][0])\n",
    "print(\"truthful\" if prediction_label==1 else \"deceptive\")\n",
    "# wrong"
   ]
  },
  {
   "cell_type": "code",
   "execution_count": 323,
   "id": "b00b410a",
   "metadata": {},
   "outputs": [
    {
     "name": "stdout",
     "output_type": "stream",
     "text": [
      "1/1 [==============================] - 0s 19ms/step\n",
      "[[0.01336809]]\n",
      "0.013368085\n",
      "deceptive\n"
     ]
    }
   ],
   "source": [
    "new_text = \"Order to place special photos on the wall.  We've had it for a couple of weeks and\"\n",
    "\n",
    "new_sequence = tokenizer.texts_to_sequences([new_text])\n",
    "# print(new_sequence)\n",
    "new_data = pad_sequences(new_sequence, maxlen=maxlen)\n",
    "# print(new_data)\n",
    "prediction = clf.predict(new_data)\n",
    "print(prediction)\n",
    "print(prediction[0][0])\n",
    "prediction_label = np.round(prediction[0][0])\n",
    "print(\"truthful\" if prediction_label==1 else \"deceptive\")\n",
    "# right"
   ]
  },
  {
   "cell_type": "code",
   "execution_count": 324,
   "id": "05b498b1",
   "metadata": {},
   "outputs": [
    {
     "name": "stdout",
     "output_type": "stream",
     "text": [
      "1/1 [==============================] - 0s 21ms/step\n",
      "[[0.01567408]]\n",
      "0.015674084\n",
      "deceptive\n"
     ]
    }
   ],
   "source": [
    "new_text = \"excellent product if you are a side sleeper this is perfect\"\n",
    "\n",
    "new_sequence = tokenizer.texts_to_sequences([new_text])\n",
    "# print(new_sequence)\n",
    "new_data = pad_sequences(new_sequence, maxlen=maxlen)\n",
    "# print(new_data)\n",
    "prediction = clf.predict(new_data)\n",
    "print(prediction)\n",
    "print(prediction[0][0])\n",
    "prediction_label = np.round(prediction[0][0])\n",
    "print(\"truthful\" if prediction_label==1 else \"deceptive\")\n",
    "# wrong"
   ]
  },
  {
   "cell_type": "code",
   "execution_count": 325,
   "id": "199a36af",
   "metadata": {},
   "outputs": [
    {
     "name": "stdout",
     "output_type": "stream",
     "text": [
      "1/1 [==============================] - 0s 21ms/step\n",
      "[[0.00509354]]\n",
      "0.005093537\n",
      "deceptive\n"
     ]
    }
   ],
   "source": [
    "new_text = \"Great product. Arrived on time and matched my shower curtain perfectly.\"\n",
    "\n",
    "new_sequence = tokenizer.texts_to_sequences([new_text])\n",
    "# print(new_sequence)\n",
    "new_data = pad_sequences(new_sequence, maxlen=maxlen)\n",
    "# print(new_data)\n",
    "prediction = clf.predict(new_data)\n",
    "print(prediction)\n",
    "print(prediction[0][0])\n",
    "prediction_label = np.round(prediction[0][0])\n",
    "print(\"truthful\" if prediction_label==1 else \"deceptive\")\n",
    "# wrong"
   ]
  },
  {
   "cell_type": "code",
   "execution_count": 326,
   "id": "d42a4f36",
   "metadata": {},
   "outputs": [
    {
     "name": "stdout",
     "output_type": "stream",
     "text": [
      "1/1 [==============================] - 0s 19ms/step\n",
      "[[0.00608984]]\n",
      "0.006089843\n",
      "deceptive\n"
     ]
    }
   ],
   "source": [
    "new_text = \"Perfection. Beyond easy to use, minimal effort, fast and perfect froth.\"\n",
    "\n",
    "new_sequence = tokenizer.texts_to_sequences([new_text])\n",
    "# print(new_sequence)\n",
    "new_data = pad_sequences(new_sequence, maxlen=maxlen)\n",
    "# print(new_data)\n",
    "prediction = clf.predict(new_data)\n",
    "print(prediction)\n",
    "print(prediction[0][0])\n",
    "prediction_label = np.round(prediction[0][0])\n",
    "print(\"truthful\" if prediction_label==1 else \"deceptive\")\n",
    "# wrong"
   ]
  },
  {
   "cell_type": "code",
   "execution_count": 327,
   "id": "9080e8e2",
   "metadata": {},
   "outputs": [
    {
     "data": {
      "text/html": [
       "<div>\n",
       "<style scoped>\n",
       "    .dataframe tbody tr th:only-of-type {\n",
       "        vertical-align: middle;\n",
       "    }\n",
       "\n",
       "    .dataframe tbody tr th {\n",
       "        vertical-align: top;\n",
       "    }\n",
       "\n",
       "    .dataframe thead th {\n",
       "        text-align: right;\n",
       "    }\n",
       "</style>\n",
       "<table border=\"1\" class=\"dataframe\">\n",
       "  <thead>\n",
       "    <tr style=\"text-align: right;\">\n",
       "      <th></th>\n",
       "      <th>category</th>\n",
       "      <th>rating</th>\n",
       "      <th>label</th>\n",
       "      <th>text_</th>\n",
       "    </tr>\n",
       "  </thead>\n",
       "  <tbody>\n",
       "    <tr>\n",
       "      <th>0</th>\n",
       "      <td>Home_and_Kitchen_5</td>\n",
       "      <td>5</td>\n",
       "      <td>deceptive</td>\n",
       "      <td>Love this!  Well made, sturdy, and very comfor...</td>\n",
       "    </tr>\n",
       "    <tr>\n",
       "      <th>1</th>\n",
       "      <td>Home_and_Kitchen_5</td>\n",
       "      <td>5</td>\n",
       "      <td>deceptive</td>\n",
       "      <td>love it, a great upgrade from the original.  I...</td>\n",
       "    </tr>\n",
       "    <tr>\n",
       "      <th>2</th>\n",
       "      <td>Home_and_Kitchen_5</td>\n",
       "      <td>5</td>\n",
       "      <td>deceptive</td>\n",
       "      <td>This pillow saved my back. I love the look and...</td>\n",
       "    </tr>\n",
       "    <tr>\n",
       "      <th>3</th>\n",
       "      <td>Home_and_Kitchen_5</td>\n",
       "      <td>1</td>\n",
       "      <td>deceptive</td>\n",
       "      <td>Missing information on how to use it, but it i...</td>\n",
       "    </tr>\n",
       "    <tr>\n",
       "      <th>4</th>\n",
       "      <td>Home_and_Kitchen_5</td>\n",
       "      <td>5</td>\n",
       "      <td>deceptive</td>\n",
       "      <td>Very nice set. Good quality. We have had the s...</td>\n",
       "    </tr>\n",
       "    <tr>\n",
       "      <th>...</th>\n",
       "      <td>...</td>\n",
       "      <td>...</td>\n",
       "      <td>...</td>\n",
       "      <td>...</td>\n",
       "    </tr>\n",
       "    <tr>\n",
       "      <th>40427</th>\n",
       "      <td>Clothing_Shoes_and_Jewelry_5</td>\n",
       "      <td>4</td>\n",
       "      <td>truthful</td>\n",
       "      <td>I had read some reviews saying that this bra r...</td>\n",
       "    </tr>\n",
       "    <tr>\n",
       "      <th>40428</th>\n",
       "      <td>Clothing_Shoes_and_Jewelry_5</td>\n",
       "      <td>5</td>\n",
       "      <td>deceptive</td>\n",
       "      <td>I wasn't sure exactly what it would be. It is ...</td>\n",
       "    </tr>\n",
       "    <tr>\n",
       "      <th>40429</th>\n",
       "      <td>Clothing_Shoes_and_Jewelry_5</td>\n",
       "      <td>2</td>\n",
       "      <td>truthful</td>\n",
       "      <td>You can wear the hood by itself, wear it with ...</td>\n",
       "    </tr>\n",
       "    <tr>\n",
       "      <th>40430</th>\n",
       "      <td>Clothing_Shoes_and_Jewelry_5</td>\n",
       "      <td>1</td>\n",
       "      <td>deceptive</td>\n",
       "      <td>I liked nothing about this dress. The only rea...</td>\n",
       "    </tr>\n",
       "    <tr>\n",
       "      <th>40431</th>\n",
       "      <td>Clothing_Shoes_and_Jewelry_5</td>\n",
       "      <td>5</td>\n",
       "      <td>truthful</td>\n",
       "      <td>I work in the wedding industry and have to wor...</td>\n",
       "    </tr>\n",
       "  </tbody>\n",
       "</table>\n",
       "<p>40432 rows × 4 columns</p>\n",
       "</div>"
      ],
      "text/plain": [
       "                           category  rating      label  \\\n",
       "0                Home_and_Kitchen_5       5  deceptive   \n",
       "1                Home_and_Kitchen_5       5  deceptive   \n",
       "2                Home_and_Kitchen_5       5  deceptive   \n",
       "3                Home_and_Kitchen_5       1  deceptive   \n",
       "4                Home_and_Kitchen_5       5  deceptive   \n",
       "...                             ...     ...        ...   \n",
       "40427  Clothing_Shoes_and_Jewelry_5       4   truthful   \n",
       "40428  Clothing_Shoes_and_Jewelry_5       5  deceptive   \n",
       "40429  Clothing_Shoes_and_Jewelry_5       2   truthful   \n",
       "40430  Clothing_Shoes_and_Jewelry_5       1  deceptive   \n",
       "40431  Clothing_Shoes_and_Jewelry_5       5   truthful   \n",
       "\n",
       "                                                   text_  \n",
       "0      Love this!  Well made, sturdy, and very comfor...  \n",
       "1      love it, a great upgrade from the original.  I...  \n",
       "2      This pillow saved my back. I love the look and...  \n",
       "3      Missing information on how to use it, but it i...  \n",
       "4      Very nice set. Good quality. We have had the s...  \n",
       "...                                                  ...  \n",
       "40427  I had read some reviews saying that this bra r...  \n",
       "40428  I wasn't sure exactly what it would be. It is ...  \n",
       "40429  You can wear the hood by itself, wear it with ...  \n",
       "40430  I liked nothing about this dress. The only rea...  \n",
       "40431  I work in the wedding industry and have to wor...  \n",
       "\n",
       "[40432 rows x 4 columns]"
      ]
     },
     "execution_count": 327,
     "metadata": {},
     "output_type": "execute_result"
    }
   ],
   "source": [
    "df_test = pd.read_csv('../FakeReviewDataset.csv')\n",
    "df_test"
   ]
  },
  {
   "cell_type": "code",
   "execution_count": 328,
   "id": "584ab9eb",
   "metadata": {},
   "outputs": [],
   "source": [
    "x = df_test['text_']\n",
    "y_val = df_test['label']"
   ]
  },
  {
   "cell_type": "code",
   "execution_count": 329,
   "id": "5030f205",
   "metadata": {},
   "outputs": [],
   "source": [
    "x = tokenizer.texts_to_sequences(x)\n",
    "x = pad_sequences(x, padding = 'post', maxlen=maxlen)\n"
   ]
  },
  {
   "cell_type": "code",
   "execution_count": 330,
   "id": "b1fab156",
   "metadata": {},
   "outputs": [
    {
     "name": "stdout",
     "output_type": "stream",
     "text": [
      "1264/1264 [==============================] - 2s 1ms/step\n"
     ]
    },
    {
     "data": {
      "text/plain": [
       "array([0., 1., 0., ..., 0., 1., 1.], dtype=float32)"
      ]
     },
     "execution_count": 330,
     "metadata": {},
     "output_type": "execute_result"
    }
   ],
   "source": [
    "y_pred = np.round(model.predict(x).ravel())\n",
    "y_pred"
   ]
  },
  {
   "cell_type": "code",
   "execution_count": 331,
   "id": "b0d9d1f5",
   "metadata": {},
   "outputs": [],
   "source": [
    "y_pred_label_test = []\n",
    "for i in y_pred:\n",
    "    if i == 1:\n",
    "        y_pred_label_test.append(\"truthful\")\n",
    "    else:\n",
    "        y_pred_label_test.append(\"deceptive\")\n",
    "\n",
    "        \n",
    "y_label_test = []\n",
    "for i in y_val:\n",
    "    if i == 1:\n",
    "        y_label_test.append(\"truthful\")\n",
    "    else:\n",
    "        y_label_test.append(\"deceptive\")\n"
   ]
  },
  {
   "cell_type": "code",
   "execution_count": 332,
   "id": "26a28171",
   "metadata": {},
   "outputs": [
    {
     "data": {
      "text/html": [
       "<div>\n",
       "<style scoped>\n",
       "    .dataframe tbody tr th:only-of-type {\n",
       "        vertical-align: middle;\n",
       "    }\n",
       "\n",
       "    .dataframe tbody tr th {\n",
       "        vertical-align: top;\n",
       "    }\n",
       "\n",
       "    .dataframe thead th {\n",
       "        text-align: right;\n",
       "    }\n",
       "</style>\n",
       "<table border=\"1\" class=\"dataframe\">\n",
       "  <thead>\n",
       "    <tr style=\"text-align: right;\">\n",
       "      <th></th>\n",
       "      <th>dataTest</th>\n",
       "      <th>Pred</th>\n",
       "      <th>True_label</th>\n",
       "      <th>result</th>\n",
       "    </tr>\n",
       "  </thead>\n",
       "  <tbody>\n",
       "    <tr>\n",
       "      <th>20215</th>\n",
       "      <td>My girl chichi likes it I actually put it insi...</td>\n",
       "      <td>truthful</td>\n",
       "      <td>deceptive</td>\n",
       "      <td>0</td>\n",
       "    </tr>\n",
       "    <tr>\n",
       "      <th>24532</th>\n",
       "      <td>I love Noelle Adams's writing!  She has an ama...</td>\n",
       "      <td>truthful</td>\n",
       "      <td>deceptive</td>\n",
       "      <td>0</td>\n",
       "    </tr>\n",
       "    <tr>\n",
       "      <th>24530</th>\n",
       "      <td>There is nothing here that makes me want to re...</td>\n",
       "      <td>truthful</td>\n",
       "      <td>deceptive</td>\n",
       "      <td>0</td>\n",
       "    </tr>\n",
       "    <tr>\n",
       "      <th>24529</th>\n",
       "      <td>I really liked the series and will be reading ...</td>\n",
       "      <td>truthful</td>\n",
       "      <td>deceptive</td>\n",
       "      <td>0</td>\n",
       "    </tr>\n",
       "    <tr>\n",
       "      <th>24527</th>\n",
       "      <td>This was a cute story that will make you laugh...</td>\n",
       "      <td>truthful</td>\n",
       "      <td>deceptive</td>\n",
       "      <td>0</td>\n",
       "    </tr>\n",
       "    <tr>\n",
       "      <th>...</th>\n",
       "      <td>...</td>\n",
       "      <td>...</td>\n",
       "      <td>...</td>\n",
       "      <td>...</td>\n",
       "    </tr>\n",
       "    <tr>\n",
       "      <th>7273</th>\n",
       "      <td>I had never had an issue with the quality of t...</td>\n",
       "      <td>deceptive</td>\n",
       "      <td>deceptive</td>\n",
       "      <td>1</td>\n",
       "    </tr>\n",
       "    <tr>\n",
       "      <th>28651</th>\n",
       "      <td>Great book. Those guys are an amazing bunch. I...</td>\n",
       "      <td>deceptive</td>\n",
       "      <td>deceptive</td>\n",
       "      <td>1</td>\n",
       "    </tr>\n",
       "    <tr>\n",
       "      <th>28652</th>\n",
       "      <td>Unnecessarily complicated. It seemed like a st...</td>\n",
       "      <td>deceptive</td>\n",
       "      <td>deceptive</td>\n",
       "      <td>1</td>\n",
       "    </tr>\n",
       "    <tr>\n",
       "      <th>28618</th>\n",
       "      <td>Excellent!  So glad to have read the book!  I ...</td>\n",
       "      <td>deceptive</td>\n",
       "      <td>deceptive</td>\n",
       "      <td>1</td>\n",
       "    </tr>\n",
       "    <tr>\n",
       "      <th>0</th>\n",
       "      <td>Love this!  Well made, sturdy, and very comfor...</td>\n",
       "      <td>deceptive</td>\n",
       "      <td>deceptive</td>\n",
       "      <td>1</td>\n",
       "    </tr>\n",
       "  </tbody>\n",
       "</table>\n",
       "<p>40432 rows × 4 columns</p>\n",
       "</div>"
      ],
      "text/plain": [
       "                                                dataTest       Pred  \\\n",
       "20215  My girl chichi likes it I actually put it insi...   truthful   \n",
       "24532  I love Noelle Adams's writing!  She has an ama...   truthful   \n",
       "24530  There is nothing here that makes me want to re...   truthful   \n",
       "24529  I really liked the series and will be reading ...   truthful   \n",
       "24527  This was a cute story that will make you laugh...   truthful   \n",
       "...                                                  ...        ...   \n",
       "7273   I had never had an issue with the quality of t...  deceptive   \n",
       "28651  Great book. Those guys are an amazing bunch. I...  deceptive   \n",
       "28652  Unnecessarily complicated. It seemed like a st...  deceptive   \n",
       "28618  Excellent!  So glad to have read the book!  I ...  deceptive   \n",
       "0      Love this!  Well made, sturdy, and very comfor...  deceptive   \n",
       "\n",
       "      True_label  result  \n",
       "20215  deceptive       0  \n",
       "24532  deceptive       0  \n",
       "24530  deceptive       0  \n",
       "24529  deceptive       0  \n",
       "24527  deceptive       0  \n",
       "...          ...     ...  \n",
       "7273   deceptive       1  \n",
       "28651  deceptive       1  \n",
       "28652  deceptive       1  \n",
       "28618  deceptive       1  \n",
       "0      deceptive       1  \n",
       "\n",
       "[40432 rows x 4 columns]"
      ]
     },
     "execution_count": 332,
     "metadata": {},
     "output_type": "execute_result"
    }
   ],
   "source": [
    "predict_val = pd.DataFrame({'dataTest':df_test['text_'], 'Pred':y_pred_label_test, 'True_label':y_label_test}, columns=['dataTest','Pred','True_label'])\n",
    "predict_val['result'] = np.where(predict_val['Pred']==predict_val['True_label'], 1, 0)\n",
    "# results.sort_values(by='result').head(20)\n",
    "\n",
    "\n",
    "predict_val.sort_values(by='result')"
   ]
  },
  {
   "cell_type": "code",
   "execution_count": 333,
   "id": "4668167d",
   "metadata": {},
   "outputs": [
    {
     "name": "stdout",
     "output_type": "stream",
     "text": [
      "The wrong guess is :  25180\n",
      "The right guess is:  15252\n"
     ]
    }
   ],
   "source": [
    "wrong = 0\n",
    "right = 0\n",
    "for i in predict_val['result']:\n",
    "    \n",
    "    if i == 0:\n",
    "        wrong+=1\n",
    "    else:\n",
    "        right+=1\n",
    "\n",
    "print(\"The wrong guess is : \", wrong)\n",
    "print(\"The right guess is: \", right)\n",
    "    "
   ]
  },
  {
   "cell_type": "code",
   "execution_count": null,
   "id": "119b4046",
   "metadata": {},
   "outputs": [],
   "source": []
  },
  {
   "cell_type": "code",
   "execution_count": null,
   "id": "40e151bc",
   "metadata": {},
   "outputs": [],
   "source": []
  },
  {
   "cell_type": "code",
   "execution_count": null,
   "id": "4241bcde",
   "metadata": {},
   "outputs": [],
   "source": []
  },
  {
   "cell_type": "code",
   "execution_count": null,
   "id": "503b593d",
   "metadata": {},
   "outputs": [],
   "source": []
  },
  {
   "cell_type": "code",
   "execution_count": null,
   "id": "2174cfa3",
   "metadata": {},
   "outputs": [],
   "source": []
  },
  {
   "cell_type": "code",
   "execution_count": null,
   "id": "1e612a61",
   "metadata": {},
   "outputs": [],
   "source": []
  },
  {
   "cell_type": "code",
   "execution_count": null,
   "id": "68a76bd7",
   "metadata": {},
   "outputs": [],
   "source": []
  },
  {
   "cell_type": "code",
   "execution_count": null,
   "id": "92fa6055",
   "metadata": {},
   "outputs": [],
   "source": []
  },
  {
   "cell_type": "code",
   "execution_count": null,
   "id": "fc3a2fbd",
   "metadata": {},
   "outputs": [],
   "source": []
  },
  {
   "cell_type": "code",
   "execution_count": null,
   "id": "287c70e1",
   "metadata": {},
   "outputs": [],
   "source": []
  },
  {
   "cell_type": "code",
   "execution_count": null,
   "id": "16256147",
   "metadata": {},
   "outputs": [],
   "source": []
  },
  {
   "cell_type": "code",
   "execution_count": null,
   "id": "9677d1c2",
   "metadata": {},
   "outputs": [],
   "source": []
  },
  {
   "cell_type": "code",
   "execution_count": null,
   "id": "50be87ed",
   "metadata": {},
   "outputs": [],
   "source": []
  },
  {
   "cell_type": "code",
   "execution_count": null,
   "id": "0d73fea9",
   "metadata": {},
   "outputs": [],
   "source": []
  },
  {
   "cell_type": "code",
   "execution_count": null,
   "id": "d19858d7",
   "metadata": {},
   "outputs": [],
   "source": []
  },
  {
   "cell_type": "code",
   "execution_count": null,
   "id": "c5bb904f",
   "metadata": {},
   "outputs": [],
   "source": []
  }
 ],
 "metadata": {
  "kernelspec": {
   "display_name": "Python 3 (ipykernel)",
   "language": "python",
   "name": "python3"
  },
  "language_info": {
   "codemirror_mode": {
    "name": "ipython",
    "version": 3
   },
   "file_extension": ".py",
   "mimetype": "text/x-python",
   "name": "python",
   "nbconvert_exporter": "python",
   "pygments_lexer": "ipython3",
   "version": "3.9.13"
  }
 },
 "nbformat": 4,
 "nbformat_minor": 5
}
