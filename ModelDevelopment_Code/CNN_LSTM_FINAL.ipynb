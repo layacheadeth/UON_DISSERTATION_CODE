{
 "cells": [
  {
   "cell_type": "code",
   "execution_count": 1,
   "id": "23fc8b6f",
   "metadata": {},
   "outputs": [
    {
     "name": "stderr",
     "output_type": "stream",
     "text": [
      "2023-04-10 15:08:27.206807: I tensorflow/core/platform/cpu_feature_guard.cc:193] This TensorFlow binary is optimized with oneAPI Deep Neural Network Library (oneDNN) to use the following CPU instructions in performance-critical operations:  AVX2 FMA\n",
      "To enable them in other operations, rebuild TensorFlow with the appropriate compiler flags.\n"
     ]
    }
   ],
   "source": [
    "import numpy as np\n",
    "import pandas as pd\n",
    "import keras\n",
    "from keras.preprocessing.text import Tokenizer\n",
    "from tensorflow.keras.preprocessing.sequence import pad_sequences\n",
    "from keras.layers import Dense, Input, LSTM, Embedding, Conv1D, MaxPooling1D, Dropout\n",
    "from keras.models import Model\n",
    "import nlpaug\n",
    "# import nlpaug.augmenter.text as nat\n",
    "# import nlpaug.augmenter.text as nat\n",
    "import nlpaug.augmenter.word.word_embs as nat\n",
    "import random\n",
    "\n",
    "import os\n",
    "import glob\n",
    "\n",
    "\n",
    "\n",
    "df = pd.read_csv('deceptive-opinion.csv')\n",
    "pd.set_option('display.max_colwidth', None)\n",
    "\n",
    "\n",
    "\n",
    "\n",
    "\n"
   ]
  },
  {
   "cell_type": "code",
   "execution_count": 2,
   "id": "ec715d99",
   "metadata": {},
   "outputs": [
    {
     "data": {
      "text/html": [
       "<div>\n",
       "<style scoped>\n",
       "    .dataframe tbody tr th:only-of-type {\n",
       "        vertical-align: middle;\n",
       "    }\n",
       "\n",
       "    .dataframe tbody tr th {\n",
       "        vertical-align: top;\n",
       "    }\n",
       "\n",
       "    .dataframe thead th {\n",
       "        text-align: right;\n",
       "    }\n",
       "</style>\n",
       "<table border=\"1\" class=\"dataframe\">\n",
       "  <thead>\n",
       "    <tr style=\"text-align: right;\">\n",
       "      <th></th>\n",
       "      <th>deceptive</th>\n",
       "      <th>hotel</th>\n",
       "      <th>polarity</th>\n",
       "      <th>source</th>\n",
       "      <th>text</th>\n",
       "    </tr>\n",
       "  </thead>\n",
       "  <tbody>\n",
       "    <tr>\n",
       "      <th>0</th>\n",
       "      <td>truthful</td>\n",
       "      <td>conrad</td>\n",
       "      <td>positive</td>\n",
       "      <td>TripAdvisor</td>\n",
       "      <td>We stayed for a one night getaway with family on a thursday. Triple AAA rate of 173 was a steal. 7th floor room complete with 44in plasma TV bose stereo, voss and evian water, and gorgeous bathroom(no tub but was fine for us) Concierge was very helpful. You cannot beat this location... Only flaw was breakfast was pricey and service was very very slow(2hours for four kids and four adults on a friday morning) even though there were only two other tables in the restaurant. Food was very good so it was worth the wait. I would return in a heartbeat. A gem in chicago... \\n</td>\n",
       "    </tr>\n",
       "    <tr>\n",
       "      <th>1</th>\n",
       "      <td>truthful</td>\n",
       "      <td>hyatt</td>\n",
       "      <td>positive</td>\n",
       "      <td>TripAdvisor</td>\n",
       "      <td>Triple A rate with upgrade to view room was less than $200 which also included breakfast vouchers. Had a great view of river, lake, Wrigley Bldg. &amp; Tribune Bldg. Most major restaurants, Shopping, Sightseeing attractions within walking distance. Large room with a very comfortable bed. \\n</td>\n",
       "    </tr>\n",
       "    <tr>\n",
       "      <th>2</th>\n",
       "      <td>truthful</td>\n",
       "      <td>hyatt</td>\n",
       "      <td>positive</td>\n",
       "      <td>TripAdvisor</td>\n",
       "      <td>This comes a little late as I'm finally catching up on my reviews from the past several months:) A dear friend and I stayed at the Hyatt Regency in late October 2007 for one night while visiting a friend and her husband from out of town. This hotel is perfect, IMO. Easy check in and check out. Lovely, clean, comfortable rooms with great views of the city. I know this area pretty well and it's very convenient to many downtown Chicago attractions. We had dinner and went clubing with our friends around Division St.. We had no problems getting cabs back and forth to the Hyatt and there's even public transportation right near by but we didn't bother since we only needed cabs from and to the hotel. Parking, as is usual for Chicago, was expensive but we were able to get our car out quickly (however, we left on a Sunday morning, not exactly a high traffic time although it was a Bears homegame day, so a bit busier than usual I would think). No problems at all and the best part is that we got a rate of $100 through Hotwire, a downright steal for this area of Chicago and the quality of the hotel. \\n</td>\n",
       "    </tr>\n",
       "    <tr>\n",
       "      <th>3</th>\n",
       "      <td>truthful</td>\n",
       "      <td>omni</td>\n",
       "      <td>positive</td>\n",
       "      <td>TripAdvisor</td>\n",
       "      <td>The Omni Chicago really delivers on all fronts, from the spaciousness of the rooms to the helpful staff to the prized location on Michigan Avenue. While this address in Chicago requires a high level of quality, the Omni delivers. Check in for myself and a whole group of people with me was under 3 minutes, the staff had plentiful recommendations for dining and events, and the rooms are some of the largest you'll find at this price range in Chicago. Even the 'standard' room has a separate living area and work desk. The fitness center has free weights, weight machines, and two rows of cardio equipment. I shared the room with 7 others and did not feel cramped in any way! All in all, a great property! \\n</td>\n",
       "    </tr>\n",
       "    <tr>\n",
       "      <th>4</th>\n",
       "      <td>truthful</td>\n",
       "      <td>hyatt</td>\n",
       "      <td>positive</td>\n",
       "      <td>TripAdvisor</td>\n",
       "      <td>I asked for a high floor away from the elevator and that is what I got. The room was pleasantly decorated, functional and very clean. I didn't need a whole lot of service but when I did they were pleasant and prompt. I used the fitness center which was well equipped and everything was in working order. It is in a great location at one end of the Michigan Avenue shopping district. \\n</td>\n",
       "    </tr>\n",
       "    <tr>\n",
       "      <th>...</th>\n",
       "      <td>...</td>\n",
       "      <td>...</td>\n",
       "      <td>...</td>\n",
       "      <td>...</td>\n",
       "      <td>...</td>\n",
       "    </tr>\n",
       "    <tr>\n",
       "      <th>1595</th>\n",
       "      <td>deceptive</td>\n",
       "      <td>intercontinental</td>\n",
       "      <td>negative</td>\n",
       "      <td>MTurk</td>\n",
       "      <td>Problems started when I booked the InterContinental Chicago online at the hotel's site, and got a server error. Somehow I managed to get my reservation, and wish I had looked elsewhere on this great Chicago street, filled with plenty of other options. The server errors continued at check in and didn't let up. I was on a holiday weekend, but far too many others must have been pushy conventioneers, and I had trouble getting served. The hotel is enormous and doesn't give a sense of comfort. The health facilities are also just too big, so noisy and crowded. And Internet access was $18 a day, kind of surprising when I can go around the corner to a Starbucks! Next time, I'll pick a more intimate place nearby--without so many 'server errors'.\\n</td>\n",
       "    </tr>\n",
       "    <tr>\n",
       "      <th>1596</th>\n",
       "      <td>deceptive</td>\n",
       "      <td>amalfi</td>\n",
       "      <td>negative</td>\n",
       "      <td>MTurk</td>\n",
       "      <td>The Amalfi Hotel has a beautiful website and interior decorating, but that's about it. When my wife and I got here, we were given keys to a room that had not even been cleaned! The Internet access promised on the hotel's website was down, so I couldn't catch up on any of the business I had intended to do, and my wife thought that the dark design details in the room made her feel claustrophobic, like she was sleeping inside a Salvador Dali painting. All in all, this hotel was not worth the money, especially since we spent most of our time enjoying the city--something more casual and comfortable would have been better, and it would probably have been cleaner, too!\\n</td>\n",
       "    </tr>\n",
       "    <tr>\n",
       "      <th>1597</th>\n",
       "      <td>deceptive</td>\n",
       "      <td>intercontinental</td>\n",
       "      <td>negative</td>\n",
       "      <td>MTurk</td>\n",
       "      <td>The Intercontinental Chicago Magnificent Mile The outside of the hotel itself is as the name says is pretty magnificent despite being set in what has to be the filthiest section in the city. For the cost of the rooms starting at 179.00 a night, you would think they would have a competent parking attendant. I was delayed from a very important client due to a latency issue with my reserved room, and if that was not enough. To top it off the room service had the nerve to bring up room temperature pasta and a bottle of champagne that had the seal previously broken free of the cork. Needless to say this will be the last time this hotel ever is to grace so much as another dollar bill from my account. I would highly recommend another hotel with better accommodations.\\n</td>\n",
       "    </tr>\n",
       "    <tr>\n",
       "      <th>1598</th>\n",
       "      <td>deceptive</td>\n",
       "      <td>palmer</td>\n",
       "      <td>negative</td>\n",
       "      <td>MTurk</td>\n",
       "      <td>The Palmer House Hilton, while it looks good in pictures, and the outside, is actually a disaster of a hotel. When I went through, the lobby was dirty, my room hadn't been cleaned, and smelled thoroughly of smoke. When I requested more pillows, the lady on the phone scoffed at me and said she'd send them up. It took over an hour for 2 pillows. This hotel is a good example that what you pay for isn't always what you get. I will not be returning.\\n</td>\n",
       "    </tr>\n",
       "    <tr>\n",
       "      <th>1599</th>\n",
       "      <td>deceptive</td>\n",
       "      <td>amalfi</td>\n",
       "      <td>negative</td>\n",
       "      <td>MTurk</td>\n",
       "      <td>As a former Chicagoan, I'm appalled at the Amalfi Hotel Chicago. First of all, I was expecting luxury and hospitality, neither of which I received. There's an Experience Designer who is supposed to be like a 'personal concierge,' but my experience with my ED was terrible. I felt like he was trying to pressure me into staying more days than I wanted to. Not only that, but I couldn't understand what he was saying most of the time because he was talking so fast. When I finally got to my room, I was disappointed with the quality of the furniture and the room's cleanliness. I had to ask for a maid to come and give me clean towels because some of the towels in the bathroom were damp. On top of that, the bed was messily done; I could have done a better job on my own bed at home. I was angry at this point, because I was paying a lot of money for every night I was staying at Amalfi, and I didn't expect to be greeted with wet towels. I needed to use the Wi-Fi to download some important documents, and the internet was surprisingly slow. Even a very basic hotel or motel could have offered better, maybe even faster internet access. When I finally checked out of the Amalfi, I made sure that my supposed personal concierge knew all of the problems I'd had with my room and the hotel. I was glad to see the Amalfi getting smaller in the mirror as I drove away!\\n</td>\n",
       "    </tr>\n",
       "  </tbody>\n",
       "</table>\n",
       "<p>1600 rows × 5 columns</p>\n",
       "</div>"
      ],
      "text/plain": [
       "      deceptive             hotel  polarity       source  \\\n",
       "0      truthful            conrad  positive  TripAdvisor   \n",
       "1      truthful             hyatt  positive  TripAdvisor   \n",
       "2      truthful             hyatt  positive  TripAdvisor   \n",
       "3      truthful              omni  positive  TripAdvisor   \n",
       "4      truthful             hyatt  positive  TripAdvisor   \n",
       "...         ...               ...       ...          ...   \n",
       "1595  deceptive  intercontinental  negative        MTurk   \n",
       "1596  deceptive            amalfi  negative        MTurk   \n",
       "1597  deceptive  intercontinental  negative        MTurk   \n",
       "1598  deceptive            palmer  negative        MTurk   \n",
       "1599  deceptive            amalfi  negative        MTurk   \n",
       "\n",
       "                                                                                                                                                                                                                                                                                                                                                                                                                                                                                                                                                                                                                                                                                                                                                                                                                                                                                                                                                                                                                                                                                                                                                                                                                                                                                                                                                                                                                       text  \n",
       "0                                                                                                                                                                                                                                                                                                                                                                                                                                                                                                                                                                                                                                                                                                                                                                                                                             We stayed for a one night getaway with family on a thursday. Triple AAA rate of 173 was a steal. 7th floor room complete with 44in plasma TV bose stereo, voss and evian water, and gorgeous bathroom(no tub but was fine for us) Concierge was very helpful. You cannot beat this location... Only flaw was breakfast was pricey and service was very very slow(2hours for four kids and four adults on a friday morning) even though there were only two other tables in the restaurant. Food was very good so it was worth the wait. I would return in a heartbeat. A gem in chicago... \\n  \n",
       "1                                                                                                                                                                                                                                                                                                                                                                                                                                                                                                                                                                                                                                                                                                                                                                                                                                                                                                                                                                                                                                                                                                                           Triple A rate with upgrade to view room was less than $200 which also included breakfast vouchers. Had a great view of river, lake, Wrigley Bldg. & Tribune Bldg. Most major restaurants, Shopping, Sightseeing attractions within walking distance. Large room with a very comfortable bed. \\n  \n",
       "2                                                                                                                                                                                                                                                                         This comes a little late as I'm finally catching up on my reviews from the past several months:) A dear friend and I stayed at the Hyatt Regency in late October 2007 for one night while visiting a friend and her husband from out of town. This hotel is perfect, IMO. Easy check in and check out. Lovely, clean, comfortable rooms with great views of the city. I know this area pretty well and it's very convenient to many downtown Chicago attractions. We had dinner and went clubing with our friends around Division St.. We had no problems getting cabs back and forth to the Hyatt and there's even public transportation right near by but we didn't bother since we only needed cabs from and to the hotel. Parking, as is usual for Chicago, was expensive but we were able to get our car out quickly (however, we left on a Sunday morning, not exactly a high traffic time although it was a Bears homegame day, so a bit busier than usual I would think). No problems at all and the best part is that we got a rate of $100 through Hotwire, a downright steal for this area of Chicago and the quality of the hotel. \\n  \n",
       "3                                                                                                                                                                                                                                                                                                                                                                                                                                                                                                                                                                                                                                                                                      The Omni Chicago really delivers on all fronts, from the spaciousness of the rooms to the helpful staff to the prized location on Michigan Avenue. While this address in Chicago requires a high level of quality, the Omni delivers. Check in for myself and a whole group of people with me was under 3 minutes, the staff had plentiful recommendations for dining and events, and the rooms are some of the largest you'll find at this price range in Chicago. Even the 'standard' room has a separate living area and work desk. The fitness center has free weights, weight machines, and two rows of cardio equipment. I shared the room with 7 others and did not feel cramped in any way! All in all, a great property! \\n  \n",
       "4                                                                                                                                                                                                                                                                                                                                                                                                                                                                                                                                                                                                                                                                                                                                                                                                                                                                                                                                                                                                                         I asked for a high floor away from the elevator and that is what I got. The room was pleasantly decorated, functional and very clean. I didn't need a whole lot of service but when I did they were pleasant and prompt. I used the fitness center which was well equipped and everything was in working order. It is in a great location at one end of the Michigan Avenue shopping district. \\n  \n",
       "...                                                                                                                                                                                                                                                                                                                                                                                                                                                                                                                                                                                                                                                                                                                                                                                                                                                                                                                                                                                                                                                                                                                                                                                                                                                                                                                                                                                                                     ...  \n",
       "1595                                                                                                                                                                                                                                                                                                                                                                                                                                                                                                                                                                                                                                            Problems started when I booked the InterContinental Chicago online at the hotel's site, and got a server error. Somehow I managed to get my reservation, and wish I had looked elsewhere on this great Chicago street, filled with plenty of other options. The server errors continued at check in and didn't let up. I was on a holiday weekend, but far too many others must have been pushy conventioneers, and I had trouble getting served. The hotel is enormous and doesn't give a sense of comfort. The health facilities are also just too big, so noisy and crowded. And Internet access was $18 a day, kind of surprising when I can go around the corner to a Starbucks! Next time, I'll pick a more intimate place nearby--without so many 'server errors'.\\n  \n",
       "1596                                                                                                                                                                                                                                                                                                                                                                                                                                                                                                                                                                                                                                                                                                                       The Amalfi Hotel has a beautiful website and interior decorating, but that's about it. When my wife and I got here, we were given keys to a room that had not even been cleaned! The Internet access promised on the hotel's website was down, so I couldn't catch up on any of the business I had intended to do, and my wife thought that the dark design details in the room made her feel claustrophobic, like she was sleeping inside a Salvador Dali painting. All in all, this hotel was not worth the money, especially since we spent most of our time enjoying the city--something more casual and comfortable would have been better, and it would probably have been cleaner, too!\\n  \n",
       "1597                                                                                                                                                                                                                                                                                                                                                                                                                                                                                                                                                                                                                   The Intercontinental Chicago Magnificent Mile The outside of the hotel itself is as the name says is pretty magnificent despite being set in what has to be the filthiest section in the city. For the cost of the rooms starting at 179.00 a night, you would think they would have a competent parking attendant. I was delayed from a very important client due to a latency issue with my reserved room, and if that was not enough. To top it off the room service had the nerve to bring up room temperature pasta and a bottle of champagne that had the seal previously broken free of the cork. Needless to say this will be the last time this hotel ever is to grace so much as another dollar bill from my account. I would highly recommend another hotel with better accommodations.\\n  \n",
       "1598                                                                                                                                                                                                                                                                                                                                                                                                                                                                                                                                                                                                                                                                                                                                                                                                                                                                                                                                                     The Palmer House Hilton, while it looks good in pictures, and the outside, is actually a disaster of a hotel. When I went through, the lobby was dirty, my room hadn't been cleaned, and smelled thoroughly of smoke. When I requested more pillows, the lady on the phone scoffed at me and said she'd send them up. It took over an hour for 2 pillows. This hotel is a good example that what you pay for isn't always what you get. I will not be returning.\\n  \n",
       "1599  As a former Chicagoan, I'm appalled at the Amalfi Hotel Chicago. First of all, I was expecting luxury and hospitality, neither of which I received. There's an Experience Designer who is supposed to be like a 'personal concierge,' but my experience with my ED was terrible. I felt like he was trying to pressure me into staying more days than I wanted to. Not only that, but I couldn't understand what he was saying most of the time because he was talking so fast. When I finally got to my room, I was disappointed with the quality of the furniture and the room's cleanliness. I had to ask for a maid to come and give me clean towels because some of the towels in the bathroom were damp. On top of that, the bed was messily done; I could have done a better job on my own bed at home. I was angry at this point, because I was paying a lot of money for every night I was staying at Amalfi, and I didn't expect to be greeted with wet towels. I needed to use the Wi-Fi to download some important documents, and the internet was surprisingly slow. Even a very basic hotel or motel could have offered better, maybe even faster internet access. When I finally checked out of the Amalfi, I made sure that my supposed personal concierge knew all of the problems I'd had with my room and the hotel. I was glad to see the Amalfi getting smaller in the mirror as I drove away!\\n  \n",
       "\n",
       "[1600 rows x 5 columns]"
      ]
     },
     "execution_count": 2,
     "metadata": {},
     "output_type": "execute_result"
    }
   ],
   "source": [
    "df"
   ]
  },
  {
   "cell_type": "code",
   "execution_count": 3,
   "id": "36b326f7",
   "metadata": {},
   "outputs": [
    {
     "data": {
      "text/plain": [
       "deceptive    0\n",
       "hotel        0\n",
       "polarity     0\n",
       "source       0\n",
       "text         0\n",
       "dtype: int64"
      ]
     },
     "execution_count": 3,
     "metadata": {},
     "output_type": "execute_result"
    }
   ],
   "source": [
    "df[df.isnull()].count()"
   ]
  },
  {
   "cell_type": "code",
   "execution_count": 4,
   "id": "8b62c264",
   "metadata": {},
   "outputs": [
    {
     "data": {
      "text/plain": [
       "<AxesSubplot:xlabel='deceptive', ylabel='count'>"
      ]
     },
     "execution_count": 4,
     "metadata": {},
     "output_type": "execute_result"
    },
    {
     "data": {
      "image/png": "[encoded data removed]",
      "text/plain": [
       "<Figure size 640x480 with 1 Axes>"
      ]
     },
     "metadata": {},
     "output_type": "display_data"
    }
   ],
   "source": [
    "import seaborn as sns\n",
    "import matplotlib.pyplot as plt\n",
    "sns.countplot(x=df['deceptive'], hue='polarity', data = df)"
   ]
  },
  {
   "cell_type": "code",
   "execution_count": 5,
   "id": "5327fb0f",
   "metadata": {},
   "outputs": [],
   "source": [
    "df=df.drop(['hotel'],axis=1)\n"
   ]
  },
  {
   "cell_type": "code",
   "execution_count": 6,
   "id": "bdfc3f31",
   "metadata": {},
   "outputs": [],
   "source": [
    "import nltk\n",
    "from nltk.stem import PorterStemmer\n",
    "from nltk.tokenize import sent_tokenize, word_tokenize\n",
    "import re\n",
    "import string \n",
    "def text_cleaning(text):\n",
    "    '''\n",
    "        Make text lowercase, remove text in square brackets, remove link, remove special characters, \n",
    "        and remove words containing numbers.\n",
    "    '''\n",
    "    \n",
    "    text = text.lower()\n",
    "    text = re.sub('\\[.*?\\]','',text)\n",
    "    text = re.sub('\\\\W',\" \", text)\n",
    "    text = re.sub('https?://\\S+|www\\.\\S+','',text)\n",
    "    text = re.sub('<.*?>+','',text)\n",
    "    text = re.sub('[%s]' % re.escape(string.punctuation), '', text)\n",
    "    text = re.sub('\\n', '', text)\n",
    "    text = re.sub('\\w*\\d\\w*', '', text)\n",
    "    \n",
    "    return text\n"
   ]
  },
  {
   "cell_type": "code",
   "execution_count": 7,
   "id": "b0e8ff95",
   "metadata": {},
   "outputs": [],
   "source": [
    "df['text']=df['text'].apply(text_cleaning)\n"
   ]
  },
  {
   "cell_type": "code",
   "execution_count": 8,
   "id": "720734e4",
   "metadata": {},
   "outputs": [
    {
     "data": {
      "text/html": [
       "<div>\n",
       "<style scoped>\n",
       "    .dataframe tbody tr th:only-of-type {\n",
       "        vertical-align: middle;\n",
       "    }\n",
       "\n",
       "    .dataframe tbody tr th {\n",
       "        vertical-align: top;\n",
       "    }\n",
       "\n",
       "    .dataframe thead th {\n",
       "        text-align: right;\n",
       "    }\n",
       "</style>\n",
       "<table border=\"1\" class=\"dataframe\">\n",
       "  <thead>\n",
       "    <tr style=\"text-align: right;\">\n",
       "      <th></th>\n",
       "      <th>deceptive</th>\n",
       "      <th>polarity</th>\n",
       "      <th>source</th>\n",
       "      <th>text</th>\n",
       "    </tr>\n",
       "  </thead>\n",
       "  <tbody>\n",
       "    <tr>\n",
       "      <th>0</th>\n",
       "      <td>truthful</td>\n",
       "      <td>positive</td>\n",
       "      <td>TripAdvisor</td>\n",
       "      <td>we stayed for a one night getaway with family on a thursday  triple aaa rate of  was a steal   floor room complete with  plasma tv bose stereo  voss and evian water  and gorgeous bathroom no tub but was fine for us  concierge was very helpful  you cannot beat this location    only flaw was breakfast was pricey and service was very very slow  for four kids and four adults on a friday morning  even though there were only two other tables in the restaurant  food was very good so it was worth the wait  i would return in a heartbeat  a gem in chicago</td>\n",
       "    </tr>\n",
       "    <tr>\n",
       "      <th>1</th>\n",
       "      <td>truthful</td>\n",
       "      <td>positive</td>\n",
       "      <td>TripAdvisor</td>\n",
       "      <td>triple a rate with upgrade to view room was less than   which also included breakfast vouchers  had a great view of river  lake  wrigley bldg    tribune bldg  most major restaurants  shopping  sightseeing attractions within walking distance  large room with a very comfortable bed</td>\n",
       "    </tr>\n",
       "    <tr>\n",
       "      <th>2</th>\n",
       "      <td>truthful</td>\n",
       "      <td>positive</td>\n",
       "      <td>TripAdvisor</td>\n",
       "      <td>this comes a little late as i m finally catching up on my reviews from the past several months   a dear friend and i stayed at the hyatt regency in late october  for one night while visiting a friend and her husband from out of town  this hotel is perfect  imo  easy check in and check out  lovely  clean  comfortable rooms with great views of the city  i know this area pretty well and it s very convenient to many downtown chicago attractions  we had dinner and went clubing with our friends around division st   we had no problems getting cabs back and forth to the hyatt and there s even public transportation right near by but we didn t bother since we only needed cabs from and to the hotel  parking  as is usual for chicago  was expensive but we were able to get our car out quickly  however  we left on a sunday morning  not exactly a high traffic time although it was a bears homegame day  so a bit busier than usual i would think   no problems at all and the best part is that we got a rate of   through hotwire  a downright steal for this area of chicago and the quality of the hotel</td>\n",
       "    </tr>\n",
       "    <tr>\n",
       "      <th>3</th>\n",
       "      <td>truthful</td>\n",
       "      <td>positive</td>\n",
       "      <td>TripAdvisor</td>\n",
       "      <td>the omni chicago really delivers on all fronts  from the spaciousness of the rooms to the helpful staff to the prized location on michigan avenue  while this address in chicago requires a high level of quality  the omni delivers  check in for myself and a whole group of people with me was under  minutes  the staff had plentiful recommendations for dining and events  and the rooms are some of the largest you ll find at this price range in chicago  even the  standard  room has a separate living area and work desk  the fitness center has free weights  weight machines  and two rows of cardio equipment  i shared the room with  others and did not feel cramped in any way  all in all  a great property</td>\n",
       "    </tr>\n",
       "    <tr>\n",
       "      <th>4</th>\n",
       "      <td>truthful</td>\n",
       "      <td>positive</td>\n",
       "      <td>TripAdvisor</td>\n",
       "      <td>i asked for a high floor away from the elevator and that is what i got  the room was pleasantly decorated  functional and very clean  i didn t need a whole lot of service but when i did they were pleasant and prompt  i used the fitness center which was well equipped and everything was in working order  it is in a great location at one end of the michigan avenue shopping district</td>\n",
       "    </tr>\n",
       "    <tr>\n",
       "      <th>...</th>\n",
       "      <td>...</td>\n",
       "      <td>...</td>\n",
       "      <td>...</td>\n",
       "      <td>...</td>\n",
       "    </tr>\n",
       "    <tr>\n",
       "      <th>1595</th>\n",
       "      <td>deceptive</td>\n",
       "      <td>negative</td>\n",
       "      <td>MTurk</td>\n",
       "      <td>problems started when i booked the intercontinental chicago online at the hotel s site  and got a server error  somehow i managed to get my reservation  and wish i had looked elsewhere on this great chicago street  filled with plenty of other options  the server errors continued at check in and didn t let up  i was on a holiday weekend  but far too many others must have been pushy conventioneers  and i had trouble getting served  the hotel is enormous and doesn t give a sense of comfort  the health facilities are also just too big  so noisy and crowded  and internet access was   a day  kind of surprising when i can go around the corner to a starbucks  next time  i ll pick a more intimate place nearby  without so many  server errors</td>\n",
       "    </tr>\n",
       "    <tr>\n",
       "      <th>1596</th>\n",
       "      <td>deceptive</td>\n",
       "      <td>negative</td>\n",
       "      <td>MTurk</td>\n",
       "      <td>the amalfi hotel has a beautiful website and interior decorating  but that s about it  when my wife and i got here  we were given keys to a room that had not even been cleaned  the internet access promised on the hotel s website was down  so i couldn t catch up on any of the business i had intended to do  and my wife thought that the dark design details in the room made her feel claustrophobic  like she was sleeping inside a salvador dali painting  all in all  this hotel was not worth the money  especially since we spent most of our time enjoying the city  something more casual and comfortable would have been better  and it would probably have been cleaner  too</td>\n",
       "    </tr>\n",
       "    <tr>\n",
       "      <th>1597</th>\n",
       "      <td>deceptive</td>\n",
       "      <td>negative</td>\n",
       "      <td>MTurk</td>\n",
       "      <td>the intercontinental chicago magnificent mile the outside of the hotel itself is as the name says is pretty magnificent despite being set in what has to be the filthiest section in the city  for the cost of the rooms starting at   a night  you would think they would have a competent parking attendant  i was delayed from a very important client due to a latency issue with my reserved room  and if that was not enough  to top it off the room service had the nerve to bring up room temperature pasta and a bottle of champagne that had the seal previously broken free of the cork  needless to say this will be the last time this hotel ever is to grace so much as another dollar bill from my account  i would highly recommend another hotel with better accommodations</td>\n",
       "    </tr>\n",
       "    <tr>\n",
       "      <th>1598</th>\n",
       "      <td>deceptive</td>\n",
       "      <td>negative</td>\n",
       "      <td>MTurk</td>\n",
       "      <td>the palmer house hilton  while it looks good in pictures  and the outside  is actually a disaster of a hotel  when i went through  the lobby was dirty  my room hadn t been cleaned  and smelled thoroughly of smoke  when i requested more pillows  the lady on the phone scoffed at me and said she d send them up  it took over an hour for  pillows  this hotel is a good example that what you pay for isn t always what you get  i will not be returning</td>\n",
       "    </tr>\n",
       "    <tr>\n",
       "      <th>1599</th>\n",
       "      <td>deceptive</td>\n",
       "      <td>negative</td>\n",
       "      <td>MTurk</td>\n",
       "      <td>as a former chicagoan  i m appalled at the amalfi hotel chicago  first of all  i was expecting luxury and hospitality  neither of which i received  there s an experience designer who is supposed to be like a  personal concierge   but my experience with my ed was terrible  i felt like he was trying to pressure me into staying more days than i wanted to  not only that  but i couldn t understand what he was saying most of the time because he was talking so fast  when i finally got to my room  i was disappointed with the quality of the furniture and the room s cleanliness  i had to ask for a maid to come and give me clean towels because some of the towels in the bathroom were damp  on top of that  the bed was messily done  i could have done a better job on my own bed at home  i was angry at this point  because i was paying a lot of money for every night i was staying at amalfi  and i didn t expect to be greeted with wet towels  i needed to use the wi fi to download some important documents  and the internet was surprisingly slow  even a very basic hotel or motel could have offered better  maybe even faster internet access  when i finally checked out of the amalfi  i made sure that my supposed personal concierge knew all of the problems i d had with my room and the hotel  i was glad to see the amalfi getting smaller in the mirror as i drove away</td>\n",
       "    </tr>\n",
       "  </tbody>\n",
       "</table>\n",
       "<p>1600 rows × 4 columns</p>\n",
       "</div>"
      ],
      "text/plain": [
       "      deceptive  polarity       source  \\\n",
       "0      truthful  positive  TripAdvisor   \n",
       "1      truthful  positive  TripAdvisor   \n",
       "2      truthful  positive  TripAdvisor   \n",
       "3      truthful  positive  TripAdvisor   \n",
       "4      truthful  positive  TripAdvisor   \n",
       "...         ...       ...          ...   \n",
       "1595  deceptive  negative        MTurk   \n",
       "1596  deceptive  negative        MTurk   \n",
       "1597  deceptive  negative        MTurk   \n",
       "1598  deceptive  negative        MTurk   \n",
       "1599  deceptive  negative        MTurk   \n",
       "\n",
       "                                                                                                                                                                                                                                                                                                                                                                                                                                                                                                                                                                                                                                                                                                                                                                                                                                                                                                                                                                                                                                                                                                                                                                                                                                                                                                                                                                                                                      text  \n",
       "0                                                                                                                                                                                                                                                                                                                                                                                                                                                                                                                                                                                                                                                                                                                                                                                                                                             we stayed for a one night getaway with family on a thursday  triple aaa rate of  was a steal   floor room complete with  plasma tv bose stereo  voss and evian water  and gorgeous bathroom no tub but was fine for us  concierge was very helpful  you cannot beat this location    only flaw was breakfast was pricey and service was very very slow  for four kids and four adults on a friday morning  even though there were only two other tables in the restaurant  food was very good so it was worth the wait  i would return in a heartbeat  a gem in chicago       \n",
       "1                                                                                                                                                                                                                                                                                                                                                                                                                                                                                                                                                                                                                                                                                                                                                                                                                                                                                                                                                                                                                                                                                                                              triple a rate with upgrade to view room was less than   which also included breakfast vouchers  had a great view of river  lake  wrigley bldg    tribune bldg  most major restaurants  shopping  sightseeing attractions within walking distance  large room with a very comfortable bed     \n",
       "2                                                                                                                                                                                                                                                                                this comes a little late as i m finally catching up on my reviews from the past several months   a dear friend and i stayed at the hyatt regency in late october  for one night while visiting a friend and her husband from out of town  this hotel is perfect  imo  easy check in and check out  lovely  clean  comfortable rooms with great views of the city  i know this area pretty well and it s very convenient to many downtown chicago attractions  we had dinner and went clubing with our friends around division st   we had no problems getting cabs back and forth to the hyatt and there s even public transportation right near by but we didn t bother since we only needed cabs from and to the hotel  parking  as is usual for chicago  was expensive but we were able to get our car out quickly  however  we left on a sunday morning  not exactly a high traffic time although it was a bears homegame day  so a bit busier than usual i would think   no problems at all and the best part is that we got a rate of   through hotwire  a downright steal for this area of chicago and the quality of the hotel     \n",
       "3                                                                                                                                                                                                                                                                                                                                                                                                                                                                                                                                                                                                                                                                                        the omni chicago really delivers on all fronts  from the spaciousness of the rooms to the helpful staff to the prized location on michigan avenue  while this address in chicago requires a high level of quality  the omni delivers  check in for myself and a whole group of people with me was under  minutes  the staff had plentiful recommendations for dining and events  and the rooms are some of the largest you ll find at this price range in chicago  even the  standard  room has a separate living area and work desk  the fitness center has free weights  weight machines  and two rows of cardio equipment  i shared the room with  others and did not feel cramped in any way  all in all  a great property     \n",
       "4                                                                                                                                                                                                                                                                                                                                                                                                                                                                                                                                                                                                                                                                                                                                                                                                                                                                                                                                                                                                                         i asked for a high floor away from the elevator and that is what i got  the room was pleasantly decorated  functional and very clean  i didn t need a whole lot of service but when i did they were pleasant and prompt  i used the fitness center which was well equipped and everything was in working order  it is in a great location at one end of the michigan avenue shopping district     \n",
       "...                                                                                                                                                                                                                                                                                                                                                                                                                                                                                                                                                                                                                                                                                                                                                                                                                                                                                                                                                                                                                                                                                                                                                                                                                                                                                                                                                                                                                    ...  \n",
       "1595                                                                                                                                                                                                                                                                                                                                                                                                                                                                                                                                                                                                                                              problems started when i booked the intercontinental chicago online at the hotel s site  and got a server error  somehow i managed to get my reservation  and wish i had looked elsewhere on this great chicago street  filled with plenty of other options  the server errors continued at check in and didn t let up  i was on a holiday weekend  but far too many others must have been pushy conventioneers  and i had trouble getting served  the hotel is enormous and doesn t give a sense of comfort  the health facilities are also just too big  so noisy and crowded  and internet access was   a day  kind of surprising when i can go around the corner to a starbucks  next time  i ll pick a more intimate place nearby  without so many  server errors     \n",
       "1596                                                                                                                                                                                                                                                                                                                                                                                                                                                                                                                                                                                                                                                                                                                       the amalfi hotel has a beautiful website and interior decorating  but that s about it  when my wife and i got here  we were given keys to a room that had not even been cleaned  the internet access promised on the hotel s website was down  so i couldn t catch up on any of the business i had intended to do  and my wife thought that the dark design details in the room made her feel claustrophobic  like she was sleeping inside a salvador dali painting  all in all  this hotel was not worth the money  especially since we spent most of our time enjoying the city  something more casual and comfortable would have been better  and it would probably have been cleaner  too    \n",
       "1597                                                                                                                                                                                                                                                                                                                                                                                                                                                                                                                                                                                                                        the intercontinental chicago magnificent mile the outside of the hotel itself is as the name says is pretty magnificent despite being set in what has to be the filthiest section in the city  for the cost of the rooms starting at   a night  you would think they would have a competent parking attendant  i was delayed from a very important client due to a latency issue with my reserved room  and if that was not enough  to top it off the room service had the nerve to bring up room temperature pasta and a bottle of champagne that had the seal previously broken free of the cork  needless to say this will be the last time this hotel ever is to grace so much as another dollar bill from my account  i would highly recommend another hotel with better accommodations    \n",
       "1598                                                                                                                                                                                                                                                                                                                                                                                                                                                                                                                                                                                                                                                                                                                                                                                                                                                                                                                                                      the palmer house hilton  while it looks good in pictures  and the outside  is actually a disaster of a hotel  when i went through  the lobby was dirty  my room hadn t been cleaned  and smelled thoroughly of smoke  when i requested more pillows  the lady on the phone scoffed at me and said she d send them up  it took over an hour for  pillows  this hotel is a good example that what you pay for isn t always what you get  i will not be returning    \n",
       "1599  as a former chicagoan  i m appalled at the amalfi hotel chicago  first of all  i was expecting luxury and hospitality  neither of which i received  there s an experience designer who is supposed to be like a  personal concierge   but my experience with my ed was terrible  i felt like he was trying to pressure me into staying more days than i wanted to  not only that  but i couldn t understand what he was saying most of the time because he was talking so fast  when i finally got to my room  i was disappointed with the quality of the furniture and the room s cleanliness  i had to ask for a maid to come and give me clean towels because some of the towels in the bathroom were damp  on top of that  the bed was messily done  i could have done a better job on my own bed at home  i was angry at this point  because i was paying a lot of money for every night i was staying at amalfi  and i didn t expect to be greeted with wet towels  i needed to use the wi fi to download some important documents  and the internet was surprisingly slow  even a very basic hotel or motel could have offered better  maybe even faster internet access  when i finally checked out of the amalfi  i made sure that my supposed personal concierge knew all of the problems i d had with my room and the hotel  i was glad to see the amalfi getting smaller in the mirror as i drove away    \n",
       "\n",
       "[1600 rows x 4 columns]"
      ]
     },
     "execution_count": 8,
     "metadata": {},
     "output_type": "execute_result"
    }
   ],
   "source": [
    "df"
   ]
  },
  {
   "cell_type": "code",
   "execution_count": 9,
   "id": "9515ea9b",
   "metadata": {},
   "outputs": [
    {
     "name": "stderr",
     "output_type": "stream",
     "text": [
      "[nltk_data] Downloading package stopwords to /Users/deth/nltk_data...\n",
      "[nltk_data]   Package stopwords is already up-to-date!\n"
     ]
    },
    {
     "data": {
      "text/plain": [
       "True"
      ]
     },
     "execution_count": 9,
     "metadata": {},
     "output_type": "execute_result"
    }
   ],
   "source": [
    "import nltk \n",
    "nltk.download('stopwords')"
   ]
  },
  {
   "cell_type": "code",
   "execution_count": null,
   "id": "e3cfe573",
   "metadata": {},
   "outputs": [],
   "source": []
  },
  {
   "cell_type": "code",
   "execution_count": 10,
   "id": "d6d5110d",
   "metadata": {},
   "outputs": [],
   "source": [
    "sentences=df['text'].values\n",
    "y=df['deceptive'].values\n"
   ]
  },
  {
   "cell_type": "code",
   "execution_count": 11,
   "id": "abe0bf8a",
   "metadata": {},
   "outputs": [
    {
     "data": {
      "text/plain": [
       "array(['truthful', 'truthful', 'truthful', ..., 'deceptive', 'deceptive',\n",
       "       'deceptive'], dtype=object)"
      ]
     },
     "execution_count": 11,
     "metadata": {},
     "output_type": "execute_result"
    }
   ],
   "source": [
    "y"
   ]
  },
  {
   "cell_type": "code",
   "execution_count": 12,
   "id": "cd094059",
   "metadata": {},
   "outputs": [],
   "source": [
    "from sklearn.preprocessing import LabelEncoder\n",
    "from sklearn.model_selection import train_test_split\n",
    "\n",
    "le = LabelEncoder()\n",
    "y = le.fit_transform(y)"
   ]
  },
  {
   "cell_type": "code",
   "execution_count": 13,
   "id": "0e9b6217",
   "metadata": {},
   "outputs": [
    {
     "data": {
      "text/plain": [
       "array([1, 1, 1, ..., 0, 0, 0])"
      ]
     },
     "execution_count": 13,
     "metadata": {},
     "output_type": "execute_result"
    }
   ],
   "source": [
    "y"
   ]
  },
  {
   "cell_type": "code",
   "execution_count": 14,
   "id": "0d4811f2",
   "metadata": {},
   "outputs": [],
   "source": [
    "from sklearn.model_selection import train_test_split\n",
    "from keras.preprocessing.text import Tokenizer\n",
    "from tensorflow.keras.preprocessing.sequence import pad_sequences\n",
    "\n",
    "\n",
    "\n",
    "sentences_train, sentences_test, y_train, y_test = train_test_split(sentences,y, test_size=0.2, shuffle=True,\n",
    "                                                                    random_state=1000)\n",
    "\n",
    "sentences_train, sentences_val, y_train, y_val = train_test_split(sentences_train, y_train, \n",
    "    test_size=0.25, random_state= 8) # 0.25 x 0.8 = 0.2\n",
    "\n",
    "\n",
    "tokenizer = Tokenizer(num_words=20000)\n",
    "tokenizer.fit_on_texts(sentences_train)\n",
    "\n",
    "x_train = tokenizer.texts_to_sequences(sentences_train)\n",
    "x_test = tokenizer.texts_to_sequences(sentences_test)\n",
    "x_val = tokenizer.texts_to_sequences(sentences_val)\n",
    "\n",
    "# Adding 1 because of reserved 0 index\n",
    "vocab_size = len(tokenizer.word_index) + 1\n",
    "maxlen = 100\n",
    "\n",
    "x_train = pad_sequences(x_train, padding = 'post', maxlen=maxlen)\n",
    "x_test = pad_sequences(x_test, padding = 'post', maxlen=maxlen)\n",
    "x_val = pad_sequences(x_val,padding = 'post',maxlen=maxlen)"
   ]
  },
  {
   "cell_type": "markdown",
   "id": "f808b16f",
   "metadata": {},
   "source": [
    "# build model using train and validation data"
   ]
  },
  {
   "cell_type": "code",
   "execution_count": 15,
   "id": "2f6ead35",
   "metadata": {},
   "outputs": [
    {
     "name": "stderr",
     "output_type": "stream",
     "text": [
      "2023-04-10 15:08:42.314824: I tensorflow/core/platform/cpu_feature_guard.cc:193] This TensorFlow binary is optimized with oneAPI Deep Neural Network Library (oneDNN) to use the following CPU instructions in performance-critical operations:  AVX2 FMA\n",
      "To enable them in other operations, rebuild TensorFlow with the appropriate compiler flags.\n"
     ]
    },
    {
     "name": "stdout",
     "output_type": "stream",
     "text": [
      "Epoch 1/30\n",
      "30/30 [==============================] - 7s 150ms/step - loss: 1.4946 - accuracy: 0.5010 - val_loss: 1.1049 - val_accuracy: 0.4625\n",
      "Epoch 2/30\n",
      "30/30 [==============================] - 4s 132ms/step - loss: 0.9204 - accuracy: 0.5365 - val_loss: 0.7863 - val_accuracy: 0.5750\n",
      "Epoch 3/30\n",
      "30/30 [==============================] - 4s 132ms/step - loss: 0.6604 - accuracy: 0.7000 - val_loss: 0.6058 - val_accuracy: 0.7688\n",
      "Epoch 4/30\n",
      "30/30 [==============================] - 4s 128ms/step - loss: 0.3404 - accuracy: 0.9135 - val_loss: 0.5430 - val_accuracy: 0.7844\n",
      "Epoch 5/30\n",
      "30/30 [==============================] - 4s 129ms/step - loss: 0.2048 - accuracy: 0.9698 - val_loss: 1.1230 - val_accuracy: 0.6875\n",
      "Epoch 6/30\n",
      "30/30 [==============================] - 4s 133ms/step - loss: 0.2689 - accuracy: 0.9458 - val_loss: 0.8380 - val_accuracy: 0.7250\n",
      "Epoch 7/30\n",
      "30/30 [==============================] - 4s 131ms/step - loss: 0.1568 - accuracy: 0.9844 - val_loss: 1.3514 - val_accuracy: 0.7469\n",
      "Epoch 8/30\n",
      "30/30 [==============================] - 4s 128ms/step - loss: 0.1071 - accuracy: 0.9927 - val_loss: 0.8926 - val_accuracy: 0.7656\n",
      "Epoch 9/30\n",
      "30/30 [==============================] - 4s 128ms/step - loss: 0.0735 - accuracy: 0.9969 - val_loss: 1.1147 - val_accuracy: 0.7750\n",
      "Epoch 10/30\n",
      "30/30 [==============================] - 4s 129ms/step - loss: 0.0570 - accuracy: 0.9979 - val_loss: 1.0525 - val_accuracy: 0.7781\n",
      "Epoch 11/30\n",
      "30/30 [==============================] - 4s 129ms/step - loss: 0.0596 - accuracy: 0.9948 - val_loss: 1.1052 - val_accuracy: 0.7563\n",
      "Epoch 12/30\n",
      "30/30 [==============================] - 4s 125ms/step - loss: 0.0850 - accuracy: 0.9875 - val_loss: 1.0289 - val_accuracy: 0.7531\n",
      "Epoch 13/30\n",
      "30/30 [==============================] - 4s 124ms/step - loss: 0.2203 - accuracy: 0.8979 - val_loss: 0.9319 - val_accuracy: 0.5500\n",
      "Epoch 14/30\n",
      "30/30 [==============================] - 4s 125ms/step - loss: 0.2734 - accuracy: 0.9531 - val_loss: 0.6585 - val_accuracy: 0.7625\n",
      "Epoch 15/30\n",
      "30/30 [==============================] - 4s 126ms/step - loss: 0.1375 - accuracy: 0.9865 - val_loss: 1.6322 - val_accuracy: 0.5906\n",
      "Epoch 16/30\n",
      "30/30 [==============================] - 4s 126ms/step - loss: 0.4403 - accuracy: 0.8542 - val_loss: 0.8798 - val_accuracy: 0.6438\n",
      "Epoch 17/30\n",
      "30/30 [==============================] - 4s 127ms/step - loss: 0.2399 - accuracy: 0.9104 - val_loss: 0.7996 - val_accuracy: 0.5312\n",
      "Epoch 18/30\n",
      "30/30 [==============================] - 4s 126ms/step - loss: 0.5298 - accuracy: 0.8083 - val_loss: 0.7561 - val_accuracy: 0.7000\n",
      "Epoch 19/30\n",
      "30/30 [==============================] - 4s 127ms/step - loss: 0.2320 - accuracy: 0.9635 - val_loss: 1.1209 - val_accuracy: 0.7250\n",
      "Epoch 20/30\n",
      "30/30 [==============================] - 4s 125ms/step - loss: 0.1567 - accuracy: 0.9865 - val_loss: 1.3051 - val_accuracy: 0.6750\n",
      "Epoch 21/30\n",
      "30/30 [==============================] - 4s 125ms/step - loss: 0.1167 - accuracy: 0.9990 - val_loss: 1.4667 - val_accuracy: 0.7375\n",
      "Epoch 22/30\n",
      "30/30 [==============================] - 4s 126ms/step - loss: 0.0971 - accuracy: 1.0000 - val_loss: 1.7833 - val_accuracy: 0.7000\n",
      "Epoch 23/30\n",
      "30/30 [==============================] - 4s 126ms/step - loss: 0.0873 - accuracy: 0.9979 - val_loss: 1.4986 - val_accuracy: 0.7219\n",
      "Epoch 24/30\n",
      "30/30 [==============================] - 4s 128ms/step - loss: 0.0772 - accuracy: 1.0000 - val_loss: 1.8074 - val_accuracy: 0.7219\n",
      "10/10 [==============================] - 0s 24ms/step - loss: 1.8074 - accuracy: 0.7219\n",
      "Test loss: 1.807422399520874\n",
      "Test accuracy: 0.721875011920929\n"
     ]
    }
   ],
   "source": [
    "from keras.models import Sequential\n",
    "from keras import layers\n",
    "from keras.wrappers.scikit_learn import KerasClassifier\n",
    "from sklearn.ensemble import BaggingClassifier\n",
    "import tensorflow as tf\n",
    "from tensorflow.keras.layers import Embedding, Conv1D, LSTM, Dense, MaxPooling1D\n",
    "from keras.layers import Dropout, Flatten, Bidirectional, Dense, Activation, TimeDistributed\n",
    "from tensorflow.keras.callbacks import EarlyStopping\n",
    "reg = tf.keras.regularizers.l2(0.01)\n",
    "reg1 = tf.keras.regularizers.l2(0.01)\n",
    "early_stop = EarlyStopping(monitor='val_loss', patience=20)\n",
    "\n",
    "embedding_layer = Embedding(20000, 128, input_length=100)\n",
    "cnn_layer = Conv1D(filters=128, kernel_size=3, activation='relu', kernel_regularizer=reg)\n",
    "# cnn_layer = Conv1D(filters=128, kernel_size=3, activation='relu')\n",
    "\n",
    "pooling_layer = MaxPooling1D(pool_size=3)\n",
    "# lstm_layer = LSTM(500)\n",
    "bi_lstm = (LSTM(350))\n",
    "dropout_layer = Dropout(0.2)\n",
    "output_layer = Dense(1, activation='sigmoid', kernel_regularizer=reg1)\n",
    "# output_layer = Dense(1, activation='sigmoid')\n",
    "\n",
    "input_ = Input(shape=(100,))\n",
    "x = embedding_layer(input_)\n",
    "x = cnn_layer(x)\n",
    "x = dropout_layer(x)\n",
    "x = pooling_layer(x)\n",
    "x = dropout_layer(x)\n",
    "# x = cnn_layer(x)\n",
    "# x = dropout_layer(x)\n",
    "# x = pooling_layer(x)\n",
    "# x = dropout_layer(x)\n",
    "\n",
    "x = bi_lstm(x)\n",
    "x = dropout_layer(x)\n",
    "output = output_layer(x)\n",
    "\n",
    "cnn_model = Model(input_, output)\n",
    "\n",
    "\n",
    "cnn_model.compile(optimizer='adam',\n",
    "              loss='binary_crossentropy',\n",
    "              metrics=['accuracy'])\n",
    "\n",
    "# model = KerasClassifier(build_fn=cnn_model,epochs=30,batch_size=32)\n",
    "\n",
    "# bagging_model = BaggingClassifier(base_estimator=model, n_estimators=10, random_state=100)\n",
    "\n",
    "\n",
    "history_c = cnn_model.fit(x_train, y_train,epochs=30,\n",
    "                    validation_data=(x_val, y_val),\n",
    "                    batch_size=32,callbacks=[early_stop])\n",
    "# history_c = bagging_model.fit(x_train, y_train,\n",
    "#                               validation_data=(x_val, y_val), \n",
    "#                               callbacks=[early_stop])\n",
    "score = cnn_model.evaluate(x_val, y_val)\n",
    "print(\"Test loss:\", score[0])\n",
    "print(\"Test accuracy:\", score[1])\n",
    "\n",
    "\n"
   ]
  },
  {
   "cell_type": "code",
   "execution_count": 16,
   "id": "3ea45794",
   "metadata": {},
   "outputs": [
    {
     "name": "stdout",
     "output_type": "stream",
     "text": [
      "Epoch 1/5\n",
      "30/30 [==============================] - 4s 121ms/step - loss: 0.0661 - accuracy: 1.0000\n",
      "Epoch 2/5\n",
      "30/30 [==============================] - 4s 117ms/step - loss: 0.0581 - accuracy: 1.0000\n",
      "Epoch 3/5\n",
      "30/30 [==============================] - 4s 118ms/step - loss: 0.0517 - accuracy: 1.0000\n",
      "Epoch 4/5\n",
      "30/30 [==============================] - 4s 117ms/step - loss: 0.0454 - accuracy: 1.0000\n",
      "Epoch 5/5\n",
      "30/30 [==============================] - 4s 118ms/step - loss: 0.0401 - accuracy: 1.0000\n",
      "10/10 [==============================] - 0s 24ms/step - loss: 1.7463 - accuracy: 0.7063\n",
      "Epoch 1/5\n",
      "30/30 [==============================] - 4s 119ms/step - loss: 0.0357 - accuracy: 1.0000\n",
      "Epoch 2/5\n",
      "30/30 [==============================] - 4s 119ms/step - loss: 0.0328 - accuracy: 0.9990\n",
      "Epoch 3/5\n",
      "30/30 [==============================] - 4s 119ms/step - loss: 0.0308 - accuracy: 1.0000\n",
      "Epoch 4/5\n",
      "30/30 [==============================] - 4s 118ms/step - loss: 0.0274 - accuracy: 1.0000\n",
      "Epoch 5/5\n",
      "30/30 [==============================] - 4s 121ms/step - loss: 0.0243 - accuracy: 1.0000\n",
      "10/10 [==============================] - 0s 24ms/step - loss: 1.7790 - accuracy: 0.7156\n",
      "Epoch 1/5\n",
      "30/30 [==============================] - 4s 127ms/step - loss: 0.0217 - accuracy: 1.0000\n",
      "Epoch 2/5\n",
      "30/30 [==============================] - 4s 119ms/step - loss: 0.0195 - accuracy: 1.0000\n",
      "Epoch 3/5\n",
      "30/30 [==============================] - 4s 120ms/step - loss: 0.3002 - accuracy: 0.8406\n",
      "Epoch 4/5\n",
      "30/30 [==============================] - 4s 123ms/step - loss: 0.4154 - accuracy: 0.9062\n",
      "Epoch 5/5\n",
      "30/30 [==============================] - 4s 119ms/step - loss: 0.1915 - accuracy: 0.9792\n",
      "10/10 [==============================] - 0s 24ms/step - loss: 1.6463 - accuracy: 0.6812\n",
      "Epoch 1/5\n",
      "30/30 [==============================] - 4s 122ms/step - loss: 0.0978 - accuracy: 0.9937\n",
      "Epoch 2/5\n",
      "30/30 [==============================] - 4s 120ms/step - loss: 0.0520 - accuracy: 0.9990\n",
      "Epoch 3/5\n",
      "30/30 [==============================] - 4s 120ms/step - loss: 0.0426 - accuracy: 1.0000\n",
      "Epoch 4/5\n",
      "30/30 [==============================] - 4s 119ms/step - loss: 0.0357 - accuracy: 1.0000\n",
      "Epoch 5/5\n",
      "30/30 [==============================] - 4s 119ms/step - loss: 0.0303 - accuracy: 1.0000\n",
      "10/10 [==============================] - 0s 26ms/step - loss: 1.5509 - accuracy: 0.7094\n",
      "Epoch 1/5\n",
      "30/30 [==============================] - 4s 120ms/step - loss: 0.0257 - accuracy: 1.0000\n",
      "Epoch 2/5\n",
      "30/30 [==============================] - 4s 120ms/step - loss: 0.0224 - accuracy: 1.0000\n",
      "Epoch 3/5\n",
      "30/30 [==============================] - 4s 122ms/step - loss: 0.0434 - accuracy: 0.9948\n",
      "Epoch 4/5\n",
      "30/30 [==============================] - 4s 120ms/step - loss: 0.1324 - accuracy: 0.9760\n",
      "Epoch 5/5\n",
      "30/30 [==============================] - 4s 121ms/step - loss: 0.0845 - accuracy: 0.9958\n",
      "10/10 [==============================] - 0s 25ms/step - loss: 1.1286 - accuracy: 0.7156\n",
      "Avg. cross-val accuracy: 1.137923401594162\n"
     ]
    }
   ],
   "source": [
    "from sklearn.model_selection import KFold\n",
    "import numpy as np\n",
    "\n",
    "k = 5\n",
    "kf = KFold(n_splits=k)\n",
    "scores = []\n",
    "\n",
    "for train_index, test_index in kf.split(sentences):\n",
    "#     X_train, X_test = X[train_index], X[test_index]\n",
    "#     y_train, y_test = y[train_index], y[test_index]\n",
    "    \n",
    "    cnn_model.fit(x_train, y_train, epochs=5)\n",
    "    scores.append(cnn_model.evaluate(x_val, y_val))\n",
    "\n",
    "print(\"Avg. cross-val accuracy:\", np.mean(scores))\n",
    "# print(\"Avg. cross-val accuracy:\", (scores))\n",
    "\n"
   ]
  },
  {
   "cell_type": "code",
   "execution_count": 17,
   "id": "987748cb",
   "metadata": {},
   "outputs": [
    {
     "name": "stdout",
     "output_type": "stream",
     "text": [
      "Keras weights file (<HDF5 file \"variables.h5\" (mode r+)>) saving:\n",
      "...layers\n",
      "......conv1d\n",
      ".........vars\n",
      "............0\n",
      "............1\n",
      "......dense\n",
      ".........vars\n",
      "............0\n",
      "............1\n",
      "......dropout\n",
      ".........vars\n",
      "......embedding\n",
      ".........vars\n",
      "............0\n",
      "......input_layer\n",
      ".........vars\n",
      "......lstm\n",
      ".........cell\n",
      "............vars\n",
      "...............0\n",
      "...............1\n",
      "...............2\n",
      ".........vars\n",
      "......max_pooling1d\n",
      ".........vars\n",
      "...metrics\n",
      "......mean\n",
      ".........vars\n",
      "............0\n",
      "............1\n",
      "......mean_metric_wrapper\n",
      ".........vars\n",
      "............0\n",
      "............1\n",
      "...optimizer\n",
      "......vars\n",
      ".........0\n",
      ".........1\n",
      ".........10\n",
      ".........11\n",
      ".........12\n",
      ".........13\n",
      ".........14\n",
      ".........15\n",
      ".........16\n",
      ".........2\n",
      ".........3\n",
      ".........4\n",
      ".........5\n",
      ".........6\n",
      ".........7\n",
      ".........8\n",
      ".........9\n",
      "...vars\n",
      "Keras model archive saving:\n",
      "File Name                                             Modified             Size\n",
      "config.json                                    2023-04-10 15:11:49         3837\n",
      "metadata.json                                  2023-04-10 15:11:49           64\n",
      "variables.h5                                   2023-04-10 15:11:49     39398880\n"
     ]
    }
   ],
   "source": [
    "import pickle\n",
    "pickle.dump(cnn_model, open('model2_22.pkl', 'wb'));\n",
    "# cnn_model.save('model.pkl')"
   ]
  },
  {
   "cell_type": "code",
   "execution_count": 18,
   "id": "02b7386b",
   "metadata": {},
   "outputs": [
    {
     "data": {
      "image/png": "[encoded data removed]",
      "text/plain": [
       "<Figure size 640x480 with 1 Axes>"
      ]
     },
     "metadata": {},
     "output_type": "display_data"
    },
    {
     "data": {
      "image/png": "[encoded data removed]",
      "text/plain": [
       "<Figure size 640x480 with 1 Axes>"
      ]
     },
     "metadata": {},
     "output_type": "display_data"
    }
   ],
   "source": [
    "def show_train_history(train_history,train,validation):\n",
    "    plt.plot(train_history.history[train])\n",
    "    plt.plot(train_history.history[validation])\n",
    "    plt.title('Train History')\n",
    "    plt.ylabel(train)\n",
    "    plt.xlabel('Epoch')\n",
    "    plt.legend(['train', 'validation'], loc='upper left')\n",
    "    plt.show()\n",
    "    \n",
    "show_train_history(history_c,'accuracy','val_accuracy')\n",
    "show_train_history(history_c,'loss','val_loss')"
   ]
  },
  {
   "cell_type": "markdown",
   "id": "8dd8b427",
   "metadata": {},
   "source": [
    "# measure accuracy and other measurement using validation set"
   ]
  },
  {
   "cell_type": "code",
   "execution_count": 19,
   "id": "3a3378f6",
   "metadata": {},
   "outputs": [
    {
     "name": "stdout",
     "output_type": "stream",
     "text": [
      "10/10 [==============================] - 1s 24ms/step\n",
      "              precision    recall  f1-score   support\n",
      "\n",
      "           0       0.74      0.72      0.73       172\n",
      "           1       0.69      0.71      0.70       148\n",
      "\n",
      "    accuracy                           0.72       320\n",
      "   macro avg       0.71      0.72      0.71       320\n",
      "weighted avg       0.72      0.72      0.72       320\n",
      "\n"
     ]
    }
   ],
   "source": [
    "from sklearn.metrics import classification_report\n",
    "\n",
    "\n",
    "y_pred = np.round(cnn_model.predict(x_val).ravel())\n",
    "\n",
    "print (classification_report(y_val, y_pred))\n"
   ]
  },
  {
   "cell_type": "code",
   "execution_count": 20,
   "id": "94ebc826",
   "metadata": {},
   "outputs": [
    {
     "name": "stdout",
     "output_type": "stream",
     "text": [
      "0.715625\n"
     ]
    }
   ],
   "source": [
    "from sklearn.metrics import accuracy_score\n",
    "\n",
    "print(accuracy_score(y_val,y_pred))"
   ]
  },
  {
   "cell_type": "code",
   "execution_count": 21,
   "id": "67cb30a1",
   "metadata": {},
   "outputs": [],
   "source": [
    "y_pred_label = []\n",
    "for i in y_pred:\n",
    "    if i == 1:\n",
    "        y_pred_label.append(\"truthful\")\n",
    "    else:\n",
    "        y_pred_label.append(\"deceptive\")\n",
    "\n",
    "        \n",
    "\n",
    "# y_pred_label"
   ]
  },
  {
   "cell_type": "code",
   "execution_count": 22,
   "id": "ad801c14",
   "metadata": {},
   "outputs": [],
   "source": [
    "y_val_label = []\n",
    "for i in y_val:\n",
    "    if i == 1:\n",
    "        y_val_label.append(\"truthful\")\n",
    "    else:\n",
    "        y_val_label.append(\"deceptive\")\n",
    "\n",
    "\n",
    "# y_test_label"
   ]
  },
  {
   "cell_type": "code",
   "execution_count": 23,
   "id": "13155086",
   "metadata": {},
   "outputs": [],
   "source": [
    "def num_decep_truth(pred):\n",
    "    num_deceptive = 0\n",
    "    num_truthful = 0\n",
    "\n",
    "    for i in pred:\n",
    "        if i == 'deceptive':\n",
    "            num_deceptive+=1\n",
    "        elif i == 'truthful':\n",
    "            num_truthful+=1\n",
    "    return {\"num_deceptive\":num_deceptive,\"num_truthful\":num_truthful}"
   ]
  },
  {
   "cell_type": "code",
   "execution_count": 24,
   "id": "b9a4d330",
   "metadata": {},
   "outputs": [],
   "source": [
    "# sentences_val"
   ]
  },
  {
   "cell_type": "code",
   "execution_count": 25,
   "id": "b0e9c687",
   "metadata": {},
   "outputs": [
    {
     "data": {
      "text/html": [
       "<div>\n",
       "<style scoped>\n",
       "    .dataframe tbody tr th:only-of-type {\n",
       "        vertical-align: middle;\n",
       "    }\n",
       "\n",
       "    .dataframe tbody tr th {\n",
       "        vertical-align: top;\n",
       "    }\n",
       "\n",
       "    .dataframe thead th {\n",
       "        text-align: right;\n",
       "    }\n",
       "</style>\n",
       "<table border=\"1\" class=\"dataframe\">\n",
       "  <thead>\n",
       "    <tr style=\"text-align: right;\">\n",
       "      <th></th>\n",
       "      <th>val</th>\n",
       "      <th>Pred</th>\n",
       "      <th>True_label</th>\n",
       "      <th>result</th>\n",
       "    </tr>\n",
       "  </thead>\n",
       "  <tbody>\n",
       "    <tr>\n",
       "      <th>0</th>\n",
       "      <td>overall  the hotel is beautiful  the service was great  all the employees were friendly and always willing to help  my room on the north end had a great view of the city and the chicago river  the bed and big fluffy pillows were very comfortable and relaxing  the only downfalls were parking and the fitness room  parking was a little on the pricey side and not exactly as close to the hotel as one would think it should be  the hotel itself is huge with over  rooms  so you may feel like your getting your daily exercise in just walking from your room to the fitness center depending on where your room is located</td>\n",
       "      <td>truthful</td>\n",
       "      <td>deceptive</td>\n",
       "      <td>0</td>\n",
       "    </tr>\n",
       "    <tr>\n",
       "      <th>194</th>\n",
       "      <td>this hotel was perfect for our girls getaway  the decor is fun   refreshing  loved the roof top bar  every staff member was friendly   always smiling  the location is perfect for michigan ave shopping  the beach  dinner and night life  it was a mile or two from millenium station  the concierge recommended a couple places to hang out after dinner and added our names to the guest list  i m sure they do it all the time but still a nice gesture</td>\n",
       "      <td>deceptive</td>\n",
       "      <td>truthful</td>\n",
       "      <td>0</td>\n",
       "    </tr>\n",
       "    <tr>\n",
       "      <th>193</th>\n",
       "      <td>we really enjoyed our stay  it is a beautiful hotel and the entire staff is helpful and polite  they had great suggestions on where to eat  what to do  etc  we were within walking distance of many great chicago locations like the navy pier and art institute  the rooms were clean and the beds comfortable  i would recommend this hotel to anyone looking for a great home away from home in chicago</td>\n",
       "      <td>truthful</td>\n",
       "      <td>deceptive</td>\n",
       "      <td>0</td>\n",
       "    </tr>\n",
       "    <tr>\n",
       "      <th>187</th>\n",
       "      <td>i recently stayed at the palmer house hilton on a business trip to chicago  i will do my best to make sure that future employees of my company do i have to stay here  when the reservation was made  an early check in was arranged    due to travel arrangements  my travel companion and i were to get to the city in the early hours of the morning  we had arranged an early check in without having to pay for the night before  there was no fuss raised when we agreed on this and so we assumed it would be fine  when we got there  however  there were no rooms available for us for hours and they refused to keep our bags  we were forced to change clothes and wash up in the public restrooms of the office building where our first meeting took place  and cart our bags around with us  they offered insincere apologies and didn t offer to comp us anything for the inconvenience  the rest of the stay  one night  was nothing to praise  i guess not having bugs would count as positive  i would definitely never recommend that anyone stay here</td>\n",
       "      <td>truthful</td>\n",
       "      <td>deceptive</td>\n",
       "      <td>0</td>\n",
       "    </tr>\n",
       "    <tr>\n",
       "      <th>182</th>\n",
       "      <td>i had a great time here  it is centerally located in chicago so walking around is so easy and pleasent  the staff was amazing and very helpful  parking was a bit steep  but to be expected  the room was very nice and the bed and linens were very confortable  the yoga mat rental was wonderful as well  wonderful and relaxing experience overall</td>\n",
       "      <td>deceptive</td>\n",
       "      <td>truthful</td>\n",
       "      <td>0</td>\n",
       "    </tr>\n",
       "    <tr>\n",
       "      <th>...</th>\n",
       "      <td>...</td>\n",
       "      <td>...</td>\n",
       "      <td>...</td>\n",
       "      <td>...</td>\n",
       "    </tr>\n",
       "    <tr>\n",
       "      <th>160</th>\n",
       "      <td>the omni chicago is hands down  the best hotel in my opinion in the chicago area  i am a neat freak but here you need not worry about cleanliness as they are the best at keeping the rooms tidy  our check in was easy and fast and the staff at the hotel was very courteous and friendly  i forgot my hair dryer but thankfully  one of the many perks at this hotel  they provide one for you in your room  that s a small benefit compared to the lucious pool and dreamy massages they offer  i have never had a massage like that before  my favortie thing about the omni is the high speed wireless internet that is available to all guests  i am able to do my work online in all areas of the hotel which saved me a lot of time as i was not at my office but still had a lot of work to get done  i also loved the tv they provide in the room  a big plasma with a beautiful  crisp picture  i don t even have that at home  needless to say  i spent almost all night lounging in the comfortable bed watching movies only to fall asleep and wake up to the newspaper delivered to my hotel door in the morning  i will be coming back to the omni on my next trip to chicago  that s a promise</td>\n",
       "      <td>deceptive</td>\n",
       "      <td>deceptive</td>\n",
       "      <td>1</td>\n",
       "    </tr>\n",
       "    <tr>\n",
       "      <th>161</th>\n",
       "      <td>i recently stayed at the affina chicago hotel and was really dissappointed  when i arrived  the desk clerk was really slow checking me in  i feel like turtles could have checked me in faster  i was finally checked in and my room was on the  floor  the elevator ride seemed to take forever  i arrived and the room and at first glance it looked great  but after looking everything over there were finger smudges on the glass table  i figured maybe room cleanin must have accidentally touched it  i went to the c house for supper that evening and i had to wait for what seemed like forever  the meal was good  but my waitress was very uptight  on my way back to my room  i asked the front desk to set up a wake up call for  am the next morning and they were very grateful to set that up  it would have been nice to actually get it though  the next morning i surprisingly work up at   am and realized that i had not received a wake up call  i was very upset and let them know  overall this experience was not worth the  stars that this hotel has been given  for the price  quality and ratings the affina chicago hotel has been given  i would expect better service</td>\n",
       "      <td>deceptive</td>\n",
       "      <td>deceptive</td>\n",
       "      <td>1</td>\n",
       "    </tr>\n",
       "    <tr>\n",
       "      <th>162</th>\n",
       "      <td>i stayed at the sheraton chicago hotel and towers a couple nights ago  the service was excellent   as soon as i stepped through the door they grabbed my bags  and were helping me choose the best hotel room for me  i loved there service and the room was gorgeous  i highly recommend it for anyone  and there prices aren t as bad as others  i loved the experience and i m sure next time i m in the area i ll visit again</td>\n",
       "      <td>deceptive</td>\n",
       "      <td>deceptive</td>\n",
       "      <td>1</td>\n",
       "    </tr>\n",
       "    <tr>\n",
       "      <th>132</th>\n",
       "      <td>move beyond the rock theme and it s an average hotel with a good location  room was unbearably hot and the controls on the wall did nothing  thank goodness the window opened or we d have been cooked alive  that of course let in all the noise from michigan ave  this combined with our neighbors door slamming against their thrown door lock every  seconds made for a lively setting  room was stuffy too  burn marks on carpet lead me to believe nasty smokers had occupied room on many occasions  wife happy w  aveda in bath  base bar was good with great service and well made drinks tho pricey</td>\n",
       "      <td>truthful</td>\n",
       "      <td>truthful</td>\n",
       "      <td>1</td>\n",
       "    </tr>\n",
       "    <tr>\n",
       "      <th>36</th>\n",
       "      <td>my husband   i stayed at the fitzpatrick in early june  for my birthday great hotel  location provides easy walking to navy pier  marshall field  michigan avenue   john hancock  room seemed spacious even though its only about  sq ft  lots of room in bathroom  comfortable bed  very quiet  upscale hotel  we would definitely stay here again</td>\n",
       "      <td>truthful</td>\n",
       "      <td>truthful</td>\n",
       "      <td>1</td>\n",
       "    </tr>\n",
       "  </tbody>\n",
       "</table>\n",
       "<p>320 rows × 4 columns</p>\n",
       "</div>"
      ],
      "text/plain": [
       "                                                                                                                                                                                                                                                                                                                                                                                                                                                                                                                                                                                                                                                                                                                                                                                                                                                                                                                                                                                                                                                                                                                                                                                                                     val  \\\n",
       "0                                                                                                                                                                                                                                                                                                                                                                                                                                                                                                                                                                              overall  the hotel is beautiful  the service was great  all the employees were friendly and always willing to help  my room on the north end had a great view of the city and the chicago river  the bed and big fluffy pillows were very comfortable and relaxing  the only downfalls were parking and the fitness room  parking was a little on the pricey side and not exactly as close to the hotel as one would think it should be  the hotel itself is huge with over  rooms  so you may feel like your getting your daily exercise in just walking from your room to the fitness center depending on where your room is located      \n",
       "194                                                                                                                                                                                                                                                                                                                                                                                                                                                                                                                                                                                                                                                                                                                                                     this hotel was perfect for our girls getaway  the decor is fun   refreshing  loved the roof top bar  every staff member was friendly   always smiling  the location is perfect for michigan ave shopping  the beach  dinner and night life  it was a mile or two from millenium station  the concierge recommended a couple places to hang out after dinner and added our names to the guest list  i m sure they do it all the time but still a nice gesture       \n",
       "193                                                                                                                                                                                                                                                                                                                                                                                                                                                                                                                                                                                                                                                                                                                                                                                                        we really enjoyed our stay  it is a beautiful hotel and the entire staff is helpful and polite  they had great suggestions on where to eat  what to do  etc  we were within walking distance of many great chicago locations like the navy pier and art institute  the rooms were clean and the beds comfortable  i would recommend this hotel to anyone looking for a great home away from home in chicago     \n",
       "187                                                                                                                                          i recently stayed at the palmer house hilton on a business trip to chicago  i will do my best to make sure that future employees of my company do i have to stay here  when the reservation was made  an early check in was arranged    due to travel arrangements  my travel companion and i were to get to the city in the early hours of the morning  we had arranged an early check in without having to pay for the night before  there was no fuss raised when we agreed on this and so we assumed it would be fine  when we got there  however  there were no rooms available for us for hours and they refused to keep our bags  we were forced to change clothes and wash up in the public restrooms of the office building where our first meeting took place  and cart our bags around with us  they offered insincere apologies and didn t offer to comp us anything for the inconvenience  the rest of the stay  one night  was nothing to praise  i guess not having bugs would count as positive  i would definitely never recommend that anyone stay here     \n",
       "182                                                                                                                                                                                                                                                                                                                                                                                                                                                                                                                                                                                                                                                                                                                                                                                                                                                            i had a great time here  it is centerally located in chicago so walking around is so easy and pleasent  the staff was amazing and very helpful  parking was a bit steep  but to be expected  the room was very nice and the bed and linens were very confortable  the yoga mat rental was wonderful as well  wonderful and relaxing experience overall      \n",
       "..                                                                                                                                                                                                                                                                                                                                                                                                                                                                                                                                                                                                                                                                                                                                                                                                                                                                                                                                                                                                                                                                                                                                                                                                                   ...   \n",
       "160  the omni chicago is hands down  the best hotel in my opinion in the chicago area  i am a neat freak but here you need not worry about cleanliness as they are the best at keeping the rooms tidy  our check in was easy and fast and the staff at the hotel was very courteous and friendly  i forgot my hair dryer but thankfully  one of the many perks at this hotel  they provide one for you in your room  that s a small benefit compared to the lucious pool and dreamy massages they offer  i have never had a massage like that before  my favortie thing about the omni is the high speed wireless internet that is available to all guests  i am able to do my work online in all areas of the hotel which saved me a lot of time as i was not at my office but still had a lot of work to get done  i also loved the tv they provide in the room  a big plasma with a beautiful  crisp picture  i don t even have that at home  needless to say  i spent almost all night lounging in the comfortable bed watching movies only to fall asleep and wake up to the newspaper delivered to my hotel door in the morning  i will be coming back to the omni on my next trip to chicago  that s a promise      \n",
       "161            i recently stayed at the affina chicago hotel and was really dissappointed  when i arrived  the desk clerk was really slow checking me in  i feel like turtles could have checked me in faster  i was finally checked in and my room was on the  floor  the elevator ride seemed to take forever  i arrived and the room and at first glance it looked great  but after looking everything over there were finger smudges on the glass table  i figured maybe room cleanin must have accidentally touched it  i went to the c house for supper that evening and i had to wait for what seemed like forever  the meal was good  but my waitress was very uptight  on my way back to my room  i asked the front desk to set up a wake up call for  am the next morning and they were very grateful to set that up  it would have been nice to actually get it though  the next morning i surprisingly work up at   am and realized that i had not received a wake up call  i was very upset and let them know  overall this experience was not worth the  stars that this hotel has been given  for the price  quality and ratings the affina chicago hotel has been given  i would expect better service     \n",
       "162                                                                                                                                                                                                                                                                                                                                                                                                                                                                                                                                                                                                                                                                                                                                                                                  i stayed at the sheraton chicago hotel and towers a couple nights ago  the service was excellent   as soon as i stepped through the door they grabbed my bags  and were helping me choose the best hotel room for me  i loved there service and the room was gorgeous  i highly recommend it for anyone  and there prices aren t as bad as others  i loved the experience and i m sure next time i m in the area i ll visit again     \n",
       "132                                                                                                                                                                                                                                                                                                                                                                                                                                                                                                                                                                                                     move beyond the rock theme and it s an average hotel with a good location  room was unbearably hot and the controls on the wall did nothing  thank goodness the window opened or we d have been cooked alive  that of course let in all the noise from michigan ave  this combined with our neighbors door slamming against their thrown door lock every  seconds made for a lively setting  room was stuffy too  burn marks on carpet lead me to believe nasty smokers had occupied room on many occasions  wife happy w  aveda in bath  base bar was good with great service and well made drinks tho pricey     \n",
       "36                                                                                                                                                                                                                                                                                                                                                                                                                                                                                                                                                                                                                                                                                                                                                                                                                                                                my husband   i stayed at the fitzpatrick in early june  for my birthday great hotel  location provides easy walking to navy pier  marshall field  michigan avenue   john hancock  room seemed spacious even though its only about  sq ft  lots of room in bathroom  comfortable bed  very quiet  upscale hotel  we would definitely stay here again      \n",
       "\n",
       "          Pred True_label  result  \n",
       "0     truthful  deceptive       0  \n",
       "194  deceptive   truthful       0  \n",
       "193   truthful  deceptive       0  \n",
       "187   truthful  deceptive       0  \n",
       "182  deceptive   truthful       0  \n",
       "..         ...        ...     ...  \n",
       "160  deceptive  deceptive       1  \n",
       "161  deceptive  deceptive       1  \n",
       "162  deceptive  deceptive       1  \n",
       "132   truthful   truthful       1  \n",
       "36    truthful   truthful       1  \n",
       "\n",
       "[320 rows x 4 columns]"
      ]
     },
     "execution_count": 25,
     "metadata": {},
     "output_type": "execute_result"
    }
   ],
   "source": [
    "predict_val = pd.DataFrame({'val':sentences_val, 'Pred':y_pred_label, 'True_label':y_val_label}, columns=['val','Pred','True_label'])\n",
    "predict_val['result'] = np.where(predict_val['Pred']==predict_val['True_label'], 1, 0)\n",
    "# results.sort_values(by='result').head(20)\n",
    "\n",
    "\n",
    "predict_val.sort_values(by='result')"
   ]
  },
  {
   "cell_type": "code",
   "execution_count": 26,
   "id": "23554391",
   "metadata": {},
   "outputs": [
    {
     "name": "stdout",
     "output_type": "stream",
     "text": [
      "The wrong guess is :  91\n",
      "The right guess is:  229\n"
     ]
    }
   ],
   "source": [
    "wrong = 0\n",
    "right = 0\n",
    "for i in predict_val['result']:\n",
    "    \n",
    "    if i == 0:\n",
    "        wrong+=1\n",
    "    else:\n",
    "        right+=1\n",
    "\n",
    "print(\"The wrong guess is : \", wrong)\n",
    "print(\"The right guess is: \", right)"
   ]
  },
  {
   "cell_type": "code",
   "execution_count": 27,
   "id": "76d90f4e",
   "metadata": {},
   "outputs": [
    {
     "name": "stdout",
     "output_type": "stream",
     "text": [
      "Training loss \t 7.72002711892128\n",
      "Training accuracy  100.0\n",
      "Validation loss  180.7422399520874\n",
      "Validation accuracy  72.1875011920929\n"
     ]
    }
   ],
   "source": [
    "print('Training loss \\t', history_c.history['loss'][-1]*100)\n",
    "print('Training accuracy ',  history_c.history['accuracy'][-1]*100)\n",
    "print('Validation loss ', history_c.history['val_loss'][-1]*100)\n",
    "print('Validation accuracy ',  history_c.history['val_accuracy'][-1]*100)"
   ]
  },
  {
   "cell_type": "code",
   "execution_count": 28,
   "id": "391eac41",
   "metadata": {},
   "outputs": [
    {
     "name": "stdout",
     "output_type": "stream",
     "text": [
      "1/1 [==============================] - 0s 439ms/step\n",
      "0.002458634\n",
      "deceptive\n"
     ]
    }
   ],
   "source": [
    "new_text = \"I love this hotel. The staff is very friendly. I don't think there is any places as good as this\"\n",
    "new_sequence = tokenizer.texts_to_sequences([new_text])\n",
    "new_data = pad_sequences(new_sequence, maxlen=maxlen)\n",
    "prediction = cnn_model.predict(new_data)\n",
    "print(prediction[0][0])\n",
    "prediction_label = np.round(prediction[0][0])\n",
    "print(\"truthful\" if prediction_label==1 else \"deceptive\")"
   ]
  },
  {
   "cell_type": "code",
   "execution_count": 29,
   "id": "4b276c81",
   "metadata": {},
   "outputs": [
    {
     "name": "stdout",
     "output_type": "stream",
     "text": [
      "1/1 [==============================] - 0s 25ms/step\n",
      "0.00701586\n",
      "deceptive\n"
     ]
    }
   ],
   "source": [
    "new_text = \"During my holiday at Bali, I stayed at Hilton hotel. We arrived there at 12am. There was no staff. No one is coming to help us. We have to carry our luggae to the room. There was monkey everywhere. My girlfriend is afraid of monkey and she's not coming to the room. She has a terrible experience. So am I. If only we can get rid of the monkey and the staff is helpful, that would be nice. Why? because the place itself is big and the room is comfortable. The environment is good except the monkey. The service is kind of not so good.\"\n",
    "new_sequence = tokenizer.texts_to_sequences([new_text])\n",
    "new_data = pad_sequences(new_sequence, maxlen=maxlen)\n",
    "prediction = cnn_model.predict(new_data)\n",
    "print(prediction[0][0])\n",
    "prediction_label = np.round(prediction[0][0])\n",
    "print(\"truthful\" if prediction_label==1 else \"deceptive\")"
   ]
  },
  {
   "cell_type": "code",
   "execution_count": 30,
   "id": "5f7a549f",
   "metadata": {},
   "outputs": [
    {
     "name": "stdout",
     "output_type": "stream",
     "text": [
      "1/1 [==============================] - 0s 24ms/step\n",
      "0.27377862\n",
      "deceptive\n"
     ]
    }
   ],
   "source": [
    "new_text = \"We planned to stay for 5 nights on a family trip. I booked this hotel because of the expected value for a suite as well as the free breakfast - get a quick bite, then head out for the day to do normal tourist stuff. Well, our stay here lasted 1 night and we quickly, and thankfully, switched to a different hotel for our last 4 nights. The room was dirty. When we opened the sofabed, the sheets were filthy and there was a mess of dirt and crumbs that fell out. Ridiculous considering this is a suite hotel where the sofabeds are likely used, and theoretically cleaned, a lot. Extra blankets were also dirty and bathrooms weren't much better. Temperature control in the room was imprecise - minor inconvenience but without clean blankets on our only night, it made for a cold stay. If you like to eat for free (they have free breakfasts and dinner on certain nights) and don't care to eat the great food Chicago has to offer, I guess some may find this place tolerable. But we found the buffet no better than average and felt like we were at a Golden Corral. The only thing this hotel really has going for it is location but there are other options in this area (we switched to The James and had a great experience). I couldn't be paid to stay here again. I'm shocked by the high overall rating given our experience.\"\n",
    "new_sequence = tokenizer.texts_to_sequences([new_text])\n",
    "new_data = pad_sequences(new_sequence, maxlen=maxlen)\n",
    "prediction = cnn_model.predict(new_data)\n",
    "print(prediction[0][0])\n",
    "prediction_label = np.round(prediction[0][0])\n",
    "print(\"truthful\" if prediction_label==1 else \"deceptive\")"
   ]
  },
  {
   "cell_type": "code",
   "execution_count": 31,
   "id": "4467059a",
   "metadata": {},
   "outputs": [
    {
     "name": "stdout",
     "output_type": "stream",
     "text": [
      "1/1 [==============================] - 0s 24ms/step\n",
      "0.0069725034\n",
      "deceptive\n"
     ]
    }
   ],
   "source": [
    "new_text = \"I had to do a little research on the Hilton brand because it's not one that I was familiar with. I wanted to know what this hotel chain's reputation was, so I did a little research online and found out that it's pretty well-known as a chain that people book into for their business trips and vacations. I also found out that this hotel chain is pretty well-reviewed by people who have stayed in their hotels.\"\n",
    "new_sequence = tokenizer.texts_to_sequences([new_text])\n",
    "new_data = pad_sequences(new_sequence, maxlen=maxlen)\n",
    "prediction = cnn_model.predict(new_data)\n",
    "print(prediction[0][0])\n",
    "prediction_label = np.round(prediction[0][0])\n",
    "print(\"truthful\" if prediction_label==1 else \"deceptive\")"
   ]
  },
  {
   "cell_type": "code",
   "execution_count": 32,
   "id": "05cd9ed6",
   "metadata": {},
   "outputs": [
    {
     "name": "stdout",
     "output_type": "stream",
     "text": [
      "10/10 [==============================] - 0s 24ms/step\n"
     ]
    }
   ],
   "source": [
    "y_pred = np.round(cnn_model.predict(x_test).ravel())"
   ]
  },
  {
   "cell_type": "markdown",
   "id": "afbe2502",
   "metadata": {},
   "source": [
    "# Test the created model on test data and see it performance "
   ]
  },
  {
   "cell_type": "code",
   "execution_count": 33,
   "id": "730b192b",
   "metadata": {},
   "outputs": [
    {
     "name": "stdout",
     "output_type": "stream",
     "text": [
      "0.728125\n"
     ]
    }
   ],
   "source": [
    "from sklearn.metrics import accuracy_score\n",
    "\n",
    "print(accuracy_score(y_test,y_pred))"
   ]
  },
  {
   "cell_type": "code",
   "execution_count": 34,
   "id": "ac6db82e",
   "metadata": {},
   "outputs": [
    {
     "name": "stdout",
     "output_type": "stream",
     "text": [
      "Epoch 1/5\n",
      "30/30 [==============================] - 4s 120ms/step - loss: 0.0612 - accuracy: 0.9990\n",
      "Epoch 2/5\n",
      "30/30 [==============================] - 4s 120ms/step - loss: 0.0472 - accuracy: 1.0000\n",
      "Epoch 3/5\n",
      "30/30 [==============================] - 4s 120ms/step - loss: 0.0380 - accuracy: 1.0000\n",
      "Epoch 4/5\n",
      "30/30 [==============================] - 4s 120ms/step - loss: 0.0325 - accuracy: 1.0000\n",
      "Epoch 5/5\n",
      "30/30 [==============================] - 4s 121ms/step - loss: 0.0268 - accuracy: 1.0000\n",
      "10/10 [==============================] - 0s 23ms/step - loss: 1.3669 - accuracy: 0.7094\n",
      "Epoch 1/5\n",
      "30/30 [==============================] - 4s 118ms/step - loss: 0.0231 - accuracy: 1.0000\n",
      "Epoch 2/5\n",
      "30/30 [==============================] - 4s 120ms/step - loss: 0.0198 - accuracy: 1.0000\n",
      "Epoch 3/5\n",
      "30/30 [==============================] - 4s 120ms/step - loss: 0.0184 - accuracy: 1.0000\n",
      "Epoch 4/5\n",
      "30/30 [==============================] - 4s 121ms/step - loss: 0.0160 - accuracy: 1.0000\n",
      "Epoch 5/5\n",
      "30/30 [==============================] - 4s 120ms/step - loss: 0.0146 - accuracy: 1.0000\n",
      "10/10 [==============================] - 0s 23ms/step - loss: 1.7395 - accuracy: 0.6938\n",
      "Epoch 1/5\n",
      "30/30 [==============================] - 4s 121ms/step - loss: 0.0129 - accuracy: 1.0000\n",
      "Epoch 2/5\n",
      "30/30 [==============================] - 4s 121ms/step - loss: 0.0542 - accuracy: 0.9896\n",
      "Epoch 3/5\n",
      "30/30 [==============================] - 4s 119ms/step - loss: 0.1355 - accuracy: 0.9479\n",
      "Epoch 4/5\n",
      "30/30 [==============================] - 4s 121ms/step - loss: 0.5723 - accuracy: 0.7719\n",
      "Epoch 5/5\n",
      "30/30 [==============================] - 4s 119ms/step - loss: 0.5749 - accuracy: 0.8948\n",
      "10/10 [==============================] - 0s 24ms/step - loss: 1.8740 - accuracy: 0.5781\n",
      "Epoch 1/5\n",
      "30/30 [==============================] - 4s 122ms/step - loss: 0.5019 - accuracy: 0.9167\n",
      "Epoch 2/5\n",
      "30/30 [==============================] - 4s 120ms/step - loss: 0.2528 - accuracy: 0.9937\n",
      "Epoch 3/5\n",
      "30/30 [==============================] - 4s 121ms/step - loss: 0.2088 - accuracy: 0.9958\n",
      "Epoch 4/5\n",
      "30/30 [==============================] - 4s 120ms/step - loss: 0.1840 - accuracy: 0.9979\n",
      "Epoch 5/5\n",
      "30/30 [==============================] - 4s 121ms/step - loss: 0.1649 - accuracy: 0.9990\n",
      "10/10 [==============================] - 0s 24ms/step - loss: 1.4476 - accuracy: 0.7281\n",
      "Epoch 1/5\n",
      "30/30 [==============================] - 4s 120ms/step - loss: 0.1500 - accuracy: 0.9990\n",
      "Epoch 2/5\n",
      "30/30 [==============================] - 4s 119ms/step - loss: 0.1390 - accuracy: 0.9990\n",
      "Epoch 3/5\n",
      "30/30 [==============================] - 4s 119ms/step - loss: 0.1264 - accuracy: 0.9990\n",
      "Epoch 4/5\n",
      "30/30 [==============================] - 4s 119ms/step - loss: 0.1154 - accuracy: 0.9990\n",
      "Epoch 5/5\n",
      "30/30 [==============================] - 4s 119ms/step - loss: 0.1072 - accuracy: 0.9990\n",
      "10/10 [==============================] - 0s 23ms/step - loss: 1.4772 - accuracy: 0.7000\n",
      "Avg. cross-val accuracy: 1.1314554870128632\n"
     ]
    }
   ],
   "source": [
    "from sklearn.model_selection import KFold\n",
    "import numpy as np\n",
    "\n",
    "k = 5\n",
    "kf = KFold(n_splits=k)\n",
    "scores = []\n",
    "\n",
    "for train_index, test_index in kf.split(sentences):\n",
    "#     X_train, X_test = X[train_index], X[test_index]\n",
    "#     y_train, y_test = y[train_index], y[test_index]\n",
    "    \n",
    "    cnn_model.fit(x_train, y_train, epochs=5)\n",
    "    scores.append(cnn_model.evaluate(x_test, y_test))\n",
    "\n",
    "print(\"Avg. cross-val accuracy:\", np.mean(scores))\n"
   ]
  },
  {
   "cell_type": "code",
   "execution_count": 35,
   "id": "fdc4b3c6",
   "metadata": {},
   "outputs": [
    {
     "name": "stdout",
     "output_type": "stream",
     "text": [
      "              precision    recall  f1-score   support\n",
      "\n",
      "           0       0.71      0.76      0.73       157\n",
      "           1       0.75      0.70      0.72       163\n",
      "\n",
      "    accuracy                           0.73       320\n",
      "   macro avg       0.73      0.73      0.73       320\n",
      "weighted avg       0.73      0.73      0.73       320\n",
      "\n"
     ]
    }
   ],
   "source": [
    "from sklearn.metrics import classification_report\n",
    "\n",
    "print (classification_report(y_test, y_pred))\n"
   ]
  },
  {
   "cell_type": "code",
   "execution_count": 36,
   "id": "215af6ba",
   "metadata": {},
   "outputs": [],
   "source": [
    "y_pred_label = []\n",
    "for i in y_pred:\n",
    "    if i == 1:\n",
    "        y_pred_label.append(\"truthful\")\n",
    "    else:\n",
    "        y_pred_label.append(\"deceptive\")\n",
    "\n",
    "\n",
    "# y_pred_label"
   ]
  },
  {
   "cell_type": "code",
   "execution_count": 37,
   "id": "9255b017",
   "metadata": {},
   "outputs": [],
   "source": [
    "y_test_label = []\n",
    "for i in y_test:\n",
    "    if i == 1:\n",
    "        y_test_label.append(\"truthful\")\n",
    "    else:\n",
    "        y_test_label.append(\"deceptive\")\n",
    "\n",
    "\n",
    "# y_test_label"
   ]
  },
  {
   "cell_type": "code",
   "execution_count": 38,
   "id": "c0e4d892",
   "metadata": {},
   "outputs": [
    {
     "data": {
      "text/html": [
       "<div>\n",
       "<style scoped>\n",
       "    .dataframe tbody tr th:only-of-type {\n",
       "        vertical-align: middle;\n",
       "    }\n",
       "\n",
       "    .dataframe tbody tr th {\n",
       "        vertical-align: top;\n",
       "    }\n",
       "\n",
       "    .dataframe thead th {\n",
       "        text-align: right;\n",
       "    }\n",
       "</style>\n",
       "<table border=\"1\" class=\"dataframe\">\n",
       "  <thead>\n",
       "    <tr style=\"text-align: right;\">\n",
       "      <th></th>\n",
       "      <th>Test</th>\n",
       "      <th>Pred</th>\n",
       "      <th>True_label</th>\n",
       "      <th>result</th>\n",
       "    </tr>\n",
       "  </thead>\n",
       "  <tbody>\n",
       "    <tr>\n",
       "      <th>159</th>\n",
       "      <td>recently  i traveled to chicago for a business conference and was lucky enough to stay at the hyatt regency chicago  the whole experience was wonderful  the room was spacious and beautiful  and the bed was so comfortable that i had no problem falling asleep  as i normally do at other hotels  the staff were polite and courteous  and after a delicious breakfast in the restaurant  i went to my conference with a smile on my face</td>\n",
       "      <td>truthful</td>\n",
       "      <td>deceptive</td>\n",
       "      <td>0</td>\n",
       "    </tr>\n",
       "    <tr>\n",
       "      <th>237</th>\n",
       "      <td>what a wonderful experience  super great  helpful  friendly staff  angie at the front desk made sure my husbands birthday would be great  our room was beautiful  angie suggested we go to sullivans for dinner  perfect choice  make the reservation for us  best seat in the house and a special dessert  wow   above and beyond what any other hotel or staff has done for us before  looking forward to staying there again   again  thanks again</td>\n",
       "      <td>deceptive</td>\n",
       "      <td>truthful</td>\n",
       "      <td>0</td>\n",
       "    </tr>\n",
       "    <tr>\n",
       "      <th>238</th>\n",
       "      <td>arrived at   only to find that sleep was not in my future because of the dance club connected to the hotel  if you party and stay out all night anyway  this hotel would be fine  but don t plan to get any rest if the club is open  front desk lady was extremely rude to people calling in to inquire about the hotel while i was checking in  she was fine with me and gave me a corner room  but sure wouldn t want to be on her bad side</td>\n",
       "      <td>deceptive</td>\n",
       "      <td>truthful</td>\n",
       "      <td>0</td>\n",
       "    </tr>\n",
       "    <tr>\n",
       "      <th>109</th>\n",
       "      <td>i recently stayed at the amalfi hotel in chicago  although i visit this fun city quite often  i was somewhat disappointed with the service and noise in a hotel that is called  luxury boutique   to begin with  our  experience designer  was somewhat put offish and cool  she did not really have a grasp of all the wonderful things to do in chicago  although she did look up some attractions  it seems like she may have recently arrived from la  as far as the room  it was indeed luxury and had nice lighting and decoration  however  the noise from the adjoining room was unbelievable and kept us up all night  most likely  the walls are very thin  and construction is not the greatest  who wants to hear the neighbors  especially when they are honeymooners or whatever  so we probably will not stay there again  the location is great  the cocktails fine  the luxury is there  but other than that  it is the pits  weary traveler  san francisco</td>\n",
       "      <td>truthful</td>\n",
       "      <td>deceptive</td>\n",
       "      <td>0</td>\n",
       "    </tr>\n",
       "    <tr>\n",
       "      <th>240</th>\n",
       "      <td>we stayed at the hard rock for one night to do some intense  day after thanksgiving shopping  it really is a great hotel  the rooms are really cool  and we were just in the basic one  the bed is extremely comfortable  with the softest sheets and great pillows  the technology in the room is great  they have nice upscale tolietries in the bathrooms  for a very modern room  it is still comfortable and homey  the location is perfect for getting wherever you want to go  the staff were very nice and helpful  the bar is really funky with an interesting martini menu  one of the best hotels i have stayed at in chicago  really enjoyed it and would highly recommend</td>\n",
       "      <td>deceptive</td>\n",
       "      <td>truthful</td>\n",
       "      <td>0</td>\n",
       "    </tr>\n",
       "    <tr>\n",
       "      <th>...</th>\n",
       "      <td>...</td>\n",
       "      <td>...</td>\n",
       "      <td>...</td>\n",
       "      <td>...</td>\n",
       "    </tr>\n",
       "    <tr>\n",
       "      <th>128</th>\n",
       "      <td>the amalfi hotel has a beautiful website and interior decorating  but that s about it  when my wife and i got here  we were given keys to a room that had not even been cleaned  the internet access promised on the hotel s website was down  so i couldn t catch up on any of the business i had intended to do  and my wife thought that the dark design details in the room made her feel claustrophobic  like she was sleeping inside a salvador dali painting  all in all  this hotel was not worth the money  especially since we spent most of our time enjoying the city  something more casual and comfortable would have been better  and it would probably have been cleaner  too</td>\n",
       "      <td>deceptive</td>\n",
       "      <td>deceptive</td>\n",
       "      <td>1</td>\n",
       "    </tr>\n",
       "    <tr>\n",
       "      <th>129</th>\n",
       "      <td>we arrived at the omni on  september for a  day stay  i took ill when i left the plane after travelling from manchester so i saw more of the room than i anticipated  i couldn t go out for  days  the room was spacious and clean  the bed was extremely comfortable  the bathroom was large and very clean  what more could you ask  we had coffee and juice left outside our door every morning at the time we requested  i managed to go to the  floor to see the sun terrace  outside the gym  having a sun terrace in a city hotel is a great idea but the terrace was a bit grim  a few sunbeds on a concrete floor  there was also noise from an air conditioning unit  it could do with a bit of cheering up  what i saw of chicago was very pleasing  it has something for everyone  would i go back to the omni  yes i would</td>\n",
       "      <td>truthful</td>\n",
       "      <td>truthful</td>\n",
       "      <td>1</td>\n",
       "    </tr>\n",
       "    <tr>\n",
       "      <th>132</th>\n",
       "      <td>just got back from three nights at the knickerbocker  went up to chicago for some last minute christmas shopping  hotel is in a great location  north end of michigan ave  about half a block away  staff was very nice and professional  everyone we came in contact with was very helpful  granted this is a older hotel and some of the rooms are no bigger than closets  we were booked into a standard room and when we arrived we upgraded to a deluxe room  good size room  with nice furnishings and a comfortable bed  bathroom was somewhat small  housekeeping did a great job cleaning the room every day  did not eat at the restaurant nix  but saw several people getting orders delivered to the bar  overheard comments saying the food was very good  drink service at the martini bar can be slow  martinis run   and up  very good drinks and they don t shy away from the liquor  valet parking was   a day with in out priviliges  overall a great stay  would definately stay at this hotel in the future</td>\n",
       "      <td>truthful</td>\n",
       "      <td>truthful</td>\n",
       "      <td>1</td>\n",
       "    </tr>\n",
       "    <tr>\n",
       "      <th>114</th>\n",
       "      <td>this hotel is ok but is not the best for the money  first of all the parking prices are exorbitant  i know parking is at a premium for this location but the price is much too high  also  the service at this hotel was poor  i felt like room service took too long and considering the price the service was poor in general  and the staff at the palmer house seemed more interested in helping the richer or more known customers more than us  in addition i feel that there were too many fees including a fee for internet  also the rooms were very clean and beds very nice but there was some noise and you could hear the people walking above you  i would say it was an average experience at this hotel and considering the price maybe think twice about the palmer house</td>\n",
       "      <td>deceptive</td>\n",
       "      <td>deceptive</td>\n",
       "      <td>1</td>\n",
       "    </tr>\n",
       "    <tr>\n",
       "      <th>319</th>\n",
       "      <td>after reading all the lukewarm reviews for this hotel  i went ahead and got an ambassador membership just to hedge off any unpleasantness  i normally have a good experience with intercontinental hotels  particularly the mark hopkins in sf  i called the hotel directly to confirm that my reservation was designated as ambassador club  when i arrived at the hotel  there was no separate check in line  as advertised  and the manager on duty basically ignored me when i told him i was an ambassador club member and stuck me with a regular tiny room  i was nearly half an hour checking in the room and had to deal with the arrogant attitude of the manager on duty  they gave me a room in the  modern  tower   built in the  s  which was about   the size of a regular room at the mark hopkins  built in     i had to deal with torn sheets  cracked marble sinks  and the spare roll of toilet paper being located outside the bathroom inside the closet   how convenient is that  the closet door  if you are not careful  may break the full length mirror attached to the bathroom door  i was not provided with a key to the minibar and i called for turndown service  which never happened  the next day  they finally got around to the fact that i was an ambassador club member and entitled to an upgraded room  but since i travel with a medical device which i already set up in the tiny room  i declined  to their credit  they did send some of the amenities i would otherwise be entitled to as an ambassador club member  i would not stay at this hotel next time i go to chicago  there are other better places for the money including  the omni  the james  the fairmont  hyatt  sheraton  monaco  crowne plaza  even the holiday inn and marriotts located in the same general area</td>\n",
       "      <td>truthful</td>\n",
       "      <td>truthful</td>\n",
       "      <td>1</td>\n",
       "    </tr>\n",
       "  </tbody>\n",
       "</table>\n",
       "<p>320 rows × 4 columns</p>\n",
       "</div>"
      ],
      "text/plain": [
       "                                                                                                                                                                                                                                                                                                                                                                                                                                                                                                                                                                                                                                                                                                                                                                                                                                                                                                                                                                                                                                                                                                                                                                                                                                                                                                                                                                                                                                                                                                                                                                                                                                                                                                                                                                                                                                    Test  \\\n",
       "159                                                                                                                                                                                                                                                                                                                                                                                                                                                                                                                                                                                                                                                                                                                                                                                                                                                                                                                                                                                                                                                                                                                                                                                                                                                                                                                                                                                       recently  i traveled to chicago for a business conference and was lucky enough to stay at the hyatt regency chicago  the whole experience was wonderful  the room was spacious and beautiful  and the bed was so comfortable that i had no problem falling asleep  as i normally do at other hotels  the staff were polite and courteous  and after a delicious breakfast in the restaurant  i went to my conference with a smile on my face     \n",
       "237                                                                                                                                                                                                                                                                                                                                                                                                                                                                                                                                                                                                                                                                                                                                                                                                                                                                                                                                                                                                                                                                                                                                                                                                                                                                                                                                                                              what a wonderful experience  super great  helpful  friendly staff  angie at the front desk made sure my husbands birthday would be great  our room was beautiful  angie suggested we go to sullivans for dinner  perfect choice  make the reservation for us  best seat in the house and a special dessert  wow   above and beyond what any other hotel or staff has done for us before  looking forward to staying there again   again  thanks again     \n",
       "238                                                                                                                                                                                                                                                                                                                                                                                                                                                                                                                                                                                                                                                                                                                                                                                                                                                                                                                                                                                                                                                                                                                                                                                                                                                                                                                                                                                     arrived at   only to find that sleep was not in my future because of the dance club connected to the hotel  if you party and stay out all night anyway  this hotel would be fine  but don t plan to get any rest if the club is open  front desk lady was extremely rude to people calling in to inquire about the hotel while i was checking in  she was fine with me and gave me a corner room  but sure wouldn t want to be on her bad side     \n",
       "109                                                                                                                                                                                                                                                                                                                                                                                                                                                                                                                                                                                                                                                                                                                                                                                                                                                        i recently stayed at the amalfi hotel in chicago  although i visit this fun city quite often  i was somewhat disappointed with the service and noise in a hotel that is called  luxury boutique   to begin with  our  experience designer  was somewhat put offish and cool  she did not really have a grasp of all the wonderful things to do in chicago  although she did look up some attractions  it seems like she may have recently arrived from la  as far as the room  it was indeed luxury and had nice lighting and decoration  however  the noise from the adjoining room was unbelievable and kept us up all night  most likely  the walls are very thin  and construction is not the greatest  who wants to hear the neighbors  especially when they are honeymooners or whatever  so we probably will not stay there again  the location is great  the cocktails fine  the luxury is there  but other than that  it is the pits  weary traveler  san francisco    \n",
       "240                                                                                                                                                                                                                                                                                                                                                                                                                                                                                                                                                                                                                                                                                                                                                                                                                                                                                                                                                                                                                                                                                                                                            we stayed at the hard rock for one night to do some intense  day after thanksgiving shopping  it really is a great hotel  the rooms are really cool  and we were just in the basic one  the bed is extremely comfortable  with the softest sheets and great pillows  the technology in the room is great  they have nice upscale tolietries in the bathrooms  for a very modern room  it is still comfortable and homey  the location is perfect for getting wherever you want to go  the staff were very nice and helpful  the bar is really funky with an interesting martini menu  one of the best hotels i have stayed at in chicago  really enjoyed it and would highly recommend      \n",
       "..                                                                                                                                                                                                                                                                                                                                                                                                                                                                                                                                                                                                                                                                                                                                                                                                                                                                                                                                                                                                                                                                                                                                                                                                                                                                                                                                                                                                                                                                                                                                                                                                                                                                                                                                                                                                                                   ...   \n",
       "128                                                                                                                                                                                                                                                                                                                                                                                                                                                                                                                                                                                                                                                                                                                                                                                                                                                                                                                                                                                                                                                                                                                                      the amalfi hotel has a beautiful website and interior decorating  but that s about it  when my wife and i got here  we were given keys to a room that had not even been cleaned  the internet access promised on the hotel s website was down  so i couldn t catch up on any of the business i had intended to do  and my wife thought that the dark design details in the room made her feel claustrophobic  like she was sleeping inside a salvador dali painting  all in all  this hotel was not worth the money  especially since we spent most of our time enjoying the city  something more casual and comfortable would have been better  and it would probably have been cleaner  too     \n",
       "129                                                                                                                                                                                                                                                                                                                                                                                                                                                                                                                                                                                                                                                                                                                                                                                                                                                                                                                                                                                           we arrived at the omni on  september for a  day stay  i took ill when i left the plane after travelling from manchester so i saw more of the room than i anticipated  i couldn t go out for  days  the room was spacious and clean  the bed was extremely comfortable  the bathroom was large and very clean  what more could you ask  we had coffee and juice left outside our door every morning at the time we requested  i managed to go to the  floor to see the sun terrace  outside the gym  having a sun terrace in a city hotel is a great idea but the terrace was a bit grim  a few sunbeds on a concrete floor  there was also noise from an air conditioning unit  it could do with a bit of cheering up  what i saw of chicago was very pleasing  it has something for everyone  would i go back to the omni  yes i would      \n",
       "132                                                                                                                                                                                                                                                                                                                                                                                                                                                                                                                                                                                                                                                                                                                                                                                                  just got back from three nights at the knickerbocker  went up to chicago for some last minute christmas shopping  hotel is in a great location  north end of michigan ave  about half a block away  staff was very nice and professional  everyone we came in contact with was very helpful  granted this is a older hotel and some of the rooms are no bigger than closets  we were booked into a standard room and when we arrived we upgraded to a deluxe room  good size room  with nice furnishings and a comfortable bed  bathroom was somewhat small  housekeeping did a great job cleaning the room every day  did not eat at the restaurant nix  but saw several people getting orders delivered to the bar  overheard comments saying the food was very good  drink service at the martini bar can be slow  martinis run   and up  very good drinks and they don t shy away from the liquor  valet parking was   a day with in out priviliges  overall a great stay  would definately stay at this hotel in the future      \n",
       "114                                                                                                                                                                                                                                                                                                                                                                                                                                                                                                                                                                                                                                                                                                                                                                                                                                                                                                                                                                                                                                         this hotel is ok but is not the best for the money  first of all the parking prices are exorbitant  i know parking is at a premium for this location but the price is much too high  also  the service at this hotel was poor  i felt like room service took too long and considering the price the service was poor in general  and the staff at the palmer house seemed more interested in helping the richer or more known customers more than us  in addition i feel that there were too many fees including a fee for internet  also the rooms were very clean and beds very nice but there was some noise and you could hear the people walking above you  i would say it was an average experience at this hotel and considering the price maybe think twice about the palmer house     \n",
       "319  after reading all the lukewarm reviews for this hotel  i went ahead and got an ambassador membership just to hedge off any unpleasantness  i normally have a good experience with intercontinental hotels  particularly the mark hopkins in sf  i called the hotel directly to confirm that my reservation was designated as ambassador club  when i arrived at the hotel  there was no separate check in line  as advertised  and the manager on duty basically ignored me when i told him i was an ambassador club member and stuck me with a regular tiny room  i was nearly half an hour checking in the room and had to deal with the arrogant attitude of the manager on duty  they gave me a room in the  modern  tower   built in the  s  which was about   the size of a regular room at the mark hopkins  built in     i had to deal with torn sheets  cracked marble sinks  and the spare roll of toilet paper being located outside the bathroom inside the closet   how convenient is that  the closet door  if you are not careful  may break the full length mirror attached to the bathroom door  i was not provided with a key to the minibar and i called for turndown service  which never happened  the next day  they finally got around to the fact that i was an ambassador club member and entitled to an upgraded room  but since i travel with a medical device which i already set up in the tiny room  i declined  to their credit  they did send some of the amenities i would otherwise be entitled to as an ambassador club member  i would not stay at this hotel next time i go to chicago  there are other better places for the money including  the omni  the james  the fairmont  hyatt  sheraton  monaco  crowne plaza  even the holiday inn and marriotts located in the same general area     \n",
       "\n",
       "          Pred True_label  result  \n",
       "159   truthful  deceptive       0  \n",
       "237  deceptive   truthful       0  \n",
       "238  deceptive   truthful       0  \n",
       "109   truthful  deceptive       0  \n",
       "240  deceptive   truthful       0  \n",
       "..         ...        ...     ...  \n",
       "128  deceptive  deceptive       1  \n",
       "129   truthful   truthful       1  \n",
       "132   truthful   truthful       1  \n",
       "114  deceptive  deceptive       1  \n",
       "319   truthful   truthful       1  \n",
       "\n",
       "[320 rows x 4 columns]"
      ]
     },
     "execution_count": 38,
     "metadata": {},
     "output_type": "execute_result"
    }
   ],
   "source": [
    "predict_test = pd.DataFrame({'Test':sentences_test, 'Pred':y_pred_label, 'True_label':y_test_label}, columns=['Test','Pred','True_label'])\n",
    "predict_test['result'] = np.where(predict_test['Pred']==predict_test['True_label'], 1, 0)\n",
    "# results.sort_values(by='result').head(20)\n",
    "\n",
    "\n",
    "predict_test.sort_values(by='result')"
   ]
  },
  {
   "cell_type": "code",
   "execution_count": 39,
   "id": "3e0df6db",
   "metadata": {},
   "outputs": [
    {
     "name": "stdout",
     "output_type": "stream",
     "text": [
      "The wrong guess is :  87\n",
      "The right guess is:  233\n"
     ]
    }
   ],
   "source": [
    "wrong = 0\n",
    "right = 0\n",
    "for i in predict_test['result']:\n",
    "    \n",
    "    if i == 0:\n",
    "        wrong+=1\n",
    "    else:\n",
    "        right+=1\n",
    "\n",
    "print(\"The wrong guess is : \", wrong)\n",
    "print(\"The right guess is: \", right)\n",
    "    \n",
    "\n",
    "\n",
    "        "
   ]
  },
  {
   "cell_type": "code",
   "execution_count": 40,
   "id": "0b664a86",
   "metadata": {},
   "outputs": [
    {
     "data": {
      "text/plain": [
       "{'num_deceptive': 168, 'num_truthful': 152}"
      ]
     },
     "execution_count": 40,
     "metadata": {},
     "output_type": "execute_result"
    }
   ],
   "source": [
    "num_decep_truth(y_pred_label)"
   ]
  },
  {
   "cell_type": "code",
   "execution_count": 41,
   "id": "563875d9",
   "metadata": {},
   "outputs": [
    {
     "data": {
      "text/plain": [
       "{'num_deceptive': 157, 'num_truthful': 163}"
      ]
     },
     "execution_count": 41,
     "metadata": {},
     "output_type": "execute_result"
    }
   ],
   "source": [
    "num_decep_truth(y_test_label)"
   ]
  },
  {
   "cell_type": "code",
   "execution_count": 42,
   "id": "9576176c",
   "metadata": {},
   "outputs": [
    {
     "name": "stdout",
     "output_type": "stream",
     "text": [
      "Keras model archive loading:\n",
      "File Name                                             Modified             Size\n",
      "config.json                                    2023-04-10 15:11:48         3837\n",
      "metadata.json                                  2023-04-10 15:11:48           64\n",
      "variables.h5                                   2023-04-10 15:11:48     39398880\n",
      "Keras weights file (<HDF5 file \"variables.h5\" (mode r)>) loading:\n",
      "...layers\n",
      "......conv1d\n",
      ".........vars\n",
      "............0\n",
      "............1\n",
      "......dense\n",
      ".........vars\n",
      "............0\n",
      "............1\n",
      "......dropout\n",
      ".........vars\n",
      "......embedding\n",
      ".........vars\n",
      "............0\n",
      "......input_layer\n",
      ".........vars\n",
      "......lstm\n",
      ".........cell\n",
      "............vars\n",
      "...............0\n",
      "...............1\n",
      "...............2\n",
      ".........vars\n",
      "......max_pooling1d\n",
      ".........vars\n",
      "...metrics\n",
      "......mean\n",
      ".........vars\n",
      "............0\n",
      "............1\n",
      "......mean_metric_wrapper\n",
      ".........vars\n",
      "............0\n",
      "............1\n",
      "...optimizer\n",
      "......vars\n",
      ".........0\n",
      ".........1\n",
      ".........10\n",
      ".........11\n",
      ".........12\n",
      ".........13\n",
      ".........14\n",
      ".........15\n",
      ".........16\n",
      ".........2\n",
      ".........3\n",
      ".........4\n",
      ".........5\n",
      ".........6\n",
      ".........7\n",
      ".........8\n",
      ".........9\n",
      "...vars\n",
      "1/1 [==============================] - 0s 437ms/step\n",
      "[[0.00701586]]\n",
      "0.0\n",
      "deceptive\n"
     ]
    }
   ],
   "source": [
    "pkl = open('model2_22.pkl', 'rb');\n",
    "clf = pickle.load(pkl);\n",
    "\n",
    "new_text = \"During my holiday at Bali, I stayed at Hilton hotel. We arrived there at 12am. There was no staff. No one is coming to help us. We have to carry our luggae to the room. There was monkey everywhere. My girlfriend is afraid of monkey and she's not coming to the room. She has a terrible experience. So am I. If only we can get rid of the monkey and the staff is helpful, that would be nice. Why? because the place itself is big and the room is comfortable. The environment is good except the monkey. The service is kind of not so good.\"\n",
    "new_sequence = tokenizer.texts_to_sequences([new_text])\n",
    "# print(new_sequence)\n",
    "new_data = pad_sequences(new_sequence, maxlen=maxlen)\n",
    "# print(new_data)\n",
    "prediction = clf.predict(new_data)\n",
    "print(prediction)\n",
    "prediction_label = np.round(prediction[0][0])\n",
    "print(prediction_label)\n",
    "print(\"truthful\" if prediction_label==1 else \"deceptive\")\n",
    "\n"
   ]
  },
  {
   "cell_type": "code",
   "execution_count": 43,
   "id": "9bf0165b",
   "metadata": {},
   "outputs": [
    {
     "name": "stdout",
     "output_type": "stream",
     "text": [
      "1/1 [==============================] - 0s 24ms/step\n",
      "[[0.27377862]]\n",
      "0.27377862\n",
      "deceptive\n"
     ]
    }
   ],
   "source": [
    "new_text = \"We planned to stay for 5 nights on a family trip. I booked this hotel because of the expected value for a suite as well as the free breakfast - get a quick bite, then head out for the day to do normal tourist stuff. Well, our stay here lasted 1 night and we quickly, and thankfully, switched to a different hotel for our last 4 nights. The room was dirty. When we opened the sofabed, the sheets were filthy and there was a mess of dirt and crumbs that fell out. Ridiculous considering this is a suite hotel where the sofabeds are likely used, and theoretically cleaned, a lot. Extra blankets were also dirty and bathrooms weren't much better. Temperature control in the room was imprecise - minor inconvenience but without clean blankets on our only night, it made for a cold stay. If you like to eat for free (they have free breakfasts and dinner on certain nights) and don't care to eat the great food Chicago has to offer, I guess some may find this place tolerable. But we found the buffet no better than average and felt like we were at a Golden Corral. The only thing this hotel really has going for it is location but there are other options in this area (we switched to The James and had a great experience). I couldn't be paid to stay here again. I'm shocked by the high overall rating given our experience.\"\n",
    "new_sequence = tokenizer.texts_to_sequences([new_text])\n",
    "# print(new_sequence)\n",
    "new_data = pad_sequences(new_sequence, maxlen=maxlen)\n",
    "# print(new_data)\n",
    "prediction = clf.predict(new_data)\n",
    "print(prediction)\n",
    "print(prediction[0][0])\n",
    "prediction_label = np.round(prediction[0][0])\n",
    "print(\"truthful\" if prediction_label==1 else \"deceptive\")"
   ]
  },
  {
   "cell_type": "markdown",
   "id": "47a64e84",
   "metadata": {},
   "source": [
    "# Testing using Expedia Dataset"
   ]
  },
  {
   "cell_type": "code",
   "execution_count": 44,
   "id": "efde758e",
   "metadata": {},
   "outputs": [
    {
     "name": "stdout",
     "output_type": "stream",
     "text": [
      "1/1 [==============================] - 0s 24ms/step\n",
      "[[0.99471104]]\n",
      "0.99471104\n",
      "truthful\n"
     ]
    }
   ],
   "source": [
    "new_text = \"I booked flights through expedia.co.uk I had to cancel due to a medical emergency. One airline (outbound) refunded tax directly. The other airline (return) said I was eligible for a tax refund, but that I had to go through expedia as the agent. Expedia claims that the tax is non-refundable, as the flights are non-refundable. Airlines do not pay tax for seats that have not been used. So who is profiting from the un-used tax? My guess is Expedia since the airline was happy to refund.\"\n",
    "new_sequence = tokenizer.texts_to_sequences([new_text])\n",
    "# print(new_sequence)\n",
    "new_data = pad_sequences(new_sequence, maxlen=maxlen)\n",
    "# print(new_data)\n",
    "prediction = clf.predict(new_data)\n",
    "print(prediction)\n",
    "print(prediction[0][0])\n",
    "prediction_label = np.round(prediction[0][0])\n",
    "print(\"truthful\" if prediction_label==1 else \"deceptive\")"
   ]
  },
  {
   "cell_type": "code",
   "execution_count": 45,
   "id": "5e6d7c9e",
   "metadata": {},
   "outputs": [
    {
     "name": "stdout",
     "output_type": "stream",
     "text": [
      "1/1 [==============================] - 0s 24ms/step\n",
      "[[0.9942592]]\n",
      "0.9942592\n",
      "truthful\n"
     ]
    }
   ],
   "source": [
    "new_text = \"I booked a hotel stay with 15 days parking package and upon checking in at LGW hotel was told that they had no record of the number of days free parking. Expedia didn’t help at all, and even though my confirmation stated ‘free parking’ it didn’t say ‘15 days free parking’ and so Expedia say that my parking is all due to be paid myself for 15 days, despite me booking the specific package for £172. I won’t be using these muppets ever again, I’ve had to fork out parking to the hotel also. Not a happy Chappy. Avoid Expedia park and stay packages like the plague !!\"\n",
    "new_sequence = tokenizer.texts_to_sequences([new_text])\n",
    "# print(new_sequence)\n",
    "new_data = pad_sequences(new_sequence, maxlen=maxlen)\n",
    "# print(new_data)\n",
    "prediction = clf.predict(new_data)\n",
    "print(prediction)\n",
    "print(prediction[0][0])\n",
    "prediction_label = np.round(prediction[0][0])\n",
    "print(\"truthful\" if prediction_label==1 else \"deceptive\")"
   ]
  },
  {
   "cell_type": "code",
   "execution_count": 46,
   "id": "14772e28",
   "metadata": {},
   "outputs": [
    {
     "name": "stdout",
     "output_type": "stream",
     "text": [
      "1/1 [==============================] - 0s 23ms/step\n",
      "[[0.00180337]]\n",
      "0.001803375\n",
      "deceptive\n"
     ]
    }
   ],
   "source": [
    "new_text = \"This food is amazing!!!!\"\n",
    "new_sequence = tokenizer.texts_to_sequences([new_text])\n",
    "# print(new_sequence)\n",
    "new_data = pad_sequences(new_sequence, maxlen=maxlen)\n",
    "# print(new_data)\n",
    "prediction = clf.predict(new_data)\n",
    "print(prediction)\n",
    "print(prediction[0][0])\n",
    "prediction_label = np.round(prediction[0][0])\n",
    "print(\"truthful\" if prediction_label==1 else \"deceptive\")"
   ]
  },
  {
   "cell_type": "code",
   "execution_count": 47,
   "id": "dcd69622",
   "metadata": {},
   "outputs": [
    {
     "name": "stdout",
     "output_type": "stream",
     "text": [
      "1/1 [==============================] - 0s 24ms/step\n",
      "[[0.9708336]]\n",
      "0.9708336\n",
      "truthful\n"
     ]
    }
   ],
   "source": [
    "new_text = \"This company is awful, tickets are put up only for them to take your money as a pending transaction and tell you it is because they no longer have seats available or the prices have changed... only for you to see two weeks later that the same flight is being advertised for the same price. I now have to wait for my money to come back into my account before I can book my flight elsewhere.\"\n",
    "new_sequence = tokenizer.texts_to_sequences([new_text])\n",
    "# print(new_sequence)\n",
    "new_data = pad_sequences(new_sequence, maxlen=maxlen)\n",
    "# print(new_data)\n",
    "prediction = clf.predict(new_data)\n",
    "print(prediction)\n",
    "print(prediction[0][0])\n",
    "prediction_label = np.round(prediction[0][0])\n",
    "print(\"truthful\" if prediction_label==1 else \"deceptive\")"
   ]
  },
  {
   "cell_type": "code",
   "execution_count": 48,
   "id": "757ed3ea",
   "metadata": {},
   "outputs": [
    {
     "name": "stdout",
     "output_type": "stream",
     "text": [
      "1/1 [==============================] - 0s 23ms/step\n",
      "[[0.99417657]]\n",
      "0.99417657\n",
      "truthful\n"
     ]
    }
   ],
   "source": [
    "new_text = \"I use expedia a few times a year to book trips. This year in Prague one of our booked trips was cancelled by the provider, we turned up and they sent us away saying it was cancelled. After going backwards and forwards with expedia they will not issue me with a refund as the provider of the show will not respond to them. Viator reviews say that this show has not existed for several years, why is it still being sold!! Its an absolute con and expedia are helping them, I am totally disgusted and will not book with them again.\"\n",
    "new_sequence = tokenizer.texts_to_sequences([new_text])\n",
    "# print(new_sequence)\n",
    "new_data = pad_sequences(new_sequence, maxlen=maxlen)\n",
    "# print(new_data)\n",
    "prediction = clf.predict(new_data)\n",
    "print(prediction)\n",
    "print(prediction[0][0])\n",
    "prediction_label = np.round(prediction[0][0])\n",
    "print(\"truthful\" if prediction_label==1 else \"deceptive\")"
   ]
  },
  {
   "cell_type": "code",
   "execution_count": 49,
   "id": "a55e8d79",
   "metadata": {},
   "outputs": [
    {
     "name": "stdout",
     "output_type": "stream",
     "text": [
      "1/1 [==============================] - 0s 24ms/step\n",
      "[[0.99230736]]\n",
      "0.99230736\n",
      "truthful\n"
     ]
    }
   ],
   "source": [
    "new_text = \"I booked with expedia long time ago. The experience was horrible. Arrived to the Prague airport early in the morning just to hear that there is no space in the plane, after some very worrying moments they said there is a space. Got in to the plane then the sit number i have been given was given to someone else so they told me that i can sit to somewhere else, guess what next.. the owner of that seat appeared also.. on and on… i was happy as i was in the plane but the experience was good enough not to book with this company ever again\"\n",
    "new_sequence = tokenizer.texts_to_sequences([new_text])\n",
    "# print(new_sequence)\n",
    "new_data = pad_sequences(new_sequence, maxlen=maxlen)\n",
    "# print(new_data)\n",
    "prediction = clf.predict(new_data)\n",
    "print(prediction)\n",
    "print(prediction[0][0])\n",
    "prediction_label = np.round(prediction[0][0])\n",
    "print(\"truthful\" if prediction_label==1 else \"deceptive\")"
   ]
  },
  {
   "cell_type": "code",
   "execution_count": 50,
   "id": "53a1fe03",
   "metadata": {},
   "outputs": [
    {
     "name": "stdout",
     "output_type": "stream",
     "text": [
      "1/1 [==============================] - 0s 23ms/step\n",
      "[[0.00266192]]\n",
      "0.0026619204\n",
      "deceptive\n"
     ]
    }
   ],
   "source": [
    "new_text = \"Kutchenhaus, Hythe, Kent. 5 Stars for this kitchen shop, specialising in high quality German craftsmanship. We were hugely impressed with the courteous and well-informed advice we were given by Ben and his expertise in describing the different possibilities we could choose from my wife and I recommend this shop 100%.\"\n",
    "\n",
    "new_sequence = tokenizer.texts_to_sequences([new_text])\n",
    "# print(new_sequence)\n",
    "new_data = pad_sequences(new_sequence, maxlen=maxlen)\n",
    "# print(new_data)\n",
    "prediction = clf.predict(new_data)\n",
    "print(prediction)\n",
    "print(prediction[0][0])\n",
    "prediction_label = np.round(prediction[0][0])\n",
    "print(\"truthful\" if prediction_label==1 else \"deceptive\")"
   ]
  },
  {
   "cell_type": "code",
   "execution_count": 51,
   "id": "c377bd5d",
   "metadata": {},
   "outputs": [
    {
     "name": "stdout",
     "output_type": "stream",
     "text": [
      "1/1 [==============================] - 0s 23ms/step\n",
      "[[0.00474278]]\n",
      "0.004742777\n",
      "deceptive\n"
     ]
    }
   ],
   "source": [
    "new_text = \"Great staff at Quart Pot. Bar staff very friendly - Lisa,Scarlett and Grace. Good food too\"\n",
    "\n",
    "new_sequence = tokenizer.texts_to_sequences([new_text])\n",
    "# print(new_sequence)\n",
    "new_data = pad_sequences(new_sequence, maxlen=maxlen)\n",
    "# print(new_data)\n",
    "prediction = clf.predict(new_data)\n",
    "print(prediction)\n",
    "print(prediction[0][0])\n",
    "prediction_label = np.round(prediction[0][0])\n",
    "print(\"truthful\" if prediction_label==1 else \"deceptive\")"
   ]
  },
  {
   "cell_type": "code",
   "execution_count": 52,
   "id": "9ac2dc0a",
   "metadata": {},
   "outputs": [],
   "source": [
    "# swap postive to negative. deceive \n",
    "# correct grammar truthful. If incorrect grammar, deceptive.\n",
    "\n",
    "# one generated review by computer is considered truthful but with a very low score.\n",
    "# another generated review by computer is considered deceptive with very low score.\n",
    "\n",
    "# when it talk about something general such as information that can be found on internet, it is deceptive.\n",
    "# when it talks about some experience that is not available on internet, but a make up information. It tends to be\n",
    "# truthful but with very low score.\n",
    "\n",
    "# If there is any explicit information, it tends to be truthful although those info can be made up.\n",
    "\n",
    "# If the experience were negative and with information, tends to be truthful.\n",
    "\n",
    "# negative comment with enough info tends to be truthful.\n",
    "\n",
    "# Baseless positive comment, results in deceptive.\n",
    "\n",
    "# Most complaint with some realistic event is considered truthful.\n",
    "\n",
    "# positive comment can be truthful but with a lower score. Context has to be realistic as well, not just vague praise\n",
    "\n",
    "# psotive comment with a lot of supporting information can also be truthful.\n",
    "\n",
    "# both positve and negative comment comes together to be neutral, also truthful. \n",
    "\n",
    "# all the review from yelp is considered truthful, either negative or positive.\n",
    "\n",
    "# when location is involved, it tends to say truthful. Although the place does not actually exists because the additional information adds up.\n",
    "\n",
    "\n",
    "# when a lot of information is given, it sounds truthful.\n",
    "\n",
    "# when short comment and incorrect use of grammar. Deceptive.\n",
    "\n",
    "# detail information can provide evidence as review being truthful\n",
    "\n",
    "# sound like a conversation, negative with info is considered deceptive.\n",
    "\n",
    "# if it makes complaint about one product, and promote another. Also deceptive\n",
    "\n",
    "#  if it looks too properly, like somebody wrote a proper paragraph rather than just review, also deceptive.\n",
    "\n",
    "# if it is positive experience, but they express as a proper paragraph for that experience, also deceptive.\n",
    "\n",
    "#  if it looks like it praise the product a lot, but the way they describe it is like a robot, deceptive.\n",
    "\n",
    "# short review is likely to be deceptive, if truthful, the score is low. \n",
    "\n",
    "#  just praise with little detail will be classify as deceptive.\n",
    "\n",
    "#  if you use third person a lot, it will be deceptive, even if truthful, with lower score.\n",
    "\n",
    "# can conclude that a lot of negative experience is considered truthful. If short review but sound very negative, will be\n",
    "# truthful but with low score.\n",
    "\n",
    "# Some negative review, although with detail, if talk in third person, is also likely to be deceptive.\n",
    "\n",
    "# if the way of writing review is kind of informal, considered truthful.\n",
    "\n",
    "# even though negative, if the way they write is too formal. Ex. without sign !! or ##. likely to be considered deceptive\n",
    "# because it is highly generated by PC.\n",
    "\n",
    "# if they mentioned the name of specific company in purpose to try to bring it down, also deceptive.\n",
    "\n",
    "# sth is written in third person and with email is also considered deceptive.\n",
    "\n",
    "# Too extremely negative will likely be deceptive.\n",
    "\n",
    "# if negative but with reasonable detail and neutral point, truthful.\n",
    "\n",
    "# Extreme negative opinion is likley to result in deceptive. if truthful, with low score. \n",
    "\n",
    "# negative review is truthful only when provided lots of detail and try to reason instead of try to destory one brand.\n",
    "\n",
    "# it cannot distinguish between some fact. Considered both as deceptive. \n",
    "\n",
    "\n",
    "\n",
    "\n",
    "\n",
    "\n",
    "\n"
   ]
  },
  {
   "cell_type": "code",
   "execution_count": 53,
   "id": "afabeb4d",
   "metadata": {},
   "outputs": [
    {
     "name": "stdout",
     "output_type": "stream",
     "text": [
      "1/1 [==============================] - 0s 23ms/step\n",
      "[[0.42739183]]\n",
      "0.42739183\n",
      "deceptive\n"
     ]
    }
   ],
   "source": [
    "new_text = \"Absolutely appalled by my 'stay' at Iris Hotel Llandudno, we were unable to even stay in the hotel room because of the horrible stench that was coming from the drains! The poor receptionist tried to clean it with some bleach, but the smell would simply not go away, the carpets were filthy the beds were dirty, there was mould and grime all up the walls. The manager was nowhere in sight and since leaving the property because we was unable to stay we contacted the hotel in regards to a refund 0 response 0 care and compassion at the fact that we were unable to even stay at the property! we just paid a substantial amount for what it was avoid like the plague!!\"\n",
    "\n",
    "new_sequence = tokenizer.texts_to_sequences([new_text])\n",
    "# print(new_sequence)\n",
    "new_data = pad_sequences(new_sequence, maxlen=maxlen)\n",
    "# print(new_data)\n",
    "prediction = clf.predict(new_data)\n",
    "print(prediction)\n",
    "print(prediction[0][0])\n",
    "prediction_label = np.round(prediction[0][0])\n",
    "print(\"truthful\" if prediction_label==1 else \"deceptive\")"
   ]
  },
  {
   "cell_type": "code",
   "execution_count": 54,
   "id": "800578bd",
   "metadata": {},
   "outputs": [
    {
     "name": "stdout",
     "output_type": "stream",
     "text": [
      "1/1 [==============================] - 0s 24ms/step\n",
      "[[0.99186796]]\n",
      "0.99186796\n",
      "truthful\n"
     ]
    }
   ],
   "source": [
    "new_text = \"As a Business owner, TripAdvisor is by far the worst company out there.We have a average review on our page that is clearly ment for a Restaurant 2km from us. The review states they had Fillet Steak and Trout. We do not serve those dishes. As TripAdvisor to correct this and was told they are happy it's correct. They clearly Did Not look at my page and menu to confirm this.It's about time TripAdvisor was monitored or research disputes professionally.Diabolical Company.\"\n",
    "\n",
    "new_sequence = tokenizer.texts_to_sequences([new_text])\n",
    "# print(new_sequence)\n",
    "new_data = pad_sequences(new_sequence, maxlen=maxlen)\n",
    "# print(new_data)\n",
    "prediction = clf.predict(new_data)\n",
    "print(prediction)\n",
    "print(prediction[0][0])\n",
    "prediction_label = np.round(prediction[0][0])\n",
    "print(\"truthful\" if prediction_label==1 else \"deceptive\")"
   ]
  },
  {
   "cell_type": "code",
   "execution_count": 55,
   "id": "cb0caf41",
   "metadata": {},
   "outputs": [
    {
     "name": "stdout",
     "output_type": "stream",
     "text": [
      "1/1 [==============================] - 0s 23ms/step\n",
      "[[0.00317408]]\n",
      "0.003174084\n",
      "deceptive\n"
     ]
    }
   ],
   "source": [
    "new_text = \"When it comes to finding the perfect hotel for your travels, there are plenty of options to choose from. However, if you're looking for a hotel that offers a comfortable stay with a touch of sophistication, Hilton is the perfect choice.From the moment you step into the lobby, you'll be impressed by the elegant decor and welcoming atmosphere. The staff is friendly and helpful, ensuring that all your needs are met throughout your stay.The rooms themselves are spacious and well-appointed, with comfortable beds and plenty of amenities to make you feel right at home. Whether you're traveling for business or pleasure, you'll appreciate the desk and complimentary Wi-Fi that make it easy to stay connected while you're away.One of the standout features of this hotel is its location. Situated near Bali Airport, it offers easy access to all the city's top attractions, while still providing a quiet and peaceful retreat when you need to unwind.Overall, if you're looking for a hotel that combines style\"\n",
    "\n",
    "new_sequence = tokenizer.texts_to_sequences([new_text])\n",
    "# print(new_sequence)\n",
    "new_data = pad_sequences(new_sequence, maxlen=maxlen)\n",
    "# print(new_data)\n",
    "prediction = clf.predict(new_data)\n",
    "print(prediction)\n",
    "print(prediction[0][0])\n",
    "prediction_label = np.round(prediction[0][0])\n",
    "print(\"truthful\" if prediction_label==1 else \"deceptive\")"
   ]
  },
  {
   "cell_type": "code",
   "execution_count": 56,
   "id": "db55340f",
   "metadata": {},
   "outputs": [
    {
     "name": "stdout",
     "output_type": "stream",
     "text": [
      "1/1 [==============================] - 0s 23ms/step\n",
      "[[0.991946]]\n",
      "0.991946\n",
      "truthful\n"
     ]
    }
   ],
   "source": [
    "new_text = \"If you're in the market for an exceptional hotel experience, you can't go wrong with Marriot. As a knowledgeable traveler, I'm always looking for accommodations that offer comfort, convenience, and additional amenities. The Marriot is abundantly equipped with all of these features and more.From the moment I arrived, I knew that I was in for an extraordinary experience. The hotel's location is ideal, situated in a convenient and centralized area that made exploring the community effortless. The lobby was welcoming and well-lit, ensuring a positive first impression. The staff was friendly, courteous, and accommodating, eager to help us make the most of our stay.The rooms at Marriot are fantastic, with plush bedding and beautiful decor that sets the mood for relaxation. With 24/7 service to Spa, pool, and skybar, we had everything we could need at our fingertips. Furthermore, the hotel went the extra mile by providing free dinner and free breakfast, which was a real treat.\"\n",
    "\n",
    "new_sequence = tokenizer.texts_to_sequences([new_text])\n",
    "# print(new_sequence)\n",
    "new_data = pad_sequences(new_sequence, maxlen=maxlen)\n",
    "# print(new_data)\n",
    "prediction = clf.predict(new_data)\n",
    "print(prediction)\n",
    "print(prediction[0][0])\n",
    "prediction_label = np.round(prediction[0][0])\n",
    "print(\"truthful\" if prediction_label==1 else \"deceptive\")"
   ]
  },
  {
   "cell_type": "code",
   "execution_count": 57,
   "id": "2a34ed11",
   "metadata": {},
   "outputs": [
    {
     "name": "stdout",
     "output_type": "stream",
     "text": [
      "1/1 [==============================] - 0s 24ms/step\n",
      "[[0.00311118]]\n",
      "0.0031111802\n",
      "deceptive\n"
     ]
    }
   ],
   "source": [
    "new_text = \"When it comes to finding the perfect hotel for your travels, there are plenty of options to choose from. However, if you're looking for a hotel that offers a comfortable stay with a touch of sophistication, Hilton is the perfect choice. From the moment you step into the lobby, you'll be impressed by the elegant decor and welcoming atmosphere. The staff is friendly and helpful, ensuring that all your needs are met throughout your stay. The rooms themselves are spacious and well-appointed, with comfortable beds and plenty of amenities to make you feel right at home. Whether you're traveling for business or pleasure, you'll appreciate the desk and complimentary Wi-Fi that make it easy to stay connected while you're away.One of the standout features of this hotel is its location. Situated near Bali Airport, it offers easy access to all the city's top attractions, while still providing a quiet and peaceful retreat when you need to unwind.\"\n",
    "\n",
    "new_sequence = tokenizer.texts_to_sequences([new_text])\n",
    "# print(new_sequence)\n",
    "new_data = pad_sequences(new_sequence, maxlen=maxlen)\n",
    "# print(new_data)\n",
    "prediction = clf.predict(new_data)\n",
    "print(prediction)\n",
    "print(prediction[0][0])\n",
    "prediction_label = np.round(prediction[0][0])\n",
    "print(\"truthful\" if prediction_label==1 else \"deceptive\")"
   ]
  },
  {
   "cell_type": "code",
   "execution_count": 58,
   "id": "158eee08",
   "metadata": {},
   "outputs": [
    {
     "name": "stdout",
     "output_type": "stream",
     "text": [
      "1/1 [==============================] - 0s 24ms/step\n",
      "[[0.9825494]]\n",
      "0.9825494\n",
      "truthful\n"
     ]
    }
   ],
   "source": [
    "new_text = \"AVOID After paying £200 / 40% deposit to Trip Adviser for holiday apartment it turned out property wasn't available at all. It took over 4 weeks, 20+ emails, & several phone calls repeatedly asking for return of deposit before they even started refund process and this despite having 1 message from property manager and 2 messages from T/A's own help centre stating that property not available. Help centre polite but totally useless. Overall, customer service absolutely pathetic.\"\n",
    "\n",
    "new_sequence = tokenizer.texts_to_sequences([new_text])\n",
    "# print(new_sequence)\n",
    "new_data = pad_sequences(new_sequence, maxlen=maxlen)\n",
    "# print(new_data)\n",
    "prediction = clf.predict(new_data)\n",
    "print(prediction)\n",
    "print(prediction[0][0])\n",
    "prediction_label = np.round(prediction[0][0])\n",
    "print(\"truthful\" if prediction_label==1 else \"deceptive\")"
   ]
  },
  {
   "cell_type": "code",
   "execution_count": 59,
   "id": "b20f6f5a",
   "metadata": {},
   "outputs": [
    {
     "name": "stdout",
     "output_type": "stream",
     "text": [
      "1/1 [==============================] - 0s 24ms/step\n",
      "[[0.99045205]]\n",
      "0.99045205\n",
      "truthful\n"
     ]
    }
   ],
   "source": [
    "new_text = \"I have found TripAdviser very useful when planning trips for its reviews. However it is failing in a very big way when it comes to booking tickets for events via its website.On 19/1/2020 I booked 4 Gold VIP seats for Skip the Line Pattaya Tiffany Cabaret show for 24/1/2020. The booking was confirmed and the money taken $160. It showed the Tour operator was YTS Holidays Co Ltd.Next day I received an email via TripAdviser saying there were no Gold VIP seats and I should pick ordinary VIP seats instead.I did not want to do this and complained that seats should not be sold if they did not have them.I received a further email via TripAdviser saying Gold VIP seats were not available, you can cancel and will receive a refund.21/1/2020 I cancelled but website showed refund = 0I then received an email from TripAdviser saying 'We have cancelled your booking but no refund as per our Terms and Conditions'.Both TripAdviser and YTS Holidays are refusing to reply to any further emails.I would strongly advise against making any bookings on the TripAdviser website. I consider I have been subjected to Fraud.\"\n",
    "\n",
    "new_sequence = tokenizer.texts_to_sequences([new_text])\n",
    "# print(new_sequence)\n",
    "new_data = pad_sequences(new_sequence, maxlen=maxlen)\n",
    "# print(new_data)\n",
    "prediction = clf.predict(new_data)\n",
    "print(prediction)\n",
    "print(prediction[0][0])\n",
    "prediction_label = np.round(prediction[0][0])\n",
    "print(\"truthful\" if prediction_label==1 else \"deceptive\")"
   ]
  },
  {
   "cell_type": "code",
   "execution_count": 60,
   "id": "960f96ad",
   "metadata": {},
   "outputs": [
    {
     "name": "stdout",
     "output_type": "stream",
     "text": [
      "1/1 [==============================] - 0s 23ms/step\n",
      "[[0.9927492]]\n",
      "0.9927492\n",
      "truthful\n"
     ]
    }
   ],
   "source": [
    "new_text = \"the worst company I have ever dealt with between them and their sister company hotwire.comthey have about ruined my vacation I have been billed 3 times for the same room and Air flight I have had numerous phone calls to both companies with very little help I am still waiting on a refund they tried to tell me if my credit card must have been stolen so the thief book the room next to mine on the same night I was there these people need to figure out how to run a business and actually give customer service\"\n",
    "\n",
    "new_sequence = tokenizer.texts_to_sequences([new_text])\n",
    "# print(new_sequence)\n",
    "new_data = pad_sequences(new_sequence, maxlen=maxlen)\n",
    "# print(new_data)\n",
    "prediction = clf.predict(new_data)\n",
    "print(prediction)\n",
    "print(prediction[0][0])\n",
    "prediction_label = np.round(prediction[0][0])\n",
    "print(\"truthful\" if prediction_label==1 else \"deceptive\")"
   ]
  },
  {
   "cell_type": "code",
   "execution_count": 61,
   "id": "8e9aa6c4",
   "metadata": {},
   "outputs": [
    {
     "name": "stdout",
     "output_type": "stream",
     "text": [
      "1/1 [==============================] - 0s 24ms/step\n",
      "[[0.99456865]]\n",
      "0.99456865\n",
      "truthful\n"
     ]
    }
   ],
   "source": [
    "new_text = \"1- Waited twice for over 20 minutes to reach an agent.2- Asked agent to give me information package allowance on flight booked, the agent ask me to call the airline to find it. Then he ask me to wait so he can call the airline (easy jet). kept me waiting for long time , I get fed up and hangup the call.3- When booking through Expedia Website, Expedia does not show that easyjet does not have 'Checked Package' Allowance like the rest of Airlines hence you discover later that you have to pay easyjet extra for each Checked in bag.\"\n",
    "\n",
    "new_sequence = tokenizer.texts_to_sequences([new_text])\n",
    "# print(new_sequence)\n",
    "new_data = pad_sequences(new_sequence, maxlen=maxlen)\n",
    "# print(new_data)\n",
    "prediction = clf.predict(new_data)\n",
    "print(prediction)\n",
    "print(prediction[0][0])\n",
    "prediction_label = np.round(prediction[0][0])\n",
    "print(\"truthful\" if prediction_label==1 else \"deceptive\")"
   ]
  },
  {
   "cell_type": "code",
   "execution_count": 62,
   "id": "7d78458e",
   "metadata": {},
   "outputs": [
    {
     "name": "stdout",
     "output_type": "stream",
     "text": [
      "1/1 [==============================] - 0s 24ms/step\n",
      "[[0.99133795]]\n",
      "0.99133795\n",
      "truthful\n"
     ]
    }
   ],
   "source": [
    "new_text = \"Sent me to an all inclusive trip to Occidental Grand Punta Cana. There was no electric or water the 1st night I was there from 11:30 pm to 2 pm the next day (14 hrs) it was the main generator that went out and has been going out on a daily bases. I tried to get moved to another hotel and they would not in less I called expedia, which I did on my cell phone as they would not let us use their phones. I was on the phone for half hour waiting to talk to a supervisor (after talking to 5 people) I finally got one and she promised to call me back after calling the hotel to get me out of there. That is the last I heard from them so I lived in hell for 5 days - no flushing toliets, no cleaning hands (even the cooks and servers) no showers for 14 hrs straight - you can imange the smell plus the food they served with dirty hands. The electric woud go on and off like that the whole 5 days. and guess what now they will not even give me my money back. DO NOT USE THEM THEY WILL TAKE YOUR MONEY AND SEND YOU TO HELL OR AND BY THE WAY THEY ARE STILL SELLING THIS PACKAGE AFTER KNOWING WHAT IS GOING ON.\"\n",
    "\n",
    "new_sequence = tokenizer.texts_to_sequences([new_text])\n",
    "# print(new_sequence)\n",
    "new_data = pad_sequences(new_sequence, maxlen=maxlen)\n",
    "# print(new_data)\n",
    "prediction = clf.predict(new_data)\n",
    "print(prediction)\n",
    "print(prediction[0][0])\n",
    "prediction_label = np.round(prediction[0][0])\n",
    "print(\"truthful\" if prediction_label==1 else \"deceptive\")"
   ]
  },
  {
   "cell_type": "code",
   "execution_count": 63,
   "id": "527bfd51",
   "metadata": {},
   "outputs": [
    {
     "name": "stdout",
     "output_type": "stream",
     "text": [
      "1/1 [==============================] - 0s 24ms/step\n",
      "[[0.00421217]]\n",
      "0.0042121685\n",
      "deceptive\n"
     ]
    }
   ],
   "source": [
    "new_text = \"Booked flight and hotel accommodation in San Francisco with Expedia. Everything went fine.\"\n",
    "\n",
    "new_sequence = tokenizer.texts_to_sequences([new_text])\n",
    "# print(new_sequence)\n",
    "new_data = pad_sequences(new_sequence, maxlen=maxlen)\n",
    "# print(new_data)\n",
    "prediction = clf.predict(new_data)\n",
    "print(prediction)\n",
    "print(prediction[0][0])\n",
    "prediction_label = np.round(prediction[0][0])\n",
    "print(\"truthful\" if prediction_label==1 else \"deceptive\")"
   ]
  },
  {
   "cell_type": "code",
   "execution_count": 64,
   "id": "a6046949",
   "metadata": {},
   "outputs": [
    {
     "name": "stdout",
     "output_type": "stream",
     "text": [
      "1/1 [==============================] - 0s 23ms/step\n",
      "[[0.99401915]]\n",
      "0.99401915\n",
      "truthful\n"
     ]
    }
   ],
   "source": [
    "new_text = \"The Athena Hotel is in a surprisingly nice area, walkable in just a couple minutes to Paddington and the Underground, and a brisk walk to Hyde Park and Marble Arch.The value for location is quite good. But the hotel definitely comes across as budgetThe room we had was TINY. Our 4 person room had a double and two single beds. That took up essentially the whole room. We needed to push the bed aside slightly just to open the front door. The luggage filled spaces with beds so we had to pack away the chair and move the kettle and coffee/tea to a bedside table just so we could access it.We were okay with it but it felt like we were on top of each other and it was hard to keep the room tidy since there was just no room to do anything.The breakfast is limited and only available in a one-hour window, so we didn't pay for it and went for pastries and fruit or other nearby breakfasts nearby instead.On our final day we were looking forward to good showers before heading out on a long day of travel, but the water was ice cold. A bit of a letdown adding to it all, which really is what bumped my review down from a 3 to a 2.\"\n",
    "\n",
    "new_sequence = tokenizer.texts_to_sequences([new_text])\n",
    "# print(new_sequence)\n",
    "new_data = pad_sequences(new_sequence, maxlen=maxlen)\n",
    "# print(new_data)\n",
    "prediction = clf.predict(new_data)\n",
    "print(prediction)\n",
    "print(prediction[0][0])\n",
    "prediction_label = np.round(prediction[0][0])\n",
    "print(\"truthful\" if prediction_label==1 else \"deceptive\")"
   ]
  },
  {
   "cell_type": "code",
   "execution_count": 65,
   "id": "112059f7",
   "metadata": {},
   "outputs": [
    {
     "name": "stdout",
     "output_type": "stream",
     "text": [
      "1/1 [==============================] - 0s 23ms/step\n",
      "[[0.00235605]]\n",
      "0.0023560522\n",
      "deceptive\n"
     ]
    }
   ],
   "source": [
    "new_text = \"This hotel has an excellent location, kind & gracious staff and comfortable beds, While most people come here with children, I would recommend it as a quiet place to stay on a budget\"\n",
    "\n",
    "new_sequence = tokenizer.texts_to_sequences([new_text])\n",
    "# print(new_sequence)\n",
    "new_data = pad_sequences(new_sequence, maxlen=maxlen)\n",
    "# print(new_data)\n",
    "prediction = clf.predict(new_data)\n",
    "print(prediction)\n",
    "print(prediction[0][0])\n",
    "prediction_label = np.round(prediction[0][0])\n",
    "print(\"truthful\" if prediction_label==1 else \"deceptive\")"
   ]
  },
  {
   "cell_type": "code",
   "execution_count": 66,
   "id": "1583f2d7",
   "metadata": {},
   "outputs": [
    {
     "name": "stdout",
     "output_type": "stream",
     "text": [
      "1/1 [==============================] - 0s 24ms/step\n",
      "[[0.99367243]]\n",
      "0.99367243\n",
      "truthful\n"
     ]
    }
   ],
   "source": [
    "new_text = \"Trigger warning : this is a long reviewAs an asian/american from california, first time UK traveller, this walking/train commuting is all new to me. I did alot of researching and review reading to make sure that i would choose the right hotel for my taste.I chose Athena:first for the location. It is VERY close to paddington station, which is kinda the main hub going to london's outskirts, heathrow express and also close to the the tubes ( did i say that correctly ). Also ALOT of restaurants, convenient store and laundry place is very close as well.Second reason is that most of the reviews i saw online was positive. My stay here felt like im their house guest. Room service is done everyday, fresh towels and very clean room. Breakfast is complimentary. My first day we went to durdle door and needed to bring snacks for the trip, the very nice lady from the kitchen let us borrow her lunchbox so we can bring the porridge while driving.. so sweet of her.Third reason is that the staff are all amazing and very friendly.Mario Jr, who helped us check in and settle our car parking ( we rented a car so we can just drive outside london for 3 days. Parking is $15 per day, book early coz its limited spots)Mo from night shift was also nice, funny guy as well.And for Meliha, she was very accomodating, friendly and helpful.For the rooms, its cute, small but cozy. Typical bed and breakfast. Bathroom is medium size, shower has a rainfall shower head and handheld so you can use both. maybe the only thing i didnt like is that the shower glass is only half of the shower area, so put like a towel on the floor so you wont slip when you get out of the shower area.They also have luggage storage which is very convenient if you're planning to go somewhere then come back.Overall, my stay at Athena was amazing. I felt at home.Thank you everyone and keep up the good work.\"\n",
    "\n",
    "new_sequence = tokenizer.texts_to_sequences([new_text])\n",
    "# print(new_sequence)\n",
    "new_data = pad_sequences(new_sequence, maxlen=maxlen)\n",
    "# print(new_data)\n",
    "prediction = clf.predict(new_data)\n",
    "print(prediction)\n",
    "print(prediction[0][0])\n",
    "prediction_label = np.round(prediction[0][0])\n",
    "print(\"truthful\" if prediction_label==1 else \"deceptive\")"
   ]
  },
  {
   "cell_type": "code",
   "execution_count": 67,
   "id": "4c2f6689",
   "metadata": {},
   "outputs": [
    {
     "name": "stdout",
     "output_type": "stream",
     "text": [
      "1/1 [==============================] - 0s 24ms/step\n",
      "[[0.48062646]]\n",
      "0.48062646\n",
      "deceptive\n"
     ]
    }
   ],
   "source": [
    "new_text = \"Cheap, clean and good location for catching buses and the Underground.However, room is very tiny with a single bed, tiny shower and tiny sink. Included English breakfast is canned fruit cocktail, cold baked beans and toast.  If you want to save money it's a good deal.\"\n",
    "\n",
    "new_sequence = tokenizer.texts_to_sequences([new_text])\n",
    "# print(new_sequence)\n",
    "new_data = pad_sequences(new_sequence, maxlen=maxlen)\n",
    "# print(new_data)\n",
    "prediction = clf.predict(new_data)\n",
    "print(prediction)\n",
    "print(prediction[0][0])\n",
    "prediction_label = np.round(prediction[0][0])\n",
    "print(\"truthful\" if prediction_label==1 else \"deceptive\")"
   ]
  },
  {
   "cell_type": "code",
   "execution_count": 68,
   "id": "c9a0586e",
   "metadata": {},
   "outputs": [
    {
     "name": "stdout",
     "output_type": "stream",
     "text": [
      "1/1 [==============================] - 0s 24ms/step\n",
      "[[0.99426657]]\n",
      "0.99426657\n",
      "truthful\n"
     ]
    }
   ],
   "source": [
    "new_text = \"The Athena Hotel is along London near Nottingham Station. It sit amongst a line of row houses that have almost all been converted into small hotels.The Athena is just around the corner from an entry into Paddington Underground. Also just a block away from busy Praed Street, which is full of shopping, eating and drinking oppurtunities.The staff is friendly, helpfull and efficient. Our room was a reasonable size with a large bathroom that included a full bath. The towls are fluffy and new. The bed is fairly comfortable and the room was stocked with 2 extra pillows and a blanket in the closet. Flat screen TV and phone in the room.The location is good, the price reasonable, the staff inviting and the rooms comfortable and clean....and a full English breakfast is included in the rate!\"\n",
    "\n",
    "new_sequence = tokenizer.texts_to_sequences([new_text])\n",
    "# print(new_sequence)\n",
    "new_data = pad_sequences(new_sequence, maxlen=maxlen)\n",
    "# print(new_data)\n",
    "prediction = clf.predict(new_data)\n",
    "print(prediction)\n",
    "print(prediction[0][0])\n",
    "prediction_label = np.round(prediction[0][0])\n",
    "print(\"truthful\" if prediction_label==1 else \"deceptive\")"
   ]
  },
  {
   "cell_type": "code",
   "execution_count": 69,
   "id": "e64fc356",
   "metadata": {},
   "outputs": [
    {
     "name": "stdout",
     "output_type": "stream",
     "text": [
      "1/1 [==============================] - 0s 23ms/step\n",
      "[[0.02803386]]\n",
      "0.028033864\n",
      "deceptive\n"
     ]
    }
   ],
   "source": [
    "new_text = \"This hotel is perfectly off the beaten path! We got a family room with bunk beds. The front desk staff was very kind and helpful! The full English breakfast and WiFi were the best accommodations! I would stay here again in a heart beat! Load of cafes within walking distance!\"\n",
    "\n",
    "new_sequence = tokenizer.texts_to_sequences([new_text])\n",
    "# print(new_sequence)\n",
    "new_data = pad_sequences(new_sequence, maxlen=maxlen)\n",
    "# print(new_data)\n",
    "prediction = clf.predict(new_data)\n",
    "print(prediction)\n",
    "print(prediction[0][0])\n",
    "prediction_label = np.round(prediction[0][0])\n",
    "print(\"truthful\" if prediction_label==1 else \"deceptive\")"
   ]
  },
  {
   "cell_type": "code",
   "execution_count": 70,
   "id": "5a969a03",
   "metadata": {},
   "outputs": [
    {
     "name": "stdout",
     "output_type": "stream",
     "text": [
      "1/1 [==============================] - 0s 23ms/step\n",
      "[[0.99420774]]\n",
      "0.99420774\n",
      "truthful\n"
     ]
    }
   ],
   "source": [
    "new_text = \"Horrible Room for the Price. My family and I checked into the Athena for a two night stay, and upon seeing the room immediately wanted to check out. The molding on the walls were cracked and peeling. The beds we requested were correct in number, however the covers were old and dingy, matching the curtains. Upon arrival, we also found out that they do not have air conditioning, which according to the receptionist they do not advertise ?? As a result, since it was London in July, we had to keep the windows open to let in the slightest bit of breeze. So immediately (since there were no screens) flies and insects began swarming into the room. So not only was it hot, we were being bitten by insects and couldn't sleep at all. The hotels right on a major street, so every few minutes a honking bus or taxi would drive by. And the best part?? They have a no exception refund policy. So after a poor breakfast of eggs and beans (like seriously, they only had an English breakfast and some cereal options) we checked out and found another hotel. I've contacted Expedia to see about getting a refund on their end but have received no word back. Definitely not a three star hotel, and should not be advertised on Expedia! Not a good experience at all\"\n",
    "\n",
    "new_sequence = tokenizer.texts_to_sequences([new_text])\n",
    "# print(new_sequence)\n",
    "new_data = pad_sequences(new_sequence, maxlen=maxlen)\n",
    "# print(new_data)\n",
    "prediction = clf.predict(new_data)\n",
    "print(prediction)\n",
    "print(prediction[0][0])\n",
    "prediction_label = np.round(prediction[0][0])\n",
    "print(\"truthful\" if prediction_label==1 else \"deceptive\")"
   ]
  },
  {
   "cell_type": "code",
   "execution_count": 71,
   "id": "f982e30f",
   "metadata": {},
   "outputs": [
    {
     "name": "stdout",
     "output_type": "stream",
     "text": [
      "1/1 [==============================] - 0s 24ms/step\n",
      "[[0.00253657]]\n",
      "0.0025365674\n",
      "deceptive\n"
     ]
    }
   ],
   "source": [
    "new_text = \"Noisy, very  very expensive for a tiny service, employee desk unpleasant..... That's enough to go your way\"\n",
    "\n",
    "new_sequence = tokenizer.texts_to_sequences([new_text])\n",
    "# print(new_sequence)\n",
    "new_data = pad_sequences(new_sequence, maxlen=maxlen)\n",
    "# print(new_data)\n",
    "prediction = clf.predict(new_data)\n",
    "print(prediction)\n",
    "print(prediction[0][0])\n",
    "prediction_label = np.round(prediction[0][0])\n",
    "print(\"truthful\" if prediction_label==1 else \"deceptive\")"
   ]
  },
  {
   "cell_type": "code",
   "execution_count": 72,
   "id": "6caa4aa3",
   "metadata": {},
   "outputs": [
    {
     "name": "stdout",
     "output_type": "stream",
     "text": [
      "1/1 [==============================] - 0s 24ms/step\n",
      "[[0.00305651]]\n",
      "0.003056509\n",
      "deceptive\n"
     ]
    }
   ],
   "source": [
    "new_text = \"Customer service is terrible. They take days to work your issue as they don’t work weekends!! No one backs them up. Broke my foot and my host isn’t handicap accessible and won’t refund. Guess I’ll never go to Niagara Falls as Niagara Hospitality is below 1 rating. Horrible news experience .\"\n",
    "\n",
    "new_sequence = tokenizer.texts_to_sequences([new_text])\n",
    "# print(new_sequence)\n",
    "new_data = pad_sequences(new_sequence, maxlen=maxlen)\n",
    "# print(new_data)\n",
    "prediction = clf.predict(new_data)\n",
    "print(prediction)\n",
    "print(prediction[0][0])\n",
    "prediction_label = np.round(prediction[0][0])\n",
    "print(\"truthful\" if prediction_label==1 else \"deceptive\")"
   ]
  },
  {
   "cell_type": "code",
   "execution_count": 73,
   "id": "64380c84",
   "metadata": {},
   "outputs": [
    {
     "name": "stdout",
     "output_type": "stream",
     "text": [
      "1/1 [==============================] - 0s 24ms/step\n",
      "[[0.00800722]]\n",
      "0.008007224\n",
      "deceptive\n"
     ]
    }
   ],
   "source": [
    "new_text = \"Their customer service was awful. They are highly overpriced. Airbnb always sided with a rude and delusive host.They did not provide smoke detectors as they supposed after several Americans have died from carbon monoxide. They did not disclose the fact that a condo in Puerto Vallarta was exposed to a terrible noisy drum beat from nearby disco and that the toilette had a stinky smell due to bad pipes.\"\n",
    "\n",
    "new_sequence = tokenizer.texts_to_sequences([new_text])\n",
    "# print(new_sequence)\n",
    "new_data = pad_sequences(new_sequence, maxlen=maxlen)\n",
    "# print(new_data)\n",
    "prediction = clf.predict(new_data)\n",
    "print(prediction)\n",
    "print(prediction[0][0])\n",
    "prediction_label = np.round(prediction[0][0])\n",
    "print(\"truthful\" if prediction_label==1 else \"deceptive\")"
   ]
  },
  {
   "cell_type": "code",
   "execution_count": 74,
   "id": "8cf27e85",
   "metadata": {},
   "outputs": [
    {
     "name": "stdout",
     "output_type": "stream",
     "text": [
      "1/1 [==============================] - 0s 24ms/step\n",
      "[[0.59213144]]\n",
      "0.59213144\n",
      "truthful\n"
     ]
    }
   ],
   "source": [
    "new_text = \"Horrendous from start to finish. If things go wrong they just bury their heads in the sand and leave the guest to pick up the pieces. Nobody speaks or understands English either which means you're forever stuck in a loop of generic messages requesting the same information and nothing gets done. Will never use again!!!\"\n",
    "\n",
    "new_sequence = tokenizer.texts_to_sequences([new_text])\n",
    "# print(new_sequence)\n",
    "new_data = pad_sequences(new_sequence, maxlen=maxlen)\n",
    "# print(new_data)\n",
    "prediction = clf.predict(new_data)\n",
    "print(prediction)\n",
    "print(prediction[0][0])\n",
    "prediction_label = np.round(prediction[0][0])\n",
    "print(\"truthful\" if prediction_label==1 else \"deceptive\")"
   ]
  },
  {
   "cell_type": "code",
   "execution_count": 75,
   "id": "02a458e5",
   "metadata": {},
   "outputs": [
    {
     "name": "stdout",
     "output_type": "stream",
     "text": [
      "1/1 [==============================] - 0s 24ms/step\n",
      "[[0.9897115]]\n",
      "0.9897115\n",
      "truthful\n"
     ]
    }
   ],
   "source": [
    "new_text = \"We have reservation on Airbnb 10 mins walk from where a terrorist attack took place in Turkey. I have contacted AIRBNB and the host and both refused to give me the refund.Travelling as a family with kids we have decided it will be risky to travel to and stay at a location where a terrorist attack took place.As per the terms and conditions of Airbnb, it claims terrorist attacks and country advisories as an event in which they would accept a refund for.As per one traveller who went on the news about cancelling a Airbnb booking due to terrorist attacks in Paris, he was refunded fully by Airbnb even though the host declined.I don’t understand why Airbnb didn’t equally refund us our reservation. I have recorded ZERO assistance from Airbnb. Which makes us think 5-10 times before choosing to book on here.\"\n",
    "\n",
    "new_sequence = tokenizer.texts_to_sequences([new_text])\n",
    "# print(new_sequence)\n",
    "new_data = pad_sequences(new_sequence, maxlen=maxlen)\n",
    "# print(new_data)\n",
    "prediction = clf.predict(new_data)\n",
    "print(prediction)\n",
    "print(prediction[0][0])\n",
    "prediction_label = np.round(prediction[0][0])\n",
    "print(\"truthful\" if prediction_label==1 else \"deceptive\")"
   ]
  },
  {
   "cell_type": "code",
   "execution_count": 76,
   "id": "c15dec11",
   "metadata": {},
   "outputs": [
    {
     "name": "stdout",
     "output_type": "stream",
     "text": [
      "1/1 [==============================] - 0s 24ms/step\n",
      "[[0.41941223]]\n",
      "0.41941223\n",
      "deceptive\n"
     ]
    }
   ],
   "source": [
    "new_text = \"What a dreadful company AirBNB is. They knowingly allow hosts to provide misleading information.How can you have photos of a bathroom showing a bath but when you get there it hasn't got any taps or a plug!! Advertises a freezer which wasn't there.Their 'customer service' is an absolute joke. If you don't reply within 90 minutes they close the case. This happened to me at 11pm when I was asleep!\"\n",
    "\n",
    "new_sequence = tokenizer.texts_to_sequences([new_text])\n",
    "# print(new_sequence)\n",
    "new_data = pad_sequences(new_sequence, maxlen=maxlen)\n",
    "# print(new_data)\n",
    "prediction = clf.predict(new_data)\n",
    "print(prediction)\n",
    "print(prediction[0][0])\n",
    "prediction_label = np.round(prediction[0][0])\n",
    "print(\"truthful\" if prediction_label==1 else \"deceptive\")"
   ]
  },
  {
   "cell_type": "code",
   "execution_count": 77,
   "id": "415758a5",
   "metadata": {},
   "outputs": [
    {
     "name": "stdout",
     "output_type": "stream",
     "text": [
      "1/1 [==============================] - 0s 24ms/step\n",
      "[[0.0052279]]\n",
      "0.0052279043\n",
      "deceptive\n"
     ]
    }
   ],
   "source": [
    "new_text = \"It’s interesting to read all these terrible reviews when I have experienced the same but as a host. All is fine until it goes wrong with a problematic guest and they didn’t want to know. Generic replies and not one of my questions answered.\"\n",
    "\n",
    "new_sequence = tokenizer.texts_to_sequences([new_text])\n",
    "# print(new_sequence)\n",
    "new_data = pad_sequences(new_sequence, maxlen=maxlen)\n",
    "# print(new_data)\n",
    "prediction = clf.predict(new_data)\n",
    "print(prediction)\n",
    "print(prediction[0][0])\n",
    "prediction_label = np.round(prediction[0][0])\n",
    "print(\"truthful\" if prediction_label==1 else \"deceptive\")"
   ]
  },
  {
   "cell_type": "code",
   "execution_count": 78,
   "id": "16393e88",
   "metadata": {},
   "outputs": [
    {
     "name": "stdout",
     "output_type": "stream",
     "text": [
      "1/1 [==============================] - 0s 23ms/step\n",
      "[[0.00174627]]\n",
      "0.0017462699\n",
      "deceptive\n"
     ]
    }
   ],
   "source": [
    "new_text = \"France is in the United Kingdom\"\n",
    "\n",
    "new_sequence = tokenizer.texts_to_sequences([new_text])\n",
    "# print(new_sequence)\n",
    "new_data = pad_sequences(new_sequence, maxlen=maxlen)\n",
    "# print(new_data)\n",
    "prediction = clf.predict(new_data)\n",
    "print(prediction)\n",
    "print(prediction[0][0])\n",
    "prediction_label = np.round(prediction[0][0])\n",
    "print(\"truthful\" if prediction_label==1 else \"deceptive\")"
   ]
  },
  {
   "cell_type": "code",
   "execution_count": 79,
   "id": "0d64c0a5",
   "metadata": {},
   "outputs": [
    {
     "name": "stdout",
     "output_type": "stream",
     "text": [
      "1/1 [==============================] - 0s 23ms/step\n",
      "[[0.00189809]]\n",
      "0.0018980867\n",
      "deceptive\n"
     ]
    }
   ],
   "source": [
    "new_text = \"France is not in the United Kingdom\"\n",
    "\n",
    "new_sequence = tokenizer.texts_to_sequences([new_text])\n",
    "# print(new_sequence)\n",
    "new_data = pad_sequences(new_sequence, maxlen=maxlen)\n",
    "# print(new_data)\n",
    "prediction = clf.predict(new_data)\n",
    "print(prediction)\n",
    "print(prediction[0][0])\n",
    "prediction_label = np.round(prediction[0][0])\n",
    "print(\"truthful\" if prediction_label==1 else \"deceptive\")"
   ]
  },
  {
   "cell_type": "code",
   "execution_count": 80,
   "id": "557b6ac7",
   "metadata": {},
   "outputs": [
    {
     "name": "stdout",
     "output_type": "stream",
     "text": [
      "1/1 [==============================] - 0s 24ms/step\n",
      "[[0.00189809]]\n",
      "0.0018980867\n",
      "deceptive\n"
     ]
    }
   ],
   "source": [
    "new_text = \"France is not in the United Kingdom\"\n",
    "\n",
    "new_sequence = tokenizer.texts_to_sequences([new_text])\n",
    "# print(new_sequence)\n",
    "new_data = pad_sequences(new_sequence, maxlen=maxlen)\n",
    "# print(new_data)\n",
    "prediction = clf.predict(new_data)\n",
    "print(prediction)\n",
    "print(prediction[0][0])\n",
    "prediction_label = np.round(prediction[0][0])\n",
    "print(\"truthful\" if prediction_label==1 else \"deceptive\")"
   ]
  },
  {
   "cell_type": "code",
   "execution_count": 81,
   "id": "5cf69f02",
   "metadata": {},
   "outputs": [
    {
     "name": "stdout",
     "output_type": "stream",
     "text": [
      "1/1 [==============================] - 0s 24ms/step\n",
      "[[0.4798213]]\n",
      "0.4798213\n",
      "deceptive\n"
     ]
    }
   ],
   "source": [
    "new_text = \"Airbnb service fees and cleaning fees are ridiculous! Bad enough on price for stay plus tax. Try to book something nice for me and my boyfriend for a week in TN for my birthday and everything I would love to stay at is so damn expensive! I've never booked with airbnb before and would like to if prices weren't so ridiculous! People could still make $ even if the prices weren't so high!\"\n",
    "\n",
    "new_sequence = tokenizer.texts_to_sequences([new_text])\n",
    "# print(new_sequence)\n",
    "new_data = pad_sequences(new_sequence, maxlen=maxlen)\n",
    "# print(new_data)\n",
    "prediction = clf.predict(new_data)\n",
    "print(prediction)\n",
    "print(prediction[0][0])\n",
    "prediction_label = np.round(prediction[0][0])\n",
    "print(\"truthful\" if prediction_label==1 else \"deceptive\")"
   ]
  },
  {
   "cell_type": "code",
   "execution_count": 82,
   "id": "15698fd0",
   "metadata": {},
   "outputs": [
    {
     "name": "stdout",
     "output_type": "stream",
     "text": [
      "1/1 [==============================] - 0s 24ms/step\n",
      "[[0.98265934]]\n",
      "0.98265934\n",
      "truthful\n"
     ]
    }
   ],
   "source": [
    "new_text = \"I booked accommodation well in advance at a reasonable price. The host cancelled 24 hours before I was due to check in. Airbnb did nothing to assist me in getting an alternative accommodation at the last minute and I could have booked a hotel in the first place cheaper than what I ended up paying. I will be very reluctant to ever use their platform in the future.\"\n",
    "\n",
    "new_sequence = tokenizer.texts_to_sequences([new_text])\n",
    "# print(new_sequence)\n",
    "new_data = pad_sequences(new_sequence, maxlen=maxlen)\n",
    "# print(new_data)\n",
    "prediction = clf.predict(new_data)\n",
    "print(prediction)\n",
    "print(prediction[0][0])\n",
    "prediction_label = np.round(prediction[0][0])\n",
    "print(\"truthful\" if prediction_label==1 else \"deceptive\")"
   ]
  },
  {
   "cell_type": "code",
   "execution_count": 83,
   "id": "48456bce",
   "metadata": {},
   "outputs": [
    {
     "name": "stdout",
     "output_type": "stream",
     "text": [
      "1/1 [==============================] - 0s 24ms/step\n",
      "[[0.00714236]]\n",
      "0.0071423566\n",
      "deceptive\n"
     ]
    }
   ],
   "source": [
    "new_text = \"Awful wanted personal information from us ..photo id .etc just to book .forget it went to booking.com instead .Airbnb lost 2 k still they won't care .awful stay away!!!\"\n",
    "\n",
    "new_sequence = tokenizer.texts_to_sequences([new_text])\n",
    "# print(new_sequence)\n",
    "new_data = pad_sequences(new_sequence, maxlen=maxlen)\n",
    "# print(new_data)\n",
    "prediction = clf.predict(new_data)\n",
    "print(prediction)\n",
    "print(prediction[0][0])\n",
    "prediction_label = np.round(prediction[0][0])\n",
    "print(\"truthful\" if prediction_label==1 else \"deceptive\")"
   ]
  },
  {
   "cell_type": "code",
   "execution_count": 84,
   "id": "25cc8557",
   "metadata": {},
   "outputs": [
    {
     "name": "stdout",
     "output_type": "stream",
     "text": [
      "1/1 [==============================] - 0s 24ms/step\n",
      "[[0.9939223]]\n",
      "0.9939223\n",
      "truthful\n"
     ]
    }
   ],
   "source": [
    "new_text = \"My family booked a stay a week or so before our trip. We had to cancel a day before because several members of the party including myself became ill with Covid. I contacted the host and her suggestion was to book for another date. I contacted both Airbnb and the host for assistance with a partial refund and after several days of back and forth they were not willing to provide any sort of refund because Covid is not a thing anymore. I understood the host's cancelation policy however I did not imagine we would become sick. Neither the Host or Airbnb were willing to provide any sort of refund. After leaving a review of my experience it was removed because I did not complete my stay. I explained that I only listed my experience and it was a simple beware to those who are looking to book that the cancellation policy is strict. Airbnb is in the business of protecting their hosts they are truly in no way interested in their guests once payment is received.\"\n",
    "\n",
    "new_sequence = tokenizer.texts_to_sequences([new_text])\n",
    "# print(new_sequence)\n",
    "new_data = pad_sequences(new_sequence, maxlen=maxlen)\n",
    "# print(new_data)\n",
    "prediction = clf.predict(new_data)\n",
    "print(prediction)\n",
    "print(prediction[0][0])\n",
    "prediction_label = np.round(prediction[0][0])\n",
    "print(\"truthful\" if prediction_label==1 else \"deceptive\")"
   ]
  },
  {
   "cell_type": "code",
   "execution_count": 85,
   "id": "4dc28327",
   "metadata": {},
   "outputs": [
    {
     "name": "stdout",
     "output_type": "stream",
     "text": [
      "1/1 [==============================] - 0s 24ms/step\n",
      "[[0.00217084]]\n",
      "0.002170837\n",
      "deceptive\n"
     ]
    }
   ],
   "source": [
    "new_text = \"what a useless site. once you are super-blocked you can pull our your clock and random access memory it against brian and valeriya (and their 'friends').\"\n",
    "\n",
    "new_sequence = tokenizer.texts_to_sequences([new_text])\n",
    "# print(new_sequence)\n",
    "new_data = pad_sequences(new_sequence, maxlen=maxlen)\n",
    "# print(new_data)\n",
    "prediction = clf.predict(new_data)\n",
    "print(prediction)\n",
    "print(prediction[0][0])\n",
    "prediction_label = np.round(prediction[0][0])\n",
    "print(\"truthful\" if prediction_label==1 else \"deceptive\")"
   ]
  },
  {
   "cell_type": "code",
   "execution_count": 86,
   "id": "f8264813",
   "metadata": {},
   "outputs": [
    {
     "name": "stdout",
     "output_type": "stream",
     "text": [
      "1/1 [==============================] - 0s 24ms/step\n",
      "[[0.41941223]]\n",
      "0.41941223\n",
      "deceptive\n"
     ]
    }
   ],
   "source": [
    "new_text = \"What a dreadful company AirBNB is. They knowingly allow hosts to provide misleading information.How can you have photos of a bathroom showing a bath but when you get there it hasn't got any taps or a plug!! Advertises a freezer which wasn't there.Their 'customer service' is an absolute joke. If you don't reply within 90 minutes they close the case. This happened to me at 11pm when I was asleep!\"\n",
    "\n",
    "new_sequence = tokenizer.texts_to_sequences([new_text])\n",
    "# print(new_sequence)\n",
    "new_data = pad_sequences(new_sequence, maxlen=maxlen)\n",
    "# print(new_data)\n",
    "prediction = clf.predict(new_data)\n",
    "print(prediction)\n",
    "print(prediction[0][0])\n",
    "prediction_label = np.round(prediction[0][0])\n",
    "print(\"truthful\" if prediction_label==1 else \"deceptive\")"
   ]
  },
  {
   "cell_type": "code",
   "execution_count": 87,
   "id": "6cde2d65",
   "metadata": {},
   "outputs": [
    {
     "name": "stdout",
     "output_type": "stream",
     "text": [
      "1/1 [==============================] - 0s 23ms/step\n",
      "[[0.99441874]]\n",
      "0.99441874\n",
      "truthful\n"
     ]
    }
   ],
   "source": [
    "new_text = \"My wife and I are extremely well traveled, and have stayed at well over 100 airbnbs. Contrary to what others have posted here, we've experienced A+ properties, nice hosts, well-located properties, and accurate information. We read reviews VERY carefully. If a landlord has multiple properties, we read the reviews of other properties. We use google street view to check out the neighborhood. We ONLY stay at places that have A+ reviews. We ONLY communicate via Airbnb's platform. The only time that we had a minor issue, Airbnb responded immediately and de-platformed the host. Wow!\"\n",
    "\n",
    "new_sequence = tokenizer.texts_to_sequences([new_text])\n",
    "# print(new_sequence)\n",
    "new_data = pad_sequences(new_sequence, maxlen=maxlen)\n",
    "# print(new_data)\n",
    "prediction = clf.predict(new_data)\n",
    "print(prediction)\n",
    "print(prediction[0][0])\n",
    "prediction_label = np.round(prediction[0][0])\n",
    "print(\"truthful\" if prediction_label==1 else \"deceptive\")"
   ]
  },
  {
   "cell_type": "code",
   "execution_count": 88,
   "id": "ed7eccd4",
   "metadata": {},
   "outputs": [
    {
     "name": "stdout",
     "output_type": "stream",
     "text": [
      "1/1 [==============================] - 0s 23ms/step\n",
      "[[0.92129105]]\n",
      "0.92129105\n",
      "truthful\n"
     ]
    }
   ],
   "source": [
    "new_text = \"I just lost $250 because of Airbnb problematic policy.I booked a place, it was never mentioned anything about noise around. There is a mosque producing high volume prayers from its speakers five times a day starting at 4:00 a.m.After I booked it I saw reviews on different websites like booking.com saying there is a loud noise that is affecting the hotel and making it hard to sleep and enjoy a quiet vacation.According to Airbnb policy, noise problems are a minor issue!! And that's the reason I didn't get a full refund only half.I'm asking myself how can it be that when you're going into a vacation that a noise problem would be a minor issue?I was scheduled to be in this place for 2 weeks enjoying a peaceful surrounding. I cannot imagine myself enjoying while there is unpleasant noise around me.From now on I will try to avoid using Airbnb services and turn to alternatives.\"\n",
    "\n",
    "new_sequence = tokenizer.texts_to_sequences([new_text])\n",
    "# print(new_sequence)\n",
    "new_data = pad_sequences(new_sequence, maxlen=maxlen)\n",
    "# print(new_data)\n",
    "prediction = clf.predict(new_data)\n",
    "print(prediction)\n",
    "print(prediction[0][0])\n",
    "prediction_label = np.round(prediction[0][0])\n",
    "print(\"truthful\" if prediction_label==1 else \"deceptive\")"
   ]
  },
  {
   "cell_type": "code",
   "execution_count": 89,
   "id": "c12dc5f0",
   "metadata": {},
   "outputs": [
    {
     "name": "stdout",
     "output_type": "stream",
     "text": [
      "1/1 [==============================] - 0s 24ms/step\n",
      "[[0.00173482]]\n",
      "0.001734819\n",
      "deceptive\n"
     ]
    }
   ],
   "source": [
    "new_text=\"Hello\"\n",
    "new_sequence = tokenizer.texts_to_sequences([new_text])\n",
    "# print(new_sequence)\n",
    "new_data = pad_sequences(new_sequence, maxlen=maxlen)\n",
    "# print(new_data)\n",
    "prediction = clf.predict(new_data)\n",
    "print(prediction)\n",
    "print(prediction[0][0])\n",
    "prediction_label = np.round(prediction[0][0])\n",
    "print(\"truthful\" if prediction_label==1 else \"deceptive\")"
   ]
  },
  {
   "cell_type": "code",
   "execution_count": 90,
   "id": "6d750572",
   "metadata": {},
   "outputs": [
    {
     "name": "stdout",
     "output_type": "stream",
     "text": [
      "1/1 [==============================] - 0s 24ms/step\n",
      "[[0.9676067]]\n",
      "0.9676067\n",
      "truthful\n"
     ]
    }
   ],
   "source": [
    "new_text=\"Was informed I had two days remaining to submit a review. When I tried, I was informed the 1:00pm time had expired, even thoug a time was not noted in the reminder email. 20 wasted minutes later with a 'Support' bot changed nothing, except getting condescending msgs that I need to review the policy again. Which addressed NOTHING about the arbitrary time cut-off.\"\n",
    "new_sequence = tokenizer.texts_to_sequences([new_text])\n",
    "# print(new_sequence)\n",
    "new_data = pad_sequences(new_sequence, maxlen=maxlen)\n",
    "# print(new_data)\n",
    "prediction = clf.predict(new_data)\n",
    "print(prediction)\n",
    "print(prediction[0][0])\n",
    "prediction_label = np.round(prediction[0][0])\n",
    "print(\"truthful\" if prediction_label==1 else \"deceptive\")"
   ]
  },
  {
   "cell_type": "code",
   "execution_count": 91,
   "id": "fb75bf86",
   "metadata": {},
   "outputs": [
    {
     "name": "stdout",
     "output_type": "stream",
     "text": [
      "1/1 [==============================] - 0s 24ms/step\n",
      "[[0.67809075]]\n",
      "0.67809075\n",
      "truthful\n"
     ]
    }
   ],
   "source": [
    "new_text=\"Be very very careful with Airbnb, I’ve only had issues from both host and guest. They won’t even issue an invoice that notes the full address of the property you stay at, they also won’t issue a letter that outlines the address. They spin a total internal jargon message saying they operate from Ireland and don’t have to comply with other countries consumer laws. They also refuse to provide the next level of complaint/Group Customer Relations to resolve a complaint. Tread very carefully.Hi xxx,Thank you for your reply. understand your request and where you are coming from.To sum up, we are not able to issue a receipt or letter other than the receipts or invoice on our website. Nevertheless, the Australian Taxation Office (ATO) does not issue Airbnb Ireland UC with an ABN, nor is it permitted to issue tax invoices for the services provided to Australian consumers.We seek your understanding that we must respectfully disengage from further correspondence as we are unable to provide further support for this case.If you'd like to give us feedback on this issue, our policies or your experience, you can do so at: xxxThank you.Best Regards,Brianna\"\n",
    "new_sequence = tokenizer.texts_to_sequences([new_text])\n",
    "# print(new_sequence)\n",
    "new_data = pad_sequences(new_sequence, maxlen=maxlen)\n",
    "# print(new_data)\n",
    "prediction = clf.predict(new_data)\n",
    "print(prediction)\n",
    "print(prediction[0][0])\n",
    "prediction_label = np.round(prediction[0][0])\n",
    "print(\"truthful\" if prediction_label==1 else \"deceptive\")"
   ]
  },
  {
   "cell_type": "code",
   "execution_count": 92,
   "id": "663c2b39",
   "metadata": {},
   "outputs": [
    {
     "name": "stdout",
     "output_type": "stream",
     "text": [
      "1/1 [==============================] - 0s 24ms/step\n",
      "[[0.9941481]]\n",
      "0.9941481\n",
      "truthful\n"
     ]
    }
   ],
   "source": [
    "new_text=\"I had an unbelievably frustrating experience with customer service. They closed my cases without even giving me the chance to respond! I can't believe the arrogance. Unfortunately, this seems to be a common theme with customer service across Airbnb. Even when guests damage property, they often don't take appropriate action they won't even allow bad reviews against irresponsible guests.-They charge hosts and guests too much fees.-Garbage customer service for hosts-No refund or compensation for destroyed property!! Aircover insurance my a**.-They don't allow bad reviews against guest so other hosts won't even know about it......Go with booking.com much more mature and professional customer service you can actually them and they wil call you.\"\n",
    "new_sequence = tokenizer.texts_to_sequences([new_text])\n",
    "# print(new_sequence)\n",
    "new_data = pad_sequences(new_sequence, maxlen=maxlen)\n",
    "# print(new_data)\n",
    "prediction = clf.predict(new_data)\n",
    "print(prediction)\n",
    "print(prediction[0][0])\n",
    "prediction_label = np.round(prediction[0][0])\n",
    "print(\"truthful\" if prediction_label==1 else \"deceptive\")"
   ]
  },
  {
   "cell_type": "code",
   "execution_count": 93,
   "id": "663dd2bd",
   "metadata": {},
   "outputs": [
    {
     "name": "stdout",
     "output_type": "stream",
     "text": [
      "1/1 [==============================] - 0s 24ms/step\n",
      "[[0.40362826]]\n",
      "0.40362826\n",
      "deceptive\n"
     ]
    }
   ],
   "source": [
    "new_text=\"They are total garbage. The host has the right to unexpectedly cancel, but their cancellation policy severely penalizes the tenant. I won't ever use this business again. They refuse to assist you or step in if there is a problem and instead conceal behind their Terms and Conditions. Do not use them, they're only there to service themselves and to steal your money. Signup with F🅾️r*tune~~Gr🅾️up to make a much more informed choice. They offer the most lucrative investment service available, and withdrawal is quick and simple.\"\n",
    "new_sequence = tokenizer.texts_to_sequences([new_text])\n",
    "# print(new_sequence)\n",
    "new_data = pad_sequences(new_sequence, maxlen=maxlen)\n",
    "# print(new_data)\n",
    "prediction = clf.predict(new_data)\n",
    "print(prediction)\n",
    "print(prediction[0][0])\n",
    "prediction_label = np.round(prediction[0][0])\n",
    "print(\"truthful\" if prediction_label==1 else \"deceptive\")"
   ]
  },
  {
   "cell_type": "code",
   "execution_count": 94,
   "id": "326e1c52",
   "metadata": {},
   "outputs": [
    {
     "name": "stdout",
     "output_type": "stream",
     "text": [
      "1/1 [==============================] - 0s 24ms/step\n",
      "[[0.02095482]]\n",
      "0.020954818\n",
      "deceptive\n"
     ]
    }
   ],
   "source": [
    "new_text=\"I have been unfairly treated. My reservation was cancelled by Airbnb just hours before I had to move in with my family and unable to book another place for 10 days !! We were left alone , with no shelter on a winter storm. Airbnb is definitely on the Host side , not on the guest side.\"\n",
    "new_sequence = tokenizer.texts_to_sequences([new_text])\n",
    "# print(new_sequence)\n",
    "new_data = pad_sequences(new_sequence, maxlen=maxlen)\n",
    "# print(new_data)\n",
    "prediction = clf.predict(new_data)\n",
    "print(prediction)\n",
    "print(prediction[0][0])\n",
    "prediction_label = np.round(prediction[0][0])\n",
    "print(\"truthful\" if prediction_label==1 else \"deceptive\")"
   ]
  },
  {
   "cell_type": "code",
   "execution_count": 95,
   "id": "9880b0c1",
   "metadata": {},
   "outputs": [
    {
     "name": "stdout",
     "output_type": "stream",
     "text": [
      "1/1 [==============================] - 0s 24ms/step\n",
      "[[0.9893743]]\n",
      "0.9893743\n",
      "truthful\n"
     ]
    }
   ],
   "source": [
    "new_text=\"Terrible! The software if full of bugs. The system is unstable & cumbersome to use. Configurations made by the host are either not recorded or changed without the host's knowledge. Some information apears sometimes and other time does not. Messages disappear from the message inbox (essential to communicate with guests) without a reason never to be found again. Support just have no solutions. All they can do is apologize. I really don't understand how they can be so successful!\"\n",
    "new_sequence = tokenizer.texts_to_sequences([new_text])\n",
    "# print(new_sequence)\n",
    "new_data = pad_sequences(new_sequence, maxlen=maxlen)\n",
    "# print(new_data)\n",
    "prediction = clf.predict(new_data)\n",
    "print(prediction)\n",
    "print(prediction[0][0])\n",
    "prediction_label = np.round(prediction[0][0])\n",
    "print(\"truthful\" if prediction_label==1 else \"deceptive\")"
   ]
  },
  {
   "cell_type": "code",
   "execution_count": 96,
   "id": "a621e694",
   "metadata": {},
   "outputs": [
    {
     "name": "stdout",
     "output_type": "stream",
     "text": [
      "1/1 [==============================] - 0s 24ms/step\n",
      "[[0.70070523]]\n",
      "0.70070523\n",
      "truthful\n"
     ]
    }
   ],
   "source": [
    "new_text=\"I booked an airbnb in Helsinki for a month. I arrived to a live building site - scaffolding covering every facade of the building. I was awoken each morning at 8.30am by drilling/hammering which continued sporadically throughout the day. When I complained to Airbnb,the host quickly added a picture with the scaffolding to the listing. She refused even a partial refund and denied noise despite me sending video proof of the noise to airbnb. Airbnb sided with her and said I wasn´t cover by aircover - although aircover states if the property is not as expected you are fully covered.Additionally, one morning, I heard male voices outside the apartment and suddenly someone put a key in the door and tried to come into the apartment. I always use the safety chain so the door slammed against the chain and they couldn’t get in. I was terrified. There was 3 men at the door saying they had to enter the apartment to check repairs. I did not let them in. I was very shaken up after this.The host said it was the housing authority who have a key to the apartment.After all this, airbnb are refusing to publish my review on the hosts listing without reason as to why. They block negative reviews, side with hosts and ´Aircover´ is just a bs marketing scam which doesn´t cover you for anything.\"\n",
    "new_sequence = tokenizer.texts_to_sequences([new_text])\n",
    "# print(new_sequence)\n",
    "new_data = pad_sequences(new_sequence, maxlen=maxlen)\n",
    "# print(new_data)\n",
    "prediction = clf.predict(new_data)\n",
    "print(prediction)\n",
    "print(prediction[0][0])\n",
    "prediction_label = np.round(prediction[0][0])\n",
    "print(\"truthful\" if prediction_label==1 else \"deceptive\")"
   ]
  },
  {
   "cell_type": "code",
   "execution_count": 97,
   "id": "6b019fa4",
   "metadata": {},
   "outputs": [
    {
     "name": "stdout",
     "output_type": "stream",
     "text": [
      "1/1 [==============================] - 0s 23ms/step\n",
      "[[0.70070523]]\n",
      "0.70070523\n",
      "truthful\n"
     ]
    }
   ],
   "source": [
    "new_text=\"I booked an airbnb in Helsinki for a month. I arrived to a live building site - scaffolding covering every facade of the building. I was awoken each morning at 8.30am by drilling/hammering which continued sporadically throughout the day. When I complained to Airbnb,the host quickly added a picture with the scaffolding to the listing. She refused even a partial refund and denied noise despite me sending video proof of the noise to airbnb. Airbnb sided with her and said I wasn´t cover by aircover - although aircover states if the property is not as expected you are fully covered.Additionally, one morning, I heard male voices outside the apartment and suddenly someone put a key in the door and tried to come into the apartment. I always use the safety chain so the door slammed against the chain and they couldn’t get in. I was terrified. There was 3 men at the door saying they had to enter the apartment to check repairs. I did not let them in. I was very shaken up after this.The host said it was the housing authority who have a key to the apartment.After all this, airbnb are refusing to publish my review on the hosts listing without reason as to why. They block negative reviews, side with hosts and ´Aircover´ is just a bs marketing scam which doesn´t cover you for anything.\"\n",
    "new_sequence = tokenizer.texts_to_sequences([new_text])\n",
    "# print(new_sequence)\n",
    "new_data = pad_sequences(new_sequence, maxlen=maxlen)\n",
    "# print(new_data)\n",
    "prediction = clf.predict(new_data)\n",
    "print(prediction)\n",
    "print(prediction[0][0])\n",
    "prediction_label = np.round(prediction[0][0])\n",
    "print(\"truthful\" if prediction_label==1 else \"deceptive\")"
   ]
  },
  {
   "cell_type": "markdown",
   "id": "fd3b6c14",
   "metadata": {},
   "source": [
    "# Test with unseen data from different distribution"
   ]
  },
  {
   "cell_type": "code",
   "execution_count": 98,
   "id": "e15f75d8",
   "metadata": {},
   "outputs": [
    {
     "name": "stdout",
     "output_type": "stream",
     "text": [
      "1/1 [==============================] - 0s 24ms/step\n",
      "[[0.00199364]]\n",
      "0.0019936422\n",
      "deceptive\n"
     ]
    }
   ],
   "source": [
    "new_text = \"Love this!  Well made, sturdy, and very comfortable.  I love it!Very pretty\"\n",
    "\n",
    "new_sequence = tokenizer.texts_to_sequences([new_text])\n",
    "# print(new_sequence)\n",
    "new_data = pad_sequences(new_sequence, maxlen=maxlen)\n",
    "# print(new_data)\n",
    "prediction = clf.predict(new_data)\n",
    "print(prediction)\n",
    "print(prediction[0][0])\n",
    "prediction_label = np.round(prediction[0][0])\n",
    "print(\"truthful\" if prediction_label==1 else \"deceptive\")\n",
    "# right"
   ]
  },
  {
   "cell_type": "code",
   "execution_count": 99,
   "id": "73d73855",
   "metadata": {},
   "outputs": [
    {
     "name": "stdout",
     "output_type": "stream",
     "text": [
      "1/1 [==============================] - 0s 24ms/step\n",
      "[[0.00302471]]\n",
      "0.0030247073\n",
      "deceptive\n"
     ]
    }
   ],
   "source": [
    "new_text = \"What can you say--- cheap and it works as intended.\"\n",
    "\n",
    "new_sequence = tokenizer.texts_to_sequences([new_text])\n",
    "# print(new_sequence)\n",
    "new_data = pad_sequences(new_sequence, maxlen=maxlen)\n",
    "# print(new_data)\n",
    "prediction = clf.predict(new_data)\n",
    "print(prediction)\n",
    "print(prediction[0][0])\n",
    "prediction_label = np.round(prediction[0][0])\n",
    "print(\"truthful\" if prediction_label==1 else \"deceptive\")\n",
    "# right"
   ]
  },
  {
   "cell_type": "code",
   "execution_count": 100,
   "id": "d9d47245",
   "metadata": {},
   "outputs": [
    {
     "name": "stdout",
     "output_type": "stream",
     "text": [
      "1/1 [==============================] - 0s 24ms/step\n",
      "[[0.0059361]]\n",
      "0.005936104\n",
      "deceptive\n"
     ]
    }
   ],
   "source": [
    "new_text = \"Really ruff under your feet, it feels very sturdy. I will keep my feet in the chair\"\n",
    "\n",
    "new_sequence = tokenizer.texts_to_sequences([new_text])\n",
    "# print(new_sequence)\n",
    "new_data = pad_sequences(new_sequence, maxlen=maxlen)\n",
    "# print(new_data)\n",
    "prediction = clf.predict(new_data)\n",
    "print(prediction)\n",
    "print(prediction[0][0])\n",
    "prediction_label = np.round(prediction[0][0])\n",
    "print(\"truthful\" if prediction_label==1 else \"deceptive\")\n",
    "# right"
   ]
  },
  {
   "cell_type": "code",
   "execution_count": 101,
   "id": "11172cb3",
   "metadata": {},
   "outputs": [
    {
     "name": "stdout",
     "output_type": "stream",
     "text": [
      "1/1 [==============================] - 0s 23ms/step\n",
      "[[0.00194282]]\n",
      "0.001942819\n",
      "deceptive\n"
     ]
    }
   ],
   "source": [
    "new_text = \"Order to place special photos on the wall.  We've had it for a couple of weeks and\"\n",
    "\n",
    "new_sequence = tokenizer.texts_to_sequences([new_text])\n",
    "# print(new_sequence)\n",
    "new_data = pad_sequences(new_sequence, maxlen=maxlen)\n",
    "# print(new_data)\n",
    "prediction = clf.predict(new_data)\n",
    "print(prediction)\n",
    "print(prediction[0][0])\n",
    "prediction_label = np.round(prediction[0][0])\n",
    "print(\"truthful\" if prediction_label==1 else \"deceptive\")\n",
    "# right"
   ]
  },
  {
   "cell_type": "code",
   "execution_count": 102,
   "id": "0a956662",
   "metadata": {},
   "outputs": [
    {
     "name": "stdout",
     "output_type": "stream",
     "text": [
      "1/1 [==============================] - 0s 24ms/step\n",
      "[[0.00236567]]\n",
      "0.002365667\n",
      "deceptive\n"
     ]
    }
   ],
   "source": [
    "new_text = \"excellent product if you are a side sleeper this is perfect\"\n",
    "\n",
    "new_sequence = tokenizer.texts_to_sequences([new_text])\n",
    "# print(new_sequence)\n",
    "new_data = pad_sequences(new_sequence, maxlen=maxlen)\n",
    "# print(new_data)\n",
    "prediction = clf.predict(new_data)\n",
    "print(prediction)\n",
    "print(prediction[0][0])\n",
    "prediction_label = np.round(prediction[0][0])\n",
    "print(\"truthful\" if prediction_label==1 else \"deceptive\")\n",
    "# wrong"
   ]
  },
  {
   "cell_type": "code",
   "execution_count": 103,
   "id": "4d72668e",
   "metadata": {},
   "outputs": [
    {
     "name": "stdout",
     "output_type": "stream",
     "text": [
      "1/1 [==============================] - 0s 23ms/step\n",
      "[[0.00209868]]\n",
      "0.0020986812\n",
      "deceptive\n"
     ]
    }
   ],
   "source": [
    "new_text = \"Great product. Arrived on time and matched my shower curtain perfectly.\"\n",
    "\n",
    "new_sequence = tokenizer.texts_to_sequences([new_text])\n",
    "# print(new_sequence)\n",
    "new_data = pad_sequences(new_sequence, maxlen=maxlen)\n",
    "# print(new_data)\n",
    "prediction = clf.predict(new_data)\n",
    "print(prediction)\n",
    "print(prediction[0][0])\n",
    "prediction_label = np.round(prediction[0][0])\n",
    "print(\"truthful\" if prediction_label==1 else \"deceptive\")\n",
    "# wrong"
   ]
  },
  {
   "cell_type": "code",
   "execution_count": 104,
   "id": "f0ae4e2a",
   "metadata": {},
   "outputs": [
    {
     "name": "stdout",
     "output_type": "stream",
     "text": [
      "1/1 [==============================] - 0s 24ms/step\n",
      "[[0.00324077]]\n",
      "0.0032407749\n",
      "deceptive\n"
     ]
    }
   ],
   "source": [
    "new_text = \"Perfection. Beyond easy to use, minimal effort, fast and perfect froth.\"\n",
    "\n",
    "new_sequence = tokenizer.texts_to_sequences([new_text])\n",
    "# print(new_sequence)\n",
    "new_data = pad_sequences(new_sequence, maxlen=maxlen)\n",
    "# print(new_data)\n",
    "prediction = clf.predict(new_data)\n",
    "print(prediction)\n",
    "print(prediction[0][0])\n",
    "prediction_label = np.round(prediction[0][0])\n",
    "print(\"truthful\" if prediction_label==1 else \"deceptive\")\n",
    "# right"
   ]
  },
  {
   "cell_type": "code",
   "execution_count": 105,
   "id": "e978b949",
   "metadata": {},
   "outputs": [
    {
     "data": {
      "text/html": [
       "<div>\n",
       "<style scoped>\n",
       "    .dataframe tbody tr th:only-of-type {\n",
       "        vertical-align: middle;\n",
       "    }\n",
       "\n",
       "    .dataframe tbody tr th {\n",
       "        vertical-align: top;\n",
       "    }\n",
       "\n",
       "    .dataframe thead th {\n",
       "        text-align: right;\n",
       "    }\n",
       "</style>\n",
       "<table border=\"1\" class=\"dataframe\">\n",
       "  <thead>\n",
       "    <tr style=\"text-align: right;\">\n",
       "      <th></th>\n",
       "      <th>category</th>\n",
       "      <th>rating</th>\n",
       "      <th>label</th>\n",
       "      <th>text_</th>\n",
       "    </tr>\n",
       "  </thead>\n",
       "  <tbody>\n",
       "    <tr>\n",
       "      <th>0</th>\n",
       "      <td>Home_and_Kitchen_5</td>\n",
       "      <td>5</td>\n",
       "      <td>deceptive</td>\n",
       "      <td>Love this!  Well made, sturdy, and very comfortable.  I love it!Very pretty</td>\n",
       "    </tr>\n",
       "    <tr>\n",
       "      <th>1</th>\n",
       "      <td>Home_and_Kitchen_5</td>\n",
       "      <td>5</td>\n",
       "      <td>deceptive</td>\n",
       "      <td>love it, a great upgrade from the original.  I've had mine for a couple of years</td>\n",
       "    </tr>\n",
       "    <tr>\n",
       "      <th>2</th>\n",
       "      <td>Home_and_Kitchen_5</td>\n",
       "      <td>5</td>\n",
       "      <td>deceptive</td>\n",
       "      <td>This pillow saved my back. I love the look and feel of this pillow.</td>\n",
       "    </tr>\n",
       "    <tr>\n",
       "      <th>3</th>\n",
       "      <td>Home_and_Kitchen_5</td>\n",
       "      <td>1</td>\n",
       "      <td>deceptive</td>\n",
       "      <td>Missing information on how to use it, but it is a great product for the price!  I</td>\n",
       "    </tr>\n",
       "    <tr>\n",
       "      <th>4</th>\n",
       "      <td>Home_and_Kitchen_5</td>\n",
       "      <td>5</td>\n",
       "      <td>deceptive</td>\n",
       "      <td>Very nice set. Good quality. We have had the set for two months now and have not been</td>\n",
       "    </tr>\n",
       "    <tr>\n",
       "      <th>...</th>\n",
       "      <td>...</td>\n",
       "      <td>...</td>\n",
       "      <td>...</td>\n",
       "      <td>...</td>\n",
       "    </tr>\n",
       "    <tr>\n",
       "      <th>40427</th>\n",
       "      <td>Clothing_Shoes_and_Jewelry_5</td>\n",
       "      <td>4</td>\n",
       "      <td>truthful</td>\n",
       "      <td>I had read some reviews saying that this bra ran small and so I ordered TWO band AND cup sizes UP and it was still too small!  Definitely along the lines of a sports bra squish effect.  The sides do come up high.  Glamorise is one the best brands for bras, so I'm very surprised with this one.  The front close idea appealed to me, but look carefully, there are 7 (yes, seven) clasps to do up.  What a pain.  I think if I had ordered 3 sizes up it might be ok.  I won't return it as I'm losing weight, so it might fit better down the road.  Will update review at that time.  If you want a bra that doesn't let you jiggle at all without it being a minimizer and/or without wires, this would be good.\\n\\nUPDATE:  After very recent gallbladder surgery that left me with a highly tender incision site, I found I couldn't wear any of my regular bras.  I had ordered this one hoping I might be able to tolerate it.  Initially, because it was so tight, I couldn't tolerate this one either.  As I slowly healed, I kept trying the bra.  Due to its elastic nature I was able to adjust this for comfort more than the others.  After about two weeks, much to my amazement, I found the bra had lost its initial snugness and was in fact VERY comfortable!  5 weeks after surgery and this is still the only bra I can tolerate.  The number of clasps in the front turned out to be a bonus as well, because I could choose to leave the bottom clasps undone, adding to the comfort level.  I am still of the opinion that it runs too snug and I'm glad I ordered up.\\n\\nTake the time to break the bra in!  All bras have a break-in period (in my opinion), and this one is no different.  I'm actually quite happy with it now.</td>\n",
       "    </tr>\n",
       "    <tr>\n",
       "      <th>40428</th>\n",
       "      <td>Clothing_Shoes_and_Jewelry_5</td>\n",
       "      <td>5</td>\n",
       "      <td>deceptive</td>\n",
       "      <td>I wasn't sure exactly what it would be. It is a little large for my small size, but I think it is a nice fit.  The fabric is a nice thin material, but it is a little thin in the legs.  I wish it was thicker.  The material is soft and comfortable.  I will keep it.  I ordered a half size up and it fits great.  I wear a 9 1/2.  I like that the strap is longer than the waistband, which is nice.  I am 5'5\" and the size 6 fits great.  I am a medium.  The bra is too short.  It is a little narrow for me, but I think it would be a nice addition to my wardrobe.  I will be buying another one in different colors.  I have a small tummy and I ordered a medium.  I wear a 9 1/2 in pants.  I would recommend this bra.  I am 5'8\" and the length was perfect.  I love the color and it is very comfortable.\\nI would recommend this to anyone.I was very happy with this shirt!  It's very pretty and the fabric is soft and nice!  The fit is perfect!  I bought a small and it fit perfectly!  It is well made and it's very comfortable.I like the leggings but they are not as comfortable. I am a 36D and ordered a medium and it was too big. I am going to return it. I returned it. I am very pleased with this purchase and will be ordering another one.I bought these shoes to wear to work when I was out walking in the rain.</td>\n",
       "    </tr>\n",
       "    <tr>\n",
       "      <th>40429</th>\n",
       "      <td>Clothing_Shoes_and_Jewelry_5</td>\n",
       "      <td>2</td>\n",
       "      <td>truthful</td>\n",
       "      <td>You can wear the hood by itself, wear it with the hood, or wear just the jacket without the hood.  How is that for 3-in-1 systems?\\n\\nReminiscent of what Lands End sells as a \"Squall Jacket\", or what uniform and corporate wear sellers call a Three Season Jacket.\\n\\nWater and wind resistant shell.  Microfleece lined body.  Smooth polyester lining in sleeves.  Left hand side, Napoleon style, inside pocket with a hook and loop closure.  Adjustable sleeve cuffs.  Hemline cinch cord with toggles.  Molded plastic chain style, off brand, slide fastener.\\n\\nPolyester insulation is spilling out due to poor quality stitching.  Item was delivered with a broken main zipper.\\n\\nI can wear this jacket over just a t-shirt, and expect to stay warm @ 72 degrees Fahrenheit, and no wind.\\n\\nIf it was foggy, or there's a light drizzle, I would have no problem depending on this jacket to go 300 - 500 feet in order to get to my car in the parking lot.\\n\\nBetter garments feature Gore-Tex, Hippora, HyVent, DWR.....this jacket features no technology.  You're just hoping that the polyester does not saturate as you're trying to get where you're going.  You will not be going for bike rides, checking your property's fence line by horseback, riding a motorcycle, playing golf, pier fishing, lap dancing, picking strawberries, calling ducks, or anything else in the rain.\\n\\nI guess if you name your company, 32Degrees Weatherproof, the customer does not have a reasonable expectation that your garments will keep them dry &amp; warm.\\n\\nGarment fits tight across the shoulders, back, chest, and arms.  Go 1 size up if you intend on layering.\\n\\nI've purchased other items from this manufacturer, and frankly, this item was a let down.  It's not warm enough when I need it to be warm.  I put on a few layers, and it is too tight.  I need to stay dry, and I'm sooooo wet.\\n\\nAnd to sell a jacket as a 3-in-1 systems jacket........it needs to really be a 3-in-1 systems jacket.  This jacket does not have a removeable liner!</td>\n",
       "    </tr>\n",
       "    <tr>\n",
       "      <th>40430</th>\n",
       "      <td>Clothing_Shoes_and_Jewelry_5</td>\n",
       "      <td>1</td>\n",
       "      <td>deceptive</td>\n",
       "      <td>I liked nothing about this dress. The only reason I gave it 4 stars is because I ordered the size 6.5 and it fit perfectly. The fabric is a nice thin material and the color is vibrant. It's a little thin on me but it's worth it. The material is soft and comfortable. I love the color and the fit. I'm 5'4\" and it fits just right. I'm a size 6 and it's a bit long on me so I ordered a 6 in order to fit the smaller size. I'm 5'3\" and it fits perfect and I got it in a medium. It's a nice dress and I'm very pleased with it. I like that it's a bit small for me and I can wear it with a top or skirt. I also like that the fabric is made of a good material. I wear a size 5 and it fits well. I'm 5'3\" and it fits just right. I'm 5'6\" and it fits just right. I'm 5'4\" and it fits just right. I wear a size 10.5 and it's a little tight on me. I have a small waist and it's not too tight on me. It's a nice little dress. I will buy more colors.Very nice dress.  It is well made and it is very comfortable.  I received a free sample and will see if I can wear it again.  I would definitely buy another one.  I am very happy with this dress.I love these boots!  I have been wearing them for almost 8 months now and I love them so much that I purchased a second pair.  They are very comfortable and look great.</td>\n",
       "    </tr>\n",
       "    <tr>\n",
       "      <th>40431</th>\n",
       "      <td>Clothing_Shoes_and_Jewelry_5</td>\n",
       "      <td>5</td>\n",
       "      <td>truthful</td>\n",
       "      <td>I work in the wedding industry and have to work long days, on my feet, outside in the heat, and have to look professional. I've spent a ridiculous amount of money on high end dress shoes like Merrels and just have not been able to find a pair that are comfortable to wear all day. Both for my feet and my back. Enter the Sanuk yoga sling!!! These shoes are amazingly comfortable. Though, I will admit it took a few wears to get used to the feel of the yoga matte bottom. At first, it felt a little \"sticky\" to me, and the fabric part that goes through the toe area was a little thick and took some getting used to. I wore them for a few days before taking them out on a job and I can't get over how comfortable they are. Ii have been wearing these shoes now for 3 months, every work day and I am THRILLED. No more back pain, no more sore feet. I also wear these sometimes during my off time,mans every time I wear them, I get compliments on how cute and comfortable they look. The great thing about these shoes is the yoga matte bottom. It helps your feet grip to the shoe a bit, so your foot can just walk normally, without having to grip the shoe. You may not realize it, but with a lot of Sandals, your foot is having to work to keep the shoe on, changing the way you walk and stand and ultimately causing foot and back pain. Not with these! Also, the soft linen sits comfortably on your skin and breathes nicely in the heat. The only downside is the funky tan lines, which is why I am sure to alternate shoes on my days off, especially if I plan to be outside for most of the day. If it were not for that, I think these might be the only shoes I'd wear all summer. If you are looking for a reasonable priced, comfortable shoe that you can wear and walk in all day.</td>\n",
       "    </tr>\n",
       "  </tbody>\n",
       "</table>\n",
       "<p>40432 rows × 4 columns</p>\n",
       "</div>"
      ],
      "text/plain": [
       "                           category  rating      label  \\\n",
       "0                Home_and_Kitchen_5       5  deceptive   \n",
       "1                Home_and_Kitchen_5       5  deceptive   \n",
       "2                Home_and_Kitchen_5       5  deceptive   \n",
       "3                Home_and_Kitchen_5       1  deceptive   \n",
       "4                Home_and_Kitchen_5       5  deceptive   \n",
       "...                             ...     ...        ...   \n",
       "40427  Clothing_Shoes_and_Jewelry_5       4   truthful   \n",
       "40428  Clothing_Shoes_and_Jewelry_5       5  deceptive   \n",
       "40429  Clothing_Shoes_and_Jewelry_5       2   truthful   \n",
       "40430  Clothing_Shoes_and_Jewelry_5       1  deceptive   \n",
       "40431  Clothing_Shoes_and_Jewelry_5       5   truthful   \n",
       "\n",
       "                                                                                                                                                                                                                                                                                                                                                                                                                                                                                                                                                                                                                                                                                                                                                                                                                                                                                                                                                                                                                                                                                                                                                                                                                                                                                                                                                                                                                                                                                                                                                                                                                                                                                                                                                                                                                                                                                                                                                                                                                                                                                         text_  \n",
       "0                                                                                                                                                                                                                                                                                                                                                                                                                                                                                                                                                                                                                                                                                                                                                                                                                                                                                                                                                                                                                                                                                                                                                                                                                                                                                                                                                                                                                                                                                                                                                                                                                                                                                                                                                                                                                                                                                                                                                                                                                  Love this!  Well made, sturdy, and very comfortable.  I love it!Very pretty  \n",
       "1                                                                                                                                                                                                                                                                                                                                                                                                                                                                                                                                                                                                                                                                                                                                                                                                                                                                                                                                                                                                                                                                                                                                                                                                                                                                                                                                                                                                                                                                                                                                                                                                                                                                                                                                                                                                                                                                                                                                                                                                             love it, a great upgrade from the original.  I've had mine for a couple of years  \n",
       "2                                                                                                                                                                                                                                                                                                                                                                                                                                                                                                                                                                                                                                                                                                                                                                                                                                                                                                                                                                                                                                                                                                                                                                                                                                                                                                                                                                                                                                                                                                                                                                                                                                                                                                                                                                                                                                                                                                                                                                                                                          This pillow saved my back. I love the look and feel of this pillow.  \n",
       "3                                                                                                                                                                                                                                                                                                                                                                                                                                                                                                                                                                                                                                                                                                                                                                                                                                                                                                                                                                                                                                                                                                                                                                                                                                                                                                                                                                                                                                                                                                                                                                                                                                                                                                                                                                                                                                                                                                                                                                                                            Missing information on how to use it, but it is a great product for the price!  I  \n",
       "4                                                                                                                                                                                                                                                                                                                                                                                                                                                                                                                                                                                                                                                                                                                                                                                                                                                                                                                                                                                                                                                                                                                                                                                                                                                                                                                                                                                                                                                                                                                                                                                                                                                                                                                                                                                                                                                                                                                                                                                                        Very nice set. Good quality. We have had the set for two months now and have not been  \n",
       "...                                                                                                                                                                                                                                                                                                                                                                                                                                                                                                                                                                                                                                                                                                                                                                                                                                                                                                                                                                                                                                                                                                                                                                                                                                                                                                                                                                                                                                                                                                                                                                                                                                                                                                                                                                                                                                                                                                                                                                                                                                                                                        ...  \n",
       "40427                                                                                                                                                                                                                                                                                                                       I had read some reviews saying that this bra ran small and so I ordered TWO band AND cup sizes UP and it was still too small!  Definitely along the lines of a sports bra squish effect.  The sides do come up high.  Glamorise is one the best brands for bras, so I'm very surprised with this one.  The front close idea appealed to me, but look carefully, there are 7 (yes, seven) clasps to do up.  What a pain.  I think if I had ordered 3 sizes up it might be ok.  I won't return it as I'm losing weight, so it might fit better down the road.  Will update review at that time.  If you want a bra that doesn't let you jiggle at all without it being a minimizer and/or without wires, this would be good.\\n\\nUPDATE:  After very recent gallbladder surgery that left me with a highly tender incision site, I found I couldn't wear any of my regular bras.  I had ordered this one hoping I might be able to tolerate it.  Initially, because it was so tight, I couldn't tolerate this one either.  As I slowly healed, I kept trying the bra.  Due to its elastic nature I was able to adjust this for comfort more than the others.  After about two weeks, much to my amazement, I found the bra had lost its initial snugness and was in fact VERY comfortable!  5 weeks after surgery and this is still the only bra I can tolerate.  The number of clasps in the front turned out to be a bonus as well, because I could choose to leave the bottom clasps undone, adding to the comfort level.  I am still of the opinion that it runs too snug and I'm glad I ordered up.\\n\\nTake the time to break the bra in!  All bras have a break-in period (in my opinion), and this one is no different.  I'm actually quite happy with it now.  \n",
       "40428                                                                                                                                                                                                                                                                                                                                                                                                                                                                                                                                                                                                                                                                                                                                I wasn't sure exactly what it would be. It is a little large for my small size, but I think it is a nice fit.  The fabric is a nice thin material, but it is a little thin in the legs.  I wish it was thicker.  The material is soft and comfortable.  I will keep it.  I ordered a half size up and it fits great.  I wear a 9 1/2.  I like that the strap is longer than the waistband, which is nice.  I am 5'5\" and the size 6 fits great.  I am a medium.  The bra is too short.  It is a little narrow for me, but I think it would be a nice addition to my wardrobe.  I will be buying another one in different colors.  I have a small tummy and I ordered a medium.  I wear a 9 1/2 in pants.  I would recommend this bra.  I am 5'8\" and the length was perfect.  I love the color and it is very comfortable.\\nI would recommend this to anyone.I was very happy with this shirt!  It's very pretty and the fabric is soft and nice!  The fit is perfect!  I bought a small and it fit perfectly!  It is well made and it's very comfortable.I like the leggings but they are not as comfortable. I am a 36D and ordered a medium and it was too big. I am going to return it. I returned it. I am very pleased with this purchase and will be ordering another one.I bought these shoes to wear to work when I was out walking in the rain.  \n",
       "40429  You can wear the hood by itself, wear it with the hood, or wear just the jacket without the hood.  How is that for 3-in-1 systems?\\n\\nReminiscent of what Lands End sells as a \"Squall Jacket\", or what uniform and corporate wear sellers call a Three Season Jacket.\\n\\nWater and wind resistant shell.  Microfleece lined body.  Smooth polyester lining in sleeves.  Left hand side, Napoleon style, inside pocket with a hook and loop closure.  Adjustable sleeve cuffs.  Hemline cinch cord with toggles.  Molded plastic chain style, off brand, slide fastener.\\n\\nPolyester insulation is spilling out due to poor quality stitching.  Item was delivered with a broken main zipper.\\n\\nI can wear this jacket over just a t-shirt, and expect to stay warm @ 72 degrees Fahrenheit, and no wind.\\n\\nIf it was foggy, or there's a light drizzle, I would have no problem depending on this jacket to go 300 - 500 feet in order to get to my car in the parking lot.\\n\\nBetter garments feature Gore-Tex, Hippora, HyVent, DWR.....this jacket features no technology.  You're just hoping that the polyester does not saturate as you're trying to get where you're going.  You will not be going for bike rides, checking your property's fence line by horseback, riding a motorcycle, playing golf, pier fishing, lap dancing, picking strawberries, calling ducks, or anything else in the rain.\\n\\nI guess if you name your company, 32Degrees Weatherproof, the customer does not have a reasonable expectation that your garments will keep them dry & warm.\\n\\nGarment fits tight across the shoulders, back, chest, and arms.  Go 1 size up if you intend on layering.\\n\\nI've purchased other items from this manufacturer, and frankly, this item was a let down.  It's not warm enough when I need it to be warm.  I put on a few layers, and it is too tight.  I need to stay dry, and I'm sooooo wet.\\n\\nAnd to sell a jacket as a 3-in-1 systems jacket........it needs to really be a 3-in-1 systems jacket.  This jacket does not have a removeable liner!  \n",
       "40430                                                                                                                                                                                                                                                                                                                                                                                                                                                                                                                                                                                                                                                                                                                                    I liked nothing about this dress. The only reason I gave it 4 stars is because I ordered the size 6.5 and it fit perfectly. The fabric is a nice thin material and the color is vibrant. It's a little thin on me but it's worth it. The material is soft and comfortable. I love the color and the fit. I'm 5'4\" and it fits just right. I'm a size 6 and it's a bit long on me so I ordered a 6 in order to fit the smaller size. I'm 5'3\" and it fits perfect and I got it in a medium. It's a nice dress and I'm very pleased with it. I like that it's a bit small for me and I can wear it with a top or skirt. I also like that the fabric is made of a good material. I wear a size 5 and it fits well. I'm 5'3\" and it fits just right. I'm 5'6\" and it fits just right. I'm 5'4\" and it fits just right. I wear a size 10.5 and it's a little tight on me. I have a small waist and it's not too tight on me. It's a nice little dress. I will buy more colors.Very nice dress.  It is well made and it is very comfortable.  I received a free sample and will see if I can wear it again.  I would definitely buy another one.  I am very happy with this dress.I love these boots!  I have been wearing them for almost 8 months now and I love them so much that I purchased a second pair.  They are very comfortable and look great.   \n",
       "40431                                                                                                                                                                                                                                                 I work in the wedding industry and have to work long days, on my feet, outside in the heat, and have to look professional. I've spent a ridiculous amount of money on high end dress shoes like Merrels and just have not been able to find a pair that are comfortable to wear all day. Both for my feet and my back. Enter the Sanuk yoga sling!!! These shoes are amazingly comfortable. Though, I will admit it took a few wears to get used to the feel of the yoga matte bottom. At first, it felt a little \"sticky\" to me, and the fabric part that goes through the toe area was a little thick and took some getting used to. I wore them for a few days before taking them out on a job and I can't get over how comfortable they are. Ii have been wearing these shoes now for 3 months, every work day and I am THRILLED. No more back pain, no more sore feet. I also wear these sometimes during my off time,mans every time I wear them, I get compliments on how cute and comfortable they look. The great thing about these shoes is the yoga matte bottom. It helps your feet grip to the shoe a bit, so your foot can just walk normally, without having to grip the shoe. You may not realize it, but with a lot of Sandals, your foot is having to work to keep the shoe on, changing the way you walk and stand and ultimately causing foot and back pain. Not with these! Also, the soft linen sits comfortably on your skin and breathes nicely in the heat. The only downside is the funky tan lines, which is why I am sure to alternate shoes on my days off, especially if I plan to be outside for most of the day. If it were not for that, I think these might be the only shoes I'd wear all summer. If you are looking for a reasonable priced, comfortable shoe that you can wear and walk in all day.  \n",
       "\n",
       "[40432 rows x 4 columns]"
      ]
     },
     "execution_count": 105,
     "metadata": {},
     "output_type": "execute_result"
    }
   ],
   "source": [
    "df_test = pd.read_csv('../FakeReviewDataset.csv')\n",
    "df_test"
   ]
  },
  {
   "cell_type": "code",
   "execution_count": 106,
   "id": "1c9eef15",
   "metadata": {},
   "outputs": [
    {
     "data": {
      "text/plain": [
       "0        False\n",
       "1        False\n",
       "2        False\n",
       "3        False\n",
       "4        False\n",
       "         ...  \n",
       "40427     True\n",
       "40428    False\n",
       "40429     True\n",
       "40430    False\n",
       "40431     True\n",
       "Name: label, Length: 40432, dtype: bool"
      ]
     },
     "execution_count": 106,
     "metadata": {},
     "output_type": "execute_result"
    }
   ],
   "source": [
    "(df_test['label'] == 'truthful')"
   ]
  },
  {
   "cell_type": "code",
   "execution_count": 107,
   "id": "d209f4d2",
   "metadata": {},
   "outputs": [
    {
     "data": {
      "text/plain": [
       "0        deceptive\n",
       "1        deceptive\n",
       "2        deceptive\n",
       "3        deceptive\n",
       "4        deceptive\n",
       "           ...    \n",
       "40427     truthful\n",
       "40428    deceptive\n",
       "40429     truthful\n",
       "40430    deceptive\n",
       "40431     truthful\n",
       "Name: label, Length: 40432, dtype: object"
      ]
     },
     "execution_count": 107,
     "metadata": {},
     "output_type": "execute_result"
    }
   ],
   "source": [
    "df_test['label']"
   ]
  },
  {
   "cell_type": "code",
   "execution_count": 108,
   "id": "0792d3f8",
   "metadata": {},
   "outputs": [
    {
     "data": {
      "text/plain": [
       "20216"
      ]
     },
     "execution_count": 108,
     "metadata": {},
     "output_type": "execute_result"
    }
   ],
   "source": [
    "deceptive_length = 0\n",
    "truthful_length = 0\n",
    "\n",
    "for i in df_test['label']:\n",
    "    if i == 'deceptive':\n",
    "        deceptive_length+=1\n",
    "    elif i == 'truthful':\n",
    "        truthful_length+=1\n",
    "\n",
    "deceptive_length\n",
    "        "
   ]
  },
  {
   "cell_type": "code",
   "execution_count": 109,
   "id": "817ca67c",
   "metadata": {},
   "outputs": [
    {
     "data": {
      "text/plain": [
       "20216"
      ]
     },
     "execution_count": 109,
     "metadata": {},
     "output_type": "execute_result"
    }
   ],
   "source": [
    "truthful_length"
   ]
  },
  {
   "cell_type": "code",
   "execution_count": 110,
   "id": "1e791829",
   "metadata": {},
   "outputs": [
    {
     "data": {
      "text/plain": [
       "0         True\n",
       "1         True\n",
       "2         True\n",
       "3         True\n",
       "4         True\n",
       "         ...  \n",
       "40427    False\n",
       "40428     True\n",
       "40429    False\n",
       "40430     True\n",
       "40431    False\n",
       "Name: label, Length: 40432, dtype: bool"
      ]
     },
     "execution_count": 110,
     "metadata": {},
     "output_type": "execute_result"
    }
   ],
   "source": [
    "(df_test['label'] == 'deceptive')"
   ]
  },
  {
   "cell_type": "code",
   "execution_count": 111,
   "id": "0a8f3bda",
   "metadata": {},
   "outputs": [
    {
     "data": {
      "text/plain": [
       "<AxesSubplot:xlabel='label', ylabel='count'>"
      ]
     },
     "execution_count": 111,
     "metadata": {},
     "output_type": "execute_result"
    },
    {
     "data": {
      "image/png": "[encoded data removed]",
      "text/plain": [
       "<Figure size 640x480 with 1 Axes>"
      ]
     },
     "metadata": {},
     "output_type": "display_data"
    }
   ],
   "source": [
    "import seaborn as sns\n",
    "import matplotlib.pyplot as plt\n",
    "sns.countplot(x=df_test['label'], hue='rating', data = df_test)"
   ]
  },
  {
   "cell_type": "code",
   "execution_count": 112,
   "id": "ba3b13f5",
   "metadata": {},
   "outputs": [],
   "source": [
    "x = df_test['text_']\n",
    "y_val = df_test['label']"
   ]
  },
  {
   "cell_type": "code",
   "execution_count": 113,
   "id": "a172436a",
   "metadata": {},
   "outputs": [],
   "source": [
    "x = tokenizer.texts_to_sequences(x)\n",
    "x = pad_sequences(x, padding = 'post', maxlen=maxlen)\n"
   ]
  },
  {
   "cell_type": "code",
   "execution_count": 114,
   "id": "361fdd2d",
   "metadata": {},
   "outputs": [
    {
     "data": {
      "text/plain": [
       "40432"
      ]
     },
     "execution_count": 114,
     "metadata": {},
     "output_type": "execute_result"
    }
   ],
   "source": [
    "len(x)"
   ]
  },
  {
   "cell_type": "code",
   "execution_count": null,
   "id": "29aec156",
   "metadata": {},
   "outputs": [],
   "source": []
  },
  {
   "cell_type": "code",
   "execution_count": 115,
   "id": "6e23a220",
   "metadata": {},
   "outputs": [
    {
     "name": "stdout",
     "output_type": "stream",
     "text": [
      "1264/1264 [==============================] - 30s 24ms/step\n"
     ]
    },
    {
     "data": {
      "text/plain": [
       "array([0., 1., 0., ..., 0., 1., 1.], dtype=float32)"
      ]
     },
     "execution_count": 115,
     "metadata": {},
     "output_type": "execute_result"
    }
   ],
   "source": [
    "y_pred = np.round(cnn_model.predict(x).ravel())\n",
    "y_pred"
   ]
  },
  {
   "cell_type": "code",
   "execution_count": 116,
   "id": "0b9f7ca2",
   "metadata": {},
   "outputs": [
    {
     "data": {
      "text/plain": [
       "40432"
      ]
     },
     "execution_count": 116,
     "metadata": {},
     "output_type": "execute_result"
    }
   ],
   "source": [
    "len(y_pred)"
   ]
  },
  {
   "cell_type": "code",
   "execution_count": 117,
   "id": "c6c5a084",
   "metadata": {},
   "outputs": [],
   "source": [
    "y_pred_label_test = []\n",
    "for i in y_pred:\n",
    "    if i == 1:\n",
    "        y_pred_label_test.append(\"truthful\")\n",
    "    else:\n",
    "        y_pred_label_test.append(\"deceptive\")\n",
    "\n",
    "        \n",
    "y_label_test = []\n",
    "for i in y_val:\n",
    "    if i == 1:\n",
    "        y_label_test.append(\"truthful\")\n",
    "    else:\n",
    "        y_label_test.append(\"deceptive\")\n"
   ]
  },
  {
   "cell_type": "code",
   "execution_count": 118,
   "id": "d1179d30",
   "metadata": {},
   "outputs": [
    {
     "data": {
      "text/plain": [
       "40432"
      ]
     },
     "execution_count": 118,
     "metadata": {},
     "output_type": "execute_result"
    }
   ],
   "source": [
    "len(y_pred_label_test)"
   ]
  },
  {
   "cell_type": "code",
   "execution_count": 119,
   "id": "5399401b",
   "metadata": {},
   "outputs": [
    {
     "data": {
      "text/plain": [
       "40432"
      ]
     },
     "execution_count": 119,
     "metadata": {},
     "output_type": "execute_result"
    }
   ],
   "source": [
    "len(y_label_test)"
   ]
  },
  {
   "cell_type": "code",
   "execution_count": 120,
   "id": "49e0016b",
   "metadata": {},
   "outputs": [
    {
     "data": {
      "text/plain": [
       "40432"
      ]
     },
     "execution_count": 120,
     "metadata": {},
     "output_type": "execute_result"
    }
   ],
   "source": [
    "len(y_pred_label_test)"
   ]
  },
  {
   "cell_type": "code",
   "execution_count": 121,
   "id": "94b95b40",
   "metadata": {},
   "outputs": [
    {
     "data": {
      "text/plain": [
       "40432"
      ]
     },
     "execution_count": 121,
     "metadata": {},
     "output_type": "execute_result"
    }
   ],
   "source": [
    "len(y_label_test)"
   ]
  },
  {
   "cell_type": "code",
   "execution_count": 122,
   "id": "8e248f97",
   "metadata": {},
   "outputs": [
    {
     "data": {
      "text/plain": [
       "40432"
      ]
     },
     "execution_count": 122,
     "metadata": {},
     "output_type": "execute_result"
    }
   ],
   "source": [
    "len(df_test['text_'])"
   ]
  },
  {
   "cell_type": "code",
   "execution_count": 123,
   "id": "5165b1be",
   "metadata": {},
   "outputs": [
    {
     "data": {
      "text/html": [
       "<div>\n",
       "<style scoped>\n",
       "    .dataframe tbody tr th:only-of-type {\n",
       "        vertical-align: middle;\n",
       "    }\n",
       "\n",
       "    .dataframe tbody tr th {\n",
       "        vertical-align: top;\n",
       "    }\n",
       "\n",
       "    .dataframe thead th {\n",
       "        text-align: right;\n",
       "    }\n",
       "</style>\n",
       "<table border=\"1\" class=\"dataframe\">\n",
       "  <thead>\n",
       "    <tr style=\"text-align: right;\">\n",
       "      <th></th>\n",
       "      <th>dataTest</th>\n",
       "      <th>Pred</th>\n",
       "      <th>True_label</th>\n",
       "      <th>result</th>\n",
       "    </tr>\n",
       "  </thead>\n",
       "  <tbody>\n",
       "    <tr>\n",
       "      <th>40431</th>\n",
       "      <td>I work in the wedding industry and have to work long days, on my feet, outside in the heat, and have to look professional. I've spent a ridiculous amount of money on high end dress shoes like Merrels and just have not been able to find a pair that are comfortable to wear all day. Both for my feet and my back. Enter the Sanuk yoga sling!!! These shoes are amazingly comfortable. Though, I will admit it took a few wears to get used to the feel of the yoga matte bottom. At first, it felt a little \"sticky\" to me, and the fabric part that goes through the toe area was a little thick and took some getting used to. I wore them for a few days before taking them out on a job and I can't get over how comfortable they are. Ii have been wearing these shoes now for 3 months, every work day and I am THRILLED. No more back pain, no more sore feet. I also wear these sometimes during my off time,mans every time I wear them, I get compliments on how cute and comfortable they look. The great thing about these shoes is the yoga matte bottom. It helps your feet grip to the shoe a bit, so your foot can just walk normally, without having to grip the shoe. You may not realize it, but with a lot of Sandals, your foot is having to work to keep the shoe on, changing the way you walk and stand and ultimately causing foot and back pain. Not with these! Also, the soft linen sits comfortably on your skin and breathes nicely in the heat. The only downside is the funky tan lines, which is why I am sure to alternate shoes on my days off, especially if I plan to be outside for most of the day. If it were not for that, I think these might be the only shoes I'd wear all summer. If you are looking for a reasonable priced, comfortable shoe that you can wear and walk in all day.</td>\n",
       "      <td>truthful</td>\n",
       "      <td>deceptive</td>\n",
       "      <td>0</td>\n",
       "    </tr>\n",
       "    <tr>\n",
       "      <th>28242</th>\n",
       "      <td>Sky High was a short and sweet read but it didn't exactly deliver all that I expected it to.\\n\\nSome books that I have read make every character seem important no matter how trivial their role was, but this book wasn't one of them. While reading this book, a lot of times I thought that a character wasn't a significant part of the book and this didn't just happen during the book, It also happened after I had finished it. I kept thinking about the book and all of the characters inside it and they just didn't seem important enough even though I know they were.\\n\\nWhat Im trying to say here is that, in my opinion, this book lacked some sort of execution or finesse that could have taken it from being just another good book to an amazing one. I never for one second doubt that C.J. Lake holds talent for story writing but all Im saying is that it needs a little bit more work.\\n\\nOther than that, the story was sweet, romantic and also quite hot. Even though a lot of characters appeared to be minor, I did love the main characters and the chemistry between those two. The relationship between those two was something to envy. Their banter, their romance, their attraction toward one another was extremely enjoyable to read.\\n\\nIn the end, I wouldnt say that reading this book was a waste of my time but I also won't be reading it a second time. Nevertheless, I will be reading other works of C.J. Lake to look for better versions of Sky High. And when I read one like that, let me tell you well have a winner on our hands.</td>\n",
       "      <td>truthful</td>\n",
       "      <td>deceptive</td>\n",
       "      <td>0</td>\n",
       "    </tr>\n",
       "    <tr>\n",
       "      <th>12710</th>\n",
       "      <td>This movie is unbelievable. It is an amazing story and a must see. If you are a fan of</td>\n",
       "      <td>truthful</td>\n",
       "      <td>deceptive</td>\n",
       "      <td>0</td>\n",
       "    </tr>\n",
       "    <tr>\n",
       "      <th>28241</th>\n",
       "      <td>This is part two of a series and the first part is a prequel to the first one.\\n\\nI had a lot of fun with this book and I'm sure I will be reading part three in the series. I am very excited for part three to come out and I'm looking forward to the next book in the series.\\n\\nI received an ARC of this book from the author in exchange for an honest review.This book was great! It's very realistic. The characters were believable, the storyline was interesting. I liked the fact that it was not just a short story but more than a short story. It was a love story. I'm glad I did. I'll be reading the next book in the series. This is the first book I've read by this author and it's a great read.This is a good story. It's well written and the characters are well developed. The story is very well written and the story is well thought out. This is a great series and I look forward to reading more from this author.I received this book in exchange for an honest review.\\n\\nI have been waiting for a book I loved so much. I have read a lot of books and this one was no exception.\\n\\nThis was the first book I have read by this author and I cannot wait to read more.\\n\\nThis story was a beautiful story and</td>\n",
       "      <td>truthful</td>\n",
       "      <td>deceptive</td>\n",
       "      <td>0</td>\n",
       "    </tr>\n",
       "    <tr>\n",
       "      <th>33095</th>\n",
       "      <td>It's ok.  Not a huge deal, but it is a little boring for my kids.</td>\n",
       "      <td>truthful</td>\n",
       "      <td>deceptive</td>\n",
       "      <td>0</td>\n",
       "    </tr>\n",
       "    <tr>\n",
       "      <th>...</th>\n",
       "      <td>...</td>\n",
       "      <td>...</td>\n",
       "      <td>...</td>\n",
       "      <td>...</td>\n",
       "    </tr>\n",
       "    <tr>\n",
       "      <th>17751</th>\n",
       "      <td>Good quality.  This is a very nice quality product.  The blade is a very strong edge.  The blade is a nice, solid, sharp edge.  It is very sturdy.  The blades are very well made and will last a</td>\n",
       "      <td>deceptive</td>\n",
       "      <td>deceptive</td>\n",
       "      <td>1</td>\n",
       "    </tr>\n",
       "    <tr>\n",
       "      <th>17750</th>\n",
       "      <td>If you're going to be using a professional quality saw you need a professional quality blade.  This is a very affordable tool and I am very happy with the purchase.This is a great fan. It is great for reading, reading, or working</td>\n",
       "      <td>deceptive</td>\n",
       "      <td>deceptive</td>\n",
       "      <td>1</td>\n",
       "    </tr>\n",
       "    <tr>\n",
       "      <th>17746</th>\n",
       "      <td>Why didn't I get one of these, as the instructions don't say how to properly install one.\\n\\nI had to replace a couple of the light fixtures, so it was a pain to do.  It was a breeze to install.</td>\n",
       "      <td>deceptive</td>\n",
       "      <td>deceptive</td>\n",
       "      <td>1</td>\n",
       "    </tr>\n",
       "    <tr>\n",
       "      <th>17742</th>\n",
       "      <td>I needed a light for my bedroom and this one is perfect. It is a bright, compact light that is very bright. I also like the fact that the light is adjustable so it doesn't look like a fixed size.</td>\n",
       "      <td>deceptive</td>\n",
       "      <td>deceptive</td>\n",
       "      <td>1</td>\n",
       "    </tr>\n",
       "    <tr>\n",
       "      <th>20215</th>\n",
       "      <td>My girl chichi likes it I actually put it inside her house....it's her call and so far so good!</td>\n",
       "      <td>deceptive</td>\n",
       "      <td>deceptive</td>\n",
       "      <td>1</td>\n",
       "    </tr>\n",
       "  </tbody>\n",
       "</table>\n",
       "<p>40432 rows × 4 columns</p>\n",
       "</div>"
      ],
      "text/plain": [
       "                                                                                                                                                                                                                                                                                                                                                                                                                                                                                                                                                                                                                                                                                                                                                                                                                                                                                                                                                                                                                                                                                                                                                                                                                                                                                                                                                                                                                                                                                                                                                                                                                                                                                                                                                                                                                                       dataTest  \\\n",
       "40431  I work in the wedding industry and have to work long days, on my feet, outside in the heat, and have to look professional. I've spent a ridiculous amount of money on high end dress shoes like Merrels and just have not been able to find a pair that are comfortable to wear all day. Both for my feet and my back. Enter the Sanuk yoga sling!!! These shoes are amazingly comfortable. Though, I will admit it took a few wears to get used to the feel of the yoga matte bottom. At first, it felt a little \"sticky\" to me, and the fabric part that goes through the toe area was a little thick and took some getting used to. I wore them for a few days before taking them out on a job and I can't get over how comfortable they are. Ii have been wearing these shoes now for 3 months, every work day and I am THRILLED. No more back pain, no more sore feet. I also wear these sometimes during my off time,mans every time I wear them, I get compliments on how cute and comfortable they look. The great thing about these shoes is the yoga matte bottom. It helps your feet grip to the shoe a bit, so your foot can just walk normally, without having to grip the shoe. You may not realize it, but with a lot of Sandals, your foot is having to work to keep the shoe on, changing the way you walk and stand and ultimately causing foot and back pain. Not with these! Also, the soft linen sits comfortably on your skin and breathes nicely in the heat. The only downside is the funky tan lines, which is why I am sure to alternate shoes on my days off, especially if I plan to be outside for most of the day. If it were not for that, I think these might be the only shoes I'd wear all summer. If you are looking for a reasonable priced, comfortable shoe that you can wear and walk in all day.   \n",
       "28242                                                                                                                                                                                                                                                   Sky High was a short and sweet read but it didn't exactly deliver all that I expected it to.\\n\\nSome books that I have read make every character seem important no matter how trivial their role was, but this book wasn't one of them. While reading this book, a lot of times I thought that a character wasn't a significant part of the book and this didn't just happen during the book, It also happened after I had finished it. I kept thinking about the book and all of the characters inside it and they just didn't seem important enough even though I know they were.\\n\\nWhat Im trying to say here is that, in my opinion, this book lacked some sort of execution or finesse that could have taken it from being just another good book to an amazing one. I never for one second doubt that C.J. Lake holds talent for story writing but all Im saying is that it needs a little bit more work.\\n\\nOther than that, the story was sweet, romantic and also quite hot. Even though a lot of characters appeared to be minor, I did love the main characters and the chemistry between those two. The relationship between those two was something to envy. Their banter, their romance, their attraction toward one another was extremely enjoyable to read.\\n\\nIn the end, I wouldnt say that reading this book was a waste of my time but I also won't be reading it a second time. Nevertheless, I will be reading other works of C.J. Lake to look for better versions of Sky High. And when I read one like that, let me tell you well have a winner on our hands.   \n",
       "12710                                                                                                                                                                                                                                                                                                                                                                                                                                                                                                                                                                                                                                                                                                                                                                                                                                                                                                                                                                                                                                                                                                                                                                                                                                                                                                                                                                                                                                                                                                                                                                                                                                                                                                                                                    This movie is unbelievable. It is an amazing story and a must see. If you are a fan of   \n",
       "28241                                                                                                                                                                                                                                                                                                                                                                                                                                                                                                                                                                                      This is part two of a series and the first part is a prequel to the first one.\\n\\nI had a lot of fun with this book and I'm sure I will be reading part three in the series. I am very excited for part three to come out and I'm looking forward to the next book in the series.\\n\\nI received an ARC of this book from the author in exchange for an honest review.This book was great! It's very realistic. The characters were believable, the storyline was interesting. I liked the fact that it was not just a short story but more than a short story. It was a love story. I'm glad I did. I'll be reading the next book in the series. This is the first book I've read by this author and it's a great read.This is a good story. It's well written and the characters are well developed. The story is very well written and the story is well thought out. This is a great series and I look forward to reading more from this author.I received this book in exchange for an honest review.\\n\\nI have been waiting for a book I loved so much. I have read a lot of books and this one was no exception.\\n\\nThis was the first book I have read by this author and I cannot wait to read more.\\n\\nThis story was a beautiful story and   \n",
       "33095                                                                                                                                                                                                                                                                                                                                                                                                                                                                                                                                                                                                                                                                                                                                                                                                                                                                                                                                                                                                                                                                                                                                                                                                                                                                                                                                                                                                                                                                                                                                                                                                                                                                                                                                                                         It's ok.  Not a huge deal, but it is a little boring for my kids.   \n",
       "...                                                                                                                                                                                                                                                                                                                                                                                                                                                                                                                                                                                                                                                                                                                                                                                                                                                                                                                                                                                                                                                                                                                                                                                                                                                                                                                                                                                                                                                                                                                                                                                                                                                                                                                                                                                                                                         ...   \n",
       "17751                                                                                                                                                                                                                                                                                                                                                                                                                                                                                                                                                                                                                                                                                                                                                                                                                                                                                                                                                                                                                                                                                                                                                                                                                                                                                                                                                                                                                                                                                                                                                                                                                                         Good quality.  This is a very nice quality product.  The blade is a very strong edge.  The blade is a nice, solid, sharp edge.  It is very sturdy.  The blades are very well made and will last a   \n",
       "17750                                                                                                                                                                                                                                                                                                                                                                                                                                                                                                                                                                                                                                                                                                                                                                                                                                                                                                                                                                                                                                                                                                                                                                                                                                                                                                                                                                                                                                                                                                                                                                                                     If you're going to be using a professional quality saw you need a professional quality blade.  This is a very affordable tool and I am very happy with the purchase.This is a great fan. It is great for reading, reading, or working   \n",
       "17746                                                                                                                                                                                                                                                                                                                                                                                                                                                                                                                                                                                                                                                                                                                                                                                                                                                                                                                                                                                                                                                                                                                                                                                                                                                                                                                                                                                                                                                                                                                                                                                                                                        Why didn't I get one of these, as the instructions don't say how to properly install one.\\n\\nI had to replace a couple of the light fixtures, so it was a pain to do.  It was a breeze to install.   \n",
       "17742                                                                                                                                                                                                                                                                                                                                                                                                                                                                                                                                                                                                                                                                                                                                                                                                                                                                                                                                                                                                                                                                                                                                                                                                                                                                                                                                                                                                                                                                                                                                                                                                                                       I needed a light for my bedroom and this one is perfect. It is a bright, compact light that is very bright. I also like the fact that the light is adjustable so it doesn't look like a fixed size.   \n",
       "20215                                                                                                                                                                                                                                                                                                                                                                                                                                                                                                                                                                                                                                                                                                                                                                                                                                                                                                                                                                                                                                                                                                                                                                                                                                                                                                                                                                                                                                                                                                                                                                                                                                                                                                                                           My girl chichi likes it I actually put it inside her house....it's her call and so far so good!   \n",
       "\n",
       "            Pred True_label  result  \n",
       "40431   truthful  deceptive       0  \n",
       "28242   truthful  deceptive       0  \n",
       "12710   truthful  deceptive       0  \n",
       "28241   truthful  deceptive       0  \n",
       "33095   truthful  deceptive       0  \n",
       "...          ...        ...     ...  \n",
       "17751  deceptive  deceptive       1  \n",
       "17750  deceptive  deceptive       1  \n",
       "17746  deceptive  deceptive       1  \n",
       "17742  deceptive  deceptive       1  \n",
       "20215  deceptive  deceptive       1  \n",
       "\n",
       "[40432 rows x 4 columns]"
      ]
     },
     "execution_count": 123,
     "metadata": {},
     "output_type": "execute_result"
    }
   ],
   "source": [
    "predict_val = pd.DataFrame({'dataTest':df_test['text_'], 'Pred':y_pred_label_test, 'True_label':y_label_test}, columns=['dataTest','Pred','True_label'])\n",
    "predict_val['result'] = np.where(predict_val['Pred']==predict_val['True_label'], 1, 0)\n",
    "# results.sort_values(by='result').head(20)\n",
    "\n",
    "\n",
    "predict_val.sort_values(by='result')"
   ]
  },
  {
   "cell_type": "code",
   "execution_count": 124,
   "id": "76f25381",
   "metadata": {},
   "outputs": [
    {
     "name": "stdout",
     "output_type": "stream",
     "text": [
      "The wrong guess is :  18032\n",
      "The right guess is:  22400\n"
     ]
    }
   ],
   "source": [
    "wrong = 0\n",
    "right = 0\n",
    "for i in predict_val['result']:\n",
    "    \n",
    "    if i == 0:\n",
    "        wrong+=1\n",
    "    else:\n",
    "        right+=1\n",
    "\n",
    "print(\"The wrong guess is : \", wrong)\n",
    "print(\"The right guess is: \", right)\n",
    "    "
   ]
  },
  {
   "cell_type": "code",
   "execution_count": null,
   "id": "921cf667",
   "metadata": {},
   "outputs": [],
   "source": []
  },
  {
   "cell_type": "code",
   "execution_count": null,
   "id": "99b20d42",
   "metadata": {},
   "outputs": [],
   "source": []
  },
  {
   "cell_type": "code",
   "execution_count": null,
   "id": "20a4dca5",
   "metadata": {},
   "outputs": [],
   "source": []
  },
  {
   "cell_type": "code",
   "execution_count": null,
   "id": "daed8059",
   "metadata": {},
   "outputs": [],
   "source": []
  },
  {
   "cell_type": "code",
   "execution_count": null,
   "id": "aa72547c",
   "metadata": {},
   "outputs": [],
   "source": []
  },
  {
   "cell_type": "code",
   "execution_count": null,
   "id": "50b374c4",
   "metadata": {},
   "outputs": [],
   "source": []
  },
  {
   "cell_type": "code",
   "execution_count": null,
   "id": "d8be88e1",
   "metadata": {},
   "outputs": [],
   "source": []
  },
  {
   "cell_type": "code",
   "execution_count": null,
   "id": "32147571",
   "metadata": {},
   "outputs": [],
   "source": []
  },
  {
   "cell_type": "code",
   "execution_count": null,
   "id": "988defd5",
   "metadata": {},
   "outputs": [],
   "source": []
  },
  {
   "cell_type": "code",
   "execution_count": null,
   "id": "5504ae49",
   "metadata": {},
   "outputs": [],
   "source": []
  },
  {
   "cell_type": "code",
   "execution_count": null,
   "id": "06865ff3",
   "metadata": {},
   "outputs": [],
   "source": []
  },
  {
   "cell_type": "code",
   "execution_count": null,
   "id": "52f42482",
   "metadata": {},
   "outputs": [],
   "source": []
  },
  {
   "cell_type": "code",
   "execution_count": null,
   "id": "925fd4c8",
   "metadata": {},
   "outputs": [],
   "source": []
  },
  {
   "cell_type": "code",
   "execution_count": null,
   "id": "38d15235",
   "metadata": {},
   "outputs": [],
   "source": []
  },
  {
   "cell_type": "code",
   "execution_count": null,
   "id": "6df22d18",
   "metadata": {},
   "outputs": [],
   "source": []
  },
  {
   "cell_type": "code",
   "execution_count": null,
   "id": "30475bed",
   "metadata": {},
   "outputs": [],
   "source": []
  },
  {
   "cell_type": "code",
   "execution_count": null,
   "id": "6ca9440e",
   "metadata": {},
   "outputs": [],
   "source": []
  },
  {
   "cell_type": "code",
   "execution_count": null,
   "id": "08c44e58",
   "metadata": {},
   "outputs": [],
   "source": []
  },
  {
   "cell_type": "code",
   "execution_count": null,
   "id": "49c67be0",
   "metadata": {},
   "outputs": [],
   "source": []
  }
 ],
 "metadata": {
  "kernelspec": {
   "display_name": "Python 3 (ipykernel)",
   "language": "python",
   "name": "python3"
  },
  "language_info": {
   "codemirror_mode": {
    "name": "ipython",
    "version": 3
   },
   "file_extension": ".py",
   "mimetype": "text/x-python",
   "name": "python",
   "nbconvert_exporter": "python",
   "pygments_lexer": "ipython3",
   "version": "3.9.13"
  }
 },
 "nbformat": 4,
 "nbformat_minor": 5
}
