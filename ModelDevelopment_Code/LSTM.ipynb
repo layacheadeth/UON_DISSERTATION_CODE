{
 "cells": [
  {
   "cell_type": "code",
   "execution_count": 76,
   "id": "05519da3",
   "metadata": {},
   "outputs": [
    {
     "data": {
      "text/html": [
       "<div>\n",
       "<style scoped>\n",
       "    .dataframe tbody tr th:only-of-type {\n",
       "        vertical-align: middle;\n",
       "    }\n",
       "\n",
       "    .dataframe tbody tr th {\n",
       "        vertical-align: top;\n",
       "    }\n",
       "\n",
       "    .dataframe thead th {\n",
       "        text-align: right;\n",
       "    }\n",
       "</style>\n",
       "<table border=\"1\" class=\"dataframe\">\n",
       "  <thead>\n",
       "    <tr style=\"text-align: right;\">\n",
       "      <th></th>\n",
       "      <th>deceptive</th>\n",
       "      <th>hotel</th>\n",
       "      <th>polarity</th>\n",
       "      <th>source</th>\n",
       "      <th>text</th>\n",
       "    </tr>\n",
       "  </thead>\n",
       "  <tbody>\n",
       "    <tr>\n",
       "      <th>0</th>\n",
       "      <td>truthful</td>\n",
       "      <td>conrad</td>\n",
       "      <td>positive</td>\n",
       "      <td>TripAdvisor</td>\n",
       "      <td>We stayed for a one night getaway with family ...</td>\n",
       "    </tr>\n",
       "    <tr>\n",
       "      <th>1</th>\n",
       "      <td>truthful</td>\n",
       "      <td>hyatt</td>\n",
       "      <td>positive</td>\n",
       "      <td>TripAdvisor</td>\n",
       "      <td>Triple A rate with upgrade to view room was le...</td>\n",
       "    </tr>\n",
       "    <tr>\n",
       "      <th>2</th>\n",
       "      <td>truthful</td>\n",
       "      <td>hyatt</td>\n",
       "      <td>positive</td>\n",
       "      <td>TripAdvisor</td>\n",
       "      <td>This comes a little late as I'm finally catchi...</td>\n",
       "    </tr>\n",
       "    <tr>\n",
       "      <th>3</th>\n",
       "      <td>truthful</td>\n",
       "      <td>omni</td>\n",
       "      <td>positive</td>\n",
       "      <td>TripAdvisor</td>\n",
       "      <td>The Omni Chicago really delivers on all fronts...</td>\n",
       "    </tr>\n",
       "    <tr>\n",
       "      <th>4</th>\n",
       "      <td>truthful</td>\n",
       "      <td>hyatt</td>\n",
       "      <td>positive</td>\n",
       "      <td>TripAdvisor</td>\n",
       "      <td>I asked for a high floor away from the elevato...</td>\n",
       "    </tr>\n",
       "    <tr>\n",
       "      <th>...</th>\n",
       "      <td>...</td>\n",
       "      <td>...</td>\n",
       "      <td>...</td>\n",
       "      <td>...</td>\n",
       "      <td>...</td>\n",
       "    </tr>\n",
       "    <tr>\n",
       "      <th>1595</th>\n",
       "      <td>deceptive</td>\n",
       "      <td>intercontinental</td>\n",
       "      <td>negative</td>\n",
       "      <td>MTurk</td>\n",
       "      <td>Problems started when I booked the InterContin...</td>\n",
       "    </tr>\n",
       "    <tr>\n",
       "      <th>1596</th>\n",
       "      <td>deceptive</td>\n",
       "      <td>amalfi</td>\n",
       "      <td>negative</td>\n",
       "      <td>MTurk</td>\n",
       "      <td>The Amalfi Hotel has a beautiful website and i...</td>\n",
       "    </tr>\n",
       "    <tr>\n",
       "      <th>1597</th>\n",
       "      <td>deceptive</td>\n",
       "      <td>intercontinental</td>\n",
       "      <td>negative</td>\n",
       "      <td>MTurk</td>\n",
       "      <td>The Intercontinental Chicago Magnificent Mile ...</td>\n",
       "    </tr>\n",
       "    <tr>\n",
       "      <th>1598</th>\n",
       "      <td>deceptive</td>\n",
       "      <td>palmer</td>\n",
       "      <td>negative</td>\n",
       "      <td>MTurk</td>\n",
       "      <td>The Palmer House Hilton, while it looks good i...</td>\n",
       "    </tr>\n",
       "    <tr>\n",
       "      <th>1599</th>\n",
       "      <td>deceptive</td>\n",
       "      <td>amalfi</td>\n",
       "      <td>negative</td>\n",
       "      <td>MTurk</td>\n",
       "      <td>As a former Chicagoan, I'm appalled at the Ama...</td>\n",
       "    </tr>\n",
       "  </tbody>\n",
       "</table>\n",
       "<p>1600 rows × 5 columns</p>\n",
       "</div>"
      ],
      "text/plain": [
       "      deceptive             hotel  polarity       source  \\\n",
       "0      truthful            conrad  positive  TripAdvisor   \n",
       "1      truthful             hyatt  positive  TripAdvisor   \n",
       "2      truthful             hyatt  positive  TripAdvisor   \n",
       "3      truthful              omni  positive  TripAdvisor   \n",
       "4      truthful             hyatt  positive  TripAdvisor   \n",
       "...         ...               ...       ...          ...   \n",
       "1595  deceptive  intercontinental  negative        MTurk   \n",
       "1596  deceptive            amalfi  negative        MTurk   \n",
       "1597  deceptive  intercontinental  negative        MTurk   \n",
       "1598  deceptive            palmer  negative        MTurk   \n",
       "1599  deceptive            amalfi  negative        MTurk   \n",
       "\n",
       "                                                   text  \n",
       "0     We stayed for a one night getaway with family ...  \n",
       "1     Triple A rate with upgrade to view room was le...  \n",
       "2     This comes a little late as I'm finally catchi...  \n",
       "3     The Omni Chicago really delivers on all fronts...  \n",
       "4     I asked for a high floor away from the elevato...  \n",
       "...                                                 ...  \n",
       "1595  Problems started when I booked the InterContin...  \n",
       "1596  The Amalfi Hotel has a beautiful website and i...  \n",
       "1597  The Intercontinental Chicago Magnificent Mile ...  \n",
       "1598  The Palmer House Hilton, while it looks good i...  \n",
       "1599  As a former Chicagoan, I'm appalled at the Ama...  \n",
       "\n",
       "[1600 rows x 5 columns]"
      ]
     },
     "execution_count": 76,
     "metadata": {},
     "output_type": "execute_result"
    }
   ],
   "source": [
    "import numpy as np\n",
    "import pandas as pd\n",
    "\n",
    "df = pd.read_csv('deceptive-opinion.csv')\n",
    "df"
   ]
  },
  {
   "cell_type": "code",
   "execution_count": 77,
   "id": "6e36ce76",
   "metadata": {},
   "outputs": [
    {
     "data": {
      "text/plain": [
       "deceptive    0\n",
       "hotel        0\n",
       "polarity     0\n",
       "source       0\n",
       "text         0\n",
       "dtype: int64"
      ]
     },
     "execution_count": 77,
     "metadata": {},
     "output_type": "execute_result"
    }
   ],
   "source": [
    "df.isnull().sum()"
   ]
  },
  {
   "cell_type": "code",
   "execution_count": 78,
   "id": "0288f266",
   "metadata": {},
   "outputs": [
    {
     "data": {
      "text/plain": [
       "array(['conrad', 'hyatt', 'omni', 'fairmont', 'sheraton', 'knickerbocker',\n",
       "       'homewood', 'swissotel', 'ambassador', 'affinia', 'hardrock',\n",
       "       'talbott', 'hilton', 'james', 'monaco', 'sofitel', 'palmer',\n",
       "       'intercontinental', 'allegro', 'amalfi'], dtype=object)"
      ]
     },
     "execution_count": 78,
     "metadata": {},
     "output_type": "execute_result"
    }
   ],
   "source": [
    "df['hotel'].unique()"
   ]
  },
  {
   "cell_type": "code",
   "execution_count": 79,
   "id": "7f5c3389",
   "metadata": {},
   "outputs": [
    {
     "data": {
      "text/plain": [
       "<AxesSubplot:xlabel='deceptive', ylabel='count'>"
      ]
     },
     "execution_count": 79,
     "metadata": {},
     "output_type": "execute_result"
    },
    {
     "data": {
      "image/png": "[encoded data removed]",
      "text/plain": [
       "<Figure size 640x480 with 1 Axes>"
      ]
     },
     "metadata": {},
     "output_type": "display_data"
    }
   ],
   "source": [
    "import seaborn as sns\n",
    "import matplotlib.pyplot as plt\n",
    "sns.countplot(x=df['deceptive'], hue='polarity', data = df)"
   ]
  },
  {
   "cell_type": "code",
   "execution_count": 80,
   "id": "fadbccdf",
   "metadata": {},
   "outputs": [
    {
     "data": {
      "text/plain": [
       "<AxesSubplot:xlabel='deceptive', ylabel='count'>"
      ]
     },
     "execution_count": 80,
     "metadata": {},
     "output_type": "execute_result"
    },
    {
     "data": {
      "image/png": "[encoded data removed]",
      "text/plain": [
       "<Figure size 640x480 with 1 Axes>"
      ]
     },
     "metadata": {},
     "output_type": "display_data"
    }
   ],
   "source": [
    "sns.countplot(x=df['deceptive'],hue='hotel',data=df)\n"
   ]
  },
  {
   "cell_type": "code",
   "execution_count": 81,
   "id": "e2fdde4a",
   "metadata": {},
   "outputs": [],
   "source": [
    "df=df.drop(['hotel'],axis=1)\n"
   ]
  },
  {
   "cell_type": "code",
   "execution_count": 82,
   "id": "4975f641",
   "metadata": {},
   "outputs": [
    {
     "data": {
      "text/html": [
       "<div>\n",
       "<style scoped>\n",
       "    .dataframe tbody tr th:only-of-type {\n",
       "        vertical-align: middle;\n",
       "    }\n",
       "\n",
       "    .dataframe tbody tr th {\n",
       "        vertical-align: top;\n",
       "    }\n",
       "\n",
       "    .dataframe thead th {\n",
       "        text-align: right;\n",
       "    }\n",
       "</style>\n",
       "<table border=\"1\" class=\"dataframe\">\n",
       "  <thead>\n",
       "    <tr style=\"text-align: right;\">\n",
       "      <th></th>\n",
       "      <th>deceptive</th>\n",
       "      <th>polarity</th>\n",
       "      <th>source</th>\n",
       "      <th>text</th>\n",
       "    </tr>\n",
       "  </thead>\n",
       "  <tbody>\n",
       "    <tr>\n",
       "      <th>0</th>\n",
       "      <td>truthful</td>\n",
       "      <td>positive</td>\n",
       "      <td>TripAdvisor</td>\n",
       "      <td>We stayed for a one night getaway with family ...</td>\n",
       "    </tr>\n",
       "    <tr>\n",
       "      <th>1</th>\n",
       "      <td>truthful</td>\n",
       "      <td>positive</td>\n",
       "      <td>TripAdvisor</td>\n",
       "      <td>Triple A rate with upgrade to view room was le...</td>\n",
       "    </tr>\n",
       "    <tr>\n",
       "      <th>2</th>\n",
       "      <td>truthful</td>\n",
       "      <td>positive</td>\n",
       "      <td>TripAdvisor</td>\n",
       "      <td>This comes a little late as I'm finally catchi...</td>\n",
       "    </tr>\n",
       "    <tr>\n",
       "      <th>3</th>\n",
       "      <td>truthful</td>\n",
       "      <td>positive</td>\n",
       "      <td>TripAdvisor</td>\n",
       "      <td>The Omni Chicago really delivers on all fronts...</td>\n",
       "    </tr>\n",
       "    <tr>\n",
       "      <th>4</th>\n",
       "      <td>truthful</td>\n",
       "      <td>positive</td>\n",
       "      <td>TripAdvisor</td>\n",
       "      <td>I asked for a high floor away from the elevato...</td>\n",
       "    </tr>\n",
       "    <tr>\n",
       "      <th>...</th>\n",
       "      <td>...</td>\n",
       "      <td>...</td>\n",
       "      <td>...</td>\n",
       "      <td>...</td>\n",
       "    </tr>\n",
       "    <tr>\n",
       "      <th>1595</th>\n",
       "      <td>deceptive</td>\n",
       "      <td>negative</td>\n",
       "      <td>MTurk</td>\n",
       "      <td>Problems started when I booked the InterContin...</td>\n",
       "    </tr>\n",
       "    <tr>\n",
       "      <th>1596</th>\n",
       "      <td>deceptive</td>\n",
       "      <td>negative</td>\n",
       "      <td>MTurk</td>\n",
       "      <td>The Amalfi Hotel has a beautiful website and i...</td>\n",
       "    </tr>\n",
       "    <tr>\n",
       "      <th>1597</th>\n",
       "      <td>deceptive</td>\n",
       "      <td>negative</td>\n",
       "      <td>MTurk</td>\n",
       "      <td>The Intercontinental Chicago Magnificent Mile ...</td>\n",
       "    </tr>\n",
       "    <tr>\n",
       "      <th>1598</th>\n",
       "      <td>deceptive</td>\n",
       "      <td>negative</td>\n",
       "      <td>MTurk</td>\n",
       "      <td>The Palmer House Hilton, while it looks good i...</td>\n",
       "    </tr>\n",
       "    <tr>\n",
       "      <th>1599</th>\n",
       "      <td>deceptive</td>\n",
       "      <td>negative</td>\n",
       "      <td>MTurk</td>\n",
       "      <td>As a former Chicagoan, I'm appalled at the Ama...</td>\n",
       "    </tr>\n",
       "  </tbody>\n",
       "</table>\n",
       "<p>1600 rows × 4 columns</p>\n",
       "</div>"
      ],
      "text/plain": [
       "      deceptive  polarity       source  \\\n",
       "0      truthful  positive  TripAdvisor   \n",
       "1      truthful  positive  TripAdvisor   \n",
       "2      truthful  positive  TripAdvisor   \n",
       "3      truthful  positive  TripAdvisor   \n",
       "4      truthful  positive  TripAdvisor   \n",
       "...         ...       ...          ...   \n",
       "1595  deceptive  negative        MTurk   \n",
       "1596  deceptive  negative        MTurk   \n",
       "1597  deceptive  negative        MTurk   \n",
       "1598  deceptive  negative        MTurk   \n",
       "1599  deceptive  negative        MTurk   \n",
       "\n",
       "                                                   text  \n",
       "0     We stayed for a one night getaway with family ...  \n",
       "1     Triple A rate with upgrade to view room was le...  \n",
       "2     This comes a little late as I'm finally catchi...  \n",
       "3     The Omni Chicago really delivers on all fronts...  \n",
       "4     I asked for a high floor away from the elevato...  \n",
       "...                                                 ...  \n",
       "1595  Problems started when I booked the InterContin...  \n",
       "1596  The Amalfi Hotel has a beautiful website and i...  \n",
       "1597  The Intercontinental Chicago Magnificent Mile ...  \n",
       "1598  The Palmer House Hilton, while it looks good i...  \n",
       "1599  As a former Chicagoan, I'm appalled at the Ama...  \n",
       "\n",
       "[1600 rows x 4 columns]"
      ]
     },
     "execution_count": 82,
     "metadata": {},
     "output_type": "execute_result"
    }
   ],
   "source": [
    "df"
   ]
  },
  {
   "cell_type": "code",
   "execution_count": 83,
   "id": "478e8697",
   "metadata": {},
   "outputs": [],
   "source": [
    "import nltk\n",
    "from nltk.stem import PorterStemmer\n",
    "from nltk.tokenize import sent_tokenize, word_tokenize\n",
    "import re\n",
    "import string \n",
    "def text_cleaning(text):\n",
    "    '''\n",
    "        Make text lowercase, remove text in square brackets, remove link, remove special characters, \n",
    "        and remove words containing numbers.\n",
    "    '''\n",
    "    \n",
    "    text = text.lower()\n",
    "    text = re.sub('\\[.*?\\]','',text)\n",
    "    text = re.sub('\\\\W',\" \", text)\n",
    "    text = re.sub('https?://\\S+|www\\.\\S+','',text)\n",
    "    text = re.sub('<.*?>+','',text)\n",
    "    text = re.sub('[%s]' % re.escape(string.punctuation), '', text)\n",
    "    text = re.sub('\\n', '', text)\n",
    "    text = re.sub('\\w*\\d\\w*', '', text)\n",
    "    \n",
    "    return text\n"
   ]
  },
  {
   "cell_type": "code",
   "execution_count": 84,
   "id": "3232bd19",
   "metadata": {},
   "outputs": [],
   "source": [
    "df['text']=df['text'].apply(text_cleaning)\n"
   ]
  },
  {
   "cell_type": "code",
   "execution_count": 85,
   "id": "7f058c2d",
   "metadata": {},
   "outputs": [
    {
     "data": {
      "text/html": [
       "<div>\n",
       "<style scoped>\n",
       "    .dataframe tbody tr th:only-of-type {\n",
       "        vertical-align: middle;\n",
       "    }\n",
       "\n",
       "    .dataframe tbody tr th {\n",
       "        vertical-align: top;\n",
       "    }\n",
       "\n",
       "    .dataframe thead th {\n",
       "        text-align: right;\n",
       "    }\n",
       "</style>\n",
       "<table border=\"1\" class=\"dataframe\">\n",
       "  <thead>\n",
       "    <tr style=\"text-align: right;\">\n",
       "      <th></th>\n",
       "      <th>deceptive</th>\n",
       "      <th>polarity</th>\n",
       "      <th>source</th>\n",
       "      <th>text</th>\n",
       "    </tr>\n",
       "  </thead>\n",
       "  <tbody>\n",
       "    <tr>\n",
       "      <th>0</th>\n",
       "      <td>truthful</td>\n",
       "      <td>positive</td>\n",
       "      <td>TripAdvisor</td>\n",
       "      <td>we stayed for a one night getaway with family ...</td>\n",
       "    </tr>\n",
       "    <tr>\n",
       "      <th>1</th>\n",
       "      <td>truthful</td>\n",
       "      <td>positive</td>\n",
       "      <td>TripAdvisor</td>\n",
       "      <td>triple a rate with upgrade to view room was le...</td>\n",
       "    </tr>\n",
       "    <tr>\n",
       "      <th>2</th>\n",
       "      <td>truthful</td>\n",
       "      <td>positive</td>\n",
       "      <td>TripAdvisor</td>\n",
       "      <td>this comes a little late as i m finally catchi...</td>\n",
       "    </tr>\n",
       "    <tr>\n",
       "      <th>3</th>\n",
       "      <td>truthful</td>\n",
       "      <td>positive</td>\n",
       "      <td>TripAdvisor</td>\n",
       "      <td>the omni chicago really delivers on all fronts...</td>\n",
       "    </tr>\n",
       "    <tr>\n",
       "      <th>4</th>\n",
       "      <td>truthful</td>\n",
       "      <td>positive</td>\n",
       "      <td>TripAdvisor</td>\n",
       "      <td>i asked for a high floor away from the elevato...</td>\n",
       "    </tr>\n",
       "    <tr>\n",
       "      <th>...</th>\n",
       "      <td>...</td>\n",
       "      <td>...</td>\n",
       "      <td>...</td>\n",
       "      <td>...</td>\n",
       "    </tr>\n",
       "    <tr>\n",
       "      <th>1595</th>\n",
       "      <td>deceptive</td>\n",
       "      <td>negative</td>\n",
       "      <td>MTurk</td>\n",
       "      <td>problems started when i booked the intercontin...</td>\n",
       "    </tr>\n",
       "    <tr>\n",
       "      <th>1596</th>\n",
       "      <td>deceptive</td>\n",
       "      <td>negative</td>\n",
       "      <td>MTurk</td>\n",
       "      <td>the amalfi hotel has a beautiful website and i...</td>\n",
       "    </tr>\n",
       "    <tr>\n",
       "      <th>1597</th>\n",
       "      <td>deceptive</td>\n",
       "      <td>negative</td>\n",
       "      <td>MTurk</td>\n",
       "      <td>the intercontinental chicago magnificent mile ...</td>\n",
       "    </tr>\n",
       "    <tr>\n",
       "      <th>1598</th>\n",
       "      <td>deceptive</td>\n",
       "      <td>negative</td>\n",
       "      <td>MTurk</td>\n",
       "      <td>the palmer house hilton  while it looks good i...</td>\n",
       "    </tr>\n",
       "    <tr>\n",
       "      <th>1599</th>\n",
       "      <td>deceptive</td>\n",
       "      <td>negative</td>\n",
       "      <td>MTurk</td>\n",
       "      <td>as a former chicagoan  i m appalled at the ama...</td>\n",
       "    </tr>\n",
       "  </tbody>\n",
       "</table>\n",
       "<p>1600 rows × 4 columns</p>\n",
       "</div>"
      ],
      "text/plain": [
       "      deceptive  polarity       source  \\\n",
       "0      truthful  positive  TripAdvisor   \n",
       "1      truthful  positive  TripAdvisor   \n",
       "2      truthful  positive  TripAdvisor   \n",
       "3      truthful  positive  TripAdvisor   \n",
       "4      truthful  positive  TripAdvisor   \n",
       "...         ...       ...          ...   \n",
       "1595  deceptive  negative        MTurk   \n",
       "1596  deceptive  negative        MTurk   \n",
       "1597  deceptive  negative        MTurk   \n",
       "1598  deceptive  negative        MTurk   \n",
       "1599  deceptive  negative        MTurk   \n",
       "\n",
       "                                                   text  \n",
       "0     we stayed for a one night getaway with family ...  \n",
       "1     triple a rate with upgrade to view room was le...  \n",
       "2     this comes a little late as i m finally catchi...  \n",
       "3     the omni chicago really delivers on all fronts...  \n",
       "4     i asked for a high floor away from the elevato...  \n",
       "...                                                 ...  \n",
       "1595  problems started when i booked the intercontin...  \n",
       "1596  the amalfi hotel has a beautiful website and i...  \n",
       "1597  the intercontinental chicago magnificent mile ...  \n",
       "1598  the palmer house hilton  while it looks good i...  \n",
       "1599  as a former chicagoan  i m appalled at the ama...  \n",
       "\n",
       "[1600 rows x 4 columns]"
      ]
     },
     "execution_count": 85,
     "metadata": {},
     "output_type": "execute_result"
    }
   ],
   "source": [
    "df"
   ]
  },
  {
   "cell_type": "code",
   "execution_count": 86,
   "id": "4eb26ace",
   "metadata": {},
   "outputs": [
    {
     "data": {
      "text/plain": [
       "array(['truthful', 'deceptive'], dtype=object)"
      ]
     },
     "execution_count": 86,
     "metadata": {},
     "output_type": "execute_result"
    }
   ],
   "source": [
    "df['deceptive'].unique()"
   ]
  },
  {
   "cell_type": "code",
   "execution_count": 87,
   "id": "02a74e11",
   "metadata": {},
   "outputs": [],
   "source": [
    "sentences=df['text'].values\n",
    "y=df['deceptive'].values\n"
   ]
  },
  {
   "cell_type": "code",
   "execution_count": 88,
   "id": "86293413",
   "metadata": {},
   "outputs": [],
   "source": [
    "from sklearn.preprocessing import LabelEncoder\n",
    "from sklearn.model_selection import train_test_split\n",
    "\n",
    "le = LabelEncoder()\n",
    "y = le.fit_transform(y)"
   ]
  },
  {
   "cell_type": "code",
   "execution_count": 89,
   "id": "5d622a71",
   "metadata": {},
   "outputs": [],
   "source": [
    "from sklearn.model_selection import train_test_split\n",
    "from keras.preprocessing.text import Tokenizer\n",
    "from tensorflow.keras.preprocessing.sequence import pad_sequences\n",
    "\n",
    "\n",
    "\n",
    "sentences_train, sentences_test, y_train, y_test = train_test_split(sentences,y, test_size=0.2, random_state=1000)\n",
    "\n",
    "sentences_train, sentences_val, y_train, y_val = train_test_split(sentences_train, y_train, \n",
    "    test_size=0.25, random_state= 8) # 0.25 x 0.8 = 0.2\n",
    "\n",
    "tokenizer = Tokenizer(num_words=5000)\n",
    "tokenizer.fit_on_texts(sentences_train)\n",
    "\n",
    "x_train = tokenizer.texts_to_sequences(sentences_train)\n",
    "x_test = tokenizer.texts_to_sequences(sentences_test)\n",
    "x_val = tokenizer.texts_to_sequences(sentences_val)\n",
    "\n",
    "\n",
    "# Adding 1 because of reserved 0 index\n",
    "vocab_size = len(tokenizer.word_index) + 1\n",
    "maxlen = 100\n",
    "\n",
    "x_train = pad_sequences(x_train, padding = 'post', maxlen=maxlen)\n",
    "x_test = pad_sequences(x_test, padding = 'post', maxlen=maxlen)\n",
    "x_val = pad_sequences(x_val,padding = 'post',maxlen=maxlen)\n"
   ]
  },
  {
   "cell_type": "code",
   "execution_count": 90,
   "id": "ade597d1",
   "metadata": {},
   "outputs": [],
   "source": [
    "# Scale the features using MinMaxScaler\n",
    "from sklearn.preprocessing import MinMaxScaler\n",
    "\n",
    "scaler = MinMaxScaler()\n",
    "train_X_scaled = scaler.fit_transform(x_train)\n",
    "test_X_scaled = scaler.transform(x_test)\n",
    "\n",
    "# Create sequences of input/output data for the LSTM network\n",
    "def create_sequences(data, seq_length):\n",
    "    X, y = [], []\n",
    "    for i in range(len(data)-seq_length-1):\n",
    "        X.append(data[i:(i+seq_length), :])\n",
    "        y.append(data[(i+seq_length), 0])\n",
    "    return np.array(X), np.array(y)\n",
    "\n",
    "seq_length = 60\n",
    "train_X_seq, train_y_seq = create_sequences(train_X_scaled, seq_length)\n",
    "test_X_seq, test_y_seq = create_sequences(test_X_scaled, seq_length)\n",
    "\n",
    "# Reshape the data for the LSTM network\n",
    "train_X_seq = np.reshape(train_X_seq, (train_X_seq.shape[0], train_X_seq.shape[1], train_X_seq.shape[2]))\n",
    "test_X_seq = np.reshape(test_X_seq, (test_X_seq.shape[0], test_X_seq.shape[1], test_X_seq.shape[2]))\n"
   ]
  },
  {
   "cell_type": "code",
   "execution_count": 91,
   "id": "8e80c3f4",
   "metadata": {},
   "outputs": [],
   "source": [
    "# model.add(layers.Conv1D(256, 10, padding='valid', strides = 2, activation='relu'))\n",
    "# model.add(layers.GlobalMaxPooling1D())\n",
    "# model.add(layers.Dense(250, activation='relu'))\n",
    "# model.add(layers.Dense(250)\n",
    "# model.add(layers.Dropout(rate = 0.4))\n",
    "# model.add(layers.LSTM(128))\n",
    "\n",
    "# model.add(Activation('relu'))\n",
    "# model.add(layers.Dense(1, activation='sigmoid'))\n",
    "# model.add(layers.Dropout(rate = 0.5))\n",
    "# model.add((LSTM(50,activation='relu', return_sequences=True )))\n",
    "# model.add(LSTM(50, activation='relu', return_sequences=True ))\n",
    "# model.add(LSTM(50, activation='relu', return_sequences=True))\n",
    "\n",
    "\n",
    "# model.add(LSTM(50, activation='relu'))\n",
    "# model.add(LSTM(75, activation='relu'))\n",
    "\n",
    "\n",
    "\n",
    "\n",
    "\n",
    "# model.add(layers.Dense(250))\n",
    "\n",
    "# model.add((LSTM(300)))\n",
    "\n",
    "# model.add((LSTM(300)))\n",
    "\n",
    "# model.add((LSTM(300)))\n",
    "# model.add((LSTM(300)))\n",
    "\n",
    "# model.add((LSTM(300)))"
   ]
  },
  {
   "cell_type": "code",
   "execution_count": 92,
   "id": "cb35d1cd",
   "metadata": {},
   "outputs": [
    {
     "name": "stdout",
     "output_type": "stream",
     "text": [
      "Epoch 1/30\n",
      "30/30 [==============================] - 3s 68ms/step - loss: 0.6927 - accuracy: 0.5146 - val_loss: 0.6920 - val_accuracy: 0.5469\n",
      "Epoch 2/30\n",
      "30/30 [==============================] - 2s 63ms/step - loss: 0.6845 - accuracy: 0.6146 - val_loss: 0.6818 - val_accuracy: 0.5469\n",
      "Epoch 3/30\n",
      "30/30 [==============================] - 2s 63ms/step - loss: 0.9664 - accuracy: 0.6521 - val_loss: 0.6876 - val_accuracy: 0.5594\n",
      "Epoch 4/30\n",
      "30/30 [==============================] - 2s 63ms/step - loss: 0.6649 - accuracy: 0.6781 - val_loss: 0.6861 - val_accuracy: 0.5469\n",
      "Epoch 5/30\n",
      "30/30 [==============================] - 2s 63ms/step - loss: 843101.1875 - accuracy: 0.6615 - val_loss: 0.6731 - val_accuracy: 0.5531\n",
      "Epoch 6/30\n",
      "30/30 [==============================] - 2s 62ms/step - loss: 583.2009 - accuracy: 0.5729 - val_loss: 0.6769 - val_accuracy: 0.5469\n",
      "Epoch 7/30\n",
      "30/30 [==============================] - 2s 62ms/step - loss: 0.6546 - accuracy: 0.6135 - val_loss: 0.6772 - val_accuracy: 0.5469\n",
      "Epoch 8/30\n",
      "30/30 [==============================] - 2s 62ms/step - loss: 0.6509 - accuracy: 0.6458 - val_loss: 0.6763 - val_accuracy: 0.5562\n",
      "Epoch 9/30\n",
      "30/30 [==============================] - 2s 62ms/step - loss: 0.6464 - accuracy: 0.6604 - val_loss: 0.6754 - val_accuracy: 0.5531\n",
      "Epoch 10/30\n",
      "30/30 [==============================] - 2s 63ms/step - loss: 0.6413 - accuracy: 0.6885 - val_loss: 0.6745 - val_accuracy: 0.5531\n",
      "Epoch 11/30\n",
      "30/30 [==============================] - 2s 60ms/step - loss: 0.6364 - accuracy: 0.7010 - val_loss: 0.6736 - val_accuracy: 0.5500\n",
      "Epoch 12/30\n",
      "30/30 [==============================] - 2s 60ms/step - loss: 0.6301 - accuracy: 0.7135 - val_loss: 0.6725 - val_accuracy: 0.5562\n",
      "Epoch 13/30\n",
      "30/30 [==============================] - 2s 60ms/step - loss: 0.6234 - accuracy: 0.7312 - val_loss: 0.6712 - val_accuracy: 0.5562\n",
      "Epoch 14/30\n",
      "30/30 [==============================] - 2s 61ms/step - loss: 0.6117 - accuracy: 0.7406 - val_loss: 0.6369 - val_accuracy: 0.6031\n",
      "Epoch 15/30\n",
      "30/30 [==============================] - 2s 61ms/step - loss: 3227641088.0000 - accuracy: 0.7021 - val_loss: 0.6799 - val_accuracy: 0.5688\n",
      "Epoch 16/30\n",
      "30/30 [==============================] - 2s 60ms/step - loss: 0.6508 - accuracy: 0.7115 - val_loss: 0.6802 - val_accuracy: 0.5750\n",
      "Epoch 17/30\n",
      "30/30 [==============================] - 2s 63ms/step - loss: 0.6485 - accuracy: 0.7198 - val_loss: 0.6795 - val_accuracy: 0.5656\n",
      "Epoch 18/30\n",
      "30/30 [==============================] - 2s 60ms/step - loss: 0.6440 - accuracy: 0.7302 - val_loss: 0.6789 - val_accuracy: 0.5500\n",
      "Epoch 19/30\n",
      "30/30 [==============================] - 2s 60ms/step - loss: 0.6407 - accuracy: 0.7354 - val_loss: 0.6780 - val_accuracy: 0.5500\n",
      "Epoch 20/30\n",
      "30/30 [==============================] - 2s 61ms/step - loss: 0.6357 - accuracy: 0.7375 - val_loss: 0.6772 - val_accuracy: 0.5594\n",
      "Epoch 21/30\n",
      "30/30 [==============================] - 2s 61ms/step - loss: 0.6316 - accuracy: 0.7490 - val_loss: 0.6763 - val_accuracy: 0.5688\n",
      "Epoch 22/30\n",
      "30/30 [==============================] - 2s 61ms/step - loss: 0.6254 - accuracy: 0.7458 - val_loss: 0.6752 - val_accuracy: 0.5719\n",
      "Epoch 23/30\n",
      "30/30 [==============================] - 2s 61ms/step - loss: 0.6191 - accuracy: 0.7469 - val_loss: 0.6739 - val_accuracy: 0.5750\n",
      "Epoch 24/30\n",
      "30/30 [==============================] - 2s 63ms/step - loss: 0.6101 - accuracy: 0.7604 - val_loss: 0.6719 - val_accuracy: 0.5719\n",
      "Epoch 25/30\n",
      "30/30 [==============================] - 2s 61ms/step - loss: 0.5982 - accuracy: 0.7615 - val_loss: 0.6674 - val_accuracy: 0.5750\n",
      "Epoch 26/30\n",
      "30/30 [==============================] - 2s 61ms/step - loss: 0.5762 - accuracy: 0.7719 - val_loss: 0.7207 - val_accuracy: 0.6000\n",
      "Epoch 27/30\n",
      "30/30 [==============================] - 2s 63ms/step - loss: 0.5413 - accuracy: 0.8000 - val_loss: 0.8049 - val_accuracy: 0.5813\n",
      "Epoch 28/30\n",
      "30/30 [==============================] - 2s 67ms/step - loss: 0.4603 - accuracy: 0.8042 - val_loss: 4.4758 - val_accuracy: 0.5875\n",
      "Epoch 29/30\n",
      "30/30 [==============================] - 2s 63ms/step - loss: 0.4264 - accuracy: 0.8292 - val_loss: 6.1845 - val_accuracy: 0.6000\n",
      "Epoch 30/30\n",
      "30/30 [==============================] - 2s 61ms/step - loss: 0.3914 - accuracy: 0.8573 - val_loss: 3.4700 - val_accuracy: 0.5906\n"
     ]
    }
   ],
   "source": [
    "from keras.models import Sequential\n",
    "from keras import layers\n",
    "from tensorflow.keras.layers import Embedding, Conv1D, LSTM, Dense\n",
    "from keras.layers import Dropout, Flatten, Bidirectional, Dense, Activation, TimeDistributed\n",
    "import tensorflow as tf\n",
    "# reg = tf.keras.regularizers.l1(0.001)\n",
    "\n",
    "embedding_dim = 128\n",
    "\n",
    "model = Sequential()\n",
    "from tensorflow.keras.callbacks import EarlyStopping\n",
    "# reg = tf.keras.regularizers.l2(0.001)\n",
    "# early_stop = EarlyStopping(monitor='val_loss', patience=20)\n",
    "\n",
    "model.add(layers.Embedding(vocab_size, embedding_dim, input_length=maxlen))\n",
    "model.add(LSTM(150, activation='relu', return_sequences=False))\n",
    "model.add(Dropout(0.1))\n",
    "\n",
    "\n",
    "\n",
    "\n",
    "\n",
    "model.add(Dense(units=1, activation='sigmoid'))\n",
    "model.compile(optimizer='adam',\n",
    "              loss='binary_crossentropy',\n",
    "              metrics=['accuracy'])\n",
    "history = model.fit(x_train, y_train,\n",
    "                    epochs=30,\n",
    "                    validation_data=(x_val, y_val),\n",
    "                    batch_size=32)"
   ]
  },
  {
   "cell_type": "code",
   "execution_count": 93,
   "id": "62e4f09c",
   "metadata": {},
   "outputs": [
    {
     "data": {
      "image/png": "[encoded data removed]",
      "text/plain": [
       "<Figure size 640x480 with 1 Axes>"
      ]
     },
     "metadata": {},
     "output_type": "display_data"
    },
    {
     "data": {
      "image/png": "[encoded data removed]",
      "text/plain": [
       "<Figure size 640x480 with 1 Axes>"
      ]
     },
     "metadata": {},
     "output_type": "display_data"
    }
   ],
   "source": [
    "def show_train_history(train_history,train,validation):\n",
    "    plt.plot(train_history.history[train])\n",
    "    plt.plot(train_history.history[validation])\n",
    "    plt.title('Train History')\n",
    "    plt.ylabel(train)\n",
    "    plt.xlabel('Epoch')\n",
    "    plt.legend(['train', 'validation'], loc='upper left')\n",
    "    plt.show()\n",
    "    \n",
    "show_train_history(history,'accuracy','val_accuracy')\n",
    "show_train_history(history,'loss','val_loss')"
   ]
  },
  {
   "cell_type": "code",
   "execution_count": 94,
   "id": "68db374c",
   "metadata": {},
   "outputs": [
    {
     "name": "stdout",
     "output_type": "stream",
     "text": [
      "Training loss \t 39.143407344818115\n",
      "Training accuracy  85.72916388511658\n",
      "Validation loss  346.9982862472534\n",
      "Validation accuracy  59.062498807907104\n",
      "10/10 [==============================] - 0s 20ms/step - loss: 3.4700 - accuracy: 0.5906\n",
      "Testing loss \t 346.9982862472534\n",
      "Testing accuracy  59.062498807907104\n"
     ]
    }
   ],
   "source": [
    "print('Training loss \\t', history.history['loss'][-1]*100)\n",
    "print('Training accuracy ',  history.history['accuracy'][-1]*100)\n",
    "print('Validation loss ', history.history['val_loss'][-1]*100)\n",
    "print('Validation accuracy ',  history.history['val_accuracy'][-1]*100)\n",
    "# Training loss \t 14.32565450668335\n",
    "# Training accuracy  94.87000107765198\n",
    "# Validation loss  39.74485695362091\n",
    "# Validation accuracy  85.68000197410583\n",
    "# Final evaluation of the model using test dataset\n",
    "# Students will be starting their code from here:\n",
    "scores = model.evaluate(x_val, y_val, verbose=1)\n",
    "print('Testing loss \\t', scores[0]*100)\n",
    "print('Testing accuracy ', scores[1]*100)\n",
    "# 782/782 [==============================] - 70s 89ms/step - loss: 0.3974 - accuracy: 0.8572\n",
    "# Testing loss \t 39.741843938827515\n",
    "# Testing accuracy  85.7159972190857\n",
    "# predict=history.predict_classes(x_test)\n",
    "# predict_classes=predict.reshape(len(x_test))"
   ]
  },
  {
   "cell_type": "code",
   "execution_count": 95,
   "id": "7f2a31a5",
   "metadata": {},
   "outputs": [
    {
     "name": "stdout",
     "output_type": "stream",
     "text": [
      "Epoch 1/3\n",
      "30/30 [==============================] - 2s 53ms/step - loss: 0.3695 - accuracy: 0.8771\n",
      "Epoch 2/3\n",
      "30/30 [==============================] - 2s 54ms/step - loss: 0.3539 - accuracy: 0.8938\n",
      "Epoch 3/3\n",
      "30/30 [==============================] - 2s 56ms/step - loss: 0.3264 - accuracy: 0.9052\n",
      "10/10 [==============================] - 0s 22ms/step - loss: 4.5916 - accuracy: 0.6125\n",
      "Epoch 1/3\n",
      "30/30 [==============================] - 2s 57ms/step - loss: 0.3358 - accuracy: 0.9135\n",
      "Epoch 2/3\n",
      "30/30 [==============================] - 2s 55ms/step - loss: 0.3096 - accuracy: 0.9156\n",
      "Epoch 3/3\n",
      "30/30 [==============================] - 2s 54ms/step - loss: 0.2936 - accuracy: 0.9187\n",
      "10/10 [==============================] - 0s 20ms/step - loss: 5.0976 - accuracy: 0.6281\n",
      "Epoch 1/3\n",
      "30/30 [==============================] - 2s 54ms/step - loss: 0.2876 - accuracy: 0.9219\n",
      "Epoch 2/3\n",
      "30/30 [==============================] - 2s 55ms/step - loss: 0.2770 - accuracy: 0.9260\n",
      "Epoch 3/3\n",
      "30/30 [==============================] - 2s 57ms/step - loss: 0.2649 - accuracy: 0.9312\n",
      "10/10 [==============================] - 0s 22ms/step - loss: 10.9462 - accuracy: 0.6375\n",
      "Epoch 1/3\n",
      "30/30 [==============================] - 2s 56ms/step - loss: 0.2563 - accuracy: 0.9333\n",
      "Epoch 2/3\n",
      "30/30 [==============================] - 2s 54ms/step - loss: 0.2493 - accuracy: 0.9354\n",
      "Epoch 3/3\n",
      "30/30 [==============================] - 2s 54ms/step - loss: 0.2445 - accuracy: 0.9354\n",
      "10/10 [==============================] - 0s 20ms/step - loss: 14.9437 - accuracy: 0.6375\n",
      "Epoch 1/3\n",
      "30/30 [==============================] - 2s 55ms/step - loss: 0.2377 - accuracy: 0.9396\n",
      "Epoch 2/3\n",
      "30/30 [==============================] - 2s 56ms/step - loss: 0.2313 - accuracy: 0.9406\n",
      "Epoch 3/3\n",
      "30/30 [==============================] - 2s 57ms/step - loss: 0.2246 - accuracy: 0.9427\n",
      "10/10 [==============================] - 0s 21ms/step - loss: 29.7852 - accuracy: 0.6438\n",
      "Avg. cross-val accuracy: 6.852365046739578\n"
     ]
    }
   ],
   "source": [
    "from sklearn.model_selection import KFold\n",
    "import numpy as np\n",
    "\n",
    "k = 5\n",
    "kf = KFold(n_splits=k)\n",
    "scores = []\n",
    "\n",
    "for train_index, test_index in kf.split(sentences):\n",
    "#     X_train, X_test = X[train_index], X[test_index]\n",
    "#     y_train, y_test = y[train_index], y[test_index]\n",
    "    \n",
    "    model.fit(x_train, y_train, epochs=3)\n",
    "    scores.append(model.evaluate(x_val, y_val))\n",
    "\n",
    "print(\"Avg. cross-val accuracy:\", np.mean(scores))\n"
   ]
  },
  {
   "cell_type": "code",
   "execution_count": 96,
   "id": "4d767bd6",
   "metadata": {},
   "outputs": [
    {
     "name": "stdout",
     "output_type": "stream",
     "text": [
      "Keras weights file (<HDF5 file \"variables.h5\" (mode r+)>) saving:\n",
      "...layers\n",
      "......dense\n",
      ".........vars\n",
      "............0\n",
      "............1\n",
      "......dropout\n",
      ".........vars\n",
      "......embedding\n",
      ".........vars\n",
      "............0\n",
      "......lstm\n",
      ".........cell\n",
      "............vars\n",
      "...............0\n",
      "...............1\n",
      "...............2\n",
      ".........vars\n",
      "...metrics\n",
      "......mean\n",
      ".........vars\n",
      "............0\n",
      "............1\n",
      "......mean_metric_wrapper\n",
      ".........vars\n",
      "............0\n",
      "............1\n",
      "...optimizer\n",
      "......vars\n",
      ".........0\n",
      ".........1\n",
      ".........10\n",
      ".........11\n",
      ".........12\n",
      ".........2\n",
      ".........3\n",
      ".........4\n",
      ".........5\n",
      ".........6\n",
      ".........7\n",
      ".........8\n",
      ".........9\n",
      "...vars\n",
      "Keras model archive saving:\n",
      "File Name                                             Modified             Size\n",
      "config.json                                    2023-04-10 16:33:38         2361\n",
      "metadata.json                                  2023-04-10 16:33:38           64\n",
      "variables.h5                                   2023-04-10 16:33:38     13218080\n"
     ]
    }
   ],
   "source": [
    "import pickle\n",
    "pickle.dump(model, open('model22.pkl', 'wb'));\n",
    "# cnn_model.save('model.pkl')"
   ]
  },
  {
   "cell_type": "code",
   "execution_count": 97,
   "id": "0dea6219",
   "metadata": {},
   "outputs": [
    {
     "name": "stdout",
     "output_type": "stream",
     "text": [
      "1/1 [==============================] - 0s 146ms/step\n",
      "1.0\n"
     ]
    }
   ],
   "source": [
    "new_text = \"I love this hotel. The staff is very friendly. I don't think there is any places as good as this\"\n",
    "new_sequence = tokenizer.texts_to_sequences([new_text])\n",
    "new_data = pad_sequences(new_sequence, maxlen=maxlen)\n",
    "prediction = model.predict(new_data)\n",
    "prediction_label = np.round(prediction[0][0])\n",
    "print(prediction_label)"
   ]
  },
  {
   "cell_type": "code",
   "execution_count": 98,
   "id": "6fb965ef",
   "metadata": {},
   "outputs": [
    {
     "name": "stdout",
     "output_type": "stream",
     "text": [
      "1/1 [==============================] - 0s 21ms/step\n",
      "1.0\n"
     ]
    }
   ],
   "source": [
    "new_text = \"During my holiday at Bali, I stayed at Hilton hotel. We arrived there at 12am. There was no staff. No one is coming to help us. We have to carry our luggae to the room. There was monkey everywhere. My girlfriend is afraid of monkey and she's not coming to the room. She has a terrible experience. So am I. If only we can get rid of the monkey and the staff is helpful, that would be nice. Why? because the place itself is big and the room is comfortable. The environment is good except the monkey. The service is kind of not so good.\"\n",
    "new_sequence = tokenizer.texts_to_sequences([new_text])\n",
    "new_data = pad_sequences(new_sequence, maxlen=maxlen)\n",
    "prediction = model.predict(new_data)\n",
    "prediction_label = np.round(prediction[0][0])\n",
    "print(prediction_label)"
   ]
  },
  {
   "cell_type": "code",
   "execution_count": 99,
   "id": "feac2606",
   "metadata": {},
   "outputs": [
    {
     "name": "stdout",
     "output_type": "stream",
     "text": [
      "1/1 [==============================] - 0s 20ms/step\n",
      "1.0\n"
     ]
    }
   ],
   "source": [
    "new_text = \"We planned to stay for 5 nights on a family trip. I booked this hotel because of the expected value for a suite as well as the free breakfast - get a quick bite, then head out for the day to do normal tourist stuff. Well, our stay here lasted 1 night and we quickly, and thankfully, switched to a different hotel for our last 4 nights. The room was dirty. When we opened the sofabed, the sheets were filthy and there was a mess of dirt and crumbs that fell out. Ridiculous considering this is a suite hotel where the sofabeds are likely used, and theoretically cleaned, a lot. Extra blankets were also dirty and bathrooms weren't much better. Temperature control in the room was imprecise - minor inconvenience but without clean blankets on our only night, it made for a cold stay. If you like to eat for free (they have free breakfasts and dinner on certain nights) and don't care to eat the great food Chicago has to offer, I guess some may find this place tolerable. But we found the buffet no better than average and felt like we were at a Golden Corral. The only thing this hotel really has going for it is location but there are other options in this area (we switched to The James and had a great experience). I couldn't be paid to stay here again. I'm shocked by the high overall rating given our experience.\"\n",
    "new_sequence = tokenizer.texts_to_sequences([new_text])\n",
    "new_data = pad_sequences(new_sequence, maxlen=maxlen)\n",
    "prediction = model.predict(new_data)\n",
    "prediction_label = np.round(prediction[0][0])\n",
    "print(prediction_label)"
   ]
  },
  {
   "cell_type": "code",
   "execution_count": 100,
   "id": "bf0728e2",
   "metadata": {},
   "outputs": [
    {
     "name": "stdout",
     "output_type": "stream",
     "text": [
      "1/1 [==============================] - 0s 20ms/step\n",
      "1.0\n"
     ]
    }
   ],
   "source": [
    "new_text = \"I had to do a little research on the Hilton brand because it's not one that I was familiar with. I wanted to know what this hotel chain's reputation was, so I did a little research online and found out that it's pretty well-known as a chain that people book into for their business trips and vacations. I also found out that this hotel chain is pretty well-reviewed by people who have stayed in their hotels.\"\n",
    "new_sequence = tokenizer.texts_to_sequences([new_text])\n",
    "new_data = pad_sequences(new_sequence, maxlen=maxlen)\n",
    "prediction = model.predict(new_data)\n",
    "prediction_label = np.round(prediction[0][0])\n",
    "print(prediction_label)"
   ]
  },
  {
   "cell_type": "code",
   "execution_count": 101,
   "id": "09bb0a83",
   "metadata": {},
   "outputs": [
    {
     "name": "stdout",
     "output_type": "stream",
     "text": [
      "10/10 [==============================] - 0s 19ms/step\n"
     ]
    }
   ],
   "source": [
    "y_pred = np.round(model.predict(x_val).ravel())\n"
   ]
  },
  {
   "cell_type": "code",
   "execution_count": 102,
   "id": "776af492",
   "metadata": {},
   "outputs": [],
   "source": [
    "y_pred_label = []\n",
    "for i in y_pred:\n",
    "    if i == 1:\n",
    "        y_pred_label.append(\"truthful\")\n",
    "    else:\n",
    "        y_pred_label.append(\"deceptive\")\n"
   ]
  },
  {
   "cell_type": "code",
   "execution_count": 103,
   "id": "591b85f2",
   "metadata": {},
   "outputs": [],
   "source": [
    "y_val_label = []\n",
    "for i in y_val:\n",
    "    if i == 1:\n",
    "        y_val_label.append(\"truthful\")\n",
    "    else:\n",
    "        y_val_label.append(\"deceptive\")\n",
    "\n"
   ]
  },
  {
   "cell_type": "code",
   "execution_count": 104,
   "id": "22445d37",
   "metadata": {},
   "outputs": [
    {
     "name": "stdout",
     "output_type": "stream",
     "text": [
      "              precision    recall  f1-score   support\n",
      "\n",
      "           0       0.70      0.58      0.64       172\n",
      "           1       0.60      0.72      0.65       148\n",
      "\n",
      "    accuracy                           0.64       320\n",
      "   macro avg       0.65      0.65      0.64       320\n",
      "weighted avg       0.65      0.64      0.64       320\n",
      "\n"
     ]
    }
   ],
   "source": [
    "from sklearn.metrics import classification_report\n",
    "print (classification_report(y_val, y_pred))\n"
   ]
  },
  {
   "cell_type": "code",
   "execution_count": 105,
   "id": "92a5b2e6",
   "metadata": {},
   "outputs": [
    {
     "data": {
      "text/html": [
       "<div>\n",
       "<style scoped>\n",
       "    .dataframe tbody tr th:only-of-type {\n",
       "        vertical-align: middle;\n",
       "    }\n",
       "\n",
       "    .dataframe tbody tr th {\n",
       "        vertical-align: top;\n",
       "    }\n",
       "\n",
       "    .dataframe thead th {\n",
       "        text-align: right;\n",
       "    }\n",
       "</style>\n",
       "<table border=\"1\" class=\"dataframe\">\n",
       "  <thead>\n",
       "    <tr style=\"text-align: right;\">\n",
       "      <th></th>\n",
       "      <th>Val</th>\n",
       "      <th>Pred</th>\n",
       "      <th>True_label</th>\n",
       "      <th>result</th>\n",
       "    </tr>\n",
       "  </thead>\n",
       "  <tbody>\n",
       "    <tr>\n",
       "      <th>0</th>\n",
       "      <td>NaN</td>\n",
       "      <td>truthful</td>\n",
       "      <td>deceptive</td>\n",
       "      <td>0</td>\n",
       "    </tr>\n",
       "    <tr>\n",
       "      <th>1</th>\n",
       "      <td>NaN</td>\n",
       "      <td>deceptive</td>\n",
       "      <td>deceptive</td>\n",
       "      <td>1</td>\n",
       "    </tr>\n",
       "    <tr>\n",
       "      <th>2</th>\n",
       "      <td>NaN</td>\n",
       "      <td>deceptive</td>\n",
       "      <td>truthful</td>\n",
       "      <td>0</td>\n",
       "    </tr>\n",
       "    <tr>\n",
       "      <th>3</th>\n",
       "      <td>NaN</td>\n",
       "      <td>deceptive</td>\n",
       "      <td>deceptive</td>\n",
       "      <td>1</td>\n",
       "    </tr>\n",
       "    <tr>\n",
       "      <th>4</th>\n",
       "      <td>NaN</td>\n",
       "      <td>truthful</td>\n",
       "      <td>truthful</td>\n",
       "      <td>1</td>\n",
       "    </tr>\n",
       "    <tr>\n",
       "      <th>...</th>\n",
       "      <td>...</td>\n",
       "      <td>...</td>\n",
       "      <td>...</td>\n",
       "      <td>...</td>\n",
       "    </tr>\n",
       "    <tr>\n",
       "      <th>315</th>\n",
       "      <td>NaN</td>\n",
       "      <td>truthful</td>\n",
       "      <td>deceptive</td>\n",
       "      <td>0</td>\n",
       "    </tr>\n",
       "    <tr>\n",
       "      <th>316</th>\n",
       "      <td>NaN</td>\n",
       "      <td>deceptive</td>\n",
       "      <td>truthful</td>\n",
       "      <td>0</td>\n",
       "    </tr>\n",
       "    <tr>\n",
       "      <th>317</th>\n",
       "      <td>NaN</td>\n",
       "      <td>truthful</td>\n",
       "      <td>truthful</td>\n",
       "      <td>1</td>\n",
       "    </tr>\n",
       "    <tr>\n",
       "      <th>318</th>\n",
       "      <td>NaN</td>\n",
       "      <td>deceptive</td>\n",
       "      <td>deceptive</td>\n",
       "      <td>1</td>\n",
       "    </tr>\n",
       "    <tr>\n",
       "      <th>319</th>\n",
       "      <td>NaN</td>\n",
       "      <td>truthful</td>\n",
       "      <td>deceptive</td>\n",
       "      <td>0</td>\n",
       "    </tr>\n",
       "  </tbody>\n",
       "</table>\n",
       "<p>320 rows × 4 columns</p>\n",
       "</div>"
      ],
      "text/plain": [
       "     Val       Pred True_label  result\n",
       "0    NaN   truthful  deceptive       0\n",
       "1    NaN  deceptive  deceptive       1\n",
       "2    NaN  deceptive   truthful       0\n",
       "3    NaN  deceptive  deceptive       1\n",
       "4    NaN   truthful   truthful       1\n",
       "..   ...        ...        ...     ...\n",
       "315  NaN   truthful  deceptive       0\n",
       "316  NaN  deceptive   truthful       0\n",
       "317  NaN   truthful   truthful       1\n",
       "318  NaN  deceptive  deceptive       1\n",
       "319  NaN   truthful  deceptive       0\n",
       "\n",
       "[320 rows x 4 columns]"
      ]
     },
     "execution_count": 105,
     "metadata": {},
     "output_type": "execute_result"
    }
   ],
   "source": [
    "predict_val = pd.DataFrame({'val':sentences_val, 'Pred':y_pred_label, 'True_label':y_val_label}, columns=['Val','Pred','True_label'])\n",
    "\n",
    "predict_val['result'] = np.where(predict_val['Pred']==predict_val['True_label'], 1, 0)\n",
    "\n",
    "\n",
    "\n",
    "predict_val"
   ]
  },
  {
   "cell_type": "code",
   "execution_count": 106,
   "id": "9aa865ad",
   "metadata": {},
   "outputs": [
    {
     "name": "stdout",
     "output_type": "stream",
     "text": [
      "0.64375\n"
     ]
    }
   ],
   "source": [
    "from sklearn.metrics import accuracy_score\n",
    " \n",
    "print(accuracy_score(y_val,y_pred))"
   ]
  },
  {
   "cell_type": "code",
   "execution_count": 107,
   "id": "a27420cb",
   "metadata": {},
   "outputs": [
    {
     "name": "stdout",
     "output_type": "stream",
     "text": [
      "The wrong guess is :  114\n",
      "The right guess is:  206\n"
     ]
    }
   ],
   "source": [
    "wrong = 0\n",
    "right = 0\n",
    "for i in predict_val['result']:\n",
    "    \n",
    "    if i == 0:\n",
    "        wrong+=1\n",
    "    else:\n",
    "        right+=1\n",
    "\n",
    "print(\"The wrong guess is : \", wrong)\n",
    "print(\"The right guess is: \", right)"
   ]
  },
  {
   "cell_type": "markdown",
   "id": "8218e003",
   "metadata": {},
   "source": [
    "# Test the model on test dataset"
   ]
  },
  {
   "cell_type": "code",
   "execution_count": 108,
   "id": "28bd03a1",
   "metadata": {},
   "outputs": [
    {
     "name": "stdout",
     "output_type": "stream",
     "text": [
      "0.478125\n"
     ]
    }
   ],
   "source": [
    "from sklearn.metrics import accuracy_score\n",
    "\n",
    "print(accuracy_score(y_test,y_pred))"
   ]
  },
  {
   "cell_type": "code",
   "execution_count": null,
   "id": "ccb72022",
   "metadata": {},
   "outputs": [],
   "source": []
  },
  {
   "cell_type": "code",
   "execution_count": 109,
   "id": "ee7d4c9e",
   "metadata": {},
   "outputs": [
    {
     "name": "stdout",
     "output_type": "stream",
     "text": [
      "Epoch 1/5\n",
      "30/30 [==============================] - 2s 53ms/step - loss: 0.2209 - accuracy: 0.9406\n",
      "Epoch 2/5\n",
      "30/30 [==============================] - 2s 54ms/step - loss: 0.2132 - accuracy: 0.9417\n",
      "Epoch 3/5\n",
      "30/30 [==============================] - 2s 56ms/step - loss: 0.2103 - accuracy: 0.9417\n",
      "Epoch 4/5\n",
      "30/30 [==============================] - 2s 56ms/step - loss: 0.2069 - accuracy: 0.9448\n",
      "Epoch 5/5\n",
      "30/30 [==============================] - 2s 56ms/step - loss: 0.2007 - accuracy: 0.9469\n",
      "10/10 [==============================] - 0s 21ms/step - loss: 114.7331 - accuracy: 0.6844\n",
      "Epoch 1/5\n",
      "30/30 [==============================] - 2s 53ms/step - loss: 0.1953 - accuracy: 0.9469\n",
      "Epoch 2/5\n",
      "30/30 [==============================] - 2s 53ms/step - loss: 0.1929 - accuracy: 0.9479\n",
      "Epoch 3/5\n",
      "30/30 [==============================] - 2s 56ms/step - loss: 0.1916 - accuracy: 0.9448\n",
      "Epoch 4/5\n",
      "30/30 [==============================] - 2s 55ms/step - loss: 0.1858 - accuracy: 0.9490\n",
      "Epoch 5/5\n",
      "30/30 [==============================] - 2s 54ms/step - loss: 0.1820 - accuracy: 0.9500\n",
      "10/10 [==============================] - 0s 20ms/step - loss: 173.9494 - accuracy: 0.6844\n",
      "Epoch 1/5\n",
      "30/30 [==============================] - 2s 54ms/step - loss: 0.1766 - accuracy: 0.9521\n",
      "Epoch 2/5\n",
      "30/30 [==============================] - 2s 53ms/step - loss: 0.1750 - accuracy: 0.9521\n",
      "Epoch 3/5\n",
      "30/30 [==============================] - 2s 54ms/step - loss: 0.2246 - accuracy: 0.9510\n",
      "Epoch 4/5\n",
      "30/30 [==============================] - 2s 54ms/step - loss: 0.1739 - accuracy: 0.9521\n",
      "Epoch 5/5\n",
      "30/30 [==============================] - 2s 54ms/step - loss: 0.1656 - accuracy: 0.9542\n",
      "10/10 [==============================] - 0s 20ms/step - loss: 26.0760 - accuracy: 0.6750\n",
      "Epoch 1/5\n",
      "30/30 [==============================] - 2s 52ms/step - loss: 0.1634 - accuracy: 0.9552\n",
      "Epoch 2/5\n",
      "30/30 [==============================] - 2s 53ms/step - loss: 0.1634 - accuracy: 0.9552\n",
      "Epoch 3/5\n",
      "30/30 [==============================] - 2s 53ms/step - loss: 0.1591 - accuracy: 0.9542\n",
      "Epoch 4/5\n",
      "30/30 [==============================] - 2s 54ms/step - loss: 0.1593 - accuracy: 0.9542\n",
      "Epoch 5/5\n",
      "30/30 [==============================] - 2s 54ms/step - loss: 0.1557 - accuracy: 0.9563\n",
      "10/10 [==============================] - 0s 20ms/step - loss: 45.7545 - accuracy: 0.6844\n",
      "Epoch 1/5\n",
      "30/30 [==============================] - 2s 54ms/step - loss: 0.1533 - accuracy: 0.9552\n",
      "Epoch 2/5\n",
      "30/30 [==============================] - 2s 53ms/step - loss: 0.1511 - accuracy: 0.9573\n",
      "Epoch 3/5\n",
      "30/30 [==============================] - 2s 53ms/step - loss: 0.1497 - accuracy: 0.9583\n",
      "Epoch 4/5\n",
      "30/30 [==============================] - 2s 53ms/step - loss: 0.1502 - accuracy: 0.9563\n",
      "Epoch 5/5\n",
      "30/30 [==============================] - 2s 53ms/step - loss: 0.1501 - accuracy: 0.9552\n",
      "10/10 [==============================] - 0s 20ms/step - loss: 47.4437 - accuracy: 0.6812\n",
      "Avg. cross-val accuracy: 41.13661258220672\n"
     ]
    }
   ],
   "source": [
    "from sklearn.model_selection import KFold\n",
    "import numpy as np\n",
    "\n",
    "k = 5\n",
    "kf = KFold(n_splits=k)\n",
    "scores = []\n",
    "\n",
    "for train_index, test_index in kf.split(sentences):\n",
    "#     X_train, X_test = X[train_index], X[test_index]\n",
    "#     y_train, y_test = y[train_index], y[test_index]\n",
    "    \n",
    "    model.fit(x_train, y_train, epochs=5)\n",
    "    scores.append(model.evaluate(x_test, y_test))\n",
    "\n",
    "print(\"Avg. cross-val accuracy:\", np.mean(scores))\n"
   ]
  },
  {
   "cell_type": "code",
   "execution_count": 110,
   "id": "8bfcbfa0",
   "metadata": {},
   "outputs": [
    {
     "name": "stdout",
     "output_type": "stream",
     "text": [
      "              precision    recall  f1-score   support\n",
      "\n",
      "           0       0.46      0.42      0.44       157\n",
      "           1       0.49      0.53      0.51       163\n",
      "\n",
      "    accuracy                           0.48       320\n",
      "   macro avg       0.48      0.48      0.48       320\n",
      "weighted avg       0.48      0.48      0.48       320\n",
      "\n"
     ]
    }
   ],
   "source": [
    "from sklearn.metrics import classification_report\n",
    "\n",
    "print (classification_report(y_test, y_pred))\n"
   ]
  },
  {
   "cell_type": "code",
   "execution_count": 111,
   "id": "3e310e00",
   "metadata": {},
   "outputs": [],
   "source": [
    "y_pred_label = []\n",
    "for i in y_pred:\n",
    "    if i == 1:\n",
    "        y_pred_label.append(\"truthful\")\n",
    "    else:\n",
    "        y_pred_label.append(\"deceptive\")\n",
    "\n",
    "\n",
    "# y_pred_label"
   ]
  },
  {
   "cell_type": "code",
   "execution_count": 112,
   "id": "a4a56fd2",
   "metadata": {},
   "outputs": [],
   "source": [
    "y_test_label = []\n",
    "for i in y_test:\n",
    "    if i == 1:\n",
    "        y_test_label.append(\"truthful\")\n",
    "    else:\n",
    "        y_test_label.append(\"deceptive\")\n",
    "\n",
    "\n",
    "# y_test_label"
   ]
  },
  {
   "cell_type": "code",
   "execution_count": 113,
   "id": "0e6e7787",
   "metadata": {},
   "outputs": [
    {
     "data": {
      "text/html": [
       "<div>\n",
       "<style scoped>\n",
       "    .dataframe tbody tr th:only-of-type {\n",
       "        vertical-align: middle;\n",
       "    }\n",
       "\n",
       "    .dataframe tbody tr th {\n",
       "        vertical-align: top;\n",
       "    }\n",
       "\n",
       "    .dataframe thead th {\n",
       "        text-align: right;\n",
       "    }\n",
       "</style>\n",
       "<table border=\"1\" class=\"dataframe\">\n",
       "  <thead>\n",
       "    <tr style=\"text-align: right;\">\n",
       "      <th></th>\n",
       "      <th>Test</th>\n",
       "      <th>Pred</th>\n",
       "      <th>True_label</th>\n",
       "      <th>result</th>\n",
       "    </tr>\n",
       "  </thead>\n",
       "  <tbody>\n",
       "    <tr>\n",
       "      <th>108</th>\n",
       "      <td>the fairmont chicago millennium park has to be...</td>\n",
       "      <td>truthful</td>\n",
       "      <td>deceptive</td>\n",
       "      <td>0</td>\n",
       "    </tr>\n",
       "    <tr>\n",
       "      <th>255</th>\n",
       "      <td>first room s heating system sounded like we ha...</td>\n",
       "      <td>deceptive</td>\n",
       "      <td>truthful</td>\n",
       "      <td>0</td>\n",
       "    </tr>\n",
       "    <tr>\n",
       "      <th>134</th>\n",
       "      <td>stayed valentines weekend  got the  floor with...</td>\n",
       "      <td>deceptive</td>\n",
       "      <td>truthful</td>\n",
       "      <td>0</td>\n",
       "    </tr>\n",
       "    <tr>\n",
       "      <th>135</th>\n",
       "      <td>when most people think hilton  they think luxu...</td>\n",
       "      <td>truthful</td>\n",
       "      <td>deceptive</td>\n",
       "      <td>0</td>\n",
       "    </tr>\n",
       "    <tr>\n",
       "      <th>136</th>\n",
       "      <td>the location of this hotel was superb  our roo...</td>\n",
       "      <td>truthful</td>\n",
       "      <td>deceptive</td>\n",
       "      <td>0</td>\n",
       "    </tr>\n",
       "    <tr>\n",
       "      <th>...</th>\n",
       "      <td>...</td>\n",
       "      <td>...</td>\n",
       "      <td>...</td>\n",
       "      <td>...</td>\n",
       "    </tr>\n",
       "    <tr>\n",
       "      <th>148</th>\n",
       "      <td>my significant other and i recently spent  nig...</td>\n",
       "      <td>truthful</td>\n",
       "      <td>truthful</td>\n",
       "      <td>1</td>\n",
       "    </tr>\n",
       "    <tr>\n",
       "      <th>150</th>\n",
       "      <td>my wife and i travelled to chicago and really ...</td>\n",
       "      <td>truthful</td>\n",
       "      <td>truthful</td>\n",
       "      <td>1</td>\n",
       "    </tr>\n",
       "    <tr>\n",
       "      <th>153</th>\n",
       "      <td>i recently made a business trip to chicago  in...</td>\n",
       "      <td>deceptive</td>\n",
       "      <td>deceptive</td>\n",
       "      <td>1</td>\n",
       "    </tr>\n",
       "    <tr>\n",
       "      <th>133</th>\n",
       "      <td>hello  i recently stayed at the affinia hotel ...</td>\n",
       "      <td>deceptive</td>\n",
       "      <td>deceptive</td>\n",
       "      <td>1</td>\n",
       "    </tr>\n",
       "    <tr>\n",
       "      <th>319</th>\n",
       "      <td>after reading all the lukewarm reviews for thi...</td>\n",
       "      <td>truthful</td>\n",
       "      <td>truthful</td>\n",
       "      <td>1</td>\n",
       "    </tr>\n",
       "  </tbody>\n",
       "</table>\n",
       "<p>320 rows × 4 columns</p>\n",
       "</div>"
      ],
      "text/plain": [
       "                                                  Test       Pred True_label  \\\n",
       "108  the fairmont chicago millennium park has to be...   truthful  deceptive   \n",
       "255  first room s heating system sounded like we ha...  deceptive   truthful   \n",
       "134  stayed valentines weekend  got the  floor with...  deceptive   truthful   \n",
       "135  when most people think hilton  they think luxu...   truthful  deceptive   \n",
       "136  the location of this hotel was superb  our roo...   truthful  deceptive   \n",
       "..                                                 ...        ...        ...   \n",
       "148  my significant other and i recently spent  nig...   truthful   truthful   \n",
       "150  my wife and i travelled to chicago and really ...   truthful   truthful   \n",
       "153  i recently made a business trip to chicago  in...  deceptive  deceptive   \n",
       "133  hello  i recently stayed at the affinia hotel ...  deceptive  deceptive   \n",
       "319  after reading all the lukewarm reviews for thi...   truthful   truthful   \n",
       "\n",
       "     result  \n",
       "108       0  \n",
       "255       0  \n",
       "134       0  \n",
       "135       0  \n",
       "136       0  \n",
       "..      ...  \n",
       "148       1  \n",
       "150       1  \n",
       "153       1  \n",
       "133       1  \n",
       "319       1  \n",
       "\n",
       "[320 rows x 4 columns]"
      ]
     },
     "execution_count": 113,
     "metadata": {},
     "output_type": "execute_result"
    }
   ],
   "source": [
    "predict_test = pd.DataFrame({'Test':sentences_test, 'Pred':y_pred_label, 'True_label':y_test_label}, columns=['Test','Pred','True_label'])\n",
    "predict_test['result'] = np.where(predict_test['Pred']==predict_test['True_label'], 1, 0)\n",
    "# results.sort_values(by='result').head(20)\n",
    "\n",
    "\n",
    "predict_test.sort_values(by='result')"
   ]
  },
  {
   "cell_type": "code",
   "execution_count": 114,
   "id": "7ca0f6f1",
   "metadata": {},
   "outputs": [
    {
     "name": "stdout",
     "output_type": "stream",
     "text": [
      "The wrong guess is :  167\n",
      "The right guess is:  153\n"
     ]
    }
   ],
   "source": [
    "wrong = 0\n",
    "right = 0\n",
    "for i in predict_test['result']:\n",
    "    \n",
    "    if i == 0:\n",
    "        wrong+=1\n",
    "    else:\n",
    "        right+=1\n",
    "\n",
    "print(\"The wrong guess is : \", wrong)\n",
    "print(\"The right guess is: \", right)\n",
    "    \n",
    "\n",
    "\n",
    "        "
   ]
  },
  {
   "cell_type": "code",
   "execution_count": 115,
   "id": "e8a7b05f",
   "metadata": {},
   "outputs": [
    {
     "name": "stdout",
     "output_type": "stream",
     "text": [
      "Keras model archive loading:\n",
      "File Name                                             Modified             Size\n",
      "config.json                                    2023-04-10 16:33:38         2361\n",
      "metadata.json                                  2023-04-10 16:33:38           64\n",
      "variables.h5                                   2023-04-10 16:33:38     13218080\n",
      "Keras weights file (<HDF5 file \"variables.h5\" (mode r)>) loading:\n",
      "...layers\n",
      "......dense\n",
      ".........vars\n",
      "............0\n",
      "............1\n",
      "......dropout\n",
      ".........vars\n",
      "......embedding\n",
      ".........vars\n",
      "............0\n",
      "......lstm\n",
      ".........cell\n",
      "............vars\n",
      "...............0\n",
      "...............1\n",
      "...............2\n",
      ".........vars\n",
      "...metrics\n",
      "......mean\n",
      ".........vars\n",
      "............0\n",
      "............1\n",
      "......mean_metric_wrapper\n",
      ".........vars\n",
      "............0\n",
      "............1\n",
      "...optimizer\n",
      "......vars\n",
      ".........0\n",
      ".........1\n",
      ".........10\n",
      ".........11\n",
      ".........12\n",
      ".........2\n",
      ".........3\n",
      ".........4\n",
      ".........5\n",
      ".........6\n",
      ".........7\n",
      ".........8\n",
      ".........9\n",
      "...vars\n",
      "1/1 [==============================] - 0s 131ms/step\n",
      "[[0.69170076]]\n",
      "1.0\n",
      "truthful\n"
     ]
    }
   ],
   "source": [
    "pkl = open('model22.pkl', 'rb');\n",
    "clf = pickle.load(pkl);\n",
    "\n",
    "new_text = \"During my holiday at Bali, I stayed at Hilton hotel. We arrived there at 12am. There was no staff. No one is coming to help us. We have to carry our luggae to the room. There was monkey everywhere. My girlfriend is afraid of monkey and she's not coming to the room. She has a terrible experience. So am I. If only we can get rid of the monkey and the staff is helpful, that would be nice. Why? because the place itself is big and the room is comfortable. The environment is good except the monkey. The service is kind of not so good.\"\n",
    "new_sequence = tokenizer.texts_to_sequences([new_text])\n",
    "# print(new_sequence)\n",
    "new_data = pad_sequences(new_sequence, maxlen=maxlen)\n",
    "# print(new_data)\n",
    "prediction = clf.predict(new_data)\n",
    "print(prediction)\n",
    "prediction_label = np.round(prediction[0][0])\n",
    "print(prediction_label)\n",
    "print(\"truthful\" if prediction_label==1 else \"deceptive\")\n",
    "\n"
   ]
  },
  {
   "cell_type": "code",
   "execution_count": 116,
   "id": "2a24b3fb",
   "metadata": {},
   "outputs": [
    {
     "name": "stdout",
     "output_type": "stream",
     "text": [
      "1/1 [==============================] - 0s 19ms/step\n",
      "[[0.51075387]]\n",
      "0.51075387\n",
      "truthful\n"
     ]
    }
   ],
   "source": [
    "new_text = \"We planned to stay for 5 nights on a family trip. I booked this hotel because of the expected value for a suite as well as the free breakfast - get a quick bite, then head out for the day to do normal tourist stuff. Well, our stay here lasted 1 night and we quickly, and thankfully, switched to a different hotel for our last 4 nights. The room was dirty. When we opened the sofabed, the sheets were filthy and there was a mess of dirt and crumbs that fell out. Ridiculous considering this is a suite hotel where the sofabeds are likely used, and theoretically cleaned, a lot. Extra blankets were also dirty and bathrooms weren't much better. Temperature control in the room was imprecise - minor inconvenience but without clean blankets on our only night, it made for a cold stay. If you like to eat for free (they have free breakfasts and dinner on certain nights) and don't care to eat the great food Chicago has to offer, I guess some may find this place tolerable. But we found the buffet no better than average and felt like we were at a Golden Corral. The only thing this hotel really has going for it is location but there are other options in this area (we switched to The James and had a great experience). I couldn't be paid to stay here again. I'm shocked by the high overall rating given our experience.\"\n",
    "new_sequence = tokenizer.texts_to_sequences([new_text])\n",
    "# print(new_sequence)\n",
    "new_data = pad_sequences(new_sequence, maxlen=maxlen)\n",
    "# print(new_data)\n",
    "prediction = clf.predict(new_data)\n",
    "print(prediction)\n",
    "print(prediction[0][0])\n",
    "prediction_label = np.round(prediction[0][0])\n",
    "print(\"truthful\" if prediction_label==1 else \"deceptive\")"
   ]
  },
  {
   "cell_type": "code",
   "execution_count": 117,
   "id": "a759a053",
   "metadata": {},
   "outputs": [
    {
     "name": "stdout",
     "output_type": "stream",
     "text": [
      "1/1 [==============================] - 0s 18ms/step\n",
      "[[0.53590405]]\n",
      "0.53590405\n",
      "truthful\n"
     ]
    }
   ],
   "source": [
    "new_text = \"I booked flights through expedia.co.uk I had to cancel due to a medical emergency. One airline (outbound) refunded tax directly. The other airline (return) said I was eligible for a tax refund, but that I had to go through expedia as the agent. Expedia claims that the tax is non-refundable, as the flights are non-refundable. Airlines do not pay tax for seats that have not been used. So who is profiting from the un-used tax? My guess is Expedia since the airline was happy to refund.\"\n",
    "new_sequence = tokenizer.texts_to_sequences([new_text])\n",
    "# print(new_sequence)\n",
    "new_data = pad_sequences(new_sequence, maxlen=maxlen)\n",
    "# print(new_data)\n",
    "prediction = clf.predict(new_data)\n",
    "print(prediction)\n",
    "print(prediction[0][0])\n",
    "prediction_label = np.round(prediction[0][0])\n",
    "print(\"truthful\" if prediction_label==1 else \"deceptive\")"
   ]
  },
  {
   "cell_type": "code",
   "execution_count": 118,
   "id": "bb48a274",
   "metadata": {},
   "outputs": [
    {
     "name": "stdout",
     "output_type": "stream",
     "text": [
      "1/1 [==============================] - 0s 19ms/step\n",
      "[[0.36238793]]\n",
      "0.36238793\n",
      "deceptive\n"
     ]
    }
   ],
   "source": [
    "new_text = \"I booked a hotel stay with 15 days parking package and upon checking in at LGW hotel was told that they had no record of the number of days free parking. Expedia didn’t help at all, and even though my confirmation stated ‘free parking’ it didn’t say ‘15 days free parking’ and so Expedia say that my parking is all due to be paid myself for 15 days, despite me booking the specific package for £172. I won’t be using these muppets ever again, I’ve had to fork out parking to the hotel also. Not a happy Chappy. Avoid Expedia park and stay packages like the plague !!\"\n",
    "new_sequence = tokenizer.texts_to_sequences([new_text])\n",
    "# print(new_sequence)\n",
    "new_data = pad_sequences(new_sequence, maxlen=maxlen)\n",
    "# print(new_data)\n",
    "prediction = clf.predict(new_data)\n",
    "print(prediction)\n",
    "print(prediction[0][0])\n",
    "prediction_label = np.round(prediction[0][0])\n",
    "print(\"truthful\" if prediction_label==1 else \"deceptive\")"
   ]
  },
  {
   "cell_type": "code",
   "execution_count": 119,
   "id": "92debc29",
   "metadata": {},
   "outputs": [
    {
     "name": "stdout",
     "output_type": "stream",
     "text": [
      "1/1 [==============================] - 0s 19ms/step\n",
      "[[0.615656]]\n",
      "0.615656\n",
      "truthful\n"
     ]
    }
   ],
   "source": [
    "new_text = \"This food is amazing!!!!\"\n",
    "new_sequence = tokenizer.texts_to_sequences([new_text])\n",
    "# print(new_sequence)\n",
    "new_data = pad_sequences(new_sequence, maxlen=maxlen)\n",
    "# print(new_data)\n",
    "prediction = clf.predict(new_data)\n",
    "print(prediction)\n",
    "print(prediction[0][0])\n",
    "prediction_label = np.round(prediction[0][0])\n",
    "print(\"truthful\" if prediction_label==1 else \"deceptive\")"
   ]
  },
  {
   "cell_type": "code",
   "execution_count": 120,
   "id": "ca69670c",
   "metadata": {},
   "outputs": [
    {
     "name": "stdout",
     "output_type": "stream",
     "text": [
      "1/1 [==============================] - 0s 19ms/step\n",
      "[[0.6630119]]\n",
      "0.6630119\n",
      "truthful\n"
     ]
    }
   ],
   "source": [
    "new_text = \"This company is awful, tickets are put up only for them to take your money as a pending transaction and tell you it is because they no longer have seats available or the prices have changed... only for you to see two weeks later that the same flight is being advertised for the same price. I now have to wait for my money to come back into my account before I can book my flight elsewhere.\"\n",
    "new_sequence = tokenizer.texts_to_sequences([new_text])\n",
    "# print(new_sequence)\n",
    "new_data = pad_sequences(new_sequence, maxlen=maxlen)\n",
    "# print(new_data)\n",
    "prediction = clf.predict(new_data)\n",
    "print(prediction)\n",
    "print(prediction[0][0])\n",
    "prediction_label = np.round(prediction[0][0])\n",
    "print(\"truthful\" if prediction_label==1 else \"deceptive\")"
   ]
  },
  {
   "cell_type": "code",
   "execution_count": 121,
   "id": "056c0694",
   "metadata": {},
   "outputs": [
    {
     "name": "stdout",
     "output_type": "stream",
     "text": [
      "1/1 [==============================] - 0s 19ms/step\n",
      "[[0.7447765]]\n",
      "0.7447765\n",
      "truthful\n"
     ]
    }
   ],
   "source": [
    "new_text = \"I use expedia a few times a year to book trips. This year in Prague one of our booked trips was cancelled by the provider, we turned up and they sent us away saying it was cancelled. After going backwards and forwards with expedia they will not issue me with a refund as the provider of the show will not respond to them. Viator reviews say that this show has not existed for several years, why is it still being sold!! Its an absolute con and expedia are helping them, I am totally disgusted and will not book with them again.\"\n",
    "new_sequence = tokenizer.texts_to_sequences([new_text])\n",
    "# print(new_sequence)\n",
    "new_data = pad_sequences(new_sequence, maxlen=maxlen)\n",
    "# print(new_data)\n",
    "prediction = clf.predict(new_data)\n",
    "print(prediction)\n",
    "print(prediction[0][0])\n",
    "prediction_label = np.round(prediction[0][0])\n",
    "print(\"truthful\" if prediction_label==1 else \"deceptive\")"
   ]
  },
  {
   "cell_type": "code",
   "execution_count": 122,
   "id": "0eb5015e",
   "metadata": {},
   "outputs": [
    {
     "name": "stdout",
     "output_type": "stream",
     "text": [
      "1/1 [==============================] - 0s 18ms/step\n",
      "[[0.5947658]]\n",
      "0.5947658\n",
      "truthful\n"
     ]
    }
   ],
   "source": [
    "new_text = \"I booked with expedia long time ago. The experience was horrible. Arrived to the Prague airport early in the morning just to hear that there is no space in the plane, after some very worrying moments they said there is a space. Got in to the plane then the sit number i have been given was given to someone else so they told me that i can sit to somewhere else, guess what next.. the owner of that seat appeared also.. on and on… i was happy as i was in the plane but the experience was good enough not to book with this company ever again\"\n",
    "new_sequence = tokenizer.texts_to_sequences([new_text])\n",
    "# print(new_sequence)\n",
    "new_data = pad_sequences(new_sequence, maxlen=maxlen)\n",
    "# print(new_data)\n",
    "prediction = clf.predict(new_data)\n",
    "print(prediction)\n",
    "print(prediction[0][0])\n",
    "prediction_label = np.round(prediction[0][0])\n",
    "print(\"truthful\" if prediction_label==1 else \"deceptive\")"
   ]
  },
  {
   "cell_type": "code",
   "execution_count": 123,
   "id": "18de17e0",
   "metadata": {},
   "outputs": [
    {
     "name": "stdout",
     "output_type": "stream",
     "text": [
      "1/1 [==============================] - 0s 19ms/step\n",
      "[[0.5495965]]\n",
      "0.5495965\n",
      "truthful\n"
     ]
    }
   ],
   "source": [
    "new_text = \"Kutchenhaus, Hythe, Kent. 5 Stars for this kitchen shop, specialising in high quality German craftsmanship. We were hugely impressed with the courteous and well-informed advice we were given by Ben and his expertise in describing the different possibilities we could choose from my wife and I recommend this shop 100%.\"\n",
    "\n",
    "new_sequence = tokenizer.texts_to_sequences([new_text])\n",
    "# print(new_sequence)\n",
    "new_data = pad_sequences(new_sequence, maxlen=maxlen)\n",
    "# print(new_data)\n",
    "prediction = clf.predict(new_data)\n",
    "print(prediction)\n",
    "print(prediction[0][0])\n",
    "prediction_label = np.round(prediction[0][0])\n",
    "print(\"truthful\" if prediction_label==1 else \"deceptive\")"
   ]
  },
  {
   "cell_type": "code",
   "execution_count": 124,
   "id": "375d7b9b",
   "metadata": {},
   "outputs": [
    {
     "name": "stdout",
     "output_type": "stream",
     "text": [
      "1/1 [==============================] - 0s 18ms/step\n",
      "[[0.7698261]]\n",
      "0.7698261\n",
      "truthful\n"
     ]
    }
   ],
   "source": [
    "new_text = \"Great staff at Quart Pot. Bar staff very friendly - Lisa,Scarlett and Grace. Good food too\"\n",
    "\n",
    "new_sequence = tokenizer.texts_to_sequences([new_text])\n",
    "# print(new_sequence)\n",
    "new_data = pad_sequences(new_sequence, maxlen=maxlen)\n",
    "# print(new_data)\n",
    "prediction = clf.predict(new_data)\n",
    "print(prediction)\n",
    "print(prediction[0][0])\n",
    "prediction_label = np.round(prediction[0][0])\n",
    "print(\"truthful\" if prediction_label==1 else \"deceptive\")"
   ]
  },
  {
   "cell_type": "code",
   "execution_count": 125,
   "id": "50138d5d",
   "metadata": {},
   "outputs": [
    {
     "name": "stdout",
     "output_type": "stream",
     "text": [
      "1/1 [==============================] - 0s 19ms/step\n",
      "[[0.8593764]]\n",
      "0.8593764\n",
      "truthful\n"
     ]
    }
   ],
   "source": [
    "new_text = \"Love this!  Well made, sturdy, and very comfortable.  I love it!Very pretty\"\n",
    "\n",
    "new_sequence = tokenizer.texts_to_sequences([new_text])\n",
    "# print(new_sequence)\n",
    "new_data = pad_sequences(new_sequence, maxlen=maxlen)\n",
    "# print(new_data)\n",
    "prediction = clf.predict(new_data)\n",
    "print(prediction)\n",
    "print(prediction[0][0])\n",
    "prediction_label = np.round(prediction[0][0])\n",
    "print(\"truthful\" if prediction_label==1 else \"deceptive\")"
   ]
  },
  {
   "cell_type": "code",
   "execution_count": 126,
   "id": "5a12fd2c",
   "metadata": {},
   "outputs": [
    {
     "name": "stdout",
     "output_type": "stream",
     "text": [
      "1/1 [==============================] - 0s 18ms/step\n",
      "[[0.66998315]]\n",
      "0.66998315\n",
      "truthful\n"
     ]
    }
   ],
   "source": [
    "new_text = \"A little pricey for what it is.\"\n",
    "\n",
    "new_sequence = tokenizer.texts_to_sequences([new_text])\n",
    "# print(new_sequence)\n",
    "new_data = pad_sequences(new_sequence, maxlen=maxlen)\n",
    "# print(new_data)\n",
    "prediction = clf.predict(new_data)\n",
    "print(prediction)\n",
    "print(prediction[0][0])\n",
    "prediction_label = np.round(prediction[0][0])\n",
    "print(\"truthful\" if prediction_label==1 else \"deceptive\")"
   ]
  },
  {
   "cell_type": "code",
   "execution_count": 127,
   "id": "1f4cf318",
   "metadata": {},
   "outputs": [
    {
     "name": "stdout",
     "output_type": "stream",
     "text": [
      "1/1 [==============================] - 0s 19ms/step\n",
      "[[0.59473944]]\n",
      "0.59473944\n",
      "truthful\n"
     ]
    }
   ],
   "source": [
    "new_text = \"Takes out the mystery of when my meat is finished cooking\"\n",
    "\n",
    "new_sequence = tokenizer.texts_to_sequences([new_text])\n",
    "# print(new_sequence)\n",
    "new_data = pad_sequences(new_sequence, maxlen=maxlen)\n",
    "# print(new_data)\n",
    "prediction = clf.predict(new_data)\n",
    "print(prediction)\n",
    "print(prediction[0][0])\n",
    "prediction_label = np.round(prediction[0][0])\n",
    "print(\"truthful\" if prediction_label==1 else \"deceptive\")"
   ]
  },
  {
   "cell_type": "code",
   "execution_count": 128,
   "id": "72f8d574",
   "metadata": {},
   "outputs": [
    {
     "name": "stdout",
     "output_type": "stream",
     "text": [
      "1/1 [==============================] - 0s 19ms/step\n",
      "[[0.91299725]]\n",
      "0.91299725\n",
      "truthful\n"
     ]
    }
   ],
   "source": [
    "new_text = \"I like the clock although it has the design flaw which is that it is a little hard to read\"\n",
    "\n",
    "new_sequence = tokenizer.texts_to_sequences([new_text])\n",
    "# print(new_sequence)\n",
    "new_data = pad_sequences(new_sequence, maxlen=maxlen)\n",
    "# print(new_data)\n",
    "prediction = clf.predict(new_data)\n",
    "print(prediction)\n",
    "print(prediction[0][0])\n",
    "prediction_label = np.round(prediction[0][0])\n",
    "print(\"truthful\" if prediction_label==1 else \"deceptive\")"
   ]
  },
  {
   "cell_type": "code",
   "execution_count": 129,
   "id": "d12b7b0b",
   "metadata": {},
   "outputs": [
    {
     "name": "stdout",
     "output_type": "stream",
     "text": [
      "1/1 [==============================] - 0s 19ms/step\n",
      "[[0.47410846]]\n",
      "0.47410846\n",
      "deceptive\n"
     ]
    }
   ],
   "source": [
    "new_text = \"Great product. Arrived on time and matched my shower curtain perfectly.\"\n",
    "\n",
    "new_sequence = tokenizer.texts_to_sequences([new_text])\n",
    "# print(new_sequence)\n",
    "new_data = pad_sequences(new_sequence, maxlen=maxlen)\n",
    "# print(new_data)\n",
    "prediction = clf.predict(new_data)\n",
    "print(prediction)\n",
    "print(prediction[0][0])\n",
    "prediction_label = np.round(prediction[0][0])\n",
    "print(\"truthful\" if prediction_label==1 else \"deceptive\")"
   ]
  },
  {
   "cell_type": "code",
   "execution_count": 130,
   "id": "bcd5394e",
   "metadata": {},
   "outputs": [
    {
     "name": "stdout",
     "output_type": "stream",
     "text": [
      "1/1 [==============================] - 0s 19ms/step\n",
      "[[0.6622174]]\n",
      "0.6622174\n",
      "truthful\n"
     ]
    }
   ],
   "source": [
    "new_text = \"Wonderful!!!!! Great size, throw them in the dishwasher - these area GREAT!!!!!\"\n",
    "\n",
    "new_sequence = tokenizer.texts_to_sequences([new_text])\n",
    "# print(new_sequence)\n",
    "new_data = pad_sequences(new_sequence, maxlen=maxlen)\n",
    "# print(new_data)\n",
    "prediction = clf.predict(new_data)\n",
    "print(prediction)\n",
    "print(prediction[0][0])\n",
    "prediction_label = np.round(prediction[0][0])\n",
    "print(\"truthful\" if prediction_label==1 else \"deceptive\")"
   ]
  },
  {
   "cell_type": "code",
   "execution_count": 131,
   "id": "363090ae",
   "metadata": {},
   "outputs": [
    {
     "name": "stdout",
     "output_type": "stream",
     "text": [
      "1/1 [==============================] - 0s 19ms/step\n",
      "[[0.7994719]]\n",
      "0.7994719\n",
      "truthful\n"
     ]
    }
   ],
   "source": [
    "new_text = \"SOOOOOOO cute. I love them. Adorable. Well made and totally worth the price!!\"\n",
    "\n",
    "new_sequence = tokenizer.texts_to_sequences([new_text])\n",
    "# print(new_sequence)\n",
    "new_data = pad_sequences(new_sequence, maxlen=maxlen)\n",
    "# print(new_data)\n",
    "prediction = clf.predict(new_data)\n",
    "print(prediction)\n",
    "print(prediction[0][0])\n",
    "prediction_label = np.round(prediction[0][0])\n",
    "print(\"truthful\" if prediction_label==1 else \"deceptive\")"
   ]
  },
  {
   "cell_type": "code",
   "execution_count": 132,
   "id": "6e554d16",
   "metadata": {},
   "outputs": [
    {
     "name": "stdout",
     "output_type": "stream",
     "text": [
      "1/1 [==============================] - 0s 19ms/step\n",
      "[[0.6153155]]\n",
      "0.6153155\n",
      "truthful\n"
     ]
    }
   ],
   "source": [
    "new_text = \"Bought as a gift for my daughter, seems to be a great buy.\"\n",
    "\n",
    "new_sequence = tokenizer.texts_to_sequences([new_text])\n",
    "# print(new_sequence)\n",
    "new_data = pad_sequences(new_sequence, maxlen=maxlen)\n",
    "# print(new_data)\n",
    "prediction = clf.predict(new_data)\n",
    "print(prediction)\n",
    "print(prediction[0][0])\n",
    "prediction_label = np.round(prediction[0][0])\n",
    "print(\"truthful\" if prediction_label==1 else \"deceptive\")"
   ]
  },
  {
   "cell_type": "code",
   "execution_count": 133,
   "id": "0fb7376c",
   "metadata": {},
   "outputs": [
    {
     "name": "stdout",
     "output_type": "stream",
     "text": [
      "1/1 [==============================] - 0s 18ms/step\n",
      "[[0.73578936]]\n",
      "0.73578936\n",
      "truthful\n"
     ]
    }
   ],
   "source": [
    "new_text = \"Doesn't get any better than this.  Outstanding quality.  Just the right size.\"\n",
    "\n",
    "new_sequence = tokenizer.texts_to_sequences([new_text])\n",
    "# print(new_sequence)\n",
    "new_data = pad_sequences(new_sequence, maxlen=maxlen)\n",
    "# print(new_data)\n",
    "prediction = clf.predict(new_data)\n",
    "print(prediction)\n",
    "print(prediction[0][0])\n",
    "prediction_label = np.round(prediction[0][0])\n",
    "print(\"truthful\" if prediction_label==1 else \"deceptive\")"
   ]
  },
  {
   "cell_type": "markdown",
   "id": "8ae38529",
   "metadata": {},
   "source": [
    "# Test with unseen dataset from differenr distribution"
   ]
  },
  {
   "cell_type": "code",
   "execution_count": 134,
   "id": "a478b825",
   "metadata": {},
   "outputs": [
    {
     "name": "stdout",
     "output_type": "stream",
     "text": [
      "1/1 [==============================] - 0s 19ms/step\n",
      "[[0.8593764]]\n",
      "0.8593764\n",
      "truthful\n"
     ]
    }
   ],
   "source": [
    "new_text = \"Love this!  Well made, sturdy, and very comfortable.  I love it!Very pretty\"\n",
    "\n",
    "new_sequence = tokenizer.texts_to_sequences([new_text])\n",
    "# print(new_sequence)\n",
    "new_data = pad_sequences(new_sequence, maxlen=maxlen)\n",
    "# print(new_data)\n",
    "prediction = clf.predict(new_data)\n",
    "print(prediction)\n",
    "print(prediction[0][0])\n",
    "prediction_label = np.round(prediction[0][0])\n",
    "print(\"truthful\" if prediction_label==1 else \"deceptive\")\n",
    "# right"
   ]
  },
  {
   "cell_type": "code",
   "execution_count": 135,
   "id": "80569bb3",
   "metadata": {},
   "outputs": [
    {
     "name": "stdout",
     "output_type": "stream",
     "text": [
      "1/1 [==============================] - 0s 19ms/step\n",
      "[[0.60814226]]\n",
      "0.60814226\n",
      "truthful\n"
     ]
    }
   ],
   "source": [
    "new_text = \"What can you say--- cheap and it works as intended.\"\n",
    "\n",
    "new_sequence = tokenizer.texts_to_sequences([new_text])\n",
    "# print(new_sequence)\n",
    "new_data = pad_sequences(new_sequence, maxlen=maxlen)\n",
    "# print(new_data)\n",
    "prediction = clf.predict(new_data)\n",
    "print(prediction)\n",
    "print(prediction[0][0])\n",
    "prediction_label = np.round(prediction[0][0])\n",
    "print(\"truthful\" if prediction_label==1 else \"deceptive\")\n",
    "# right"
   ]
  },
  {
   "cell_type": "code",
   "execution_count": 136,
   "id": "14fb6a77",
   "metadata": {},
   "outputs": [
    {
     "name": "stdout",
     "output_type": "stream",
     "text": [
      "1/1 [==============================] - 0s 19ms/step\n",
      "[[0.6620197]]\n",
      "0.6620197\n",
      "truthful\n"
     ]
    }
   ],
   "source": [
    "new_text = \"Really ruff under your feet, it feels very sturdy. I will keep my feet in the chair\"\n",
    "\n",
    "new_sequence = tokenizer.texts_to_sequences([new_text])\n",
    "# print(new_sequence)\n",
    "new_data = pad_sequences(new_sequence, maxlen=maxlen)\n",
    "# print(new_data)\n",
    "prediction = clf.predict(new_data)\n",
    "print(prediction)\n",
    "print(prediction[0][0])\n",
    "prediction_label = np.round(prediction[0][0])\n",
    "print(\"truthful\" if prediction_label==1 else \"deceptive\")\n",
    "# wrong"
   ]
  },
  {
   "cell_type": "code",
   "execution_count": 137,
   "id": "655f126c",
   "metadata": {},
   "outputs": [
    {
     "name": "stdout",
     "output_type": "stream",
     "text": [
      "1/1 [==============================] - 0s 19ms/step\n",
      "[[0.62002844]]\n",
      "0.62002844\n",
      "truthful\n"
     ]
    }
   ],
   "source": [
    "new_text = \"Order to place special photos on the wall.  We've had it for a couple of weeks and\"\n",
    "\n",
    "new_sequence = tokenizer.texts_to_sequences([new_text])\n",
    "# print(new_sequence)\n",
    "new_data = pad_sequences(new_sequence, maxlen=maxlen)\n",
    "# print(new_data)\n",
    "prediction = clf.predict(new_data)\n",
    "print(prediction)\n",
    "print(prediction[0][0])\n",
    "prediction_label = np.round(prediction[0][0])\n",
    "print(\"truthful\" if prediction_label==1 else \"deceptive\")\n",
    "# right"
   ]
  },
  {
   "cell_type": "code",
   "execution_count": 138,
   "id": "3eaa2bd4",
   "metadata": {},
   "outputs": [
    {
     "name": "stdout",
     "output_type": "stream",
     "text": [
      "1/1 [==============================] - 0s 19ms/step\n",
      "[[0.64615005]]\n",
      "0.64615005\n",
      "truthful\n"
     ]
    }
   ],
   "source": [
    "new_text = \"excellent product if you are a side sleeper this is perfect\"\n",
    "\n",
    "new_sequence = tokenizer.texts_to_sequences([new_text])\n",
    "# print(new_sequence)\n",
    "new_data = pad_sequences(new_sequence, maxlen=maxlen)\n",
    "# print(new_data)\n",
    "prediction = clf.predict(new_data)\n",
    "print(prediction)\n",
    "print(prediction[0][0])\n",
    "prediction_label = np.round(prediction[0][0])\n",
    "print(\"truthful\" if prediction_label==1 else \"deceptive\")\n",
    "# right"
   ]
  },
  {
   "cell_type": "code",
   "execution_count": 139,
   "id": "df445109",
   "metadata": {},
   "outputs": [
    {
     "name": "stdout",
     "output_type": "stream",
     "text": [
      "1/1 [==============================] - 0s 19ms/step\n",
      "[[0.47410846]]\n",
      "0.47410846\n",
      "deceptive\n"
     ]
    }
   ],
   "source": [
    "new_text = \"Great product. Arrived on time and matched my shower curtain perfectly.\"\n",
    "\n",
    "new_sequence = tokenizer.texts_to_sequences([new_text])\n",
    "# print(new_sequence)\n",
    "new_data = pad_sequences(new_sequence, maxlen=maxlen)\n",
    "# print(new_data)\n",
    "prediction = clf.predict(new_data)\n",
    "print(prediction)\n",
    "print(prediction[0][0])\n",
    "prediction_label = np.round(prediction[0][0])\n",
    "print(\"truthful\" if prediction_label==1 else \"deceptive\")\n",
    "# wrong"
   ]
  },
  {
   "cell_type": "code",
   "execution_count": 140,
   "id": "5d4564ce",
   "metadata": {},
   "outputs": [
    {
     "name": "stdout",
     "output_type": "stream",
     "text": [
      "1/1 [==============================] - 0s 19ms/step\n",
      "[[0.5816199]]\n",
      "0.5816199\n",
      "truthful\n"
     ]
    }
   ],
   "source": [
    "new_text = \"Perfection. Beyond easy to use, minimal effort, fast and perfect froth.\"\n",
    "\n",
    "new_sequence = tokenizer.texts_to_sequences([new_text])\n",
    "# print(new_sequence)\n",
    "new_data = pad_sequences(new_sequence, maxlen=maxlen)\n",
    "# print(new_data)\n",
    "prediction = clf.predict(new_data)\n",
    "print(prediction)\n",
    "print(prediction[0][0])\n",
    "prediction_label = np.round(prediction[0][0])\n",
    "print(\"truthful\" if prediction_label==1 else \"deceptive\")\n",
    "# right"
   ]
  },
  {
   "cell_type": "code",
   "execution_count": 141,
   "id": "208acf31",
   "metadata": {},
   "outputs": [
    {
     "data": {
      "text/html": [
       "<div>\n",
       "<style scoped>\n",
       "    .dataframe tbody tr th:only-of-type {\n",
       "        vertical-align: middle;\n",
       "    }\n",
       "\n",
       "    .dataframe tbody tr th {\n",
       "        vertical-align: top;\n",
       "    }\n",
       "\n",
       "    .dataframe thead th {\n",
       "        text-align: right;\n",
       "    }\n",
       "</style>\n",
       "<table border=\"1\" class=\"dataframe\">\n",
       "  <thead>\n",
       "    <tr style=\"text-align: right;\">\n",
       "      <th></th>\n",
       "      <th>category</th>\n",
       "      <th>rating</th>\n",
       "      <th>label</th>\n",
       "      <th>text_</th>\n",
       "    </tr>\n",
       "  </thead>\n",
       "  <tbody>\n",
       "    <tr>\n",
       "      <th>0</th>\n",
       "      <td>Home_and_Kitchen_5</td>\n",
       "      <td>5</td>\n",
       "      <td>deceptive</td>\n",
       "      <td>Love this!  Well made, sturdy, and very comfor...</td>\n",
       "    </tr>\n",
       "    <tr>\n",
       "      <th>1</th>\n",
       "      <td>Home_and_Kitchen_5</td>\n",
       "      <td>5</td>\n",
       "      <td>deceptive</td>\n",
       "      <td>love it, a great upgrade from the original.  I...</td>\n",
       "    </tr>\n",
       "    <tr>\n",
       "      <th>2</th>\n",
       "      <td>Home_and_Kitchen_5</td>\n",
       "      <td>5</td>\n",
       "      <td>deceptive</td>\n",
       "      <td>This pillow saved my back. I love the look and...</td>\n",
       "    </tr>\n",
       "    <tr>\n",
       "      <th>3</th>\n",
       "      <td>Home_and_Kitchen_5</td>\n",
       "      <td>1</td>\n",
       "      <td>deceptive</td>\n",
       "      <td>Missing information on how to use it, but it i...</td>\n",
       "    </tr>\n",
       "    <tr>\n",
       "      <th>4</th>\n",
       "      <td>Home_and_Kitchen_5</td>\n",
       "      <td>5</td>\n",
       "      <td>deceptive</td>\n",
       "      <td>Very nice set. Good quality. We have had the s...</td>\n",
       "    </tr>\n",
       "    <tr>\n",
       "      <th>...</th>\n",
       "      <td>...</td>\n",
       "      <td>...</td>\n",
       "      <td>...</td>\n",
       "      <td>...</td>\n",
       "    </tr>\n",
       "    <tr>\n",
       "      <th>40427</th>\n",
       "      <td>Clothing_Shoes_and_Jewelry_5</td>\n",
       "      <td>4</td>\n",
       "      <td>truthful</td>\n",
       "      <td>I had read some reviews saying that this bra r...</td>\n",
       "    </tr>\n",
       "    <tr>\n",
       "      <th>40428</th>\n",
       "      <td>Clothing_Shoes_and_Jewelry_5</td>\n",
       "      <td>5</td>\n",
       "      <td>deceptive</td>\n",
       "      <td>I wasn't sure exactly what it would be. It is ...</td>\n",
       "    </tr>\n",
       "    <tr>\n",
       "      <th>40429</th>\n",
       "      <td>Clothing_Shoes_and_Jewelry_5</td>\n",
       "      <td>2</td>\n",
       "      <td>truthful</td>\n",
       "      <td>You can wear the hood by itself, wear it with ...</td>\n",
       "    </tr>\n",
       "    <tr>\n",
       "      <th>40430</th>\n",
       "      <td>Clothing_Shoes_and_Jewelry_5</td>\n",
       "      <td>1</td>\n",
       "      <td>deceptive</td>\n",
       "      <td>I liked nothing about this dress. The only rea...</td>\n",
       "    </tr>\n",
       "    <tr>\n",
       "      <th>40431</th>\n",
       "      <td>Clothing_Shoes_and_Jewelry_5</td>\n",
       "      <td>5</td>\n",
       "      <td>truthful</td>\n",
       "      <td>I work in the wedding industry and have to wor...</td>\n",
       "    </tr>\n",
       "  </tbody>\n",
       "</table>\n",
       "<p>40432 rows × 4 columns</p>\n",
       "</div>"
      ],
      "text/plain": [
       "                           category  rating      label  \\\n",
       "0                Home_and_Kitchen_5       5  deceptive   \n",
       "1                Home_and_Kitchen_5       5  deceptive   \n",
       "2                Home_and_Kitchen_5       5  deceptive   \n",
       "3                Home_and_Kitchen_5       1  deceptive   \n",
       "4                Home_and_Kitchen_5       5  deceptive   \n",
       "...                             ...     ...        ...   \n",
       "40427  Clothing_Shoes_and_Jewelry_5       4   truthful   \n",
       "40428  Clothing_Shoes_and_Jewelry_5       5  deceptive   \n",
       "40429  Clothing_Shoes_and_Jewelry_5       2   truthful   \n",
       "40430  Clothing_Shoes_and_Jewelry_5       1  deceptive   \n",
       "40431  Clothing_Shoes_and_Jewelry_5       5   truthful   \n",
       "\n",
       "                                                   text_  \n",
       "0      Love this!  Well made, sturdy, and very comfor...  \n",
       "1      love it, a great upgrade from the original.  I...  \n",
       "2      This pillow saved my back. I love the look and...  \n",
       "3      Missing information on how to use it, but it i...  \n",
       "4      Very nice set. Good quality. We have had the s...  \n",
       "...                                                  ...  \n",
       "40427  I had read some reviews saying that this bra r...  \n",
       "40428  I wasn't sure exactly what it would be. It is ...  \n",
       "40429  You can wear the hood by itself, wear it with ...  \n",
       "40430  I liked nothing about this dress. The only rea...  \n",
       "40431  I work in the wedding industry and have to wor...  \n",
       "\n",
       "[40432 rows x 4 columns]"
      ]
     },
     "execution_count": 141,
     "metadata": {},
     "output_type": "execute_result"
    }
   ],
   "source": [
    "df_test = pd.read_csv('../FakeReviewDataset.csv')\n",
    "df_test"
   ]
  },
  {
   "cell_type": "code",
   "execution_count": 142,
   "id": "dd76e374",
   "metadata": {},
   "outputs": [],
   "source": [
    "x = df_test['text_']\n",
    "y_val = df_test['label']"
   ]
  },
  {
   "cell_type": "code",
   "execution_count": 143,
   "id": "abc79a94",
   "metadata": {},
   "outputs": [],
   "source": [
    "x = tokenizer.texts_to_sequences(x)\n",
    "x = pad_sequences(x, padding = 'post', maxlen=maxlen)\n"
   ]
  },
  {
   "cell_type": "code",
   "execution_count": 144,
   "id": "3f99cfa4",
   "metadata": {},
   "outputs": [
    {
     "name": "stdout",
     "output_type": "stream",
     "text": [
      "1264/1264 [==============================] - 25s 19ms/step\n"
     ]
    },
    {
     "data": {
      "text/plain": [
       "array([1., 1., 1., ..., 1., 1., 1.], dtype=float32)"
      ]
     },
     "execution_count": 144,
     "metadata": {},
     "output_type": "execute_result"
    }
   ],
   "source": [
    "y_pred = np.round(model.predict(x).ravel())\n",
    "y_pred"
   ]
  },
  {
   "cell_type": "code",
   "execution_count": 145,
   "id": "abb4a61e",
   "metadata": {},
   "outputs": [],
   "source": [
    "y_pred_label_test = []\n",
    "for i in y_pred:\n",
    "    if i == 1:\n",
    "        y_pred_label_test.append(\"truthful\")\n",
    "    else:\n",
    "        y_pred_label_test.append(\"deceptive\")\n",
    "\n",
    "        \n",
    "y_label_test = []\n",
    "for i in y_val:\n",
    "    if i == 1:\n",
    "        y_label_test.append(\"truthful\")\n",
    "    else:\n",
    "        y_label_test.append(\"deceptive\")\n"
   ]
  },
  {
   "cell_type": "code",
   "execution_count": 146,
   "id": "4e7b3fdd",
   "metadata": {},
   "outputs": [
    {
     "data": {
      "text/html": [
       "<div>\n",
       "<style scoped>\n",
       "    .dataframe tbody tr th:only-of-type {\n",
       "        vertical-align: middle;\n",
       "    }\n",
       "\n",
       "    .dataframe tbody tr th {\n",
       "        vertical-align: top;\n",
       "    }\n",
       "\n",
       "    .dataframe thead th {\n",
       "        text-align: right;\n",
       "    }\n",
       "</style>\n",
       "<table border=\"1\" class=\"dataframe\">\n",
       "  <thead>\n",
       "    <tr style=\"text-align: right;\">\n",
       "      <th></th>\n",
       "      <th>dataTest</th>\n",
       "      <th>Pred</th>\n",
       "      <th>True_label</th>\n",
       "      <th>result</th>\n",
       "    </tr>\n",
       "  </thead>\n",
       "  <tbody>\n",
       "    <tr>\n",
       "      <th>0</th>\n",
       "      <td>Love this!  Well made, sturdy, and very comfor...</td>\n",
       "      <td>truthful</td>\n",
       "      <td>deceptive</td>\n",
       "      <td>0</td>\n",
       "    </tr>\n",
       "    <tr>\n",
       "      <th>25743</th>\n",
       "      <td>Well, I just finished number eight. So glad to...</td>\n",
       "      <td>truthful</td>\n",
       "      <td>deceptive</td>\n",
       "      <td>0</td>\n",
       "    </tr>\n",
       "    <tr>\n",
       "      <th>25744</th>\n",
       "      <td>Just a nice cozy mystery. Nothing earthshatter...</td>\n",
       "      <td>truthful</td>\n",
       "      <td>deceptive</td>\n",
       "      <td>0</td>\n",
       "    </tr>\n",
       "    <tr>\n",
       "      <th>25745</th>\n",
       "      <td>This was an incredibly sweet story a little to...</td>\n",
       "      <td>truthful</td>\n",
       "      <td>deceptive</td>\n",
       "      <td>0</td>\n",
       "    </tr>\n",
       "    <tr>\n",
       "      <th>25746</th>\n",
       "      <td>An amazing story. You are carried right along ...</td>\n",
       "      <td>truthful</td>\n",
       "      <td>deceptive</td>\n",
       "      <td>0</td>\n",
       "    </tr>\n",
       "    <tr>\n",
       "      <th>...</th>\n",
       "      <td>...</td>\n",
       "      <td>...</td>\n",
       "      <td>...</td>\n",
       "      <td>...</td>\n",
       "    </tr>\n",
       "    <tr>\n",
       "      <th>14691</th>\n",
       "      <td>The Earth, Moon, and Mars are under attack fro...</td>\n",
       "      <td>deceptive</td>\n",
       "      <td>deceptive</td>\n",
       "      <td>1</td>\n",
       "    </tr>\n",
       "    <tr>\n",
       "      <th>31524</th>\n",
       "      <td>This book is a great read. The characters are ...</td>\n",
       "      <td>deceptive</td>\n",
       "      <td>deceptive</td>\n",
       "      <td>1</td>\n",
       "    </tr>\n",
       "    <tr>\n",
       "      <th>31525</th>\n",
       "      <td>On average, this reader consumes two or three ...</td>\n",
       "      <td>deceptive</td>\n",
       "      <td>deceptive</td>\n",
       "      <td>1</td>\n",
       "    </tr>\n",
       "    <tr>\n",
       "      <th>23440</th>\n",
       "      <td>My pup loves these, possibly because they are ...</td>\n",
       "      <td>deceptive</td>\n",
       "      <td>deceptive</td>\n",
       "      <td>1</td>\n",
       "    </tr>\n",
       "    <tr>\n",
       "      <th>32629</th>\n",
       "      <td>Several of the science fiction \"classics\" I ha...</td>\n",
       "      <td>deceptive</td>\n",
       "      <td>deceptive</td>\n",
       "      <td>1</td>\n",
       "    </tr>\n",
       "  </tbody>\n",
       "</table>\n",
       "<p>40432 rows × 4 columns</p>\n",
       "</div>"
      ],
      "text/plain": [
       "                                                dataTest       Pred  \\\n",
       "0      Love this!  Well made, sturdy, and very comfor...   truthful   \n",
       "25743  Well, I just finished number eight. So glad to...   truthful   \n",
       "25744  Just a nice cozy mystery. Nothing earthshatter...   truthful   \n",
       "25745  This was an incredibly sweet story a little to...   truthful   \n",
       "25746  An amazing story. You are carried right along ...   truthful   \n",
       "...                                                  ...        ...   \n",
       "14691  The Earth, Moon, and Mars are under attack fro...  deceptive   \n",
       "31524  This book is a great read. The characters are ...  deceptive   \n",
       "31525  On average, this reader consumes two or three ...  deceptive   \n",
       "23440  My pup loves these, possibly because they are ...  deceptive   \n",
       "32629  Several of the science fiction \"classics\" I ha...  deceptive   \n",
       "\n",
       "      True_label  result  \n",
       "0      deceptive       0  \n",
       "25743  deceptive       0  \n",
       "25744  deceptive       0  \n",
       "25745  deceptive       0  \n",
       "25746  deceptive       0  \n",
       "...          ...     ...  \n",
       "14691  deceptive       1  \n",
       "31524  deceptive       1  \n",
       "31525  deceptive       1  \n",
       "23440  deceptive       1  \n",
       "32629  deceptive       1  \n",
       "\n",
       "[40432 rows x 4 columns]"
      ]
     },
     "execution_count": 146,
     "metadata": {},
     "output_type": "execute_result"
    }
   ],
   "source": [
    "predict_val = pd.DataFrame({'dataTest':df_test['text_'], 'Pred':y_pred_label_test, 'True_label':y_label_test}, columns=['dataTest','Pred','True_label'])\n",
    "predict_val['result'] = np.where(predict_val['Pred']==predict_val['True_label'], 1, 0)\n",
    "# results.sort_values(by='result').head(20)\n",
    "\n",
    "\n",
    "predict_val.sort_values(by='result')"
   ]
  },
  {
   "cell_type": "code",
   "execution_count": 147,
   "id": "1634d56f",
   "metadata": {},
   "outputs": [
    {
     "name": "stdout",
     "output_type": "stream",
     "text": [
      "The wrong guess is :  36214\n",
      "The right guess is:  4218\n"
     ]
    }
   ],
   "source": [
    "wrong = 0\n",
    "right = 0\n",
    "for i in predict_val['result']:\n",
    "    \n",
    "    if i == 0:\n",
    "        wrong+=1\n",
    "    else:\n",
    "        right+=1\n",
    "\n",
    "print(\"The wrong guess is : \", wrong)\n",
    "print(\"The right guess is: \", right)\n",
    "    "
   ]
  },
  {
   "cell_type": "code",
   "execution_count": null,
   "id": "15a953f8",
   "metadata": {},
   "outputs": [],
   "source": []
  },
  {
   "cell_type": "code",
   "execution_count": null,
   "id": "cc4d5b69",
   "metadata": {},
   "outputs": [],
   "source": []
  },
  {
   "cell_type": "code",
   "execution_count": null,
   "id": "712cf0f9",
   "metadata": {},
   "outputs": [],
   "source": []
  },
  {
   "cell_type": "code",
   "execution_count": null,
   "id": "682175f0",
   "metadata": {},
   "outputs": [],
   "source": []
  },
  {
   "cell_type": "code",
   "execution_count": null,
   "id": "dd0f129b",
   "metadata": {},
   "outputs": [],
   "source": []
  },
  {
   "cell_type": "code",
   "execution_count": null,
   "id": "8d69c9a3",
   "metadata": {},
   "outputs": [],
   "source": []
  },
  {
   "cell_type": "code",
   "execution_count": null,
   "id": "3eea7fc2",
   "metadata": {},
   "outputs": [],
   "source": []
  },
  {
   "cell_type": "code",
   "execution_count": null,
   "id": "0655bd70",
   "metadata": {},
   "outputs": [],
   "source": []
  }
 ],
 "metadata": {
  "kernelspec": {
   "display_name": "Python 3 (ipykernel)",
   "language": "python",
   "name": "python3"
  },
  "language_info": {
   "codemirror_mode": {
    "name": "ipython",
    "version": 3
   },
   "file_extension": ".py",
   "mimetype": "text/x-python",
   "name": "python",
   "nbconvert_exporter": "python",
   "pygments_lexer": "ipython3",
   "version": "3.9.13"
  }
 },
 "nbformat": 4,
 "nbformat_minor": 5
}
