{
 "cells": [
  {
   "cell_type": "code",
   "execution_count": 129,
   "id": "23fc8b6f",
   "metadata": {},
   "outputs": [],
   "source": [
    "import numpy as np\n",
    "import pandas as pd\n",
    "import keras\n",
    "from keras.preprocessing.text import Tokenizer\n",
    "from tensorflow.keras.preprocessing.sequence import pad_sequences\n",
    "from keras.layers import Dense, Input, LSTM, Embedding, Conv1D, MaxPooling1D, Dropout\n",
    "from keras.models import Model\n",
    "from gensim.models import Word2Vec\n",
    "\n",
    "import nlpaug\n",
    "# import nlpaug.augmenter.text as nat\n",
    "# import nlpaug.augmenter.text as nat\n",
    "import nlpaug.augmenter.word.word_embs as nat\n",
    "import random\n",
    "\n",
    "import os\n",
    "import glob\n",
    "\n",
    "\n",
    "\n",
    "df = pd.read_csv('deceptive-opinion.csv')\n",
    "pd.set_option('display.max_colwidth', None)\n",
    "\n",
    "\n",
    "\n",
    "\n",
    "\n"
   ]
  },
  {
   "cell_type": "code",
   "execution_count": 130,
   "id": "ec715d99",
   "metadata": {},
   "outputs": [
    {
     "data": {
      "text/html": [
       "<div>\n",
       "<style scoped>\n",
       "    .dataframe tbody tr th:only-of-type {\n",
       "        vertical-align: middle;\n",
       "    }\n",
       "\n",
       "    .dataframe tbody tr th {\n",
       "        vertical-align: top;\n",
       "    }\n",
       "\n",
       "    .dataframe thead th {\n",
       "        text-align: right;\n",
       "    }\n",
       "</style>\n",
       "<table border=\"1\" class=\"dataframe\">\n",
       "  <thead>\n",
       "    <tr style=\"text-align: right;\">\n",
       "      <th></th>\n",
       "      <th>deceptive</th>\n",
       "      <th>hotel</th>\n",
       "      <th>polarity</th>\n",
       "      <th>source</th>\n",
       "      <th>text</th>\n",
       "    </tr>\n",
       "  </thead>\n",
       "  <tbody>\n",
       "    <tr>\n",
       "      <th>0</th>\n",
       "      <td>truthful</td>\n",
       "      <td>conrad</td>\n",
       "      <td>positive</td>\n",
       "      <td>TripAdvisor</td>\n",
       "      <td>We stayed for a one night getaway with family on a thursday. Triple AAA rate of 173 was a steal. 7th floor room complete with 44in plasma TV bose stereo, voss and evian water, and gorgeous bathroom(no tub but was fine for us) Concierge was very helpful. You cannot beat this location... Only flaw was breakfast was pricey and service was very very slow(2hours for four kids and four adults on a friday morning) even though there were only two other tables in the restaurant. Food was very good so it was worth the wait. I would return in a heartbeat. A gem in chicago... \\n</td>\n",
       "    </tr>\n",
       "    <tr>\n",
       "      <th>1</th>\n",
       "      <td>truthful</td>\n",
       "      <td>hyatt</td>\n",
       "      <td>positive</td>\n",
       "      <td>TripAdvisor</td>\n",
       "      <td>Triple A rate with upgrade to view room was less than $200 which also included breakfast vouchers. Had a great view of river, lake, Wrigley Bldg. &amp; Tribune Bldg. Most major restaurants, Shopping, Sightseeing attractions within walking distance. Large room with a very comfortable bed. \\n</td>\n",
       "    </tr>\n",
       "    <tr>\n",
       "      <th>2</th>\n",
       "      <td>truthful</td>\n",
       "      <td>hyatt</td>\n",
       "      <td>positive</td>\n",
       "      <td>TripAdvisor</td>\n",
       "      <td>This comes a little late as I'm finally catching up on my reviews from the past several months:) A dear friend and I stayed at the Hyatt Regency in late October 2007 for one night while visiting a friend and her husband from out of town. This hotel is perfect, IMO. Easy check in and check out. Lovely, clean, comfortable rooms with great views of the city. I know this area pretty well and it's very convenient to many downtown Chicago attractions. We had dinner and went clubing with our friends around Division St.. We had no problems getting cabs back and forth to the Hyatt and there's even public transportation right near by but we didn't bother since we only needed cabs from and to the hotel. Parking, as is usual for Chicago, was expensive but we were able to get our car out quickly (however, we left on a Sunday morning, not exactly a high traffic time although it was a Bears homegame day, so a bit busier than usual I would think). No problems at all and the best part is that we got a rate of $100 through Hotwire, a downright steal for this area of Chicago and the quality of the hotel. \\n</td>\n",
       "    </tr>\n",
       "    <tr>\n",
       "      <th>3</th>\n",
       "      <td>truthful</td>\n",
       "      <td>omni</td>\n",
       "      <td>positive</td>\n",
       "      <td>TripAdvisor</td>\n",
       "      <td>The Omni Chicago really delivers on all fronts, from the spaciousness of the rooms to the helpful staff to the prized location on Michigan Avenue. While this address in Chicago requires a high level of quality, the Omni delivers. Check in for myself and a whole group of people with me was under 3 minutes, the staff had plentiful recommendations for dining and events, and the rooms are some of the largest you'll find at this price range in Chicago. Even the 'standard' room has a separate living area and work desk. The fitness center has free weights, weight machines, and two rows of cardio equipment. I shared the room with 7 others and did not feel cramped in any way! All in all, a great property! \\n</td>\n",
       "    </tr>\n",
       "    <tr>\n",
       "      <th>4</th>\n",
       "      <td>truthful</td>\n",
       "      <td>hyatt</td>\n",
       "      <td>positive</td>\n",
       "      <td>TripAdvisor</td>\n",
       "      <td>I asked for a high floor away from the elevator and that is what I got. The room was pleasantly decorated, functional and very clean. I didn't need a whole lot of service but when I did they were pleasant and prompt. I used the fitness center which was well equipped and everything was in working order. It is in a great location at one end of the Michigan Avenue shopping district. \\n</td>\n",
       "    </tr>\n",
       "    <tr>\n",
       "      <th>...</th>\n",
       "      <td>...</td>\n",
       "      <td>...</td>\n",
       "      <td>...</td>\n",
       "      <td>...</td>\n",
       "      <td>...</td>\n",
       "    </tr>\n",
       "    <tr>\n",
       "      <th>1595</th>\n",
       "      <td>deceptive</td>\n",
       "      <td>intercontinental</td>\n",
       "      <td>negative</td>\n",
       "      <td>MTurk</td>\n",
       "      <td>Problems started when I booked the InterContinental Chicago online at the hotel's site, and got a server error. Somehow I managed to get my reservation, and wish I had looked elsewhere on this great Chicago street, filled with plenty of other options. The server errors continued at check in and didn't let up. I was on a holiday weekend, but far too many others must have been pushy conventioneers, and I had trouble getting served. The hotel is enormous and doesn't give a sense of comfort. The health facilities are also just too big, so noisy and crowded. And Internet access was $18 a day, kind of surprising when I can go around the corner to a Starbucks! Next time, I'll pick a more intimate place nearby--without so many 'server errors'.\\n</td>\n",
       "    </tr>\n",
       "    <tr>\n",
       "      <th>1596</th>\n",
       "      <td>deceptive</td>\n",
       "      <td>amalfi</td>\n",
       "      <td>negative</td>\n",
       "      <td>MTurk</td>\n",
       "      <td>The Amalfi Hotel has a beautiful website and interior decorating, but that's about it. When my wife and I got here, we were given keys to a room that had not even been cleaned! The Internet access promised on the hotel's website was down, so I couldn't catch up on any of the business I had intended to do, and my wife thought that the dark design details in the room made her feel claustrophobic, like she was sleeping inside a Salvador Dali painting. All in all, this hotel was not worth the money, especially since we spent most of our time enjoying the city--something more casual and comfortable would have been better, and it would probably have been cleaner, too!\\n</td>\n",
       "    </tr>\n",
       "    <tr>\n",
       "      <th>1597</th>\n",
       "      <td>deceptive</td>\n",
       "      <td>intercontinental</td>\n",
       "      <td>negative</td>\n",
       "      <td>MTurk</td>\n",
       "      <td>The Intercontinental Chicago Magnificent Mile The outside of the hotel itself is as the name says is pretty magnificent despite being set in what has to be the filthiest section in the city. For the cost of the rooms starting at 179.00 a night, you would think they would have a competent parking attendant. I was delayed from a very important client due to a latency issue with my reserved room, and if that was not enough. To top it off the room service had the nerve to bring up room temperature pasta and a bottle of champagne that had the seal previously broken free of the cork. Needless to say this will be the last time this hotel ever is to grace so much as another dollar bill from my account. I would highly recommend another hotel with better accommodations.\\n</td>\n",
       "    </tr>\n",
       "    <tr>\n",
       "      <th>1598</th>\n",
       "      <td>deceptive</td>\n",
       "      <td>palmer</td>\n",
       "      <td>negative</td>\n",
       "      <td>MTurk</td>\n",
       "      <td>The Palmer House Hilton, while it looks good in pictures, and the outside, is actually a disaster of a hotel. When I went through, the lobby was dirty, my room hadn't been cleaned, and smelled thoroughly of smoke. When I requested more pillows, the lady on the phone scoffed at me and said she'd send them up. It took over an hour for 2 pillows. This hotel is a good example that what you pay for isn't always what you get. I will not be returning.\\n</td>\n",
       "    </tr>\n",
       "    <tr>\n",
       "      <th>1599</th>\n",
       "      <td>deceptive</td>\n",
       "      <td>amalfi</td>\n",
       "      <td>negative</td>\n",
       "      <td>MTurk</td>\n",
       "      <td>As a former Chicagoan, I'm appalled at the Amalfi Hotel Chicago. First of all, I was expecting luxury and hospitality, neither of which I received. There's an Experience Designer who is supposed to be like a 'personal concierge,' but my experience with my ED was terrible. I felt like he was trying to pressure me into staying more days than I wanted to. Not only that, but I couldn't understand what he was saying most of the time because he was talking so fast. When I finally got to my room, I was disappointed with the quality of the furniture and the room's cleanliness. I had to ask for a maid to come and give me clean towels because some of the towels in the bathroom were damp. On top of that, the bed was messily done; I could have done a better job on my own bed at home. I was angry at this point, because I was paying a lot of money for every night I was staying at Amalfi, and I didn't expect to be greeted with wet towels. I needed to use the Wi-Fi to download some important documents, and the internet was surprisingly slow. Even a very basic hotel or motel could have offered better, maybe even faster internet access. When I finally checked out of the Amalfi, I made sure that my supposed personal concierge knew all of the problems I'd had with my room and the hotel. I was glad to see the Amalfi getting smaller in the mirror as I drove away!\\n</td>\n",
       "    </tr>\n",
       "  </tbody>\n",
       "</table>\n",
       "<p>1600 rows × 5 columns</p>\n",
       "</div>"
      ],
      "text/plain": [
       "      deceptive             hotel  polarity       source  \\\n",
       "0      truthful            conrad  positive  TripAdvisor   \n",
       "1      truthful             hyatt  positive  TripAdvisor   \n",
       "2      truthful             hyatt  positive  TripAdvisor   \n",
       "3      truthful              omni  positive  TripAdvisor   \n",
       "4      truthful             hyatt  positive  TripAdvisor   \n",
       "...         ...               ...       ...          ...   \n",
       "1595  deceptive  intercontinental  negative        MTurk   \n",
       "1596  deceptive            amalfi  negative        MTurk   \n",
       "1597  deceptive  intercontinental  negative        MTurk   \n",
       "1598  deceptive            palmer  negative        MTurk   \n",
       "1599  deceptive            amalfi  negative        MTurk   \n",
       "\n",
       "                                                                                                                                                                                                                                                                                                                                                                                                                                                                                                                                                                                                                                                                                                                                                                                                                                                                                                                                                                                                                                                                                                                                                                                                                                                                                                                                                                                                                       text  \n",
       "0                                                                                                                                                                                                                                                                                                                                                                                                                                                                                                                                                                                                                                                                                                                                                                                                                             We stayed for a one night getaway with family on a thursday. Triple AAA rate of 173 was a steal. 7th floor room complete with 44in plasma TV bose stereo, voss and evian water, and gorgeous bathroom(no tub but was fine for us) Concierge was very helpful. You cannot beat this location... Only flaw was breakfast was pricey and service was very very slow(2hours for four kids and four adults on a friday morning) even though there were only two other tables in the restaurant. Food was very good so it was worth the wait. I would return in a heartbeat. A gem in chicago... \\n  \n",
       "1                                                                                                                                                                                                                                                                                                                                                                                                                                                                                                                                                                                                                                                                                                                                                                                                                                                                                                                                                                                                                                                                                                                           Triple A rate with upgrade to view room was less than $200 which also included breakfast vouchers. Had a great view of river, lake, Wrigley Bldg. & Tribune Bldg. Most major restaurants, Shopping, Sightseeing attractions within walking distance. Large room with a very comfortable bed. \\n  \n",
       "2                                                                                                                                                                                                                                                                         This comes a little late as I'm finally catching up on my reviews from the past several months:) A dear friend and I stayed at the Hyatt Regency in late October 2007 for one night while visiting a friend and her husband from out of town. This hotel is perfect, IMO. Easy check in and check out. Lovely, clean, comfortable rooms with great views of the city. I know this area pretty well and it's very convenient to many downtown Chicago attractions. We had dinner and went clubing with our friends around Division St.. We had no problems getting cabs back and forth to the Hyatt and there's even public transportation right near by but we didn't bother since we only needed cabs from and to the hotel. Parking, as is usual for Chicago, was expensive but we were able to get our car out quickly (however, we left on a Sunday morning, not exactly a high traffic time although it was a Bears homegame day, so a bit busier than usual I would think). No problems at all and the best part is that we got a rate of $100 through Hotwire, a downright steal for this area of Chicago and the quality of the hotel. \\n  \n",
       "3                                                                                                                                                                                                                                                                                                                                                                                                                                                                                                                                                                                                                                                                                      The Omni Chicago really delivers on all fronts, from the spaciousness of the rooms to the helpful staff to the prized location on Michigan Avenue. While this address in Chicago requires a high level of quality, the Omni delivers. Check in for myself and a whole group of people with me was under 3 minutes, the staff had plentiful recommendations for dining and events, and the rooms are some of the largest you'll find at this price range in Chicago. Even the 'standard' room has a separate living area and work desk. The fitness center has free weights, weight machines, and two rows of cardio equipment. I shared the room with 7 others and did not feel cramped in any way! All in all, a great property! \\n  \n",
       "4                                                                                                                                                                                                                                                                                                                                                                                                                                                                                                                                                                                                                                                                                                                                                                                                                                                                                                                                                                                                                         I asked for a high floor away from the elevator and that is what I got. The room was pleasantly decorated, functional and very clean. I didn't need a whole lot of service but when I did they were pleasant and prompt. I used the fitness center which was well equipped and everything was in working order. It is in a great location at one end of the Michigan Avenue shopping district. \\n  \n",
       "...                                                                                                                                                                                                                                                                                                                                                                                                                                                                                                                                                                                                                                                                                                                                                                                                                                                                                                                                                                                                                                                                                                                                                                                                                                                                                                                                                                                                                     ...  \n",
       "1595                                                                                                                                                                                                                                                                                                                                                                                                                                                                                                                                                                                                                                            Problems started when I booked the InterContinental Chicago online at the hotel's site, and got a server error. Somehow I managed to get my reservation, and wish I had looked elsewhere on this great Chicago street, filled with plenty of other options. The server errors continued at check in and didn't let up. I was on a holiday weekend, but far too many others must have been pushy conventioneers, and I had trouble getting served. The hotel is enormous and doesn't give a sense of comfort. The health facilities are also just too big, so noisy and crowded. And Internet access was $18 a day, kind of surprising when I can go around the corner to a Starbucks! Next time, I'll pick a more intimate place nearby--without so many 'server errors'.\\n  \n",
       "1596                                                                                                                                                                                                                                                                                                                                                                                                                                                                                                                                                                                                                                                                                                                       The Amalfi Hotel has a beautiful website and interior decorating, but that's about it. When my wife and I got here, we were given keys to a room that had not even been cleaned! The Internet access promised on the hotel's website was down, so I couldn't catch up on any of the business I had intended to do, and my wife thought that the dark design details in the room made her feel claustrophobic, like she was sleeping inside a Salvador Dali painting. All in all, this hotel was not worth the money, especially since we spent most of our time enjoying the city--something more casual and comfortable would have been better, and it would probably have been cleaner, too!\\n  \n",
       "1597                                                                                                                                                                                                                                                                                                                                                                                                                                                                                                                                                                                                                   The Intercontinental Chicago Magnificent Mile The outside of the hotel itself is as the name says is pretty magnificent despite being set in what has to be the filthiest section in the city. For the cost of the rooms starting at 179.00 a night, you would think they would have a competent parking attendant. I was delayed from a very important client due to a latency issue with my reserved room, and if that was not enough. To top it off the room service had the nerve to bring up room temperature pasta and a bottle of champagne that had the seal previously broken free of the cork. Needless to say this will be the last time this hotel ever is to grace so much as another dollar bill from my account. I would highly recommend another hotel with better accommodations.\\n  \n",
       "1598                                                                                                                                                                                                                                                                                                                                                                                                                                                                                                                                                                                                                                                                                                                                                                                                                                                                                                                                                     The Palmer House Hilton, while it looks good in pictures, and the outside, is actually a disaster of a hotel. When I went through, the lobby was dirty, my room hadn't been cleaned, and smelled thoroughly of smoke. When I requested more pillows, the lady on the phone scoffed at me and said she'd send them up. It took over an hour for 2 pillows. This hotel is a good example that what you pay for isn't always what you get. I will not be returning.\\n  \n",
       "1599  As a former Chicagoan, I'm appalled at the Amalfi Hotel Chicago. First of all, I was expecting luxury and hospitality, neither of which I received. There's an Experience Designer who is supposed to be like a 'personal concierge,' but my experience with my ED was terrible. I felt like he was trying to pressure me into staying more days than I wanted to. Not only that, but I couldn't understand what he was saying most of the time because he was talking so fast. When I finally got to my room, I was disappointed with the quality of the furniture and the room's cleanliness. I had to ask for a maid to come and give me clean towels because some of the towels in the bathroom were damp. On top of that, the bed was messily done; I could have done a better job on my own bed at home. I was angry at this point, because I was paying a lot of money for every night I was staying at Amalfi, and I didn't expect to be greeted with wet towels. I needed to use the Wi-Fi to download some important documents, and the internet was surprisingly slow. Even a very basic hotel or motel could have offered better, maybe even faster internet access. When I finally checked out of the Amalfi, I made sure that my supposed personal concierge knew all of the problems I'd had with my room and the hotel. I was glad to see the Amalfi getting smaller in the mirror as I drove away!\\n  \n",
       "\n",
       "[1600 rows x 5 columns]"
      ]
     },
     "execution_count": 130,
     "metadata": {},
     "output_type": "execute_result"
    }
   ],
   "source": [
    "df"
   ]
  },
  {
   "cell_type": "code",
   "execution_count": 131,
   "id": "36b326f7",
   "metadata": {},
   "outputs": [
    {
     "data": {
      "text/plain": [
       "deceptive    0\n",
       "hotel        0\n",
       "polarity     0\n",
       "source       0\n",
       "text         0\n",
       "dtype: int64"
      ]
     },
     "execution_count": 131,
     "metadata": {},
     "output_type": "execute_result"
    }
   ],
   "source": [
    "df[df.isnull()].count()"
   ]
  },
  {
   "cell_type": "code",
   "execution_count": 132,
   "id": "8b62c264",
   "metadata": {},
   "outputs": [
    {
     "data": {
      "text/plain": [
       "<AxesSubplot:xlabel='deceptive', ylabel='count'>"
      ]
     },
     "execution_count": 132,
     "metadata": {},
     "output_type": "execute_result"
    },
    {
     "data": {
      "image/png": "[encoded data removed]",
      "text/plain": [
       "<Figure size 640x480 with 1 Axes>"
      ]
     },
     "metadata": {},
     "output_type": "display_data"
    }
   ],
   "source": [
    "import seaborn as sns\n",
    "import matplotlib.pyplot as plt\n",
    "sns.countplot(x=df['deceptive'], hue='polarity', data = df)"
   ]
  },
  {
   "cell_type": "code",
   "execution_count": 133,
   "id": "5327fb0f",
   "metadata": {},
   "outputs": [],
   "source": [
    "df=df.drop(['hotel'],axis=1)\n"
   ]
  },
  {
   "cell_type": "code",
   "execution_count": 134,
   "id": "bdfc3f31",
   "metadata": {},
   "outputs": [],
   "source": [
    "import nltk\n",
    "from nltk.stem import PorterStemmer\n",
    "from nltk.tokenize import sent_tokenize, word_tokenize\n",
    "import re\n",
    "import string \n",
    "def text_cleaning(text):\n",
    "    '''\n",
    "        Make text lowercase, remove text in square brackets, remove link, remove special characters, \n",
    "        and remove words containing numbers.\n",
    "    '''\n",
    "    \n",
    "    text = text.lower()\n",
    "    text = re.sub('\\[.*?\\]','',text)\n",
    "    text = re.sub('\\\\W',\" \", text)\n",
    "    text = re.sub('https?://\\S+|www\\.\\S+','',text)\n",
    "    text = re.sub('<.*?>+','',text)\n",
    "    text = re.sub('[%s]' % re.escape(string.punctuation), '', text)\n",
    "    text = re.sub('\\n', '', text)\n",
    "    text = re.sub('\\w*\\d\\w*', '', text)\n",
    "    \n",
    "    return text\n"
   ]
  },
  {
   "cell_type": "code",
   "execution_count": 135,
   "id": "b0e8ff95",
   "metadata": {},
   "outputs": [],
   "source": [
    "df['text']=df['text'].apply(text_cleaning)\n"
   ]
  },
  {
   "cell_type": "code",
   "execution_count": 136,
   "id": "720734e4",
   "metadata": {},
   "outputs": [
    {
     "data": {
      "text/html": [
       "<div>\n",
       "<style scoped>\n",
       "    .dataframe tbody tr th:only-of-type {\n",
       "        vertical-align: middle;\n",
       "    }\n",
       "\n",
       "    .dataframe tbody tr th {\n",
       "        vertical-align: top;\n",
       "    }\n",
       "\n",
       "    .dataframe thead th {\n",
       "        text-align: right;\n",
       "    }\n",
       "</style>\n",
       "<table border=\"1\" class=\"dataframe\">\n",
       "  <thead>\n",
       "    <tr style=\"text-align: right;\">\n",
       "      <th></th>\n",
       "      <th>deceptive</th>\n",
       "      <th>polarity</th>\n",
       "      <th>source</th>\n",
       "      <th>text</th>\n",
       "    </tr>\n",
       "  </thead>\n",
       "  <tbody>\n",
       "    <tr>\n",
       "      <th>0</th>\n",
       "      <td>truthful</td>\n",
       "      <td>positive</td>\n",
       "      <td>TripAdvisor</td>\n",
       "      <td>we stayed for a one night getaway with family on a thursday  triple aaa rate of  was a steal   floor room complete with  plasma tv bose stereo  voss and evian water  and gorgeous bathroom no tub but was fine for us  concierge was very helpful  you cannot beat this location    only flaw was breakfast was pricey and service was very very slow  for four kids and four adults on a friday morning  even though there were only two other tables in the restaurant  food was very good so it was worth the wait  i would return in a heartbeat  a gem in chicago</td>\n",
       "    </tr>\n",
       "    <tr>\n",
       "      <th>1</th>\n",
       "      <td>truthful</td>\n",
       "      <td>positive</td>\n",
       "      <td>TripAdvisor</td>\n",
       "      <td>triple a rate with upgrade to view room was less than   which also included breakfast vouchers  had a great view of river  lake  wrigley bldg    tribune bldg  most major restaurants  shopping  sightseeing attractions within walking distance  large room with a very comfortable bed</td>\n",
       "    </tr>\n",
       "    <tr>\n",
       "      <th>2</th>\n",
       "      <td>truthful</td>\n",
       "      <td>positive</td>\n",
       "      <td>TripAdvisor</td>\n",
       "      <td>this comes a little late as i m finally catching up on my reviews from the past several months   a dear friend and i stayed at the hyatt regency in late october  for one night while visiting a friend and her husband from out of town  this hotel is perfect  imo  easy check in and check out  lovely  clean  comfortable rooms with great views of the city  i know this area pretty well and it s very convenient to many downtown chicago attractions  we had dinner and went clubing with our friends around division st   we had no problems getting cabs back and forth to the hyatt and there s even public transportation right near by but we didn t bother since we only needed cabs from and to the hotel  parking  as is usual for chicago  was expensive but we were able to get our car out quickly  however  we left on a sunday morning  not exactly a high traffic time although it was a bears homegame day  so a bit busier than usual i would think   no problems at all and the best part is that we got a rate of   through hotwire  a downright steal for this area of chicago and the quality of the hotel</td>\n",
       "    </tr>\n",
       "    <tr>\n",
       "      <th>3</th>\n",
       "      <td>truthful</td>\n",
       "      <td>positive</td>\n",
       "      <td>TripAdvisor</td>\n",
       "      <td>the omni chicago really delivers on all fronts  from the spaciousness of the rooms to the helpful staff to the prized location on michigan avenue  while this address in chicago requires a high level of quality  the omni delivers  check in for myself and a whole group of people with me was under  minutes  the staff had plentiful recommendations for dining and events  and the rooms are some of the largest you ll find at this price range in chicago  even the  standard  room has a separate living area and work desk  the fitness center has free weights  weight machines  and two rows of cardio equipment  i shared the room with  others and did not feel cramped in any way  all in all  a great property</td>\n",
       "    </tr>\n",
       "    <tr>\n",
       "      <th>4</th>\n",
       "      <td>truthful</td>\n",
       "      <td>positive</td>\n",
       "      <td>TripAdvisor</td>\n",
       "      <td>i asked for a high floor away from the elevator and that is what i got  the room was pleasantly decorated  functional and very clean  i didn t need a whole lot of service but when i did they were pleasant and prompt  i used the fitness center which was well equipped and everything was in working order  it is in a great location at one end of the michigan avenue shopping district</td>\n",
       "    </tr>\n",
       "    <tr>\n",
       "      <th>...</th>\n",
       "      <td>...</td>\n",
       "      <td>...</td>\n",
       "      <td>...</td>\n",
       "      <td>...</td>\n",
       "    </tr>\n",
       "    <tr>\n",
       "      <th>1595</th>\n",
       "      <td>deceptive</td>\n",
       "      <td>negative</td>\n",
       "      <td>MTurk</td>\n",
       "      <td>problems started when i booked the intercontinental chicago online at the hotel s site  and got a server error  somehow i managed to get my reservation  and wish i had looked elsewhere on this great chicago street  filled with plenty of other options  the server errors continued at check in and didn t let up  i was on a holiday weekend  but far too many others must have been pushy conventioneers  and i had trouble getting served  the hotel is enormous and doesn t give a sense of comfort  the health facilities are also just too big  so noisy and crowded  and internet access was   a day  kind of surprising when i can go around the corner to a starbucks  next time  i ll pick a more intimate place nearby  without so many  server errors</td>\n",
       "    </tr>\n",
       "    <tr>\n",
       "      <th>1596</th>\n",
       "      <td>deceptive</td>\n",
       "      <td>negative</td>\n",
       "      <td>MTurk</td>\n",
       "      <td>the amalfi hotel has a beautiful website and interior decorating  but that s about it  when my wife and i got here  we were given keys to a room that had not even been cleaned  the internet access promised on the hotel s website was down  so i couldn t catch up on any of the business i had intended to do  and my wife thought that the dark design details in the room made her feel claustrophobic  like she was sleeping inside a salvador dali painting  all in all  this hotel was not worth the money  especially since we spent most of our time enjoying the city  something more casual and comfortable would have been better  and it would probably have been cleaner  too</td>\n",
       "    </tr>\n",
       "    <tr>\n",
       "      <th>1597</th>\n",
       "      <td>deceptive</td>\n",
       "      <td>negative</td>\n",
       "      <td>MTurk</td>\n",
       "      <td>the intercontinental chicago magnificent mile the outside of the hotel itself is as the name says is pretty magnificent despite being set in what has to be the filthiest section in the city  for the cost of the rooms starting at   a night  you would think they would have a competent parking attendant  i was delayed from a very important client due to a latency issue with my reserved room  and if that was not enough  to top it off the room service had the nerve to bring up room temperature pasta and a bottle of champagne that had the seal previously broken free of the cork  needless to say this will be the last time this hotel ever is to grace so much as another dollar bill from my account  i would highly recommend another hotel with better accommodations</td>\n",
       "    </tr>\n",
       "    <tr>\n",
       "      <th>1598</th>\n",
       "      <td>deceptive</td>\n",
       "      <td>negative</td>\n",
       "      <td>MTurk</td>\n",
       "      <td>the palmer house hilton  while it looks good in pictures  and the outside  is actually a disaster of a hotel  when i went through  the lobby was dirty  my room hadn t been cleaned  and smelled thoroughly of smoke  when i requested more pillows  the lady on the phone scoffed at me and said she d send them up  it took over an hour for  pillows  this hotel is a good example that what you pay for isn t always what you get  i will not be returning</td>\n",
       "    </tr>\n",
       "    <tr>\n",
       "      <th>1599</th>\n",
       "      <td>deceptive</td>\n",
       "      <td>negative</td>\n",
       "      <td>MTurk</td>\n",
       "      <td>as a former chicagoan  i m appalled at the amalfi hotel chicago  first of all  i was expecting luxury and hospitality  neither of which i received  there s an experience designer who is supposed to be like a  personal concierge   but my experience with my ed was terrible  i felt like he was trying to pressure me into staying more days than i wanted to  not only that  but i couldn t understand what he was saying most of the time because he was talking so fast  when i finally got to my room  i was disappointed with the quality of the furniture and the room s cleanliness  i had to ask for a maid to come and give me clean towels because some of the towels in the bathroom were damp  on top of that  the bed was messily done  i could have done a better job on my own bed at home  i was angry at this point  because i was paying a lot of money for every night i was staying at amalfi  and i didn t expect to be greeted with wet towels  i needed to use the wi fi to download some important documents  and the internet was surprisingly slow  even a very basic hotel or motel could have offered better  maybe even faster internet access  when i finally checked out of the amalfi  i made sure that my supposed personal concierge knew all of the problems i d had with my room and the hotel  i was glad to see the amalfi getting smaller in the mirror as i drove away</td>\n",
       "    </tr>\n",
       "  </tbody>\n",
       "</table>\n",
       "<p>1600 rows × 4 columns</p>\n",
       "</div>"
      ],
      "text/plain": [
       "      deceptive  polarity       source  \\\n",
       "0      truthful  positive  TripAdvisor   \n",
       "1      truthful  positive  TripAdvisor   \n",
       "2      truthful  positive  TripAdvisor   \n",
       "3      truthful  positive  TripAdvisor   \n",
       "4      truthful  positive  TripAdvisor   \n",
       "...         ...       ...          ...   \n",
       "1595  deceptive  negative        MTurk   \n",
       "1596  deceptive  negative        MTurk   \n",
       "1597  deceptive  negative        MTurk   \n",
       "1598  deceptive  negative        MTurk   \n",
       "1599  deceptive  negative        MTurk   \n",
       "\n",
       "                                                                                                                                                                                                                                                                                                                                                                                                                                                                                                                                                                                                                                                                                                                                                                                                                                                                                                                                                                                                                                                                                                                                                                                                                                                                                                                                                                                                                      text  \n",
       "0                                                                                                                                                                                                                                                                                                                                                                                                                                                                                                                                                                                                                                                                                                                                                                                                                                             we stayed for a one night getaway with family on a thursday  triple aaa rate of  was a steal   floor room complete with  plasma tv bose stereo  voss and evian water  and gorgeous bathroom no tub but was fine for us  concierge was very helpful  you cannot beat this location    only flaw was breakfast was pricey and service was very very slow  for four kids and four adults on a friday morning  even though there were only two other tables in the restaurant  food was very good so it was worth the wait  i would return in a heartbeat  a gem in chicago       \n",
       "1                                                                                                                                                                                                                                                                                                                                                                                                                                                                                                                                                                                                                                                                                                                                                                                                                                                                                                                                                                                                                                                                                                                              triple a rate with upgrade to view room was less than   which also included breakfast vouchers  had a great view of river  lake  wrigley bldg    tribune bldg  most major restaurants  shopping  sightseeing attractions within walking distance  large room with a very comfortable bed     \n",
       "2                                                                                                                                                                                                                                                                                this comes a little late as i m finally catching up on my reviews from the past several months   a dear friend and i stayed at the hyatt regency in late october  for one night while visiting a friend and her husband from out of town  this hotel is perfect  imo  easy check in and check out  lovely  clean  comfortable rooms with great views of the city  i know this area pretty well and it s very convenient to many downtown chicago attractions  we had dinner and went clubing with our friends around division st   we had no problems getting cabs back and forth to the hyatt and there s even public transportation right near by but we didn t bother since we only needed cabs from and to the hotel  parking  as is usual for chicago  was expensive but we were able to get our car out quickly  however  we left on a sunday morning  not exactly a high traffic time although it was a bears homegame day  so a bit busier than usual i would think   no problems at all and the best part is that we got a rate of   through hotwire  a downright steal for this area of chicago and the quality of the hotel     \n",
       "3                                                                                                                                                                                                                                                                                                                                                                                                                                                                                                                                                                                                                                                                                        the omni chicago really delivers on all fronts  from the spaciousness of the rooms to the helpful staff to the prized location on michigan avenue  while this address in chicago requires a high level of quality  the omni delivers  check in for myself and a whole group of people with me was under  minutes  the staff had plentiful recommendations for dining and events  and the rooms are some of the largest you ll find at this price range in chicago  even the  standard  room has a separate living area and work desk  the fitness center has free weights  weight machines  and two rows of cardio equipment  i shared the room with  others and did not feel cramped in any way  all in all  a great property     \n",
       "4                                                                                                                                                                                                                                                                                                                                                                                                                                                                                                                                                                                                                                                                                                                                                                                                                                                                                                                                                                                                                         i asked for a high floor away from the elevator and that is what i got  the room was pleasantly decorated  functional and very clean  i didn t need a whole lot of service but when i did they were pleasant and prompt  i used the fitness center which was well equipped and everything was in working order  it is in a great location at one end of the michigan avenue shopping district     \n",
       "...                                                                                                                                                                                                                                                                                                                                                                                                                                                                                                                                                                                                                                                                                                                                                                                                                                                                                                                                                                                                                                                                                                                                                                                                                                                                                                                                                                                                                    ...  \n",
       "1595                                                                                                                                                                                                                                                                                                                                                                                                                                                                                                                                                                                                                                              problems started when i booked the intercontinental chicago online at the hotel s site  and got a server error  somehow i managed to get my reservation  and wish i had looked elsewhere on this great chicago street  filled with plenty of other options  the server errors continued at check in and didn t let up  i was on a holiday weekend  but far too many others must have been pushy conventioneers  and i had trouble getting served  the hotel is enormous and doesn t give a sense of comfort  the health facilities are also just too big  so noisy and crowded  and internet access was   a day  kind of surprising when i can go around the corner to a starbucks  next time  i ll pick a more intimate place nearby  without so many  server errors     \n",
       "1596                                                                                                                                                                                                                                                                                                                                                                                                                                                                                                                                                                                                                                                                                                                       the amalfi hotel has a beautiful website and interior decorating  but that s about it  when my wife and i got here  we were given keys to a room that had not even been cleaned  the internet access promised on the hotel s website was down  so i couldn t catch up on any of the business i had intended to do  and my wife thought that the dark design details in the room made her feel claustrophobic  like she was sleeping inside a salvador dali painting  all in all  this hotel was not worth the money  especially since we spent most of our time enjoying the city  something more casual and comfortable would have been better  and it would probably have been cleaner  too    \n",
       "1597                                                                                                                                                                                                                                                                                                                                                                                                                                                                                                                                                                                                                        the intercontinental chicago magnificent mile the outside of the hotel itself is as the name says is pretty magnificent despite being set in what has to be the filthiest section in the city  for the cost of the rooms starting at   a night  you would think they would have a competent parking attendant  i was delayed from a very important client due to a latency issue with my reserved room  and if that was not enough  to top it off the room service had the nerve to bring up room temperature pasta and a bottle of champagne that had the seal previously broken free of the cork  needless to say this will be the last time this hotel ever is to grace so much as another dollar bill from my account  i would highly recommend another hotel with better accommodations    \n",
       "1598                                                                                                                                                                                                                                                                                                                                                                                                                                                                                                                                                                                                                                                                                                                                                                                                                                                                                                                                                      the palmer house hilton  while it looks good in pictures  and the outside  is actually a disaster of a hotel  when i went through  the lobby was dirty  my room hadn t been cleaned  and smelled thoroughly of smoke  when i requested more pillows  the lady on the phone scoffed at me and said she d send them up  it took over an hour for  pillows  this hotel is a good example that what you pay for isn t always what you get  i will not be returning    \n",
       "1599  as a former chicagoan  i m appalled at the amalfi hotel chicago  first of all  i was expecting luxury and hospitality  neither of which i received  there s an experience designer who is supposed to be like a  personal concierge   but my experience with my ed was terrible  i felt like he was trying to pressure me into staying more days than i wanted to  not only that  but i couldn t understand what he was saying most of the time because he was talking so fast  when i finally got to my room  i was disappointed with the quality of the furniture and the room s cleanliness  i had to ask for a maid to come and give me clean towels because some of the towels in the bathroom were damp  on top of that  the bed was messily done  i could have done a better job on my own bed at home  i was angry at this point  because i was paying a lot of money for every night i was staying at amalfi  and i didn t expect to be greeted with wet towels  i needed to use the wi fi to download some important documents  and the internet was surprisingly slow  even a very basic hotel or motel could have offered better  maybe even faster internet access  when i finally checked out of the amalfi  i made sure that my supposed personal concierge knew all of the problems i d had with my room and the hotel  i was glad to see the amalfi getting smaller in the mirror as i drove away    \n",
       "\n",
       "[1600 rows x 4 columns]"
      ]
     },
     "execution_count": 136,
     "metadata": {},
     "output_type": "execute_result"
    }
   ],
   "source": [
    "df"
   ]
  },
  {
   "cell_type": "code",
   "execution_count": 137,
   "id": "9515ea9b",
   "metadata": {},
   "outputs": [
    {
     "name": "stderr",
     "output_type": "stream",
     "text": [
      "[nltk_data] Downloading package stopwords to /Users/deth/nltk_data...\n",
      "[nltk_data]   Package stopwords is already up-to-date!\n"
     ]
    },
    {
     "data": {
      "text/plain": [
       "True"
      ]
     },
     "execution_count": 137,
     "metadata": {},
     "output_type": "execute_result"
    }
   ],
   "source": [
    "import nltk \n",
    "nltk.download('stopwords')"
   ]
  },
  {
   "cell_type": "code",
   "execution_count": null,
   "id": "e3cfe573",
   "metadata": {},
   "outputs": [],
   "source": []
  },
  {
   "cell_type": "code",
   "execution_count": 138,
   "id": "d6d5110d",
   "metadata": {},
   "outputs": [],
   "source": [
    "sentences=df['text'].values\n",
    "y=df['deceptive'].values\n"
   ]
  },
  {
   "cell_type": "code",
   "execution_count": 139,
   "id": "abe0bf8a",
   "metadata": {},
   "outputs": [
    {
     "data": {
      "text/plain": [
       "array(['truthful', 'truthful', 'truthful', ..., 'deceptive', 'deceptive',\n",
       "       'deceptive'], dtype=object)"
      ]
     },
     "execution_count": 139,
     "metadata": {},
     "output_type": "execute_result"
    }
   ],
   "source": [
    "y"
   ]
  },
  {
   "cell_type": "code",
   "execution_count": 140,
   "id": "cd094059",
   "metadata": {},
   "outputs": [],
   "source": [
    "from sklearn.preprocessing import LabelEncoder\n",
    "from sklearn.model_selection import train_test_split\n",
    "\n",
    "le = LabelEncoder()\n",
    "y = le.fit_transform(y)"
   ]
  },
  {
   "cell_type": "code",
   "execution_count": 141,
   "id": "0e9b6217",
   "metadata": {},
   "outputs": [
    {
     "data": {
      "text/plain": [
       "array([1, 1, 1, ..., 0, 0, 0])"
      ]
     },
     "execution_count": 141,
     "metadata": {},
     "output_type": "execute_result"
    }
   ],
   "source": [
    "y"
   ]
  },
  {
   "cell_type": "code",
   "execution_count": 142,
   "id": "0d4811f2",
   "metadata": {},
   "outputs": [],
   "source": [
    "from sklearn.model_selection import train_test_split\n",
    "from keras.preprocessing.text import Tokenizer\n",
    "from tensorflow.keras.preprocessing.sequence import pad_sequences\n",
    "\n",
    "\n",
    "\n",
    "sentences_train, sentences_test, y_train, y_test = train_test_split(sentences,y, test_size=0.2, shuffle=True,\n",
    "                                                                    random_state=1000)\n",
    "\n",
    "\n",
    "\n",
    "\n",
    "tokenizer = Tokenizer(num_words=20000)\n",
    "tokenizer.fit_on_texts(sentences_train)\n",
    "\n",
    "x_train_sequences = tokenizer.texts_to_sequences(sentences_train)\n",
    "x_test_sequences = tokenizer.texts_to_sequences(sentences_test)\n",
    "\n",
    "# Adding 1 because of reserved 0 index\n",
    "vocab_size = len(tokenizer.word_index) + 1\n",
    "maxlen = 100\n",
    "\n",
    "x_train = pad_sequences(x_train_sequences,padding = 'post', maxlen=maxlen)\n",
    "x_test = pad_sequences(x_test_sequences,padding = 'post', maxlen=maxlen)\n",
    "\n",
    "\n",
    "# word2vec_model = Word2Vec(x_train_sequences, size=100, window=5, min_count=1, workers=4)\n",
    "word2vec_model = Word2Vec(x_train_sequences, vector_size=200, window=5, min_count=1, workers=4)\n",
    "\n",
    "\n",
    "# embedding_matrix = np.zeros((len(tokenizer.word_index) + 1, 100))\n",
    "# for word, i in tokenizer.word_index.items():\n",
    "#     if word in word2vec_model:\n",
    "#         embedding_matrix[i] = word2vec_model[word]\n",
    "\n",
    "embedding_matrix = np.zeros((len(tokenizer.word_index) + 1, 100))\n",
    "for word, i in tokenizer.word_index.items():\n",
    "    if word in word2vec_model.wv:\n",
    "        embedding_matrix[i] = word2vec_model.wv[word]\n",
    "\n"
   ]
  },
  {
   "cell_type": "code",
   "execution_count": 144,
   "id": "921cf667",
   "metadata": {},
   "outputs": [
    {
     "name": "stdout",
     "output_type": "stream",
     "text": [
      "Epoch 1/20\n",
      "40/40 [==============================] - 4s 40ms/step - loss: 0.6937 - accuracy: 0.5023\n",
      "Epoch 2/20\n",
      "40/40 [==============================] - 2s 39ms/step - loss: 0.6935 - accuracy: 0.5016\n",
      "Epoch 3/20\n",
      "40/40 [==============================] - 2s 39ms/step - loss: 0.6935 - accuracy: 0.4695\n",
      "Epoch 4/20\n",
      "40/40 [==============================] - 2s 39ms/step - loss: 0.6934 - accuracy: 0.4789\n",
      "Epoch 5/20\n",
      "40/40 [==============================] - 2s 41ms/step - loss: 0.6933 - accuracy: 0.4820\n",
      "Epoch 6/20\n",
      "40/40 [==============================] - 2s 41ms/step - loss: 0.6932 - accuracy: 0.5008\n",
      "Epoch 7/20\n",
      "40/40 [==============================] - 2s 39ms/step - loss: 0.6932 - accuracy: 0.5023\n",
      "Epoch 8/20\n",
      "40/40 [==============================] - 2s 39ms/step - loss: 0.6932 - accuracy: 0.4891\n",
      "Epoch 9/20\n",
      "40/40 [==============================] - 2s 39ms/step - loss: 0.6932 - accuracy: 0.5023\n",
      "Epoch 10/20\n",
      "40/40 [==============================] - 2s 40ms/step - loss: 0.6934 - accuracy: 0.4867\n",
      "Epoch 11/20\n",
      "40/40 [==============================] - 2s 39ms/step - loss: 0.6932 - accuracy: 0.5016\n",
      "Epoch 12/20\n",
      "40/40 [==============================] - 2s 40ms/step - loss: 0.6933 - accuracy: 0.5023\n",
      "Epoch 13/20\n",
      "40/40 [==============================] - 2s 40ms/step - loss: 0.6933 - accuracy: 0.4836\n",
      "Epoch 14/20\n",
      "40/40 [==============================] - 2s 42ms/step - loss: 0.6933 - accuracy: 0.4727\n",
      "Epoch 15/20\n",
      "40/40 [==============================] - 2s 40ms/step - loss: 0.6933 - accuracy: 0.5023\n",
      "Epoch 16/20\n",
      "40/40 [==============================] - 2s 39ms/step - loss: 0.6933 - accuracy: 0.5023\n",
      "Epoch 17/20\n",
      "40/40 [==============================] - 2s 39ms/step - loss: 0.6934 - accuracy: 0.4820\n",
      "Epoch 18/20\n",
      "40/40 [==============================] - 2s 39ms/step - loss: 0.6932 - accuracy: 0.4719\n",
      "Epoch 19/20\n",
      "40/40 [==============================] - 2s 39ms/step - loss: 0.6932 - accuracy: 0.5023\n",
      "Epoch 20/20\n",
      "40/40 [==============================] - 2s 39ms/step - loss: 0.6934 - accuracy: 0.4711\n",
      "10/10 [==============================] - 0s 16ms/step\n",
      "Accuracy: 0.490625\n"
     ]
    }
   ],
   "source": [
    "from keras.models import Sequential\n",
    "from sklearn.metrics import accuracy_score\n",
    "from keras.layers import SpatialDropout1D\n",
    "\n",
    "\n",
    "\n",
    "model = Sequential()\n",
    "model.add(Embedding(len(tokenizer.word_index) + 1, 100, weights=[embedding_matrix], input_length=100, trainable=False))\n",
    "model.add(Conv1D(filters=128, kernel_size=3, activation='relu'))\n",
    "model.add(SpatialDropout1D(0.2))\n",
    "model.add(MaxPooling1D(pool_size=3))\n",
    "model.add(LSTM(150, dropout=0.2, recurrent_dropout=0.2))\n",
    "model.add(Dense(1, activation='sigmoid'))\n",
    "model.compile(optimizer='adam', loss='binary_crossentropy', metrics=['accuracy'])\n",
    "\n",
    "\n",
    "model.fit(x_train, y_train, epochs=20, batch_size=32)\n",
    "predictions = np.round(model.predict(x_test))\n",
    "accuracy = accuracy_score(y_test, predictions)\n",
    "print('Accuracy:', accuracy)\n"
   ]
  },
  {
   "cell_type": "code",
   "execution_count": null,
   "id": "99b20d42",
   "metadata": {},
   "outputs": [],
   "source": []
  },
  {
   "cell_type": "code",
   "execution_count": null,
   "id": "20a4dca5",
   "metadata": {},
   "outputs": [],
   "source": []
  },
  {
   "cell_type": "code",
   "execution_count": null,
   "id": "daed8059",
   "metadata": {},
   "outputs": [],
   "source": []
  },
  {
   "cell_type": "code",
   "execution_count": null,
   "id": "aa72547c",
   "metadata": {},
   "outputs": [],
   "source": []
  },
  {
   "cell_type": "code",
   "execution_count": null,
   "id": "50b374c4",
   "metadata": {},
   "outputs": [],
   "source": []
  },
  {
   "cell_type": "code",
   "execution_count": null,
   "id": "d8be88e1",
   "metadata": {},
   "outputs": [],
   "source": []
  },
  {
   "cell_type": "code",
   "execution_count": null,
   "id": "32147571",
   "metadata": {},
   "outputs": [],
   "source": []
  },
  {
   "cell_type": "code",
   "execution_count": null,
   "id": "988defd5",
   "metadata": {},
   "outputs": [],
   "source": []
  },
  {
   "cell_type": "code",
   "execution_count": null,
   "id": "5504ae49",
   "metadata": {},
   "outputs": [],
   "source": []
  },
  {
   "cell_type": "code",
   "execution_count": null,
   "id": "06865ff3",
   "metadata": {},
   "outputs": [],
   "source": []
  },
  {
   "cell_type": "code",
   "execution_count": null,
   "id": "52f42482",
   "metadata": {},
   "outputs": [],
   "source": []
  },
  {
   "cell_type": "code",
   "execution_count": null,
   "id": "925fd4c8",
   "metadata": {},
   "outputs": [],
   "source": []
  },
  {
   "cell_type": "code",
   "execution_count": null,
   "id": "38d15235",
   "metadata": {},
   "outputs": [],
   "source": []
  },
  {
   "cell_type": "code",
   "execution_count": null,
   "id": "6df22d18",
   "metadata": {},
   "outputs": [],
   "source": []
  },
  {
   "cell_type": "code",
   "execution_count": null,
   "id": "30475bed",
   "metadata": {},
   "outputs": [],
   "source": []
  },
  {
   "cell_type": "code",
   "execution_count": null,
   "id": "6ca9440e",
   "metadata": {},
   "outputs": [],
   "source": []
  },
  {
   "cell_type": "code",
   "execution_count": null,
   "id": "08c44e58",
   "metadata": {},
   "outputs": [],
   "source": []
  },
  {
   "cell_type": "code",
   "execution_count": null,
   "id": "49c67be0",
   "metadata": {},
   "outputs": [],
   "source": []
  }
 ],
 "metadata": {
  "kernelspec": {
   "display_name": "Python 3 (ipykernel)",
   "language": "python",
   "name": "python3"
  },
  "language_info": {
   "codemirror_mode": {
    "name": "ipython",
    "version": 3
   },
   "file_extension": ".py",
   "mimetype": "text/x-python",
   "name": "python",
   "nbconvert_exporter": "python",
   "pygments_lexer": "ipython3",
   "version": "3.9.13"
  }
 },
 "nbformat": 4,
 "nbformat_minor": 5
}
